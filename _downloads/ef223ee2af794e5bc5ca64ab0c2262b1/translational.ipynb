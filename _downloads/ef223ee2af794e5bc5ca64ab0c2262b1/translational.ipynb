{
 "cells": [
  {
   "cell_type": "code",
   "execution_count": 1,
   "id": "7d631a48",
   "metadata": {
    "execution": {
     "iopub.execute_input": "2022-06-13T06:55:48.217647Z",
     "iopub.status.busy": "2022-06-13T06:55:48.217416Z",
     "iopub.status.idle": "2022-06-13T06:55:48.668339Z",
     "shell.execute_reply": "2022-06-13T06:55:48.667729Z"
    }
   },
   "outputs": [],
   "source": [
    "import sympy as sm\n",
    "import sympy.physics.mechanics as me\n",
    "me.init_vprinting(use_latex='mathjax')"
   ]
  },
  {
   "cell_type": "code",
   "execution_count": 2,
   "id": "c5745b9c",
   "metadata": {
    "execution": {
     "iopub.execute_input": "2022-06-13T06:55:48.671741Z",
     "iopub.status.busy": "2022-06-13T06:55:48.671370Z",
     "iopub.status.idle": "2022-06-13T06:55:48.685246Z",
     "shell.execute_reply": "2022-06-13T06:55:48.684711Z"
    }
   },
   "outputs": [],
   "source": [
    "alpha, beta = me.dynamicsymbols('alpha, beta')\n",
    "\n",
    "N = me.ReferenceFrame('N')\n",
    "A = me.ReferenceFrame('A')\n",
    "B = me.ReferenceFrame('B')\n",
    "\n",
    "A.orient_axis(N, alpha, N.z)\n",
    "B.orient_axis(A, beta, A.x)"
   ]
  },
  {
   "cell_type": "code",
   "execution_count": 3,
   "id": "05b63914",
   "metadata": {
    "execution": {
     "iopub.execute_input": "2022-06-13T06:55:48.687631Z",
     "iopub.status.busy": "2022-06-13T06:55:48.687432Z",
     "iopub.status.idle": "2022-06-13T06:55:48.699172Z",
     "shell.execute_reply": "2022-06-13T06:55:48.698646Z"
    }
   },
   "outputs": [
    {
     "data": {
      "text/latex": [
       "$\\displaystyle \\left( h\\mathbf{\\hat{n}_z}, \\  -  d\\mathbf{\\hat{a}_x}, \\  -  w\\mathbf{\\hat{b}_x} + (- c - \\frac{l}{2})\\mathbf{\\hat{b}_z}\\right)$"
      ],
      "text/plain": [
       "⎛h n_z, -d a_x,            ⎛     l⎞  ⎞\n",
       "⎜               -w b_x + ⎜-c - ─⎟ b_z⎟\n",
       "⎝                          ⎝     2⎠  ⎠"
      ]
     },
     "execution_count": 3,
     "metadata": {},
     "output_type": "execute_result"
    }
   ],
   "source": [
    "h, d, w, c, l = sm.symbols('h, d, w, c, l')\n",
    "\n",
    "r_O_P = h*N.z\n",
    "r_P_S = -d*A.x\n",
    "r_S_Q = -w*B.x - (c + l/2)*B.z\n",
    "\n",
    "r_O_P, r_P_S, r_S_Q"
   ]
  },
  {
   "cell_type": "code",
   "execution_count": 4,
   "id": "deb921dc",
   "metadata": {
    "execution": {
     "iopub.execute_input": "2022-06-13T06:55:48.701656Z",
     "iopub.status.busy": "2022-06-13T06:55:48.701207Z",
     "iopub.status.idle": "2022-06-13T06:55:48.710280Z",
     "shell.execute_reply": "2022-06-13T06:55:48.709766Z"
    }
   },
   "outputs": [
    {
     "data": {
      "text/latex": [
       "$\\displaystyle 0$"
      ],
      "text/plain": [
       "0"
      ]
     },
     "execution_count": 4,
     "metadata": {},
     "output_type": "execute_result"
    }
   ],
   "source": [
    "(r_O_P + r_P_S).dt(A)"
   ]
  },
  {
   "cell_type": "code",
   "execution_count": 5,
   "id": "af65ed78",
   "metadata": {
    "execution": {
     "iopub.execute_input": "2022-06-13T06:55:48.712796Z",
     "iopub.status.busy": "2022-06-13T06:55:48.712489Z",
     "iopub.status.idle": "2022-06-13T06:55:48.718760Z",
     "shell.execute_reply": "2022-06-13T06:55:48.718243Z"
    }
   },
   "outputs": [
    {
     "data": {
      "text/latex": [
       "$\\displaystyle \\dot{\\alpha}\\mathbf{\\hat{n}_z}$"
      ],
      "text/plain": [
       "α̇ n_z"
      ]
     },
     "execution_count": 5,
     "metadata": {},
     "output_type": "execute_result"
    }
   ],
   "source": [
    "A.ang_vel_in(N)"
   ]
  },
  {
   "cell_type": "code",
   "execution_count": 6,
   "id": "2331e019",
   "metadata": {
    "execution": {
     "iopub.execute_input": "2022-06-13T06:55:48.720953Z",
     "iopub.status.busy": "2022-06-13T06:55:48.720642Z",
     "iopub.status.idle": "2022-06-13T06:55:48.732006Z",
     "shell.execute_reply": "2022-06-13T06:55:48.731507Z"
    }
   },
   "outputs": [
    {
     "data": {
      "text/latex": [
       "$\\displaystyle -  d \\dot{\\alpha}\\mathbf{\\hat{a}_y}$"
      ],
      "text/plain": [
       "-d⋅α̇ a_y"
      ]
     },
     "execution_count": 6,
     "metadata": {},
     "output_type": "execute_result"
    }
   ],
   "source": [
    "me.cross(A.ang_vel_in(N), r_O_P + r_P_S)"
   ]
  },
  {
   "cell_type": "code",
   "execution_count": 7,
   "id": "5bd62847",
   "metadata": {
    "execution": {
     "iopub.execute_input": "2022-06-13T06:55:48.734268Z",
     "iopub.status.busy": "2022-06-13T06:55:48.733963Z",
     "iopub.status.idle": "2022-06-13T06:55:48.745016Z",
     "shell.execute_reply": "2022-06-13T06:55:48.744480Z"
    }
   },
   "outputs": [
    {
     "data": {
      "text/latex": [
       "$\\displaystyle -  d \\dot{\\alpha}\\mathbf{\\hat{a}_y}$"
      ],
      "text/plain": [
       "-d⋅α̇ a_y"
      ]
     },
     "execution_count": 7,
     "metadata": {},
     "output_type": "execute_result"
    }
   ],
   "source": [
    "N_v_S = (r_O_P + r_P_S).dt(A) + me.cross(A.ang_vel_in(N), r_O_P + r_P_S)\n",
    "N_v_S"
   ]
  },
  {
   "cell_type": "code",
   "execution_count": 8,
   "id": "923af66b",
   "metadata": {
    "execution": {
     "iopub.execute_input": "2022-06-13T06:55:48.747316Z",
     "iopub.status.busy": "2022-06-13T06:55:48.747023Z",
     "iopub.status.idle": "2022-06-13T06:55:48.761660Z",
     "shell.execute_reply": "2022-06-13T06:55:48.761124Z"
    }
   },
   "outputs": [
    {
     "data": {
      "text/latex": [
       "$\\displaystyle -  h \\sin{\\left(\\alpha \\right)} \\dot{\\beta}\\mathbf{\\hat{n}_x} + h \\cos{\\left(\\alpha \\right)} \\dot{\\beta}\\mathbf{\\hat{n}_y}$"
      ],
      "text/plain": [
       "-h⋅sin(α)⋅β̇ n_x + h⋅cos(α)⋅β̇ n_y"
      ]
     },
     "execution_count": 8,
     "metadata": {},
     "output_type": "execute_result"
    }
   ],
   "source": [
    "(r_O_P + r_P_S + r_S_Q).dt(B)"
   ]
  },
  {
   "cell_type": "code",
   "execution_count": 9,
   "id": "f3dc41ef",
   "metadata": {
    "execution": {
     "iopub.execute_input": "2022-06-13T06:55:48.764216Z",
     "iopub.status.busy": "2022-06-13T06:55:48.763899Z",
     "iopub.status.idle": "2022-06-13T06:55:48.791863Z",
     "shell.execute_reply": "2022-06-13T06:55:48.791344Z"
    }
   },
   "outputs": [
    {
     "data": {
      "text/latex": [
       "$\\displaystyle h \\sin{\\left(\\alpha \\right)} \\dot{\\beta}\\mathbf{\\hat{n}_x} -  h \\cos{\\left(\\alpha \\right)} \\dot{\\beta}\\mathbf{\\hat{n}_y} -  d \\dot{\\alpha}\\mathbf{\\hat{a}_y} + \\left(- c - \\frac{l}{2}\\right) \\sin{\\left(\\beta \\right)} \\dot{\\alpha}\\mathbf{\\hat{b}_x} + (- w \\cos{\\left(\\beta \\right)} \\dot{\\alpha} - \\left(- c - \\frac{l}{2}\\right) \\dot{\\beta})\\mathbf{\\hat{b}_y} + w \\sin{\\left(\\beta \\right)} \\dot{\\alpha}\\mathbf{\\hat{b}_z}$"
      ],
      "text/plain": [
       "                                              ⎛     l⎞                ⎛\n",
       "h⋅sin(α)⋅β̇ n_x + -h⋅cos(α)⋅β̇ n_y + -d⋅α̇ a_y + ⎜-c - ─⎟⋅sin(β)⋅α̇ b_x + ⎜-w⋅\n",
       "                                              ⎝     2⎠                ⎝\n",
       "\n",
       "       ⎛     l⎞  ⎞\n",
       "cos(β)⋅α̇ - ⎜-c - ─⎟⋅β̇⎟ b_y + w⋅sin(β)⋅α̇ b_z\n",
       "       ⎝     2⎠  ⎠"
      ]
     },
     "execution_count": 9,
     "metadata": {},
     "output_type": "execute_result"
    }
   ],
   "source": [
    "me.cross(B.ang_vel_in(N), r_O_P + r_P_S + r_S_Q)"
   ]
  },
  {
   "cell_type": "code",
   "execution_count": 10,
   "id": "03942f5e",
   "metadata": {
    "execution": {
     "iopub.execute_input": "2022-06-13T06:55:48.794468Z",
     "iopub.status.busy": "2022-06-13T06:55:48.794163Z",
     "iopub.status.idle": "2022-06-13T06:55:48.819060Z",
     "shell.execute_reply": "2022-06-13T06:55:48.818548Z"
    }
   },
   "outputs": [
    {
     "data": {
      "text/latex": [
       "$\\displaystyle -  d \\dot{\\alpha}\\mathbf{\\hat{a}_y} + \\left(- c - \\frac{l}{2}\\right) \\sin{\\left(\\beta \\right)} \\dot{\\alpha}\\mathbf{\\hat{b}_x} + (- w \\cos{\\left(\\beta \\right)} \\dot{\\alpha} - \\left(- c - \\frac{l}{2}\\right) \\dot{\\beta})\\mathbf{\\hat{b}_y} + w \\sin{\\left(\\beta \\right)} \\dot{\\alpha}\\mathbf{\\hat{b}_z}$"
      ],
      "text/plain": [
       "           ⎛     l⎞                ⎛              ⎛     l⎞  ⎞\n",
       "-d⋅α̇ a_y + ⎜-c - ─⎟⋅sin(β)⋅α̇ b_x + ⎜-w⋅cos(β)⋅α̇ - ⎜-c - ─⎟⋅β̇⎟ b_y + w⋅sin(\n",
       "           ⎝     2⎠                ⎝              ⎝     2⎠  ⎠\n",
       "\n",
       "\n",
       "β)⋅α̇ b_z\n"
      ]
     },
     "execution_count": 10,
     "metadata": {},
     "output_type": "execute_result"
    }
   ],
   "source": [
    "N_v_Q = (r_O_P + r_P_S + r_S_Q).dt(B) + me.cross(B.ang_vel_in(N), r_O_P + r_P_S + r_S_Q)\n",
    "N_v_Q"
   ]
  },
  {
   "cell_type": "code",
   "execution_count": 11,
   "id": "7c27153e",
   "metadata": {
    "execution": {
     "iopub.execute_input": "2022-06-13T06:55:48.821769Z",
     "iopub.status.busy": "2022-06-13T06:55:48.821332Z",
     "iopub.status.idle": "2022-06-13T06:55:48.827650Z",
     "shell.execute_reply": "2022-06-13T06:55:48.827129Z"
    }
   },
   "outputs": [],
   "source": [
    "O = me.Point('O')\n",
    "P = me.Point('P')\n",
    "S = me.Point('S')\n",
    "Q = me.Point('Q')\n",
    "\n",
    "P.set_pos(O, h*N.z)\n",
    "S.set_pos(P, -d*A.x)\n",
    "Q.set_pos(S, -w*B.x - (c + l/2)*B.z)"
   ]
  },
  {
   "cell_type": "code",
   "execution_count": 12,
   "id": "409cd8e9",
   "metadata": {
    "execution": {
     "iopub.execute_input": "2022-06-13T06:55:48.831123Z",
     "iopub.status.busy": "2022-06-13T06:55:48.830055Z",
     "iopub.status.idle": "2022-06-13T06:55:48.837393Z",
     "shell.execute_reply": "2022-06-13T06:55:48.836817Z"
    }
   },
   "outputs": [
    {
     "data": {
      "text/latex": [
       "$\\displaystyle -  w\\mathbf{\\hat{b}_x} + (- c - \\frac{l}{2})\\mathbf{\\hat{b}_z} -  d\\mathbf{\\hat{a}_x} + h\\mathbf{\\hat{n}_z}$"
      ],
      "text/plain": [
       "         ⎛     l⎞\n",
       "-w b_x + ⎜-c - ─⎟ b_z + -d a_x + h n_z\n",
       "         ⎝     2⎠"
      ]
     },
     "execution_count": 12,
     "metadata": {},
     "output_type": "execute_result"
    }
   ],
   "source": [
    "Q.pos_from(O)"
   ]
  },
  {
   "cell_type": "code",
   "execution_count": 13,
   "id": "84dca8f2",
   "metadata": {
    "execution": {
     "iopub.execute_input": "2022-06-13T06:55:48.840100Z",
     "iopub.status.busy": "2022-06-13T06:55:48.839777Z",
     "iopub.status.idle": "2022-06-13T06:55:48.843475Z",
     "shell.execute_reply": "2022-06-13T06:55:48.842959Z"
    }
   },
   "outputs": [],
   "source": [
    "O.set_vel(N, 0)"
   ]
  },
  {
   "cell_type": "code",
   "execution_count": 14,
   "id": "6aaf4e54",
   "metadata": {
    "execution": {
     "iopub.execute_input": "2022-06-13T06:55:48.846795Z",
     "iopub.status.busy": "2022-06-13T06:55:48.845729Z",
     "iopub.status.idle": "2022-06-13T06:55:48.865402Z",
     "shell.execute_reply": "2022-06-13T06:55:48.864820Z"
    }
   },
   "outputs": [
    {
     "data": {
      "text/latex": [
       "$\\displaystyle \\left(- c - \\frac{l}{2}\\right) \\sin{\\left(\\beta \\right)} \\dot{\\alpha}\\mathbf{\\hat{b}_x} + (- w \\cos{\\left(\\beta \\right)} \\dot{\\alpha} - \\left(- c - \\frac{l}{2}\\right) \\dot{\\beta})\\mathbf{\\hat{b}_y} + w \\sin{\\left(\\beta \\right)} \\dot{\\alpha}\\mathbf{\\hat{b}_z} -  d \\dot{\\alpha}\\mathbf{\\hat{a}_y}$"
      ],
      "text/plain": [
       "⎛     l⎞                ⎛              ⎛     l⎞  ⎞\n",
       "⎜-c - ─⎟⋅sin(β)⋅α̇ b_x + ⎜-w⋅cos(β)⋅α̇ - ⎜-c - ─⎟⋅β̇⎟ b_y + w⋅sin(β)⋅α̇ b_z +\n",
       "⎝     2⎠                ⎝              ⎝     2⎠  ⎠\n",
       "\n",
       "\n",
       "-d⋅α̇ a_y\n"
      ]
     },
     "execution_count": 14,
     "metadata": {},
     "output_type": "execute_result"
    }
   ],
   "source": [
    "Q.vel(N)"
   ]
  },
  {
   "cell_type": "code",
   "execution_count": 15,
   "id": "5b5eeadd",
   "metadata": {
    "execution": {
     "iopub.execute_input": "2022-06-13T06:55:48.868094Z",
     "iopub.status.busy": "2022-06-13T06:55:48.867792Z",
     "iopub.status.idle": "2022-06-13T06:55:48.871701Z",
     "shell.execute_reply": "2022-06-13T06:55:48.871192Z"
    }
   },
   "outputs": [],
   "source": [
    "N_v_P = 0*N.z"
   ]
  },
  {
   "cell_type": "code",
   "execution_count": 16,
   "id": "889a70d5",
   "metadata": {
    "execution": {
     "iopub.execute_input": "2022-06-13T06:55:48.874015Z",
     "iopub.status.busy": "2022-06-13T06:55:48.873829Z",
     "iopub.status.idle": "2022-06-13T06:55:48.882223Z",
     "shell.execute_reply": "2022-06-13T06:55:48.881718Z"
    }
   },
   "outputs": [
    {
     "data": {
      "text/latex": [
       "$\\displaystyle -  d \\dot{\\alpha}\\mathbf{\\hat{a}_y}$"
      ],
      "text/plain": [
       "-d⋅α̇ a_y"
      ]
     },
     "execution_count": 16,
     "metadata": {},
     "output_type": "execute_result"
    }
   ],
   "source": [
    "N_v_S = N_v_P +  me.cross(A.ang_vel_in(N), S.pos_from(P))\n",
    "N_v_S"
   ]
  },
  {
   "cell_type": "code",
   "execution_count": 17,
   "id": "f02d9896",
   "metadata": {
    "execution": {
     "iopub.execute_input": "2022-06-13T06:55:48.884419Z",
     "iopub.status.busy": "2022-06-13T06:55:48.884220Z",
     "iopub.status.idle": "2022-06-13T06:55:48.892487Z",
     "shell.execute_reply": "2022-06-13T06:55:48.891979Z"
    }
   },
   "outputs": [
    {
     "data": {
      "text/latex": [
       "$\\displaystyle -  d \\dot{\\alpha}\\mathbf{\\hat{a}_y}$"
      ],
      "text/plain": [
       "-d⋅α̇ a_y"
      ]
     },
     "execution_count": 17,
     "metadata": {},
     "output_type": "execute_result"
    }
   ],
   "source": [
    "P.set_vel(N, 0)\n",
    "S.v2pt_theory(P, N, A)"
   ]
  },
  {
   "cell_type": "code",
   "execution_count": 18,
   "id": "7168dad5",
   "metadata": {
    "execution": {
     "iopub.execute_input": "2022-06-13T06:55:48.894776Z",
     "iopub.status.busy": "2022-06-13T06:55:48.894456Z",
     "iopub.status.idle": "2022-06-13T06:55:48.900679Z",
     "shell.execute_reply": "2022-06-13T06:55:48.900189Z"
    }
   },
   "outputs": [
    {
     "data": {
      "text/latex": [
       "$\\displaystyle -  d \\dot{\\alpha}\\mathbf{\\hat{a}_y}$"
      ],
      "text/plain": [
       "-d⋅α̇ a_y"
      ]
     },
     "execution_count": 18,
     "metadata": {},
     "output_type": "execute_result"
    }
   ],
   "source": [
    "S.vel(N)"
   ]
  },
  {
   "cell_type": "code",
   "execution_count": 19,
   "id": "a814b733",
   "metadata": {
    "execution": {
     "iopub.execute_input": "2022-06-13T06:55:48.902904Z",
     "iopub.status.busy": "2022-06-13T06:55:48.902595Z",
     "iopub.status.idle": "2022-06-13T06:55:48.916134Z",
     "shell.execute_reply": "2022-06-13T06:55:48.915610Z"
    }
   },
   "outputs": [
    {
     "data": {
      "text/latex": [
       "$\\displaystyle -  d \\dot{\\alpha}\\mathbf{\\hat{a}_y} + \\left(- c - \\frac{l}{2}\\right) \\sin{\\left(\\beta \\right)} \\dot{\\alpha}\\mathbf{\\hat{b}_x} + (- w \\cos{\\left(\\beta \\right)} \\dot{\\alpha} - \\left(- c - \\frac{l}{2}\\right) \\dot{\\beta})\\mathbf{\\hat{b}_y} + w \\sin{\\left(\\beta \\right)} \\dot{\\alpha}\\mathbf{\\hat{b}_z}$"
      ],
      "text/plain": [
       "           ⎛     l⎞                ⎛              ⎛     l⎞  ⎞\n",
       "-d⋅α̇ a_y + ⎜-c - ─⎟⋅sin(β)⋅α̇ b_x + ⎜-w⋅cos(β)⋅α̇ - ⎜-c - ─⎟⋅β̇⎟ b_y + w⋅sin(\n",
       "           ⎝     2⎠                ⎝              ⎝     2⎠  ⎠\n",
       "\n",
       "\n",
       "β)⋅α̇ b_z\n"
      ]
     },
     "execution_count": 19,
     "metadata": {},
     "output_type": "execute_result"
    }
   ],
   "source": [
    "N_v_Q = N_v_S +  me.cross(B.ang_vel_in(N), Q.pos_from(S))\n",
    "N_v_Q"
   ]
  },
  {
   "cell_type": "code",
   "execution_count": 20,
   "id": "1013c9b5",
   "metadata": {
    "execution": {
     "iopub.execute_input": "2022-06-13T06:55:48.918742Z",
     "iopub.status.busy": "2022-06-13T06:55:48.918304Z",
     "iopub.status.idle": "2022-06-13T06:55:48.932544Z",
     "shell.execute_reply": "2022-06-13T06:55:48.932017Z"
    }
   },
   "outputs": [
    {
     "data": {
      "text/latex": [
       "$\\displaystyle -  d \\dot{\\alpha}\\mathbf{\\hat{a}_y} + \\left(- c - \\frac{l}{2}\\right) \\sin{\\left(\\beta \\right)} \\dot{\\alpha}\\mathbf{\\hat{b}_x} + (- w \\cos{\\left(\\beta \\right)} \\dot{\\alpha} - \\left(- c - \\frac{l}{2}\\right) \\dot{\\beta})\\mathbf{\\hat{b}_y} + w \\sin{\\left(\\beta \\right)} \\dot{\\alpha}\\mathbf{\\hat{b}_z}$"
      ],
      "text/plain": [
       "           ⎛     l⎞                ⎛              ⎛     l⎞  ⎞\n",
       "-d⋅α̇ a_y + ⎜-c - ─⎟⋅sin(β)⋅α̇ b_x + ⎜-w⋅cos(β)⋅α̇ - ⎜-c - ─⎟⋅β̇⎟ b_y + w⋅sin(\n",
       "           ⎝     2⎠                ⎝              ⎝     2⎠  ⎠\n",
       "\n",
       "\n",
       "β)⋅α̇ b_z\n"
      ]
     },
     "execution_count": 20,
     "metadata": {},
     "output_type": "execute_result"
    }
   ],
   "source": [
    "Q.v2pt_theory(S, N, B)"
   ]
  },
  {
   "cell_type": "code",
   "execution_count": 21,
   "id": "516d8090",
   "metadata": {
    "execution": {
     "iopub.execute_input": "2022-06-13T06:55:48.935129Z",
     "iopub.status.busy": "2022-06-13T06:55:48.934833Z",
     "iopub.status.idle": "2022-06-13T06:55:48.950714Z",
     "shell.execute_reply": "2022-06-13T06:55:48.950200Z"
    }
   },
   "outputs": [
    {
     "data": {
      "text/latex": [
       "$\\displaystyle (- d \\dot{\\alpha} - \\frac{w \\dot{\\alpha}}{2})\\mathbf{\\hat{a}_y} -  c \\sin{\\left(\\beta \\right)} \\dot{\\alpha}\\mathbf{\\hat{b}_x} + c \\dot{\\beta}\\mathbf{\\hat{b}_y}$"
      ],
      "text/plain": [
       "⎛       w⋅α̇⎞\n",
       "⎜-d⋅α̇ - ───⎟ a_y + -c⋅sin(β)⋅α̇ b_x + c⋅β̇ b_y\n",
       "⎝        2 ⎠"
      ]
     },
     "execution_count": 21,
     "metadata": {},
     "output_type": "execute_result"
    }
   ],
   "source": [
    "Bc = me.Point('B_c')\n",
    "Bc.set_pos(S, -c*B.z - w/2*A.x)\n",
    "Bc.v2pt_theory(S, N, B)"
   ]
  },
  {
   "cell_type": "code",
   "execution_count": 22,
   "id": "a340ab22",
   "metadata": {
    "execution": {
     "iopub.execute_input": "2022-06-13T06:55:48.953210Z",
     "iopub.status.busy": "2022-06-13T06:55:48.952804Z",
     "iopub.status.idle": "2022-06-13T06:55:48.958438Z",
     "shell.execute_reply": "2022-06-13T06:55:48.957913Z"
    }
   },
   "outputs": [],
   "source": [
    "s = me.dynamicsymbols('s')\n",
    "t = me.dynamicsymbols._t\n",
    "\n",
    "R = me.Point('R')\n",
    "R.set_pos(Q, l*B.z + s*B.x)"
   ]
  },
  {
   "cell_type": "code",
   "execution_count": 23,
   "id": "20a79e9e",
   "metadata": {
    "execution": {
     "iopub.execute_input": "2022-06-13T06:55:48.960678Z",
     "iopub.status.busy": "2022-06-13T06:55:48.960371Z",
     "iopub.status.idle": "2022-06-13T06:55:48.967054Z",
     "shell.execute_reply": "2022-06-13T06:55:48.966554Z"
    }
   },
   "outputs": [
    {
     "data": {
      "text/latex": [
       "$\\displaystyle \\dot{s}\\mathbf{\\hat{b}_x}$"
      ],
      "text/plain": [
       "ṡ b_x"
      ]
     },
     "execution_count": 23,
     "metadata": {},
     "output_type": "execute_result"
    }
   ],
   "source": [
    "B_v_R = s.diff(t)*B.x\n",
    "B_v_R"
   ]
  },
  {
   "cell_type": "code",
   "execution_count": 24,
   "id": "a94894d6",
   "metadata": {
    "execution": {
     "iopub.execute_input": "2022-06-13T06:55:48.969268Z",
     "iopub.status.busy": "2022-06-13T06:55:48.968966Z",
     "iopub.status.idle": "2022-06-13T06:55:48.976532Z",
     "shell.execute_reply": "2022-06-13T06:55:48.976024Z"
    }
   },
   "outputs": [
    {
     "data": {
      "text/latex": [
       "$\\displaystyle (- w + s)\\mathbf{\\hat{b}_x} + (- c + \\frac{l}{2})\\mathbf{\\hat{b}_z}$"
      ],
      "text/plain": [
       "               ⎛     l⎞\n",
       "(-w + s) b_x + ⎜-c + ─⎟ b_z\n",
       "               ⎝     2⎠"
      ]
     },
     "execution_count": 24,
     "metadata": {},
     "output_type": "execute_result"
    }
   ],
   "source": [
    "r_S_R = R.pos_from(S)\n",
    "r_S_R"
   ]
  },
  {
   "cell_type": "code",
   "execution_count": 25,
   "id": "4ef253c1",
   "metadata": {
    "execution": {
     "iopub.execute_input": "2022-06-13T06:55:48.978718Z",
     "iopub.status.busy": "2022-06-13T06:55:48.978407Z",
     "iopub.status.idle": "2022-06-13T06:55:48.995851Z",
     "shell.execute_reply": "2022-06-13T06:55:48.995341Z"
    }
   },
   "outputs": [
    {
     "data": {
      "text/latex": [
       "$\\displaystyle -  d \\dot{\\alpha}\\mathbf{\\hat{a}_y} + \\left(- c + \\frac{l}{2}\\right) \\sin{\\left(\\beta \\right)} \\dot{\\alpha}\\mathbf{\\hat{b}_x} + (- \\left(- c + \\frac{l}{2}\\right) \\dot{\\beta} + \\left(- w + s\\right) \\cos{\\left(\\beta \\right)} \\dot{\\alpha})\\mathbf{\\hat{b}_y} -  \\left(- w + s\\right) \\sin{\\left(\\beta \\right)} \\dot{\\alpha}\\mathbf{\\hat{b}_z}$"
      ],
      "text/plain": [
       "           ⎛     l⎞                ⎛  ⎛     l⎞                      ⎞\n",
       "-d⋅α̇ a_y + ⎜-c + ─⎟⋅sin(β)⋅α̇ b_x + ⎜- ⎜-c + ─⎟⋅β̇ + (-w + s)⋅cos(β)⋅α̇⎟ b_y\n",
       "           ⎝     2⎠                ⎝  ⎝     2⎠                      ⎠\n",
       "\n",
       "\n",
       "+ -(-w + s)⋅sin(β)⋅α̇ b_z\n"
      ]
     },
     "execution_count": 25,
     "metadata": {},
     "output_type": "execute_result"
    }
   ],
   "source": [
    "N_v_T = N_v_S + me.cross(B.ang_vel_in(N), r_S_R)\n",
    "N_v_T"
   ]
  },
  {
   "cell_type": "code",
   "execution_count": 26,
   "id": "3b5aa129",
   "metadata": {
    "execution": {
     "iopub.execute_input": "2022-06-13T06:55:48.998359Z",
     "iopub.status.busy": "2022-06-13T06:55:48.998057Z",
     "iopub.status.idle": "2022-06-13T06:55:49.010181Z",
     "shell.execute_reply": "2022-06-13T06:55:49.009683Z"
    }
   },
   "outputs": [
    {
     "data": {
      "text/latex": [
       "$\\displaystyle (\\left(- c + \\frac{l}{2}\\right) \\sin{\\left(\\beta \\right)} \\dot{\\alpha} + \\dot{s})\\mathbf{\\hat{b}_x} + (- \\left(- c + \\frac{l}{2}\\right) \\dot{\\beta} + \\left(- w + s\\right) \\cos{\\left(\\beta \\right)} \\dot{\\alpha})\\mathbf{\\hat{b}_y} -  \\left(- w + s\\right) \\sin{\\left(\\beta \\right)} \\dot{\\alpha}\\mathbf{\\hat{b}_z} -  d \\dot{\\alpha}\\mathbf{\\hat{a}_y}$"
      ],
      "text/plain": [
       "⎛⎛     l⎞             ⎞       ⎛  ⎛     l⎞                      ⎞\n",
       "⎜⎜-c + ─⎟⋅sin(β)⋅α̇ + ṡ⎟ b_x + ⎜- ⎜-c + ─⎟⋅β̇ + (-w + s)⋅cos(β)⋅α̇⎟ b_y + -(-\n",
       "⎝⎝     2⎠             ⎠       ⎝  ⎝     2⎠                      ⎠\n",
       "\n",
       "\n",
       "w + s)⋅sin(β)⋅α̇ b_z + -d⋅α̇ a_y\n"
      ]
     },
     "execution_count": 26,
     "metadata": {},
     "output_type": "execute_result"
    }
   ],
   "source": [
    "N_v_R = B_v_R + N_v_T\n",
    "N_v_R"
   ]
  },
  {
   "cell_type": "code",
   "execution_count": 27,
   "id": "5098bc6e",
   "metadata": {
    "execution": {
     "iopub.execute_input": "2022-06-13T06:55:49.012650Z",
     "iopub.status.busy": "2022-06-13T06:55:49.012346Z",
     "iopub.status.idle": "2022-06-13T06:55:49.036107Z",
     "shell.execute_reply": "2022-06-13T06:55:49.035597Z"
    }
   },
   "outputs": [
    {
     "data": {
      "text/latex": [
       "$\\displaystyle (\\left(- c + \\frac{l}{2}\\right) \\sin{\\left(\\beta \\right)} \\dot{\\alpha} + \\dot{s})\\mathbf{\\hat{b}_x} + (- \\left(- c + \\frac{l}{2}\\right) \\dot{\\beta} + \\left(- w + s\\right) \\cos{\\left(\\beta \\right)} \\dot{\\alpha})\\mathbf{\\hat{b}_y} -  \\left(- w + s\\right) \\sin{\\left(\\beta \\right)} \\dot{\\alpha}\\mathbf{\\hat{b}_z} -  d \\dot{\\alpha}\\mathbf{\\hat{a}_y}$"
      ],
      "text/plain": [
       "⎛⎛     l⎞             ⎞       ⎛  ⎛     l⎞                      ⎞\n",
       "⎜⎜-c + ─⎟⋅sin(β)⋅α̇ + ṡ⎟ b_x + ⎜- ⎜-c + ─⎟⋅β̇ + (-w + s)⋅cos(β)⋅α̇⎟ b_y + -(-\n",
       "⎝⎝     2⎠             ⎠       ⎝  ⎝     2⎠                      ⎠\n",
       "\n",
       "\n",
       "w + s)⋅sin(β)⋅α̇ b_z + -d⋅α̇ a_y\n"
      ]
     },
     "execution_count": 27,
     "metadata": {},
     "output_type": "execute_result"
    }
   ],
   "source": [
    "S.set_vel(B, 0)\n",
    "R.v1pt_theory(S, N, B)"
   ]
  },
  {
   "cell_type": "code",
   "execution_count": 28,
   "id": "971e92a2",
   "metadata": {
    "execution": {
     "iopub.execute_input": "2022-06-13T06:55:49.038131Z",
     "iopub.status.busy": "2022-06-13T06:55:49.037941Z",
     "iopub.status.idle": "2022-06-13T06:55:49.051399Z",
     "shell.execute_reply": "2022-06-13T06:55:49.050879Z"
    }
   },
   "outputs": [
    {
     "data": {
      "text/latex": [
       "$\\displaystyle d \\dot{\\alpha}^{2}\\mathbf{\\hat{a}_x} -  d \\ddot{\\alpha}\\mathbf{\\hat{a}_y}$"
      ],
      "text/plain": [
       "   2\n",
       "d⋅α̇  a_x + -d⋅α̈ a_y"
      ]
     },
     "execution_count": 28,
     "metadata": {},
     "output_type": "execute_result"
    }
   ],
   "source": [
    "S.acc(N)"
   ]
  },
  {
   "cell_type": "code",
   "execution_count": 29,
   "id": "0a31edb3",
   "metadata": {
    "execution": {
     "iopub.execute_input": "2022-06-13T06:55:49.054060Z",
     "iopub.status.busy": "2022-06-13T06:55:49.053632Z",
     "iopub.status.idle": "2022-06-13T06:55:49.064167Z",
     "shell.execute_reply": "2022-06-13T06:55:49.063655Z"
    }
   },
   "outputs": [
    {
     "data": {
      "text/latex": [
       "$\\displaystyle -  d \\ddot{\\alpha}\\mathbf{\\hat{a}_y}$"
      ],
      "text/plain": [
       "-d⋅α̈ a_y"
      ]
     },
     "execution_count": 29,
     "metadata": {},
     "output_type": "execute_result"
    }
   ],
   "source": [
    "me.cross(A.ang_acc_in(N), S.pos_from(P))"
   ]
  },
  {
   "cell_type": "code",
   "execution_count": 30,
   "id": "e2073769",
   "metadata": {
    "execution": {
     "iopub.execute_input": "2022-06-13T06:55:49.066753Z",
     "iopub.status.busy": "2022-06-13T06:55:49.066454Z",
     "iopub.status.idle": "2022-06-13T06:55:49.076681Z",
     "shell.execute_reply": "2022-06-13T06:55:49.076171Z"
    }
   },
   "outputs": [
    {
     "data": {
      "text/latex": [
       "$\\displaystyle d \\dot{\\alpha}^{2}\\mathbf{\\hat{a}_x}$"
      ],
      "text/plain": [
       "   2\n",
       "d⋅α̇  a_x"
      ]
     },
     "execution_count": 30,
     "metadata": {},
     "output_type": "execute_result"
    }
   ],
   "source": [
    "me.cross(A.ang_vel_in(N), me.cross(A.ang_vel_in(N), S.pos_from(P)))"
   ]
  },
  {
   "cell_type": "code",
   "execution_count": 31,
   "id": "02eadf6d",
   "metadata": {
    "execution": {
     "iopub.execute_input": "2022-06-13T06:55:49.079965Z",
     "iopub.status.busy": "2022-06-13T06:55:49.078918Z",
     "iopub.status.idle": "2022-06-13T06:55:49.093258Z",
     "shell.execute_reply": "2022-06-13T06:55:49.092746Z"
    }
   },
   "outputs": [
    {
     "data": {
      "text/latex": [
       "$\\displaystyle d \\dot{\\alpha}^{2}\\mathbf{\\hat{a}_x} -  d \\ddot{\\alpha}\\mathbf{\\hat{a}_y}$"
      ],
      "text/plain": [
       "   2\n",
       "d⋅α̇  a_x + -d⋅α̈ a_y"
      ]
     },
     "execution_count": 31,
     "metadata": {},
     "output_type": "execute_result"
    }
   ],
   "source": [
    "S.a2pt_theory(P, N, A)"
   ]
  },
  {
   "cell_type": "code",
   "execution_count": 32,
   "id": "6afeb02a",
   "metadata": {
    "execution": {
     "iopub.execute_input": "2022-06-13T06:55:49.095870Z",
     "iopub.status.busy": "2022-06-13T06:55:49.095456Z",
     "iopub.status.idle": "2022-06-13T06:55:49.145430Z",
     "shell.execute_reply": "2022-06-13T06:55:49.144868Z"
    }
   },
   "outputs": [
    {
     "data": {
      "text/latex": [
       "$\\displaystyle d \\dot{\\alpha}^{2}\\mathbf{\\hat{a}_x} -  d \\ddot{\\alpha}\\mathbf{\\hat{a}_y} + (w \\sin^{2}{\\left(\\beta \\right)} \\dot{\\alpha}^{2} + \\left(- c - \\frac{l}{2}\\right) \\left(\\sin{\\left(\\beta \\right)} \\ddot{\\alpha} + \\cos{\\left(\\beta \\right)} \\dot{\\alpha} \\dot{\\beta}\\right) - \\left(- w \\cos{\\left(\\beta \\right)} \\dot{\\alpha} - \\left(- c - \\frac{l}{2}\\right) \\dot{\\beta}\\right) \\cos{\\left(\\beta \\right)} \\dot{\\alpha})\\mathbf{\\hat{b}_x} + (- w \\left(- \\sin{\\left(\\beta \\right)} \\dot{\\alpha} \\dot{\\beta} + \\cos{\\left(\\beta \\right)} \\ddot{\\alpha}\\right) - w \\sin{\\left(\\beta \\right)} \\dot{\\alpha} \\dot{\\beta} + \\left(- c - \\frac{l}{2}\\right) \\sin{\\left(\\beta \\right)} \\cos{\\left(\\beta \\right)} \\dot{\\alpha}^{2} - \\left(- c - \\frac{l}{2}\\right) \\ddot{\\beta})\\mathbf{\\hat{b}_y} + (w \\left(\\sin{\\left(\\beta \\right)} \\ddot{\\alpha} + \\cos{\\left(\\beta \\right)} \\dot{\\alpha} \\dot{\\beta}\\right) - \\left(- c - \\frac{l}{2}\\right) \\sin^{2}{\\left(\\beta \\right)} \\dot{\\alpha}^{2} + \\left(- w \\cos{\\left(\\beta \\right)} \\dot{\\alpha} - \\left(- c - \\frac{l}{2}\\right) \\dot{\\beta}\\right) \\dot{\\beta})\\mathbf{\\hat{b}_z}$"
      ],
      "text/plain": [
       "   2                  ⎛     2     2   ⎛     l⎞                           ⎛\n",
       "d⋅α̇  a_x + -d⋅α̈ a_y + ⎜w⋅sin (β)⋅α̇  + ⎜-c - ─⎟⋅(sin(β)⋅α̈ + cos(β)⋅α̇⋅β̇) -\n",
       "                      ⎝               ⎝     2⎠                           ⎝\n",
       "\n",
       "          ⎛     l⎞  ⎞         ⎞       ⎛\n",
       " ⎜-w⋅cos(β)⋅α̇ - ⎜-c - ─⎟⋅β̇⎟⋅cos(β)⋅α̇⎟ b_x + ⎜-w⋅(-sin(β)⋅α̇⋅β̇ + cos(β)⋅α̈)\n",
       "          ⎝     2⎠  ⎠         ⎠       ⎝\n",
       "\n",
       "      ⎛     l⎞                2   ⎛     l⎞  ⎞       ⎛\n",
       " - w⋅sin(β)⋅α̇⋅β̇ + ⎜-c - ─⎟⋅sin(β)⋅cos(β)⋅α̇  - ⎜-c - ─⎟⋅β̈⎟ b_y + ⎜w⋅(sin(β)\n",
       "      ⎝     2⎠                    ⎝     2⎠  ⎠       ⎝\n",
       "\n",
       "   ⎛     l⎞    2     2   ⎛              ⎛     l⎞  ⎞  ⎞\n",
       "⋅α̈ + cos(β)⋅α̇⋅β̇) - ⎜-c - ─⎟⋅sin (β)⋅α̇  + ⎜-w⋅cos(β)⋅α̇ - ⎜-c - ─⎟⋅β̇⎟⋅β̇⎟\n",
       "   ⎝     2⎠              ⎝              ⎝     2⎠  ⎠  ⎠"
      ]
     },
     "execution_count": 32,
     "metadata": {},
     "output_type": "execute_result"
    }
   ],
   "source": [
    "Q.a2pt_theory(S, N, B)"
   ]
  },
  {
   "cell_type": "code",
   "execution_count": 33,
   "id": "37568cc9",
   "metadata": {
    "execution": {
     "iopub.execute_input": "2022-06-13T06:55:49.148274Z",
     "iopub.status.busy": "2022-06-13T06:55:49.147822Z",
     "iopub.status.idle": "2022-06-13T06:55:49.155698Z",
     "shell.execute_reply": "2022-06-13T06:55:49.155194Z"
    }
   },
   "outputs": [
    {
     "data": {
      "text/latex": [
       "$\\displaystyle \\ddot{s}\\mathbf{\\hat{b}_x}$"
      ],
      "text/plain": [
       "s̈ b_x"
      ]
     },
     "execution_count": 33,
     "metadata": {},
     "output_type": "execute_result"
    }
   ],
   "source": [
    "B_a_R = R.acc(B)\n",
    "B_a_R"
   ]
  },
  {
   "cell_type": "code",
   "execution_count": 34,
   "id": "4f869cd8",
   "metadata": {
    "execution": {
     "iopub.execute_input": "2022-06-13T06:55:49.158967Z",
     "iopub.status.busy": "2022-06-13T06:55:49.157921Z",
     "iopub.status.idle": "2022-06-13T06:55:49.206821Z",
     "shell.execute_reply": "2022-06-13T06:55:49.206268Z"
    }
   },
   "outputs": [
    {
     "data": {
      "text/latex": [
       "$\\displaystyle d \\dot{\\alpha}^{2}\\mathbf{\\hat{a}_x} -  d \\ddot{\\alpha}\\mathbf{\\hat{a}_y} + (\\left(- c + \\frac{l}{2}\\right) \\left(\\sin{\\left(\\beta \\right)} \\ddot{\\alpha} + \\cos{\\left(\\beta \\right)} \\dot{\\alpha} \\dot{\\beta}\\right) - \\left(- w + s\\right) \\sin^{2}{\\left(\\beta \\right)} \\dot{\\alpha}^{2} - \\left(- \\left(- c + \\frac{l}{2}\\right) \\dot{\\beta} + \\left(- w + s\\right) \\cos{\\left(\\beta \\right)} \\dot{\\alpha}\\right) \\cos{\\left(\\beta \\right)} \\dot{\\alpha})\\mathbf{\\hat{b}_x} + (\\left(- c + \\frac{l}{2}\\right) \\sin{\\left(\\beta \\right)} \\cos{\\left(\\beta \\right)} \\dot{\\alpha}^{2} - \\left(- c + \\frac{l}{2}\\right) \\ddot{\\beta} + \\left(- w + s\\right) \\left(- \\sin{\\left(\\beta \\right)} \\dot{\\alpha} \\dot{\\beta} + \\cos{\\left(\\beta \\right)} \\ddot{\\alpha}\\right) + \\left(- w + s\\right) \\sin{\\left(\\beta \\right)} \\dot{\\alpha} \\dot{\\beta})\\mathbf{\\hat{b}_y} + (- \\left(- c + \\frac{l}{2}\\right) \\sin^{2}{\\left(\\beta \\right)} \\dot{\\alpha}^{2} - \\left(- w + s\\right) \\left(\\sin{\\left(\\beta \\right)} \\ddot{\\alpha} + \\cos{\\left(\\beta \\right)} \\dot{\\alpha} \\dot{\\beta}\\right) + \\left(- \\left(- c + \\frac{l}{2}\\right) \\dot{\\beta} + \\left(- w + s\\right) \\cos{\\left(\\beta \\right)} \\dot{\\alpha}\\right) \\dot{\\beta})\\mathbf{\\hat{b}_z}$"
      ],
      "text/plain": [
       "   2                  ⎛⎛     l⎞                                       2     2\n",
       "d⋅α̇  a_x + -d⋅α̈ a_y + ⎜⎜-c + ─⎟⋅(sin(β)⋅α̈ + cos(β)⋅α̇⋅β̇) - (-w + s)⋅sin (β\n",
       "                      ⎝⎝     2⎠\n",
       "\n",
       "  ⎛  ⎛     l⎞                      ⎞         ⎞       ⎛⎛     l⎞\n",
       ")⋅α̇  - ⎜- ⎜-c + ─⎟⋅β̇ + (-w + s)⋅cos(β)⋅α̇⎟⋅cos(β)⋅α̇⎟ b_x + ⎜⎜-c + ─⎟⋅sin(β)\n",
       "  ⎝  ⎝     2⎠                      ⎠         ⎠       ⎝⎝     2⎠\n",
       "\n",
       "2   ⎛     l⎞                                                            ⎞\n",
       "⋅cos(β)⋅α̇  - ⎜-c + ─⎟⋅β̈ + (-w + s)⋅(-sin(β)⋅α̇⋅β̇ + cos(β)⋅α̈) + (-w + s)⋅si\n",
       "    ⎝     2⎠                                                            ⎠\n",
       "\n",
       "  ⎛  ⎛     l⎞    2     2                                      ⎛  ⎛     l⎞\n",
       "n(β)⋅α̇⋅β̇⎟ b_y + ⎜- ⎜-c + ─⎟⋅sin (β)⋅α̇  - (-w + s)⋅(sin(β)⋅α̈ + cos(β)⋅α̇⋅β̇\n",
       "  ⎝  ⎝     2⎠                                                 ⎝  ⎝     2⎠\n",
       "\n",
       "                 ⎞  ⎞\n",
       ") + ⎜- ⎜-c + ─⎟⋅β̇ + (-w + s)⋅cos(β)⋅α̇⎟⋅β̇⎟ b_z\n",
       "                 ⎠  ⎠"
      ]
     },
     "execution_count": 34,
     "metadata": {},
     "output_type": "execute_result"
    }
   ],
   "source": [
    "N_a_T = R.a2pt_theory(S, N, B)\n",
    "N_a_T"
   ]
  },
  {
   "cell_type": "code",
   "execution_count": 35,
   "id": "e6c6beaf",
   "metadata": {
    "execution": {
     "iopub.execute_input": "2022-06-13T06:55:49.209624Z",
     "iopub.status.busy": "2022-06-13T06:55:49.209091Z",
     "iopub.status.idle": "2022-06-13T06:55:49.221485Z",
     "shell.execute_reply": "2022-06-13T06:55:49.220803Z"
    }
   },
   "outputs": [
    {
     "data": {
      "text/latex": [
       "$\\displaystyle 2 \\cos{\\left(\\beta \\right)} \\dot{\\alpha} \\dot{s}\\mathbf{\\hat{b}_y} -  2 \\sin{\\left(\\beta \\right)} \\dot{\\alpha} \\dot{s}\\mathbf{\\hat{b}_z}$"
      ],
      "text/plain": [
       "2⋅cos(β)⋅α̇⋅ṡ b_y + -2⋅sin(β)⋅α̇⋅ṡ b_z"
      ]
     },
     "execution_count": 35,
     "metadata": {},
     "output_type": "execute_result"
    }
   ],
   "source": [
    "2*me.cross(B.ang_vel_in(N), R.vel(B))"
   ]
  },
  {
   "cell_type": "code",
   "execution_count": 36,
   "id": "e0011138",
   "metadata": {
    "execution": {
     "iopub.execute_input": "2022-06-13T06:55:49.224112Z",
     "iopub.status.busy": "2022-06-13T06:55:49.223790Z",
     "iopub.status.idle": "2022-06-13T06:55:49.275735Z",
     "shell.execute_reply": "2022-06-13T06:55:49.275208Z"
    }
   },
   "outputs": [
    {
     "data": {
      "text/latex": [
       "$\\displaystyle (\\left(- c + \\frac{l}{2}\\right) \\left(\\sin{\\left(\\beta \\right)} \\ddot{\\alpha} + \\cos{\\left(\\beta \\right)} \\dot{\\alpha} \\dot{\\beta}\\right) - \\left(- w + s\\right) \\sin^{2}{\\left(\\beta \\right)} \\dot{\\alpha}^{2} - \\left(- \\left(- c + \\frac{l}{2}\\right) \\dot{\\beta} + \\left(- w + s\\right) \\cos{\\left(\\beta \\right)} \\dot{\\alpha}\\right) \\cos{\\left(\\beta \\right)} \\dot{\\alpha} + \\ddot{s})\\mathbf{\\hat{b}_x} + (\\left(- c + \\frac{l}{2}\\right) \\sin{\\left(\\beta \\right)} \\cos{\\left(\\beta \\right)} \\dot{\\alpha}^{2} - \\left(- c + \\frac{l}{2}\\right) \\ddot{\\beta} + \\left(- w + s\\right) \\left(- \\sin{\\left(\\beta \\right)} \\dot{\\alpha} \\dot{\\beta} + \\cos{\\left(\\beta \\right)} \\ddot{\\alpha}\\right) + \\left(- w + s\\right) \\sin{\\left(\\beta \\right)} \\dot{\\alpha} \\dot{\\beta} + 2 \\cos{\\left(\\beta \\right)} \\dot{\\alpha} \\dot{s})\\mathbf{\\hat{b}_y} + (- \\left(- c + \\frac{l}{2}\\right) \\sin^{2}{\\left(\\beta \\right)} \\dot{\\alpha}^{2} - \\left(- w + s\\right) \\left(\\sin{\\left(\\beta \\right)} \\ddot{\\alpha} + \\cos{\\left(\\beta \\right)} \\dot{\\alpha} \\dot{\\beta}\\right) + \\left(- \\left(- c + \\frac{l}{2}\\right) \\dot{\\beta} + \\left(- w + s\\right) \\cos{\\left(\\beta \\right)} \\dot{\\alpha}\\right) \\dot{\\beta} - 2 \\sin{\\left(\\beta \\right)} \\dot{\\alpha} \\dot{s})\\mathbf{\\hat{b}_z} + d \\dot{\\alpha}^{2}\\mathbf{\\hat{a}_x} -  d \\ddot{\\alpha}\\mathbf{\\hat{a}_y}$"
      ],
      "text/plain": [
       "⎛⎛     l⎞                                       2     2   ⎛  ⎛     l⎞\n",
       "⎜⎜-c + ─⎟⋅(sin(β)⋅α̈ + cos(β)⋅α̇⋅β̇) - (-w + s)⋅sin (β)⋅α̇  - ⎜- ⎜-c + ─⎟⋅β̇ +\n",
       "⎝⎝     2⎠                                                 ⎝  ⎝     2⎠\n",
       "\n",
       "             ⎞             ⎞       ⎛⎛     l⎞                2   ⎛     l⎞\n",
       " (-w + s)⋅cos(β)⋅α̇⎟⋅cos(β)⋅α̇ + s̈⎟ b_x + ⎜⎜-c + ─⎟⋅sin(β)⋅cos(β)⋅α̇  - ⎜-c +\n",
       "             ⎠             ⎠       ⎝⎝     2⎠                    ⎝     2⎠\n",
       "\n",
       "                                                                     ⎞       ⎛\n",
       " ─⎟⋅β̈ + (-w + s)⋅(-sin(β)⋅α̇⋅β̇ + cos(β)⋅α̈) + (-w + s)⋅sin(β)⋅α̇⋅β̇ + 2⋅cos(\n",
       "                                                                     ⎠       ⎝\n",
       "\n",
       "  ⎛     l⎞    2     2                                      ⎛  ⎛     l⎞\n",
       "β)⋅α̇⋅ṡ⎟ b_y + ⎜- ⎜-c + ─⎟⋅sin (β)⋅α̇  - (-w + s)⋅(sin(β)⋅α̈ + cos(β)⋅α̇⋅β̇)\n",
       "  ⎝     2⎠                                                 ⎝  ⎝     2⎠\n",
       "\n",
       "              ⎞                 ⎞          2\n",
       "+ ⎜- ⎜-c + ─⎟⋅β̇ + (-w + s)⋅cos(β)⋅α̇⎟⋅β̇ - 2⋅sin(β)⋅α̇⋅ṡ⎟ b_z + d⋅α̇  a_x +\n",
       "              ⎠                 ⎠"
      ]
     },
     "execution_count": 36,
     "metadata": {},
     "output_type": "execute_result"
    }
   ],
   "source": [
    "R.a1pt_theory(S, N, B)"
   ]
  }
 ],
 "metadata": {
  "kernelspec": {
   "display_name": "Python 3 (ipykernel)",
   "language": "python",
   "name": "python3"
  },
  "language_info": {
   "codemirror_mode": {
    "name": "ipython",
    "version": 3
   },
   "file_extension": ".py",
   "mimetype": "text/x-python",
   "name": "python",
   "nbconvert_exporter": "python",
   "pygments_lexer": "ipython3",
   "version": "3.9.13"
  }
 },
 "nbformat": 4,
 "nbformat_minor": 5
}