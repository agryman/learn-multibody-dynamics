{
 "cells": [
  {
   "cell_type": "code",
   "execution_count": 1,
   "id": "7dcc96cf",
   "metadata": {
    "execution": {
     "iopub.execute_input": "2022-03-16T06:32:03.624339Z",
     "iopub.status.busy": "2022-03-16T06:32:03.624091Z",
     "iopub.status.idle": "2022-03-16T06:32:04.167703Z",
     "shell.execute_reply": "2022-03-16T06:32:04.167129Z"
    }
   },
   "outputs": [],
   "source": [
    "import sympy as sm\n",
    "import sympy.physics.mechanics as me\n",
    "me.init_vprinting(use_latex='mathjax')"
   ]
  },
  {
   "cell_type": "code",
   "execution_count": 2,
   "id": "e88fc9d1",
   "metadata": {
    "execution": {
     "iopub.execute_input": "2022-03-16T06:32:04.171071Z",
     "iopub.status.busy": "2022-03-16T06:32:04.170894Z",
     "iopub.status.idle": "2022-03-16T06:32:04.185205Z",
     "shell.execute_reply": "2022-03-16T06:32:04.184715Z"
    }
   },
   "outputs": [],
   "source": [
    "alpha, beta = me.dynamicsymbols('alpha, beta')\n",
    "\n",
    "N = me.ReferenceFrame('N')\n",
    "A = me.ReferenceFrame('A')\n",
    "B = me.ReferenceFrame('B')\n",
    "\n",
    "A.orient_axis(N, alpha, N.z)\n",
    "B.orient_axis(A, beta, A.x)"
   ]
  },
  {
   "cell_type": "code",
   "execution_count": 3,
   "id": "a2f684aa",
   "metadata": {
    "execution": {
     "iopub.execute_input": "2022-03-16T06:32:04.187834Z",
     "iopub.status.busy": "2022-03-16T06:32:04.187541Z",
     "iopub.status.idle": "2022-03-16T06:32:04.201025Z",
     "shell.execute_reply": "2022-03-16T06:32:04.200533Z"
    }
   },
   "outputs": [
    {
     "data": {
      "text/latex": [
       "$\\displaystyle \\left( h\\mathbf{\\hat{n}_z}, \\  -  d\\mathbf{\\hat{a}_x}, \\  -  w\\mathbf{\\hat{b}_x} + (- c - \\frac{l}{2})\\mathbf{\\hat{b}_z}\\right)$"
      ],
      "text/plain": [
       "⎛h n_z, -d a_x,            ⎛     l⎞  ⎞\n",
       "⎜               -w b_x + ⎜-c - ─⎟ b_z⎟\n",
       "⎝                          ⎝     2⎠  ⎠"
      ]
     },
     "execution_count": 3,
     "metadata": {},
     "output_type": "execute_result"
    }
   ],
   "source": [
    "h, d, w, c, l = sm.symbols('h, d, w, c, l')\n",
    "\n",
    "r_O_P = h*N.z\n",
    "r_P_S = -d*A.x\n",
    "r_S_Q = -w*B.x - (c + l/2)*B.z\n",
    "\n",
    "r_O_P, r_P_S, r_S_Q"
   ]
  },
  {
   "cell_type": "code",
   "execution_count": 4,
   "id": "5b933228",
   "metadata": {
    "execution": {
     "iopub.execute_input": "2022-03-16T06:32:04.203571Z",
     "iopub.status.busy": "2022-03-16T06:32:04.203295Z",
     "iopub.status.idle": "2022-03-16T06:32:04.211293Z",
     "shell.execute_reply": "2022-03-16T06:32:04.210780Z"
    }
   },
   "outputs": [
    {
     "data": {
      "text/latex": [
       "$\\displaystyle 0$"
      ],
      "text/plain": [
       "0"
      ]
     },
     "execution_count": 4,
     "metadata": {},
     "output_type": "execute_result"
    }
   ],
   "source": [
    "(r_O_P + r_P_S).dt(A)"
   ]
  },
  {
   "cell_type": "code",
   "execution_count": 5,
   "id": "44f3bb5d",
   "metadata": {
    "execution": {
     "iopub.execute_input": "2022-03-16T06:32:04.214267Z",
     "iopub.status.busy": "2022-03-16T06:32:04.214000Z",
     "iopub.status.idle": "2022-03-16T06:32:04.218667Z",
     "shell.execute_reply": "2022-03-16T06:32:04.218281Z"
    }
   },
   "outputs": [
    {
     "data": {
      "text/latex": [
       "$\\displaystyle \\dot{\\alpha}\\mathbf{\\hat{n}_z}$"
      ],
      "text/plain": [
       "α̇ n_z"
      ]
     },
     "execution_count": 5,
     "metadata": {},
     "output_type": "execute_result"
    }
   ],
   "source": [
    "A.ang_vel_in(N)"
   ]
  },
  {
   "cell_type": "code",
   "execution_count": 6,
   "id": "015c66e1",
   "metadata": {
    "execution": {
     "iopub.execute_input": "2022-03-16T06:32:04.221285Z",
     "iopub.status.busy": "2022-03-16T06:32:04.220813Z",
     "iopub.status.idle": "2022-03-16T06:32:04.231653Z",
     "shell.execute_reply": "2022-03-16T06:32:04.231125Z"
    }
   },
   "outputs": [
    {
     "data": {
      "text/latex": [
       "$\\displaystyle -  d \\dot{\\alpha}\\mathbf{\\hat{a}_y}$"
      ],
      "text/plain": [
       "-d⋅α̇ a_y"
      ]
     },
     "execution_count": 6,
     "metadata": {},
     "output_type": "execute_result"
    }
   ],
   "source": [
    "me.cross(A.ang_vel_in(N), r_O_P + r_P_S)"
   ]
  },
  {
   "cell_type": "code",
   "execution_count": 7,
   "id": "011d1b0c",
   "metadata": {
    "execution": {
     "iopub.execute_input": "2022-03-16T06:32:04.234241Z",
     "iopub.status.busy": "2022-03-16T06:32:04.233896Z",
     "iopub.status.idle": "2022-03-16T06:32:04.246495Z",
     "shell.execute_reply": "2022-03-16T06:32:04.245990Z"
    }
   },
   "outputs": [
    {
     "data": {
      "text/latex": [
       "$\\displaystyle -  d \\dot{\\alpha}\\mathbf{\\hat{a}_y}$"
      ],
      "text/plain": [
       "-d⋅α̇ a_y"
      ]
     },
     "execution_count": 7,
     "metadata": {},
     "output_type": "execute_result"
    }
   ],
   "source": [
    "N_v_S = (r_O_P + r_P_S).dt(A) + me.cross(A.ang_vel_in(N), r_O_P + r_P_S)\n",
    "N_v_S"
   ]
  },
  {
   "cell_type": "code",
   "execution_count": 8,
   "id": "d452fd50",
   "metadata": {
    "execution": {
     "iopub.execute_input": "2022-03-16T06:32:04.249387Z",
     "iopub.status.busy": "2022-03-16T06:32:04.249031Z",
     "iopub.status.idle": "2022-03-16T06:32:04.264447Z",
     "shell.execute_reply": "2022-03-16T06:32:04.263899Z"
    }
   },
   "outputs": [
    {
     "data": {
      "text/latex": [
       "$\\displaystyle -  h \\sin{\\left(\\alpha \\right)} \\dot{\\beta}\\mathbf{\\hat{n}_x} + h \\cos{\\left(\\alpha \\right)} \\dot{\\beta}\\mathbf{\\hat{n}_y}$"
      ],
      "text/plain": [
       "-h⋅sin(α)⋅β̇ n_x + h⋅cos(α)⋅β̇ n_y"
      ]
     },
     "execution_count": 8,
     "metadata": {},
     "output_type": "execute_result"
    }
   ],
   "source": [
    "(r_O_P + r_P_S + r_S_Q).dt(B)"
   ]
  },
  {
   "cell_type": "code",
   "execution_count": 9,
   "id": "6cc5216a",
   "metadata": {
    "execution": {
     "iopub.execute_input": "2022-03-16T06:32:04.267266Z",
     "iopub.status.busy": "2022-03-16T06:32:04.266993Z",
     "iopub.status.idle": "2022-03-16T06:32:04.299053Z",
     "shell.execute_reply": "2022-03-16T06:32:04.298532Z"
    }
   },
   "outputs": [
    {
     "data": {
      "text/latex": [
       "$\\displaystyle h \\sin{\\left(\\alpha \\right)} \\dot{\\beta}\\mathbf{\\hat{n}_x} -  h \\cos{\\left(\\alpha \\right)} \\dot{\\beta}\\mathbf{\\hat{n}_y} -  d \\dot{\\alpha}\\mathbf{\\hat{a}_y} + \\left(- c - \\frac{l}{2}\\right) \\sin{\\left(\\beta \\right)} \\dot{\\alpha}\\mathbf{\\hat{b}_x} + (- w \\cos{\\left(\\beta \\right)} \\dot{\\alpha} - \\left(- c - \\frac{l}{2}\\right) \\dot{\\beta})\\mathbf{\\hat{b}_y} + w \\sin{\\left(\\beta \\right)} \\dot{\\alpha}\\mathbf{\\hat{b}_z}$"
      ],
      "text/plain": [
       "                                              ⎛     l⎞                ⎛\n",
       "h⋅sin(α)⋅β̇ n_x + -h⋅cos(α)⋅β̇ n_y + -d⋅α̇ a_y + ⎜-c - ─⎟⋅sin(β)⋅α̇ b_x + ⎜-w⋅\n",
       "                                              ⎝     2⎠                ⎝\n",
       "\n",
       "       ⎛     l⎞  ⎞\n",
       "cos(β)⋅α̇ - ⎜-c - ─⎟⋅β̇⎟ b_y + w⋅sin(β)⋅α̇ b_z\n",
       "       ⎝     2⎠  ⎠"
      ]
     },
     "execution_count": 9,
     "metadata": {},
     "output_type": "execute_result"
    }
   ],
   "source": [
    "me.cross(B.ang_vel_in(N), r_O_P + r_P_S + r_S_Q)"
   ]
  },
  {
   "cell_type": "code",
   "execution_count": 10,
   "id": "ad21ddd3",
   "metadata": {
    "execution": {
     "iopub.execute_input": "2022-03-16T06:32:04.301812Z",
     "iopub.status.busy": "2022-03-16T06:32:04.301422Z",
     "iopub.status.idle": "2022-03-16T06:32:04.330793Z",
     "shell.execute_reply": "2022-03-16T06:32:04.330288Z"
    }
   },
   "outputs": [
    {
     "data": {
      "text/latex": [
       "$\\displaystyle -  d \\dot{\\alpha}\\mathbf{\\hat{a}_y} + \\left(- c - \\frac{l}{2}\\right) \\sin{\\left(\\beta \\right)} \\dot{\\alpha}\\mathbf{\\hat{b}_x} + (- w \\cos{\\left(\\beta \\right)} \\dot{\\alpha} - \\left(- c - \\frac{l}{2}\\right) \\dot{\\beta})\\mathbf{\\hat{b}_y} + w \\sin{\\left(\\beta \\right)} \\dot{\\alpha}\\mathbf{\\hat{b}_z}$"
      ],
      "text/plain": [
       "           ⎛     l⎞                ⎛              ⎛     l⎞  ⎞\n",
       "-d⋅α̇ a_y + ⎜-c - ─⎟⋅sin(β)⋅α̇ b_x + ⎜-w⋅cos(β)⋅α̇ - ⎜-c - ─⎟⋅β̇⎟ b_y + w⋅sin(\n",
       "           ⎝     2⎠                ⎝              ⎝     2⎠  ⎠\n",
       "\n",
       "\n",
       "β)⋅α̇ b_z\n"
      ]
     },
     "execution_count": 10,
     "metadata": {},
     "output_type": "execute_result"
    }
   ],
   "source": [
    "N_v_Q = (r_O_P + r_P_S + r_S_Q).dt(B) + me.cross(B.ang_vel_in(N), r_O_P + r_P_S + r_S_Q)\n",
    "N_v_Q"
   ]
  },
  {
   "cell_type": "code",
   "execution_count": 11,
   "id": "7187980e",
   "metadata": {
    "execution": {
     "iopub.execute_input": "2022-03-16T06:32:04.333716Z",
     "iopub.status.busy": "2022-03-16T06:32:04.333147Z",
     "iopub.status.idle": "2022-03-16T06:32:04.339077Z",
     "shell.execute_reply": "2022-03-16T06:32:04.338564Z"
    }
   },
   "outputs": [],
   "source": [
    "O = me.Point('O')\n",
    "P = me.Point('P')\n",
    "S = me.Point('S')\n",
    "Q = me.Point('Q')\n",
    "\n",
    "P.set_pos(O, h*N.z)\n",
    "S.set_pos(P, -d*A.x)\n",
    "Q.set_pos(S, -w*B.x - (c + l/2)*B.z)"
   ]
  },
  {
   "cell_type": "code",
   "execution_count": 12,
   "id": "0648ed99",
   "metadata": {
    "execution": {
     "iopub.execute_input": "2022-03-16T06:32:04.341495Z",
     "iopub.status.busy": "2022-03-16T06:32:04.341216Z",
     "iopub.status.idle": "2022-03-16T06:32:04.347609Z",
     "shell.execute_reply": "2022-03-16T06:32:04.347072Z"
    }
   },
   "outputs": [
    {
     "data": {
      "text/latex": [
       "$\\displaystyle -  w\\mathbf{\\hat{b}_x} + (- c - \\frac{l}{2})\\mathbf{\\hat{b}_z} -  d\\mathbf{\\hat{a}_x} + h\\mathbf{\\hat{n}_z}$"
      ],
      "text/plain": [
       "         ⎛     l⎞\n",
       "-w b_x + ⎜-c - ─⎟ b_z + -d a_x + h n_z\n",
       "         ⎝     2⎠"
      ]
     },
     "execution_count": 12,
     "metadata": {},
     "output_type": "execute_result"
    }
   ],
   "source": [
    "Q.pos_from(O)"
   ]
  },
  {
   "cell_type": "code",
   "execution_count": 13,
   "id": "280d9a7a",
   "metadata": {
    "execution": {
     "iopub.execute_input": "2022-03-16T06:32:04.350828Z",
     "iopub.status.busy": "2022-03-16T06:32:04.350410Z",
     "iopub.status.idle": "2022-03-16T06:32:04.353291Z",
     "shell.execute_reply": "2022-03-16T06:32:04.352753Z"
    }
   },
   "outputs": [],
   "source": [
    "O.set_vel(N, 0)"
   ]
  },
  {
   "cell_type": "code",
   "execution_count": 14,
   "id": "23085abc",
   "metadata": {
    "execution": {
     "iopub.execute_input": "2022-03-16T06:32:04.355963Z",
     "iopub.status.busy": "2022-03-16T06:32:04.355615Z",
     "iopub.status.idle": "2022-03-16T06:32:04.376595Z",
     "shell.execute_reply": "2022-03-16T06:32:04.376045Z"
    }
   },
   "outputs": [
    {
     "data": {
      "text/latex": [
       "$\\displaystyle \\left(- c - \\frac{l}{2}\\right) \\sin{\\left(\\beta \\right)} \\dot{\\alpha}\\mathbf{\\hat{b}_x} + (- w \\cos{\\left(\\beta \\right)} \\dot{\\alpha} - \\left(- c - \\frac{l}{2}\\right) \\dot{\\beta})\\mathbf{\\hat{b}_y} + w \\sin{\\left(\\beta \\right)} \\dot{\\alpha}\\mathbf{\\hat{b}_z} -  d \\dot{\\alpha}\\mathbf{\\hat{a}_y}$"
      ],
      "text/plain": [
       "⎛     l⎞                ⎛              ⎛     l⎞  ⎞\n",
       "⎜-c - ─⎟⋅sin(β)⋅α̇ b_x + ⎜-w⋅cos(β)⋅α̇ - ⎜-c - ─⎟⋅β̇⎟ b_y + w⋅sin(β)⋅α̇ b_z +\n",
       "⎝     2⎠                ⎝              ⎝     2⎠  ⎠\n",
       "\n",
       "\n",
       "-d⋅α̇ a_y\n"
      ]
     },
     "execution_count": 14,
     "metadata": {},
     "output_type": "execute_result"
    }
   ],
   "source": [
    "Q.vel(N)"
   ]
  },
  {
   "cell_type": "code",
   "execution_count": 15,
   "id": "906c9d64",
   "metadata": {
    "execution": {
     "iopub.execute_input": "2022-03-16T06:32:04.379740Z",
     "iopub.status.busy": "2022-03-16T06:32:04.379456Z",
     "iopub.status.idle": "2022-03-16T06:32:04.382452Z",
     "shell.execute_reply": "2022-03-16T06:32:04.381932Z"
    }
   },
   "outputs": [],
   "source": [
    "N_v_P = 0*N.z"
   ]
  },
  {
   "cell_type": "code",
   "execution_count": 16,
   "id": "2a79fedc",
   "metadata": {
    "execution": {
     "iopub.execute_input": "2022-03-16T06:32:04.384958Z",
     "iopub.status.busy": "2022-03-16T06:32:04.384607Z",
     "iopub.status.idle": "2022-03-16T06:32:04.392114Z",
     "shell.execute_reply": "2022-03-16T06:32:04.391611Z"
    }
   },
   "outputs": [
    {
     "data": {
      "text/latex": [
       "$\\displaystyle -  d \\dot{\\alpha}\\mathbf{\\hat{a}_y}$"
      ],
      "text/plain": [
       "-d⋅α̇ a_y"
      ]
     },
     "execution_count": 16,
     "metadata": {},
     "output_type": "execute_result"
    }
   ],
   "source": [
    "N_v_S = N_v_P +  me.cross(A.ang_vel_in(N), S.pos_from(P))\n",
    "N_v_S"
   ]
  },
  {
   "cell_type": "code",
   "execution_count": 17,
   "id": "2ec3f4dc",
   "metadata": {
    "execution": {
     "iopub.execute_input": "2022-03-16T06:32:04.395106Z",
     "iopub.status.busy": "2022-03-16T06:32:04.394698Z",
     "iopub.status.idle": "2022-03-16T06:32:04.402101Z",
     "shell.execute_reply": "2022-03-16T06:32:04.401585Z"
    }
   },
   "outputs": [
    {
     "data": {
      "text/latex": [
       "$\\displaystyle -  d \\dot{\\alpha}\\mathbf{\\hat{a}_y}$"
      ],
      "text/plain": [
       "-d⋅α̇ a_y"
      ]
     },
     "execution_count": 17,
     "metadata": {},
     "output_type": "execute_result"
    }
   ],
   "source": [
    "P.set_vel(N, 0)\n",
    "S.v2pt_theory(P, N, A)"
   ]
  },
  {
   "cell_type": "code",
   "execution_count": 18,
   "id": "7d0168e5",
   "metadata": {
    "execution": {
     "iopub.execute_input": "2022-03-16T06:32:04.404955Z",
     "iopub.status.busy": "2022-03-16T06:32:04.404613Z",
     "iopub.status.idle": "2022-03-16T06:32:04.409340Z",
     "shell.execute_reply": "2022-03-16T06:32:04.408823Z"
    }
   },
   "outputs": [
    {
     "data": {
      "text/latex": [
       "$\\displaystyle -  d \\dot{\\alpha}\\mathbf{\\hat{a}_y}$"
      ],
      "text/plain": [
       "-d⋅α̇ a_y"
      ]
     },
     "execution_count": 18,
     "metadata": {},
     "output_type": "execute_result"
    }
   ],
   "source": [
    "S.vel(N)"
   ]
  },
  {
   "cell_type": "code",
   "execution_count": 19,
   "id": "5cbd9adf",
   "metadata": {
    "execution": {
     "iopub.execute_input": "2022-03-16T06:32:04.412390Z",
     "iopub.status.busy": "2022-03-16T06:32:04.412022Z",
     "iopub.status.idle": "2022-03-16T06:32:04.426307Z",
     "shell.execute_reply": "2022-03-16T06:32:04.425764Z"
    }
   },
   "outputs": [
    {
     "data": {
      "text/latex": [
       "$\\displaystyle -  d \\dot{\\alpha}\\mathbf{\\hat{a}_y} + \\left(- c - \\frac{l}{2}\\right) \\sin{\\left(\\beta \\right)} \\dot{\\alpha}\\mathbf{\\hat{b}_x} + (- w \\cos{\\left(\\beta \\right)} \\dot{\\alpha} - \\left(- c - \\frac{l}{2}\\right) \\dot{\\beta})\\mathbf{\\hat{b}_y} + w \\sin{\\left(\\beta \\right)} \\dot{\\alpha}\\mathbf{\\hat{b}_z}$"
      ],
      "text/plain": [
       "           ⎛     l⎞                ⎛              ⎛     l⎞  ⎞\n",
       "-d⋅α̇ a_y + ⎜-c - ─⎟⋅sin(β)⋅α̇ b_x + ⎜-w⋅cos(β)⋅α̇ - ⎜-c - ─⎟⋅β̇⎟ b_y + w⋅sin(\n",
       "           ⎝     2⎠                ⎝              ⎝     2⎠  ⎠\n",
       "\n",
       "\n",
       "β)⋅α̇ b_z\n"
      ]
     },
     "execution_count": 19,
     "metadata": {},
     "output_type": "execute_result"
    }
   ],
   "source": [
    "N_v_Q = N_v_S +  me.cross(B.ang_vel_in(N), Q.pos_from(S))\n",
    "N_v_Q"
   ]
  },
  {
   "cell_type": "code",
   "execution_count": 20,
   "id": "87c23e4b",
   "metadata": {
    "execution": {
     "iopub.execute_input": "2022-03-16T06:32:04.429522Z",
     "iopub.status.busy": "2022-03-16T06:32:04.429235Z",
     "iopub.status.idle": "2022-03-16T06:32:04.443619Z",
     "shell.execute_reply": "2022-03-16T06:32:04.443062Z"
    }
   },
   "outputs": [
    {
     "data": {
      "text/latex": [
       "$\\displaystyle -  d \\dot{\\alpha}\\mathbf{\\hat{a}_y} + \\left(- c - \\frac{l}{2}\\right) \\sin{\\left(\\beta \\right)} \\dot{\\alpha}\\mathbf{\\hat{b}_x} + (- w \\cos{\\left(\\beta \\right)} \\dot{\\alpha} - \\left(- c - \\frac{l}{2}\\right) \\dot{\\beta})\\mathbf{\\hat{b}_y} + w \\sin{\\left(\\beta \\right)} \\dot{\\alpha}\\mathbf{\\hat{b}_z}$"
      ],
      "text/plain": [
       "           ⎛     l⎞                ⎛              ⎛     l⎞  ⎞\n",
       "-d⋅α̇ a_y + ⎜-c - ─⎟⋅sin(β)⋅α̇ b_x + ⎜-w⋅cos(β)⋅α̇ - ⎜-c - ─⎟⋅β̇⎟ b_y + w⋅sin(\n",
       "           ⎝     2⎠                ⎝              ⎝     2⎠  ⎠\n",
       "\n",
       "\n",
       "β)⋅α̇ b_z\n"
      ]
     },
     "execution_count": 20,
     "metadata": {},
     "output_type": "execute_result"
    }
   ],
   "source": [
    "Q.v2pt_theory(S, N, B)"
   ]
  },
  {
   "cell_type": "code",
   "execution_count": 21,
   "id": "f4a6d305",
   "metadata": {
    "execution": {
     "iopub.execute_input": "2022-03-16T06:32:04.446033Z",
     "iopub.status.busy": "2022-03-16T06:32:04.445757Z",
     "iopub.status.idle": "2022-03-16T06:32:04.462825Z",
     "shell.execute_reply": "2022-03-16T06:32:04.462284Z"
    }
   },
   "outputs": [
    {
     "data": {
      "text/latex": [
       "$\\displaystyle (- d \\dot{\\alpha} - \\frac{w \\dot{\\alpha}}{2})\\mathbf{\\hat{a}_y} -  c \\sin{\\left(\\beta \\right)} \\dot{\\alpha}\\mathbf{\\hat{b}_x} + c \\dot{\\beta}\\mathbf{\\hat{b}_y}$"
      ],
      "text/plain": [
       "⎛       w⋅α̇⎞\n",
       "⎜-d⋅α̇ - ───⎟ a_y + -c⋅sin(β)⋅α̇ b_x + c⋅β̇ b_y\n",
       "⎝        2 ⎠"
      ]
     },
     "execution_count": 21,
     "metadata": {},
     "output_type": "execute_result"
    }
   ],
   "source": [
    "Bc = me.Point('B_c')\n",
    "Bc.set_pos(S, -c*B.z - w/2*A.x)\n",
    "Bc.v2pt_theory(S, N, B)"
   ]
  },
  {
   "cell_type": "code",
   "execution_count": 22,
   "id": "0c57c0b0",
   "metadata": {
    "execution": {
     "iopub.execute_input": "2022-03-16T06:32:04.465400Z",
     "iopub.status.busy": "2022-03-16T06:32:04.464975Z",
     "iopub.status.idle": "2022-03-16T06:32:04.469862Z",
     "shell.execute_reply": "2022-03-16T06:32:04.469330Z"
    }
   },
   "outputs": [],
   "source": [
    "s = me.dynamicsymbols('s')\n",
    "t = me.dynamicsymbols._t\n",
    "\n",
    "R = me.Point('R')\n",
    "R.set_pos(Q, l*B.z + s*B.x)"
   ]
  },
  {
   "cell_type": "code",
   "execution_count": 23,
   "id": "749e7f74",
   "metadata": {
    "execution": {
     "iopub.execute_input": "2022-03-16T06:32:04.472342Z",
     "iopub.status.busy": "2022-03-16T06:32:04.471920Z",
     "iopub.status.idle": "2022-03-16T06:32:04.477420Z",
     "shell.execute_reply": "2022-03-16T06:32:04.476912Z"
    }
   },
   "outputs": [
    {
     "data": {
      "text/latex": [
       "$\\displaystyle \\dot{s}\\mathbf{\\hat{b}_x}$"
      ],
      "text/plain": [
       "ṡ b_x"
      ]
     },
     "execution_count": 23,
     "metadata": {},
     "output_type": "execute_result"
    }
   ],
   "source": [
    "B_v_R = s.diff(t)*B.x\n",
    "B_v_R"
   ]
  },
  {
   "cell_type": "code",
   "execution_count": 24,
   "id": "c1f23df3",
   "metadata": {
    "execution": {
     "iopub.execute_input": "2022-03-16T06:32:04.480624Z",
     "iopub.status.busy": "2022-03-16T06:32:04.480191Z",
     "iopub.status.idle": "2022-03-16T06:32:04.486654Z",
     "shell.execute_reply": "2022-03-16T06:32:04.486129Z"
    }
   },
   "outputs": [
    {
     "data": {
      "text/latex": [
       "$\\displaystyle (- w + s)\\mathbf{\\hat{b}_x} + (- c + \\frac{l}{2})\\mathbf{\\hat{b}_z}$"
      ],
      "text/plain": [
       "               ⎛     l⎞\n",
       "(-w + s) b_x + ⎜-c + ─⎟ b_z\n",
       "               ⎝     2⎠"
      ]
     },
     "execution_count": 24,
     "metadata": {},
     "output_type": "execute_result"
    }
   ],
   "source": [
    "r_S_R = R.pos_from(S)\n",
    "r_S_R"
   ]
  },
  {
   "cell_type": "code",
   "execution_count": 25,
   "id": "f7785b24",
   "metadata": {
    "execution": {
     "iopub.execute_input": "2022-03-16T06:32:04.489753Z",
     "iopub.status.busy": "2022-03-16T06:32:04.489338Z",
     "iopub.status.idle": "2022-03-16T06:32:04.508334Z",
     "shell.execute_reply": "2022-03-16T06:32:04.507779Z"
    }
   },
   "outputs": [
    {
     "data": {
      "text/latex": [
       "$\\displaystyle -  d \\dot{\\alpha}\\mathbf{\\hat{a}_y} + \\left(- c + \\frac{l}{2}\\right) \\sin{\\left(\\beta \\right)} \\dot{\\alpha}\\mathbf{\\hat{b}_x} + (- \\left(- c + \\frac{l}{2}\\right) \\dot{\\beta} + \\left(- w + s\\right) \\cos{\\left(\\beta \\right)} \\dot{\\alpha})\\mathbf{\\hat{b}_y} -  \\left(- w + s\\right) \\sin{\\left(\\beta \\right)} \\dot{\\alpha}\\mathbf{\\hat{b}_z}$"
      ],
      "text/plain": [
       "           ⎛     l⎞                ⎛  ⎛     l⎞                      ⎞\n",
       "-d⋅α̇ a_y + ⎜-c + ─⎟⋅sin(β)⋅α̇ b_x + ⎜- ⎜-c + ─⎟⋅β̇ + (-w + s)⋅cos(β)⋅α̇⎟ b_y\n",
       "           ⎝     2⎠                ⎝  ⎝     2⎠                      ⎠\n",
       "\n",
       "\n",
       "+ -(-w + s)⋅sin(β)⋅α̇ b_z\n"
      ]
     },
     "execution_count": 25,
     "metadata": {},
     "output_type": "execute_result"
    }
   ],
   "source": [
    "N_v_T = N_v_S + me.cross(B.ang_vel_in(N), r_S_R)\n",
    "N_v_T"
   ]
  },
  {
   "cell_type": "code",
   "execution_count": 26,
   "id": "30068f46",
   "metadata": {
    "execution": {
     "iopub.execute_input": "2022-03-16T06:32:04.511175Z",
     "iopub.status.busy": "2022-03-16T06:32:04.510751Z",
     "iopub.status.idle": "2022-03-16T06:32:04.523338Z",
     "shell.execute_reply": "2022-03-16T06:32:04.522802Z"
    }
   },
   "outputs": [
    {
     "data": {
      "text/latex": [
       "$\\displaystyle (\\left(- c + \\frac{l}{2}\\right) \\sin{\\left(\\beta \\right)} \\dot{\\alpha} + \\dot{s})\\mathbf{\\hat{b}_x} + (- \\left(- c + \\frac{l}{2}\\right) \\dot{\\beta} + \\left(- w + s\\right) \\cos{\\left(\\beta \\right)} \\dot{\\alpha})\\mathbf{\\hat{b}_y} -  \\left(- w + s\\right) \\sin{\\left(\\beta \\right)} \\dot{\\alpha}\\mathbf{\\hat{b}_z} -  d \\dot{\\alpha}\\mathbf{\\hat{a}_y}$"
      ],
      "text/plain": [
       "⎛⎛     l⎞             ⎞       ⎛  ⎛     l⎞                      ⎞\n",
       "⎜⎜-c + ─⎟⋅sin(β)⋅α̇ + ṡ⎟ b_x + ⎜- ⎜-c + ─⎟⋅β̇ + (-w + s)⋅cos(β)⋅α̇⎟ b_y + -(-\n",
       "⎝⎝     2⎠             ⎠       ⎝  ⎝     2⎠                      ⎠\n",
       "\n",
       "\n",
       "w + s)⋅sin(β)⋅α̇ b_z + -d⋅α̇ a_y\n"
      ]
     },
     "execution_count": 26,
     "metadata": {},
     "output_type": "execute_result"
    }
   ],
   "source": [
    "N_v_R = B_v_R + N_v_T\n",
    "N_v_R"
   ]
  },
  {
   "cell_type": "code",
   "execution_count": 27,
   "id": "fefc762f",
   "metadata": {
    "execution": {
     "iopub.execute_input": "2022-03-16T06:32:04.526147Z",
     "iopub.status.busy": "2022-03-16T06:32:04.525729Z",
     "iopub.status.idle": "2022-03-16T06:32:04.554385Z",
     "shell.execute_reply": "2022-03-16T06:32:04.553704Z"
    }
   },
   "outputs": [
    {
     "data": {
      "text/latex": [
       "$\\displaystyle (\\left(- c + \\frac{l}{2}\\right) \\sin{\\left(\\beta \\right)} \\dot{\\alpha} + \\dot{s})\\mathbf{\\hat{b}_x} + (- \\left(- c + \\frac{l}{2}\\right) \\dot{\\beta} + \\left(- w + s\\right) \\cos{\\left(\\beta \\right)} \\dot{\\alpha})\\mathbf{\\hat{b}_y} -  \\left(- w + s\\right) \\sin{\\left(\\beta \\right)} \\dot{\\alpha}\\mathbf{\\hat{b}_z} -  d \\dot{\\alpha}\\mathbf{\\hat{a}_y}$"
      ],
      "text/plain": [
       "⎛⎛     l⎞             ⎞       ⎛  ⎛     l⎞                      ⎞\n",
       "⎜⎜-c + ─⎟⋅sin(β)⋅α̇ + ṡ⎟ b_x + ⎜- ⎜-c + ─⎟⋅β̇ + (-w + s)⋅cos(β)⋅α̇⎟ b_y + -(-\n",
       "⎝⎝     2⎠             ⎠       ⎝  ⎝     2⎠                      ⎠\n",
       "\n",
       "\n",
       "w + s)⋅sin(β)⋅α̇ b_z + -d⋅α̇ a_y\n"
      ]
     },
     "execution_count": 27,
     "metadata": {},
     "output_type": "execute_result"
    }
   ],
   "source": [
    "S.set_vel(B, 0)\n",
    "R.v1pt_theory(S, N, B)"
   ]
  },
  {
   "cell_type": "code",
   "execution_count": 28,
   "id": "2f924ebc",
   "metadata": {
    "execution": {
     "iopub.execute_input": "2022-03-16T06:32:04.557461Z",
     "iopub.status.busy": "2022-03-16T06:32:04.557058Z",
     "iopub.status.idle": "2022-03-16T06:32:04.572123Z",
     "shell.execute_reply": "2022-03-16T06:32:04.571615Z"
    }
   },
   "outputs": [
    {
     "data": {
      "text/latex": [
       "$\\displaystyle d \\dot{\\alpha}^{2}\\mathbf{\\hat{a}_x} -  d \\ddot{\\alpha}\\mathbf{\\hat{a}_y}$"
      ],
      "text/plain": [
       "   2\n",
       "d⋅α̇  a_x + -d⋅α̈ a_y"
      ]
     },
     "execution_count": 28,
     "metadata": {},
     "output_type": "execute_result"
    }
   ],
   "source": [
    "S.acc(N)"
   ]
  },
  {
   "cell_type": "code",
   "execution_count": 29,
   "id": "b249364d",
   "metadata": {
    "execution": {
     "iopub.execute_input": "2022-03-16T06:32:04.575005Z",
     "iopub.status.busy": "2022-03-16T06:32:04.574616Z",
     "iopub.status.idle": "2022-03-16T06:32:04.586874Z",
     "shell.execute_reply": "2022-03-16T06:32:04.586399Z"
    }
   },
   "outputs": [
    {
     "data": {
      "text/latex": [
       "$\\displaystyle -  d \\ddot{\\alpha}\\mathbf{\\hat{a}_y}$"
      ],
      "text/plain": [
       "-d⋅α̈ a_y"
      ]
     },
     "execution_count": 29,
     "metadata": {},
     "output_type": "execute_result"
    }
   ],
   "source": [
    "me.cross(A.ang_acc_in(N), S.pos_from(P))"
   ]
  },
  {
   "cell_type": "code",
   "execution_count": 30,
   "id": "239968c1",
   "metadata": {
    "execution": {
     "iopub.execute_input": "2022-03-16T06:32:04.589366Z",
     "iopub.status.busy": "2022-03-16T06:32:04.589001Z",
     "iopub.status.idle": "2022-03-16T06:32:04.600683Z",
     "shell.execute_reply": "2022-03-16T06:32:04.600203Z"
    }
   },
   "outputs": [
    {
     "data": {
      "text/latex": [
       "$\\displaystyle d \\dot{\\alpha}^{2}\\mathbf{\\hat{a}_x}$"
      ],
      "text/plain": [
       "   2\n",
       "d⋅α̇  a_x"
      ]
     },
     "execution_count": 30,
     "metadata": {},
     "output_type": "execute_result"
    }
   ],
   "source": [
    "me.cross(A.ang_vel_in(N), me.cross(A.ang_vel_in(N), S.pos_from(P)))"
   ]
  },
  {
   "cell_type": "code",
   "execution_count": 31,
   "id": "baa178be",
   "metadata": {
    "execution": {
     "iopub.execute_input": "2022-03-16T06:32:04.603291Z",
     "iopub.status.busy": "2022-03-16T06:32:04.602890Z",
     "iopub.status.idle": "2022-03-16T06:32:04.618937Z",
     "shell.execute_reply": "2022-03-16T06:32:04.618430Z"
    }
   },
   "outputs": [
    {
     "data": {
      "text/latex": [
       "$\\displaystyle d \\dot{\\alpha}^{2}\\mathbf{\\hat{a}_x} -  d \\ddot{\\alpha}\\mathbf{\\hat{a}_y}$"
      ],
      "text/plain": [
       "   2\n",
       "d⋅α̇  a_x + -d⋅α̈ a_y"
      ]
     },
     "execution_count": 31,
     "metadata": {},
     "output_type": "execute_result"
    }
   ],
   "source": [
    "S.a2pt_theory(P, N, A)"
   ]
  },
  {
   "cell_type": "code",
   "execution_count": 32,
   "id": "61c8f5de",
   "metadata": {
    "execution": {
     "iopub.execute_input": "2022-03-16T06:32:04.621768Z",
     "iopub.status.busy": "2022-03-16T06:32:04.621419Z",
     "iopub.status.idle": "2022-03-16T06:32:04.681583Z",
     "shell.execute_reply": "2022-03-16T06:32:04.680983Z"
    }
   },
   "outputs": [
    {
     "data": {
      "text/latex": [
       "$\\displaystyle d \\dot{\\alpha}^{2}\\mathbf{\\hat{a}_x} -  d \\ddot{\\alpha}\\mathbf{\\hat{a}_y} + (w \\sin^{2}{\\left(\\beta \\right)} \\dot{\\alpha}^{2} + \\left(- c - \\frac{l}{2}\\right) \\left(\\sin{\\left(\\beta \\right)} \\ddot{\\alpha} + \\cos{\\left(\\beta \\right)} \\dot{\\alpha} \\dot{\\beta}\\right) - \\left(- w \\cos{\\left(\\beta \\right)} \\dot{\\alpha} - \\left(- c - \\frac{l}{2}\\right) \\dot{\\beta}\\right) \\cos{\\left(\\beta \\right)} \\dot{\\alpha})\\mathbf{\\hat{b}_x} + (- w \\left(- \\sin{\\left(\\beta \\right)} \\dot{\\alpha} \\dot{\\beta} + \\cos{\\left(\\beta \\right)} \\ddot{\\alpha}\\right) - w \\sin{\\left(\\beta \\right)} \\dot{\\alpha} \\dot{\\beta} + \\left(- c - \\frac{l}{2}\\right) \\sin{\\left(\\beta \\right)} \\cos{\\left(\\beta \\right)} \\dot{\\alpha}^{2} - \\left(- c - \\frac{l}{2}\\right) \\ddot{\\beta})\\mathbf{\\hat{b}_y} + (w \\left(\\sin{\\left(\\beta \\right)} \\ddot{\\alpha} + \\cos{\\left(\\beta \\right)} \\dot{\\alpha} \\dot{\\beta}\\right) - \\left(- c - \\frac{l}{2}\\right) \\sin^{2}{\\left(\\beta \\right)} \\dot{\\alpha}^{2} + \\left(- w \\cos{\\left(\\beta \\right)} \\dot{\\alpha} - \\left(- c - \\frac{l}{2}\\right) \\dot{\\beta}\\right) \\dot{\\beta})\\mathbf{\\hat{b}_z}$"
      ],
      "text/plain": [
       "   2                  ⎛     2     2   ⎛     l⎞                           ⎛\n",
       "d⋅α̇  a_x + -d⋅α̈ a_y + ⎜w⋅sin (β)⋅α̇  + ⎜-c - ─⎟⋅(sin(β)⋅α̈ + cos(β)⋅α̇⋅β̇) -\n",
       "                      ⎝               ⎝     2⎠                           ⎝\n",
       "\n",
       "          ⎛     l⎞  ⎞         ⎞       ⎛\n",
       " ⎜-w⋅cos(β)⋅α̇ - ⎜-c - ─⎟⋅β̇⎟⋅cos(β)⋅α̇⎟ b_x + ⎜-w⋅(-sin(β)⋅α̇⋅β̇ + cos(β)⋅α̈)\n",
       "          ⎝     2⎠  ⎠         ⎠       ⎝\n",
       "\n",
       "      ⎛     l⎞                2   ⎛     l⎞  ⎞       ⎛\n",
       " - w⋅sin(β)⋅α̇⋅β̇ + ⎜-c - ─⎟⋅sin(β)⋅cos(β)⋅α̇  - ⎜-c - ─⎟⋅β̈⎟ b_y + ⎜w⋅(sin(β)\n",
       "      ⎝     2⎠                    ⎝     2⎠  ⎠       ⎝\n",
       "\n",
       "   ⎛     l⎞    2     2   ⎛              ⎛     l⎞  ⎞  ⎞\n",
       "⋅α̈ + cos(β)⋅α̇⋅β̇) - ⎜-c - ─⎟⋅sin (β)⋅α̇  + ⎜-w⋅cos(β)⋅α̇ - ⎜-c - ─⎟⋅β̇⎟⋅β̇⎟\n",
       "   ⎝     2⎠              ⎝              ⎝     2⎠  ⎠  ⎠"
      ]
     },
     "execution_count": 32,
     "metadata": {},
     "output_type": "execute_result"
    }
   ],
   "source": [
    "Q.a2pt_theory(S, N, B)"
   ]
  },
  {
   "cell_type": "code",
   "execution_count": 33,
   "id": "b7fc3610",
   "metadata": {
    "execution": {
     "iopub.execute_input": "2022-03-16T06:32:04.684247Z",
     "iopub.status.busy": "2022-03-16T06:32:04.683945Z",
     "iopub.status.idle": "2022-03-16T06:32:04.692501Z",
     "shell.execute_reply": "2022-03-16T06:32:04.692004Z"
    }
   },
   "outputs": [
    {
     "data": {
      "text/latex": [
       "$\\displaystyle \\ddot{s}\\mathbf{\\hat{b}_x}$"
      ],
      "text/plain": [
       "s̈ b_x"
      ]
     },
     "execution_count": 33,
     "metadata": {},
     "output_type": "execute_result"
    }
   ],
   "source": [
    "B_a_R = R.acc(B)\n",
    "B_a_R"
   ]
  },
  {
   "cell_type": "code",
   "execution_count": 34,
   "id": "7e5f86d5",
   "metadata": {
    "execution": {
     "iopub.execute_input": "2022-03-16T06:32:04.695232Z",
     "iopub.status.busy": "2022-03-16T06:32:04.694800Z",
     "iopub.status.idle": "2022-03-16T06:32:04.752630Z",
     "shell.execute_reply": "2022-03-16T06:32:04.752080Z"
    }
   },
   "outputs": [
    {
     "data": {
      "text/latex": [
       "$\\displaystyle d \\dot{\\alpha}^{2}\\mathbf{\\hat{a}_x} -  d \\ddot{\\alpha}\\mathbf{\\hat{a}_y} + (\\left(- c + \\frac{l}{2}\\right) \\left(\\sin{\\left(\\beta \\right)} \\ddot{\\alpha} + \\cos{\\left(\\beta \\right)} \\dot{\\alpha} \\dot{\\beta}\\right) - \\left(- w + s\\right) \\sin^{2}{\\left(\\beta \\right)} \\dot{\\alpha}^{2} - \\left(- \\left(- c + \\frac{l}{2}\\right) \\dot{\\beta} + \\left(- w + s\\right) \\cos{\\left(\\beta \\right)} \\dot{\\alpha}\\right) \\cos{\\left(\\beta \\right)} \\dot{\\alpha})\\mathbf{\\hat{b}_x} + (\\left(- c + \\frac{l}{2}\\right) \\sin{\\left(\\beta \\right)} \\cos{\\left(\\beta \\right)} \\dot{\\alpha}^{2} - \\left(- c + \\frac{l}{2}\\right) \\ddot{\\beta} + \\left(- w + s\\right) \\left(- \\sin{\\left(\\beta \\right)} \\dot{\\alpha} \\dot{\\beta} + \\cos{\\left(\\beta \\right)} \\ddot{\\alpha}\\right) + \\left(- w + s\\right) \\sin{\\left(\\beta \\right)} \\dot{\\alpha} \\dot{\\beta})\\mathbf{\\hat{b}_y} + (- \\left(- c + \\frac{l}{2}\\right) \\sin^{2}{\\left(\\beta \\right)} \\dot{\\alpha}^{2} - \\left(- w + s\\right) \\left(\\sin{\\left(\\beta \\right)} \\ddot{\\alpha} + \\cos{\\left(\\beta \\right)} \\dot{\\alpha} \\dot{\\beta}\\right) + \\left(- \\left(- c + \\frac{l}{2}\\right) \\dot{\\beta} + \\left(- w + s\\right) \\cos{\\left(\\beta \\right)} \\dot{\\alpha}\\right) \\dot{\\beta})\\mathbf{\\hat{b}_z}$"
      ],
      "text/plain": [
       "   2                  ⎛⎛     l⎞                                       2     2\n",
       "d⋅α̇  a_x + -d⋅α̈ a_y + ⎜⎜-c + ─⎟⋅(sin(β)⋅α̈ + cos(β)⋅α̇⋅β̇) - (-w + s)⋅sin (β\n",
       "                      ⎝⎝     2⎠\n",
       "\n",
       "  ⎛  ⎛     l⎞                      ⎞         ⎞       ⎛⎛     l⎞\n",
       ")⋅α̇  - ⎜- ⎜-c + ─⎟⋅β̇ + (-w + s)⋅cos(β)⋅α̇⎟⋅cos(β)⋅α̇⎟ b_x + ⎜⎜-c + ─⎟⋅sin(β)\n",
       "  ⎝  ⎝     2⎠                      ⎠         ⎠       ⎝⎝     2⎠\n",
       "\n",
       "2   ⎛     l⎞                                                            ⎞\n",
       "⋅cos(β)⋅α̇  - ⎜-c + ─⎟⋅β̈ + (-w + s)⋅(-sin(β)⋅α̇⋅β̇ + cos(β)⋅α̈) + (-w + s)⋅si\n",
       "    ⎝     2⎠                                                            ⎠\n",
       "\n",
       "  ⎛  ⎛     l⎞    2     2                                      ⎛  ⎛     l⎞\n",
       "n(β)⋅α̇⋅β̇⎟ b_y + ⎜- ⎜-c + ─⎟⋅sin (β)⋅α̇  - (-w + s)⋅(sin(β)⋅α̈ + cos(β)⋅α̇⋅β̇\n",
       "  ⎝  ⎝     2⎠                                                 ⎝  ⎝     2⎠\n",
       "\n",
       "                 ⎞  ⎞\n",
       ") + ⎜- ⎜-c + ─⎟⋅β̇ + (-w + s)⋅cos(β)⋅α̇⎟⋅β̇⎟ b_z\n",
       "                 ⎠  ⎠"
      ]
     },
     "execution_count": 34,
     "metadata": {},
     "output_type": "execute_result"
    }
   ],
   "source": [
    "N_a_T = R.a2pt_theory(S, N, B)\n",
    "N_a_T"
   ]
  },
  {
   "cell_type": "code",
   "execution_count": 35,
   "id": "b59afcd3",
   "metadata": {
    "execution": {
     "iopub.execute_input": "2022-03-16T06:32:04.755532Z",
     "iopub.status.busy": "2022-03-16T06:32:04.755259Z",
     "iopub.status.idle": "2022-03-16T06:32:04.768698Z",
     "shell.execute_reply": "2022-03-16T06:32:04.768233Z"
    }
   },
   "outputs": [
    {
     "data": {
      "text/latex": [
       "$\\displaystyle 2 \\cos{\\left(\\beta \\right)} \\dot{\\alpha} \\dot{s}\\mathbf{\\hat{b}_y} -  2 \\sin{\\left(\\beta \\right)} \\dot{\\alpha} \\dot{s}\\mathbf{\\hat{b}_z}$"
      ],
      "text/plain": [
       "2⋅cos(β)⋅α̇⋅ṡ b_y + -2⋅sin(β)⋅α̇⋅ṡ b_z"
      ]
     },
     "execution_count": 35,
     "metadata": {},
     "output_type": "execute_result"
    }
   ],
   "source": [
    "2*me.cross(B.ang_vel_in(N), R.vel(B))"
   ]
  },
  {
   "cell_type": "code",
   "execution_count": 36,
   "id": "4a3c2015",
   "metadata": {
    "execution": {
     "iopub.execute_input": "2022-03-16T06:32:04.771494Z",
     "iopub.status.busy": "2022-03-16T06:32:04.771080Z",
     "iopub.status.idle": "2022-03-16T06:32:04.833426Z",
     "shell.execute_reply": "2022-03-16T06:32:04.832898Z"
    }
   },
   "outputs": [
    {
     "data": {
      "text/latex": [
       "$\\displaystyle (\\left(- c + \\frac{l}{2}\\right) \\left(\\sin{\\left(\\beta \\right)} \\ddot{\\alpha} + \\cos{\\left(\\beta \\right)} \\dot{\\alpha} \\dot{\\beta}\\right) - \\left(- w + s\\right) \\sin^{2}{\\left(\\beta \\right)} \\dot{\\alpha}^{2} - \\left(- \\left(- c + \\frac{l}{2}\\right) \\dot{\\beta} + \\left(- w + s\\right) \\cos{\\left(\\beta \\right)} \\dot{\\alpha}\\right) \\cos{\\left(\\beta \\right)} \\dot{\\alpha} + \\ddot{s})\\mathbf{\\hat{b}_x} + (\\left(- c + \\frac{l}{2}\\right) \\sin{\\left(\\beta \\right)} \\cos{\\left(\\beta \\right)} \\dot{\\alpha}^{2} - \\left(- c + \\frac{l}{2}\\right) \\ddot{\\beta} + \\left(- w + s\\right) \\left(- \\sin{\\left(\\beta \\right)} \\dot{\\alpha} \\dot{\\beta} + \\cos{\\left(\\beta \\right)} \\ddot{\\alpha}\\right) + \\left(- w + s\\right) \\sin{\\left(\\beta \\right)} \\dot{\\alpha} \\dot{\\beta} + 2 \\cos{\\left(\\beta \\right)} \\dot{\\alpha} \\dot{s})\\mathbf{\\hat{b}_y} + (- \\left(- c + \\frac{l}{2}\\right) \\sin^{2}{\\left(\\beta \\right)} \\dot{\\alpha}^{2} - \\left(- w + s\\right) \\left(\\sin{\\left(\\beta \\right)} \\ddot{\\alpha} + \\cos{\\left(\\beta \\right)} \\dot{\\alpha} \\dot{\\beta}\\right) + \\left(- \\left(- c + \\frac{l}{2}\\right) \\dot{\\beta} + \\left(- w + s\\right) \\cos{\\left(\\beta \\right)} \\dot{\\alpha}\\right) \\dot{\\beta} - 2 \\sin{\\left(\\beta \\right)} \\dot{\\alpha} \\dot{s})\\mathbf{\\hat{b}_z} + d \\dot{\\alpha}^{2}\\mathbf{\\hat{a}_x} -  d \\ddot{\\alpha}\\mathbf{\\hat{a}_y}$"
      ],
      "text/plain": [
       "⎛⎛     l⎞                                       2     2   ⎛  ⎛     l⎞\n",
       "⎜⎜-c + ─⎟⋅(sin(β)⋅α̈ + cos(β)⋅α̇⋅β̇) - (-w + s)⋅sin (β)⋅α̇  - ⎜- ⎜-c + ─⎟⋅β̇ +\n",
       "⎝⎝     2⎠                                                 ⎝  ⎝     2⎠\n",
       "\n",
       "             ⎞             ⎞       ⎛⎛     l⎞                2   ⎛     l⎞\n",
       " (-w + s)⋅cos(β)⋅α̇⎟⋅cos(β)⋅α̇ + s̈⎟ b_x + ⎜⎜-c + ─⎟⋅sin(β)⋅cos(β)⋅α̇  - ⎜-c +\n",
       "             ⎠             ⎠       ⎝⎝     2⎠                    ⎝     2⎠\n",
       "\n",
       "                                                                     ⎞       ⎛\n",
       " ─⎟⋅β̈ + (-w + s)⋅(-sin(β)⋅α̇⋅β̇ + cos(β)⋅α̈) + (-w + s)⋅sin(β)⋅α̇⋅β̇ + 2⋅cos(\n",
       "                                                                     ⎠       ⎝\n",
       "\n",
       "  ⎛     l⎞    2     2                                      ⎛  ⎛     l⎞\n",
       "β)⋅α̇⋅ṡ⎟ b_y + ⎜- ⎜-c + ─⎟⋅sin (β)⋅α̇  - (-w + s)⋅(sin(β)⋅α̈ + cos(β)⋅α̇⋅β̇)\n",
       "  ⎝     2⎠                                                 ⎝  ⎝     2⎠\n",
       "\n",
       "              ⎞                 ⎞          2\n",
       "+ ⎜- ⎜-c + ─⎟⋅β̇ + (-w + s)⋅cos(β)⋅α̇⎟⋅β̇ - 2⋅sin(β)⋅α̇⋅ṡ⎟ b_z + d⋅α̇  a_x +\n",
       "              ⎠                 ⎠"
      ]
     },
     "execution_count": 36,
     "metadata": {},
     "output_type": "execute_result"
    }
   ],
   "source": [
    "R.a1pt_theory(S, N, B)"
   ]
  }
 ],
 "metadata": {
  "kernelspec": {
   "display_name": "Python 3 (ipykernel)",
   "language": "python",
   "name": "python3"
  },
  "language_info": {
   "codemirror_mode": {
    "name": "ipython",
    "version": 3
   },
   "file_extension": ".py",
   "mimetype": "text/x-python",
   "name": "python",
   "nbconvert_exporter": "python",
   "pygments_lexer": "ipython3",
   "version": "3.9.10"
  }
 },
 "nbformat": 4,
 "nbformat_minor": 5
}