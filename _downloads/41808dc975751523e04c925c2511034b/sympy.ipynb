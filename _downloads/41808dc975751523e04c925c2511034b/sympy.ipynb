{
 "cells": [
  {
   "cell_type": "code",
   "execution_count": 1,
   "id": "fb2a8243",
   "metadata": {
    "execution": {
     "iopub.execute_input": "2022-06-13T06:55:11.724035Z",
     "iopub.status.busy": "2022-06-13T06:55:11.723661Z",
     "iopub.status.idle": "2022-06-13T06:55:11.998419Z",
     "shell.execute_reply": "2022-06-13T06:55:11.997803Z"
    }
   },
   "outputs": [],
   "source": [
    "import sympy as sm"
   ]
  },
  {
   "cell_type": "code",
   "execution_count": 2,
   "id": "56e0583e",
   "metadata": {
    "execution": {
     "iopub.execute_input": "2022-06-13T06:55:12.001499Z",
     "iopub.status.busy": "2022-06-13T06:55:12.000944Z",
     "iopub.status.idle": "2022-06-13T06:55:12.007493Z",
     "shell.execute_reply": "2022-06-13T06:55:12.006976Z"
    }
   },
   "outputs": [],
   "source": [
    "sm.init_printing(use_latex='mathjax')"
   ]
  },
  {
   "cell_type": "code",
   "execution_count": 3,
   "id": "73be09c3",
   "metadata": {
    "execution": {
     "iopub.execute_input": "2022-06-13T06:55:12.010016Z",
     "iopub.status.busy": "2022-06-13T06:55:12.009535Z",
     "iopub.status.idle": "2022-06-13T06:55:12.015232Z",
     "shell.execute_reply": "2022-06-13T06:55:12.014704Z"
    }
   },
   "outputs": [
    {
     "data": {
      "text/latex": [
       "$\\displaystyle a$"
      ],
      "text/plain": [
       "a"
      ]
     },
     "execution_count": 3,
     "metadata": {},
     "output_type": "execute_result"
    }
   ],
   "source": [
    "a = sm.symbols('a')\n",
    "a"
   ]
  },
  {
   "cell_type": "code",
   "execution_count": 4,
   "id": "1ea255cf",
   "metadata": {
    "execution": {
     "iopub.execute_input": "2022-06-13T06:55:12.018057Z",
     "iopub.status.busy": "2022-06-13T06:55:12.017583Z",
     "iopub.status.idle": "2022-06-13T06:55:12.021367Z",
     "shell.execute_reply": "2022-06-13T06:55:12.020843Z"
    }
   },
   "outputs": [
    {
     "data": {
      "text/plain": [
       "sympy.core.symbol.Symbol"
      ]
     },
     "execution_count": 4,
     "metadata": {},
     "output_type": "execute_result"
    }
   ],
   "source": [
    "type(a)"
   ]
  },
  {
   "cell_type": "code",
   "execution_count": 5,
   "id": "eea1e658",
   "metadata": {
    "execution": {
     "iopub.execute_input": "2022-06-13T06:55:12.023990Z",
     "iopub.status.busy": "2022-06-13T06:55:12.023804Z",
     "iopub.status.idle": "2022-06-13T06:55:12.028801Z",
     "shell.execute_reply": "2022-06-13T06:55:12.028255Z"
    }
   },
   "outputs": [
    {
     "data": {
      "text/latex": [
       "$\\displaystyle \\left( b, \\  t, \\  \\omega\\right)$"
      ],
      "text/plain": [
       "(b, t, ω)"
      ]
     },
     "execution_count": 5,
     "metadata": {},
     "output_type": "execute_result"
    }
   ],
   "source": [
    "b, t, omega = sm.symbols('b, t, omega')\n",
    "b, t, omega"
   ]
  },
  {
   "cell_type": "code",
   "execution_count": 6,
   "id": "a8551110",
   "metadata": {
    "execution": {
     "iopub.execute_input": "2022-06-13T06:55:12.031519Z",
     "iopub.status.busy": "2022-06-13T06:55:12.031210Z",
     "iopub.status.idle": "2022-06-13T06:55:12.035276Z",
     "shell.execute_reply": "2022-06-13T06:55:12.034746Z"
    }
   },
   "outputs": [
    {
     "data": {
      "text/latex": [
       "$\\displaystyle \\left( \\alpha_{1}, \\  \\omega_{2}\\right)$"
      ],
      "text/plain": [
       "(α₁, ω₂)"
      ]
     },
     "execution_count": 6,
     "metadata": {},
     "output_type": "execute_result"
    }
   ],
   "source": [
    "pivot_angle, w2 = sm.symbols('alpha1, omega2')\n",
    "pivot_angle, w2"
   ]
  },
  {
   "cell_type": "code",
   "execution_count": 7,
   "id": "fe466609",
   "metadata": {
    "execution": {
     "iopub.execute_input": "2022-06-13T06:55:12.037978Z",
     "iopub.status.busy": "2022-06-13T06:55:12.037679Z",
     "iopub.status.idle": "2022-06-13T06:55:12.041729Z",
     "shell.execute_reply": "2022-06-13T06:55:12.041185Z"
    }
   },
   "outputs": [
    {
     "data": {
      "text/plain": [
       "f"
      ]
     },
     "execution_count": 7,
     "metadata": {},
     "output_type": "execute_result"
    }
   ],
   "source": [
    "f = sm.Function('f')\n",
    "f"
   ]
  },
  {
   "cell_type": "code",
   "execution_count": 8,
   "id": "8432e4da",
   "metadata": {
    "execution": {
     "iopub.execute_input": "2022-06-13T06:55:12.044220Z",
     "iopub.status.busy": "2022-06-13T06:55:12.043948Z",
     "iopub.status.idle": "2022-06-13T06:55:12.047606Z",
     "shell.execute_reply": "2022-06-13T06:55:12.047073Z"
    }
   },
   "outputs": [
    {
     "data": {
      "text/plain": [
       "sympy.core.function.UndefinedFunction"
      ]
     },
     "execution_count": 8,
     "metadata": {},
     "output_type": "execute_result"
    }
   ],
   "source": [
    "type(f)"
   ]
  },
  {
   "cell_type": "code",
   "execution_count": 9,
   "id": "d81ce360",
   "metadata": {
    "execution": {
     "iopub.execute_input": "2022-06-13T06:55:12.050276Z",
     "iopub.status.busy": "2022-06-13T06:55:12.049981Z",
     "iopub.status.idle": "2022-06-13T06:55:12.054017Z",
     "shell.execute_reply": "2022-06-13T06:55:12.053470Z"
    }
   },
   "outputs": [
    {
     "data": {
      "text/latex": [
       "$\\displaystyle f{\\left(t \\right)}$"
      ],
      "text/plain": [
       "f(t)"
      ]
     },
     "execution_count": 9,
     "metadata": {},
     "output_type": "execute_result"
    }
   ],
   "source": [
    "f(t)"
   ]
  },
  {
   "cell_type": "code",
   "execution_count": 10,
   "id": "b456811f",
   "metadata": {
    "execution": {
     "iopub.execute_input": "2022-06-13T06:55:12.056292Z",
     "iopub.status.busy": "2022-06-13T06:55:12.055978Z",
     "iopub.status.idle": "2022-06-13T06:55:12.059715Z",
     "shell.execute_reply": "2022-06-13T06:55:12.059187Z"
    }
   },
   "outputs": [
    {
     "data": {
      "text/plain": [
       "f"
      ]
     },
     "execution_count": 10,
     "metadata": {},
     "output_type": "execute_result"
    }
   ],
   "source": [
    "type(f(t))"
   ]
  },
  {
   "cell_type": "code",
   "execution_count": 11,
   "id": "4d94c7fd",
   "metadata": {
    "execution": {
     "iopub.execute_input": "2022-06-13T06:55:12.062260Z",
     "iopub.status.busy": "2022-06-13T06:55:12.061955Z",
     "iopub.status.idle": "2022-06-13T06:55:12.066394Z",
     "shell.execute_reply": "2022-06-13T06:55:12.065833Z"
    }
   },
   "outputs": [
    {
     "data": {
      "text/latex": [
       "$\\displaystyle f{\\left(a,b,\\omega,t \\right)}$"
      ],
      "text/plain": [
       "f(a, b, ω, t)"
      ]
     },
     "execution_count": 11,
     "metadata": {},
     "output_type": "execute_result"
    }
   ],
   "source": [
    "f(a, b, omega, t)"
   ]
  },
  {
   "cell_type": "code",
   "execution_count": 12,
   "id": "82712f62",
   "metadata": {
    "execution": {
     "iopub.execute_input": "2022-06-13T06:55:12.068934Z",
     "iopub.status.busy": "2022-06-13T06:55:12.068632Z",
     "iopub.status.idle": "2022-06-13T06:55:12.242135Z",
     "shell.execute_reply": "2022-06-13T06:55:12.241508Z"
    }
   },
   "outputs": [
    {
     "data": {
      "text/latex": [
       "$\\displaystyle a + \\frac{b}{\\omega^{2}}$"
      ],
      "text/plain": [
       "    b \n",
       "a + ──\n",
       "     2\n",
       "    ω "
      ]
     },
     "execution_count": 12,
     "metadata": {},
     "output_type": "execute_result"
    }
   ],
   "source": [
    "expr1 = a + b/omega**2\n",
    "expr1"
   ]
  },
  {
   "cell_type": "code",
   "execution_count": 13,
   "id": "6a49a5de",
   "metadata": {
    "execution": {
     "iopub.execute_input": "2022-06-13T06:55:12.244865Z",
     "iopub.status.busy": "2022-06-13T06:55:12.244292Z",
     "iopub.status.idle": "2022-06-13T06:55:12.248372Z",
     "shell.execute_reply": "2022-06-13T06:55:12.247817Z"
    }
   },
   "outputs": [
    {
     "data": {
      "text/plain": [
       "sympy.core.add.Add"
      ]
     },
     "execution_count": 13,
     "metadata": {},
     "output_type": "execute_result"
    }
   ],
   "source": [
    "type(expr1)"
   ]
  },
  {
   "cell_type": "code",
   "execution_count": 14,
   "id": "3a121f43",
   "metadata": {
    "execution": {
     "iopub.execute_input": "2022-06-13T06:55:12.250881Z",
     "iopub.status.busy": "2022-06-13T06:55:12.250416Z",
     "iopub.status.idle": "2022-06-13T06:55:12.254491Z",
     "shell.execute_reply": "2022-06-13T06:55:12.253961Z"
    }
   },
   "outputs": [
    {
     "data": {
      "text/plain": [
       "\"Add(Symbol('a'), Mul(Symbol('b'), Pow(Symbol('omega'), Integer(-2))))\""
      ]
     },
     "execution_count": 14,
     "metadata": {},
     "output_type": "execute_result"
    }
   ],
   "source": [
    "sm.srepr(expr1)"
   ]
  },
  {
   "cell_type": "code",
   "execution_count": 15,
   "id": "c3ffaa05",
   "metadata": {
    "execution": {
     "iopub.execute_input": "2022-06-13T06:55:12.257167Z",
     "iopub.status.busy": "2022-06-13T06:55:12.256851Z",
     "iopub.status.idle": "2022-06-13T06:55:12.262180Z",
     "shell.execute_reply": "2022-06-13T06:55:12.261630Z"
    }
   },
   "outputs": [
    {
     "data": {
      "text/latex": [
       "$\\displaystyle a \\omega + f{\\left(t \\right)}$"
      ],
      "text/plain": [
       "a⋅ω + f(t)"
      ]
     },
     "execution_count": 15,
     "metadata": {},
     "output_type": "execute_result"
    }
   ],
   "source": [
    "expr2 = f(t) + a*omega\n",
    "expr2"
   ]
  },
  {
   "cell_type": "code",
   "execution_count": 16,
   "id": "15a2ffa5",
   "metadata": {
    "execution": {
     "iopub.execute_input": "2022-06-13T06:55:12.264808Z",
     "iopub.status.busy": "2022-06-13T06:55:12.264489Z",
     "iopub.status.idle": "2022-06-13T06:55:12.271515Z",
     "shell.execute_reply": "2022-06-13T06:55:12.270972Z"
    }
   },
   "outputs": [
    {
     "data": {
      "text/latex": [
       "$\\displaystyle a \\sin{\\left(\\omega \\right)} + \\frac{\\left|{f{\\left(t \\right)}}\\right|}{\\sqrt{b}}$"
      ],
      "text/plain": [
       "           │f(t)│\n",
       "a⋅sin(ω) + ──────\n",
       "             √b  "
      ]
     },
     "execution_count": 16,
     "metadata": {},
     "output_type": "execute_result"
    }
   ],
   "source": [
    "expr3 = a*sm.sin(omega) + sm.Abs(f(t))/sm.sqrt(b)\n",
    "expr3"
   ]
  },
  {
   "cell_type": "code",
   "execution_count": 17,
   "id": "02ab14ef",
   "metadata": {
    "execution": {
     "iopub.execute_input": "2022-06-13T06:55:12.274108Z",
     "iopub.status.busy": "2022-06-13T06:55:12.273791Z",
     "iopub.status.idle": "2022-06-13T06:55:12.280402Z",
     "shell.execute_reply": "2022-06-13T06:55:12.279834Z"
    }
   },
   "outputs": [
    {
     "data": {
      "text/latex": [
       "$\\displaystyle 5 \\sin{\\left(12 \\right)} + 105.986768359379$"
      ],
      "text/plain": [
       "5⋅sin(12) + 105.986768359379"
      ]
     },
     "execution_count": 17,
     "metadata": {},
     "output_type": "execute_result"
    }
   ],
   "source": [
    "expr4 = 5*sm.sin(12) + sm.Abs(-1001)/sm.sqrt(89.2)\n",
    "expr4"
   ]
  },
  {
   "cell_type": "code",
   "execution_count": 18,
   "id": "f1d4ab20",
   "metadata": {
    "execution": {
     "iopub.execute_input": "2022-06-13T06:55:12.282989Z",
     "iopub.status.busy": "2022-06-13T06:55:12.282672Z",
     "iopub.status.idle": "2022-06-13T06:55:12.287330Z",
     "shell.execute_reply": "2022-06-13T06:55:12.286772Z"
    }
   },
   "outputs": [
    {
     "data": {
      "text/latex": [
       "$\\displaystyle 0.5 a$"
      ],
      "text/plain": [
       "0.5⋅a"
      ]
     },
     "execution_count": 18,
     "metadata": {},
     "output_type": "execute_result"
    }
   ],
   "source": [
    "1/2*a"
   ]
  },
  {
   "cell_type": "code",
   "execution_count": 19,
   "id": "0b895c50",
   "metadata": {
    "execution": {
     "iopub.execute_input": "2022-06-13T06:55:12.289875Z",
     "iopub.status.busy": "2022-06-13T06:55:12.289573Z",
     "iopub.status.idle": "2022-06-13T06:55:12.293794Z",
     "shell.execute_reply": "2022-06-13T06:55:12.293256Z"
    }
   },
   "outputs": [
    {
     "data": {
      "text/latex": [
       "$\\displaystyle \\frac{a}{2}$"
      ],
      "text/plain": [
       "a\n",
       "─\n",
       "2"
      ]
     },
     "execution_count": 19,
     "metadata": {},
     "output_type": "execute_result"
    }
   ],
   "source": [
    "sm.S(1)/2*a"
   ]
  },
  {
   "cell_type": "code",
   "execution_count": 20,
   "id": "8585eab6",
   "metadata": {
    "execution": {
     "iopub.execute_input": "2022-06-13T06:55:12.296387Z",
     "iopub.status.busy": "2022-06-13T06:55:12.296068Z",
     "iopub.status.idle": "2022-06-13T06:55:12.303342Z",
     "shell.execute_reply": "2022-06-13T06:55:12.302784Z"
    }
   },
   "outputs": [
    {
     "data": {
      "text/latex": [
       "$\\displaystyle t \\sin{\\left(\\omega f{\\left(t \\right)} \\right)} + \\frac{f{\\left(t \\right)}}{\\sqrt{t}}$"
      ],
      "text/plain": [
       "                f(t)\n",
       "t⋅sin(ω⋅f(t)) + ────\n",
       "                 √t "
      ]
     },
     "execution_count": 20,
     "metadata": {},
     "output_type": "execute_result"
    }
   ],
   "source": [
    "expr5 = t*sm.sin(omega*f(t)) + f(t)/sm.sqrt(t)\n",
    "expr5"
   ]
  },
  {
   "cell_type": "code",
   "execution_count": 21,
   "id": "278a7c0e",
   "metadata": {
    "execution": {
     "iopub.execute_input": "2022-06-13T06:55:12.305611Z",
     "iopub.status.busy": "2022-06-13T06:55:12.305312Z",
     "iopub.status.idle": "2022-06-13T06:55:12.309381Z",
     "shell.execute_reply": "2022-06-13T06:55:12.308851Z"
    }
   },
   "outputs": [
    {
     "data": {
      "text/plain": [
       "\"Add(Mul(Symbol('a'), sin(Symbol('omega'))), Mul(Pow(Symbol('b'), Rational(-1, 2)), Abs(Function('f')(Symbol('t')))))\""
      ]
     },
     "execution_count": 21,
     "metadata": {},
     "output_type": "execute_result"
    }
   ],
   "source": [
    "sm.srepr(expr3)"
   ]
  },
  {
   "cell_type": "code",
   "execution_count": 22,
   "id": "a66784f8",
   "metadata": {
    "execution": {
     "iopub.execute_input": "2022-06-13T06:55:12.312010Z",
     "iopub.status.busy": "2022-06-13T06:55:12.311704Z",
     "iopub.status.idle": "2022-06-13T06:55:12.315908Z",
     "shell.execute_reply": "2022-06-13T06:55:12.315349Z"
    }
   },
   "outputs": [
    {
     "data": {
      "text/plain": [
       "'a*sin(omega) + Abs(f(t))/sqrt(b)'"
      ]
     },
     "execution_count": 22,
     "metadata": {},
     "output_type": "execute_result"
    }
   ],
   "source": [
    "repr(expr3)"
   ]
  },
  {
   "cell_type": "code",
   "execution_count": 23,
   "id": "35aafda4",
   "metadata": {
    "execution": {
     "iopub.execute_input": "2022-06-13T06:55:12.318690Z",
     "iopub.status.busy": "2022-06-13T06:55:12.318374Z",
     "iopub.status.idle": "2022-06-13T06:55:12.323200Z",
     "shell.execute_reply": "2022-06-13T06:55:12.322683Z"
    }
   },
   "outputs": [
    {
     "name": "stdout",
     "output_type": "stream",
     "text": [
      "a*sin(omega) + Abs(f(t))/sqrt(b)\n"
     ]
    }
   ],
   "source": [
    "print(expr3)"
   ]
  },
  {
   "cell_type": "code",
   "execution_count": 24,
   "id": "91982c00",
   "metadata": {
    "execution": {
     "iopub.execute_input": "2022-06-13T06:55:12.325471Z",
     "iopub.status.busy": "2022-06-13T06:55:12.325161Z",
     "iopub.status.idle": "2022-06-13T06:55:12.328975Z",
     "shell.execute_reply": "2022-06-13T06:55:12.328525Z"
    }
   },
   "outputs": [
    {
     "name": "stdout",
     "output_type": "stream",
     "text": [
      "           │f(t)│\n",
      "a⋅sin(ω) + ──────\n",
      "             √b  \n"
     ]
    }
   ],
   "source": [
    "sm.pprint(expr3)"
   ]
  },
  {
   "cell_type": "code",
   "execution_count": 25,
   "id": "16b7003a",
   "metadata": {
    "execution": {
     "iopub.execute_input": "2022-06-13T06:55:12.331312Z",
     "iopub.status.busy": "2022-06-13T06:55:12.330814Z",
     "iopub.status.idle": "2022-06-13T06:55:12.336694Z",
     "shell.execute_reply": "2022-06-13T06:55:12.336177Z"
    }
   },
   "outputs": [
    {
     "data": {
      "text/plain": [
       "'a \\\\sin{\\\\left(\\\\omega \\\\right)} + \\\\frac{\\\\left|{f{\\\\left(t \\\\right)}}\\\\right|}{\\\\sqrt{b}}'"
      ]
     },
     "execution_count": 25,
     "metadata": {},
     "output_type": "execute_result"
    }
   ],
   "source": [
    "sm.latex(expr3)"
   ]
  },
  {
   "cell_type": "code",
   "execution_count": 26,
   "id": "7762d396",
   "metadata": {
    "execution": {
     "iopub.execute_input": "2022-06-13T06:55:12.339366Z",
     "iopub.status.busy": "2022-06-13T06:55:12.338951Z",
     "iopub.status.idle": "2022-06-13T06:55:12.344260Z",
     "shell.execute_reply": "2022-06-13T06:55:12.343700Z"
    }
   },
   "outputs": [
    {
     "name": "stdout",
     "output_type": "stream",
     "text": [
      "a \\sin{\\left(\\omega \\right)} + \\frac{\\left|{f{\\left(t \\right)}}\\right|}{\\sqrt{b}}\n"
     ]
    }
   ],
   "source": [
    "print(sm.latex(expr3))"
   ]
  },
  {
   "cell_type": "code",
   "execution_count": 27,
   "id": "09bc90ce",
   "metadata": {
    "execution": {
     "iopub.execute_input": "2022-06-13T06:55:12.346929Z",
     "iopub.status.busy": "2022-06-13T06:55:12.346515Z",
     "iopub.status.idle": "2022-06-13T06:55:12.353065Z",
     "shell.execute_reply": "2022-06-13T06:55:12.352558Z"
    }
   },
   "outputs": [
    {
     "data": {
      "text/latex": [
       "$\\displaystyle \\frac{d}{d t} f{\\left(t \\right)}$"
      ],
      "text/plain": [
       "d       \n",
       "──(f(t))\n",
       "dt      "
      ]
     },
     "execution_count": 27,
     "metadata": {},
     "output_type": "execute_result"
    }
   ],
   "source": [
    "sm.diff(f(t), t)"
   ]
  },
  {
   "cell_type": "code",
   "execution_count": 28,
   "id": "e8247901",
   "metadata": {
    "execution": {
     "iopub.execute_input": "2022-06-13T06:55:12.356391Z",
     "iopub.status.busy": "2022-06-13T06:55:12.355308Z",
     "iopub.status.idle": "2022-06-13T06:55:12.361837Z",
     "shell.execute_reply": "2022-06-13T06:55:12.361329Z"
    }
   },
   "outputs": [
    {
     "data": {
      "text/latex": [
       "$\\displaystyle \\frac{d}{d t} f{\\left(t \\right)}$"
      ],
      "text/plain": [
       "d       \n",
       "──(f(t))\n",
       "dt      "
      ]
     },
     "execution_count": 28,
     "metadata": {},
     "output_type": "execute_result"
    }
   ],
   "source": [
    "f(t).diff(t)"
   ]
  },
  {
   "cell_type": "code",
   "execution_count": 29,
   "id": "189c4872",
   "metadata": {
    "execution": {
     "iopub.execute_input": "2022-06-13T06:55:12.364449Z",
     "iopub.status.busy": "2022-06-13T06:55:12.364013Z",
     "iopub.status.idle": "2022-06-13T06:55:12.370541Z",
     "shell.execute_reply": "2022-06-13T06:55:12.370022Z"
    }
   },
   "outputs": [
    {
     "data": {
      "text/latex": [
       "$\\displaystyle a \\sin{\\left(\\omega \\right)} + \\frac{\\left|{f{\\left(t \\right)}}\\right|}{\\sqrt{b}}$"
      ],
      "text/plain": [
       "           │f(t)│\n",
       "a⋅sin(ω) + ──────\n",
       "             √b  "
      ]
     },
     "execution_count": 29,
     "metadata": {},
     "output_type": "execute_result"
    }
   ],
   "source": [
    "expr3"
   ]
  },
  {
   "cell_type": "code",
   "execution_count": 30,
   "id": "8a425627",
   "metadata": {
    "execution": {
     "iopub.execute_input": "2022-06-13T06:55:12.373140Z",
     "iopub.status.busy": "2022-06-13T06:55:12.372656Z",
     "iopub.status.idle": "2022-06-13T06:55:12.383661Z",
     "shell.execute_reply": "2022-06-13T06:55:12.383102Z"
    }
   },
   "outputs": [
    {
     "data": {
      "text/latex": [
       "$\\displaystyle - \\frac{\\left|{f{\\left(t \\right)}}\\right|}{2 b^{\\frac{3}{2}}}$"
      ],
      "text/plain": [
       "-│f(t)│ \n",
       "────────\n",
       "    3/2 \n",
       " 2⋅b    "
      ]
     },
     "execution_count": 30,
     "metadata": {},
     "output_type": "execute_result"
    }
   ],
   "source": [
    "expr3.diff(b)"
   ]
  },
  {
   "cell_type": "code",
   "execution_count": 31,
   "id": "7a2283d1",
   "metadata": {
    "execution": {
     "iopub.execute_input": "2022-06-13T06:55:12.386393Z",
     "iopub.status.busy": "2022-06-13T06:55:12.385976Z",
     "iopub.status.idle": "2022-06-13T06:55:12.407815Z",
     "shell.execute_reply": "2022-06-13T06:55:12.407291Z"
    }
   },
   "outputs": [
    {
     "data": {
      "text/latex": [
       "$\\displaystyle - \\frac{\\left(\\operatorname{re}{\\left(f{\\left(t \\right)}\\right)} \\frac{d}{d t} \\operatorname{re}{\\left(f{\\left(t \\right)}\\right)} + \\operatorname{im}{\\left(f{\\left(t \\right)}\\right)} \\frac{d}{d t} \\operatorname{im}{\\left(f{\\left(t \\right)}\\right)}\\right) \\operatorname{sign}{\\left(f{\\left(t \\right)} \\right)}}{2 b^{\\frac{3}{2}} f{\\left(t \\right)}}$"
      ],
      "text/plain": [
       " ⎛         d                       d           ⎞            \n",
       "-⎜re(f(t))⋅──(re(f(t))) + im(f(t))⋅──(im(f(t)))⎟⋅sign(f(t)) \n",
       " ⎝         dt                      dt          ⎠            \n",
       "────────────────────────────────────────────────────────────\n",
       "                           3/2                              \n",
       "                        2⋅b   ⋅f(t)                         "
      ]
     },
     "execution_count": 31,
     "metadata": {},
     "output_type": "execute_result"
    }
   ],
   "source": [
    "expr3.diff(b, t)"
   ]
  },
  {
   "cell_type": "code",
   "execution_count": 32,
   "id": "5fcec0a9",
   "metadata": {
    "execution": {
     "iopub.execute_input": "2022-06-13T06:55:12.410647Z",
     "iopub.status.busy": "2022-06-13T06:55:12.410225Z",
     "iopub.status.idle": "2022-06-13T06:55:12.429399Z",
     "shell.execute_reply": "2022-06-13T06:55:12.428823Z"
    }
   },
   "outputs": [
    {
     "data": {
      "text/latex": [
       "$\\displaystyle \\frac{\\left(\\operatorname{re}{\\left(h{\\left(t \\right)}\\right)} \\frac{d}{d t} \\operatorname{re}{\\left(h{\\left(t \\right)}\\right)} + \\operatorname{im}{\\left(h{\\left(t \\right)}\\right)} \\frac{d}{d t} \\operatorname{im}{\\left(h{\\left(t \\right)}\\right)}\\right) \\operatorname{sign}{\\left(h{\\left(t \\right)} \\right)}}{h{\\left(t \\right)}}$"
      ],
      "text/plain": [
       "⎛         d                       d           ⎞           \n",
       "⎜re(h(t))⋅──(re(h(t))) + im(h(t))⋅──(im(h(t)))⎟⋅sign(h(t))\n",
       "⎝         dt                      dt          ⎠           \n",
       "──────────────────────────────────────────────────────────\n",
       "                           h(t)                           "
      ]
     },
     "execution_count": 32,
     "metadata": {},
     "output_type": "execute_result"
    }
   ],
   "source": [
    "h = sm.Function('h')\n",
    "sm.Abs(h(t)).diff(t)"
   ]
  },
  {
   "cell_type": "code",
   "execution_count": 33,
   "id": "7e1c890d",
   "metadata": {
    "execution": {
     "iopub.execute_input": "2022-06-13T06:55:12.431853Z",
     "iopub.status.busy": "2022-06-13T06:55:12.431562Z",
     "iopub.status.idle": "2022-06-13T06:55:12.440376Z",
     "shell.execute_reply": "2022-06-13T06:55:12.439844Z"
    }
   },
   "outputs": [
    {
     "data": {
      "text/latex": [
       "$\\displaystyle \\operatorname{sign}{\\left(h{\\left(t \\right)} \\right)} \\frac{d}{d t} h{\\left(t \\right)}$"
      ],
      "text/plain": [
       "           d       \n",
       "sign(h(t))⋅──(h(t))\n",
       "           dt      "
      ]
     },
     "execution_count": 33,
     "metadata": {},
     "output_type": "execute_result"
    }
   ],
   "source": [
    "h = sm.Function('h', real=True)\n",
    "sm.Abs(h(t)).diff(t)"
   ]
  },
  {
   "cell_type": "code",
   "execution_count": 34,
   "id": "507173ed",
   "metadata": {
    "execution": {
     "iopub.execute_input": "2022-06-13T06:55:12.442754Z",
     "iopub.status.busy": "2022-06-13T06:55:12.442465Z",
     "iopub.status.idle": "2022-06-13T06:55:12.449873Z",
     "shell.execute_reply": "2022-06-13T06:55:12.449357Z"
    }
   },
   "outputs": [
    {
     "data": {
      "text/latex": [
       "$\\displaystyle \\frac{d}{d t} h{\\left(t \\right)}$"
      ],
      "text/plain": [
       "d       \n",
       "──(h(t))\n",
       "dt      "
      ]
     },
     "execution_count": 34,
     "metadata": {},
     "output_type": "execute_result"
    }
   ],
   "source": [
    "h = sm.Function('h', real=True, positive=True)\n",
    "sm.Abs(h(t)).diff(t)"
   ]
  },
  {
   "cell_type": "code",
   "execution_count": 35,
   "id": "258f2bb1",
   "metadata": {
    "execution": {
     "iopub.execute_input": "2022-06-13T06:55:12.452077Z",
     "iopub.status.busy": "2022-06-13T06:55:12.451765Z",
     "iopub.status.idle": "2022-06-13T06:55:12.458694Z",
     "shell.execute_reply": "2022-06-13T06:55:12.458169Z"
    }
   },
   "outputs": [
    {
     "data": {
      "text/latex": [
       "$\\displaystyle t \\sin{\\left(\\omega f{\\left(t \\right)} \\right)} + \\frac{f{\\left(t \\right)}}{\\sqrt{t}}$"
      ],
      "text/plain": [
       "                f(t)\n",
       "t⋅sin(ω⋅f(t)) + ────\n",
       "                 √t "
      ]
     },
     "execution_count": 35,
     "metadata": {},
     "output_type": "execute_result"
    }
   ],
   "source": [
    "expr5"
   ]
  },
  {
   "cell_type": "code",
   "execution_count": 36,
   "id": "25a6e7d6",
   "metadata": {
    "execution": {
     "iopub.execute_input": "2022-06-13T06:55:12.460859Z",
     "iopub.status.busy": "2022-06-13T06:55:12.460676Z",
     "iopub.status.idle": "2022-06-13T06:55:12.477982Z",
     "shell.execute_reply": "2022-06-13T06:55:12.477434Z"
    }
   },
   "outputs": [
    {
     "data": {
      "text/latex": [
       "$\\displaystyle \\omega t \\cos{\\left(\\omega f{\\left(t \\right)} \\right)} \\frac{d}{d t} f{\\left(t \\right)} + \\sin{\\left(\\omega f{\\left(t \\right)} \\right)} + \\frac{\\frac{d}{d t} f{\\left(t \\right)}}{\\sqrt{t}} - \\frac{f{\\left(t \\right)}}{2 t^{\\frac{3}{2}}}$"
      ],
      "text/plain": [
       "                                         d                \n",
       "                                         ──(f(t))         \n",
       "                d                        dt          f(t) \n",
       "ω⋅t⋅cos(ω⋅f(t))⋅──(f(t)) + sin(ω⋅f(t)) + ──────── - ──────\n",
       "                dt                          √t         3/2\n",
       "                                                    2⋅t   "
      ]
     },
     "execution_count": 36,
     "metadata": {},
     "output_type": "execute_result"
    }
   ],
   "source": [
    "expr5.diff(t)"
   ]
  },
  {
   "cell_type": "code",
   "execution_count": 37,
   "id": "a9260d78",
   "metadata": {
    "execution": {
     "iopub.execute_input": "2022-06-13T06:55:12.480515Z",
     "iopub.status.busy": "2022-06-13T06:55:12.480031Z",
     "iopub.status.idle": "2022-06-13T06:55:12.484197Z",
     "shell.execute_reply": "2022-06-13T06:55:12.483651Z"
    }
   },
   "outputs": [],
   "source": [
    "repl = {omega: sm.pi/4, a: 2, f(t): -12, b: 25}"
   ]
  },
  {
   "cell_type": "code",
   "execution_count": 38,
   "id": "2aaf8887",
   "metadata": {
    "execution": {
     "iopub.execute_input": "2022-06-13T06:55:12.486552Z",
     "iopub.status.busy": "2022-06-13T06:55:12.486081Z",
     "iopub.status.idle": "2022-06-13T06:55:12.495848Z",
     "shell.execute_reply": "2022-06-13T06:55:12.495333Z"
    }
   },
   "outputs": [
    {
     "data": {
      "text/latex": [
       "$\\displaystyle \\sqrt{2} + \\frac{12}{5}$"
      ],
      "text/plain": [
       "√2 + 12/5"
      ]
     },
     "execution_count": 38,
     "metadata": {},
     "output_type": "execute_result"
    }
   ],
   "source": [
    "expr3.xreplace(repl)"
   ]
  },
  {
   "cell_type": "code",
   "execution_count": 39,
   "id": "42865477",
   "metadata": {
    "execution": {
     "iopub.execute_input": "2022-06-13T06:55:12.498423Z",
     "iopub.status.busy": "2022-06-13T06:55:12.498084Z",
     "iopub.status.idle": "2022-06-13T06:55:12.504810Z",
     "shell.execute_reply": "2022-06-13T06:55:12.504303Z"
    }
   },
   "outputs": [
    {
     "data": {
      "text/latex": [
       "$\\displaystyle 3.81421356237309504880168872421$"
      ],
      "text/plain": [
       "3.814213562373095048801688724210"
      ]
     },
     "execution_count": 39,
     "metadata": {},
     "output_type": "execute_result"
    }
   ],
   "source": [
    "expr3.evalf(n=31, subs=repl)"
   ]
  },
  {
   "cell_type": "code",
   "execution_count": 40,
   "id": "c3d652fd",
   "metadata": {
    "execution": {
     "iopub.execute_input": "2022-06-13T06:55:12.507442Z",
     "iopub.status.busy": "2022-06-13T06:55:12.507011Z",
     "iopub.status.idle": "2022-06-13T06:55:12.513233Z",
     "shell.execute_reply": "2022-06-13T06:55:12.512722Z"
    }
   },
   "outputs": [
    {
     "data": {
      "text/plain": [
       "sympy.core.numbers.Float"
      ]
     },
     "execution_count": 40,
     "metadata": {},
     "output_type": "execute_result"
    }
   ],
   "source": [
    "type(expr3.evalf(n=31, subs=repl))"
   ]
  },
  {
   "cell_type": "code",
   "execution_count": 41,
   "id": "3e5482cd",
   "metadata": {
    "execution": {
     "iopub.execute_input": "2022-06-13T06:55:12.515994Z",
     "iopub.status.busy": "2022-06-13T06:55:12.515588Z",
     "iopub.status.idle": "2022-06-13T06:55:12.522291Z",
     "shell.execute_reply": "2022-06-13T06:55:12.521778Z"
    }
   },
   "outputs": [
    {
     "data": {
      "text/latex": [
       "$\\displaystyle 3.81421356237309504880168872420969807856967187537694807317667973799073247846210703885038753432764157273501384623091229702492483605585073721264412149709993583141322266592750559275579995050115278206057147010955997160597027453459686201472851741864088919860955232923048430871432145083976260362799525140799$"
      ],
      "text/plain": [
       "3.8142135623730950488016887242096980785696718753769480731766797379907324784621\n",
       "070388503875343276415727350138462309122970249248360558507372126441214970999358\n",
       "314132226659275055927557999505011527820605714701095599716059702745345968620147\n",
       "2851741864088919860955232923048430871432145083976260362799525140799"
      ]
     },
     "execution_count": 41,
     "metadata": {},
     "output_type": "execute_result"
    }
   ],
   "source": [
    "expr3.evalf(n=300, subs=repl)"
   ]
  },
  {
   "cell_type": "code",
   "execution_count": 42,
   "id": "0fbd9eb9",
   "metadata": {
    "execution": {
     "iopub.execute_input": "2022-06-13T06:55:12.525076Z",
     "iopub.status.busy": "2022-06-13T06:55:12.524672Z",
     "iopub.status.idle": "2022-06-13T06:55:12.531253Z",
     "shell.execute_reply": "2022-06-13T06:55:12.530748Z"
    }
   },
   "outputs": [
    {
     "data": {
      "text/latex": [
       "$\\displaystyle 3.81421356237309$"
      ],
      "text/plain": [
       "3.814213562373095"
      ]
     },
     "execution_count": 42,
     "metadata": {},
     "output_type": "execute_result"
    }
   ],
   "source": [
    "float(expr3.evalf(n=300, subs=repl))"
   ]
  },
  {
   "cell_type": "code",
   "execution_count": 43,
   "id": "9140dffe",
   "metadata": {
    "execution": {
     "iopub.execute_input": "2022-06-13T06:55:12.533930Z",
     "iopub.status.busy": "2022-06-13T06:55:12.533528Z",
     "iopub.status.idle": "2022-06-13T06:55:12.539958Z",
     "shell.execute_reply": "2022-06-13T06:55:12.539460Z"
    }
   },
   "outputs": [
    {
     "data": {
      "text/plain": [
       "float"
      ]
     },
     "execution_count": 43,
     "metadata": {},
     "output_type": "execute_result"
    }
   ],
   "source": [
    "type(float(expr3.evalf(n=300, subs=repl)))"
   ]
  },
  {
   "cell_type": "code",
   "execution_count": 44,
   "id": "cb97082d",
   "metadata": {
    "execution": {
     "iopub.execute_input": "2022-06-13T06:55:12.542889Z",
     "iopub.status.busy": "2022-06-13T06:55:12.542328Z",
     "iopub.status.idle": "2022-06-13T06:55:12.664713Z",
     "shell.execute_reply": "2022-06-13T06:55:12.664114Z"
    }
   },
   "outputs": [],
   "source": [
    "eval_expr3 = sm.lambdify((omega, a, f(t), b), expr3)"
   ]
  },
  {
   "cell_type": "code",
   "execution_count": 45,
   "id": "69e948a9",
   "metadata": {
    "execution": {
     "iopub.execute_input": "2022-06-13T06:55:12.667608Z",
     "iopub.status.busy": "2022-06-13T06:55:12.667039Z",
     "iopub.status.idle": "2022-06-13T06:55:12.672439Z",
     "shell.execute_reply": "2022-06-13T06:55:12.671879Z"
    }
   },
   "outputs": [
    {
     "name": "stdout",
     "output_type": "stream",
     "text": [
      "Help on function _lambdifygenerated:\n",
      "\n",
      "_lambdifygenerated(omega, a, _Dummy_23, b)\n",
      "    Created with lambdify. Signature:\n",
      "    \n",
      "    func(omega, a, f, b)\n",
      "    \n",
      "    Expression:\n",
      "    \n",
      "    a*sin(omega) + Abs(f(t))/sqrt(b)\n",
      "    \n",
      "    Source code:\n",
      "    \n",
      "    def _lambdifygenerated(omega, a, _Dummy_23, b):\n",
      "        return a*sin(omega) + abs(_Dummy_23)/sqrt(b)\n",
      "    \n",
      "    \n",
      "    Imported modules:\n",
      "\n"
     ]
    }
   ],
   "source": [
    "help(eval_expr3)"
   ]
  },
  {
   "cell_type": "code",
   "execution_count": 46,
   "id": "7a07a468",
   "metadata": {
    "execution": {
     "iopub.execute_input": "2022-06-13T06:55:12.674895Z",
     "iopub.status.busy": "2022-06-13T06:55:12.674443Z",
     "iopub.status.idle": "2022-06-13T06:55:12.679704Z",
     "shell.execute_reply": "2022-06-13T06:55:12.679151Z"
    }
   },
   "outputs": [
    {
     "data": {
      "text/latex": [
       "$\\displaystyle 3.81365036221073$"
      ],
      "text/plain": [
       "3.8136503622107316"
      ]
     },
     "execution_count": 46,
     "metadata": {},
     "output_type": "execute_result"
    }
   ],
   "source": [
    "eval_expr3(3.14/4, 2, -12, 25)"
   ]
  },
  {
   "cell_type": "code",
   "execution_count": 47,
   "id": "054ca4da",
   "metadata": {
    "execution": {
     "iopub.execute_input": "2022-06-13T06:55:12.681922Z",
     "iopub.status.busy": "2022-06-13T06:55:12.681620Z",
     "iopub.status.idle": "2022-06-13T06:55:12.685586Z",
     "shell.execute_reply": "2022-06-13T06:55:12.685020Z"
    }
   },
   "outputs": [
    {
     "data": {
      "text/plain": [
       "numpy.float64"
      ]
     },
     "execution_count": 47,
     "metadata": {},
     "output_type": "execute_result"
    }
   ],
   "source": [
    "type(eval_expr3(3.14/4, 2, -12, 25))"
   ]
  },
  {
   "cell_type": "code",
   "execution_count": 48,
   "id": "e63cb8a3",
   "metadata": {
    "execution": {
     "iopub.execute_input": "2022-06-13T06:55:12.688313Z",
     "iopub.status.busy": "2022-06-13T06:55:12.687908Z",
     "iopub.status.idle": "2022-06-13T06:55:12.693928Z",
     "shell.execute_reply": "2022-06-13T06:55:12.693383Z"
    }
   },
   "outputs": [
    {
     "data": {
      "text/latex": [
       "$\\displaystyle \\left[\\begin{matrix}a & 2 a\\\\\\frac{b}{\\omega} & f{\\left(t \\right)}\\end{matrix}\\right]$"
      ],
      "text/plain": [
       "⎡a  2⋅a ⎤\n",
       "⎢       ⎥\n",
       "⎢b      ⎥\n",
       "⎢─  f(t)⎥\n",
       "⎣ω      ⎦"
      ]
     },
     "execution_count": 48,
     "metadata": {},
     "output_type": "execute_result"
    }
   ],
   "source": [
    "mat1 = sm.Matrix([[a, 2*a], [b/omega, f(t)]])\n",
    "mat1"
   ]
  },
  {
   "cell_type": "code",
   "execution_count": 49,
   "id": "4e4ac402",
   "metadata": {
    "execution": {
     "iopub.execute_input": "2022-06-13T06:55:12.696593Z",
     "iopub.status.busy": "2022-06-13T06:55:12.696284Z",
     "iopub.status.idle": "2022-06-13T06:55:12.701054Z",
     "shell.execute_reply": "2022-06-13T06:55:12.700488Z"
    }
   },
   "outputs": [
    {
     "data": {
      "text/latex": [
       "$\\displaystyle \\left[\\begin{matrix}1 & 2\\\\3 & 4\\end{matrix}\\right]$"
      ],
      "text/plain": [
       "⎡1  2⎤\n",
       "⎢    ⎥\n",
       "⎣3  4⎦"
      ]
     },
     "execution_count": 49,
     "metadata": {},
     "output_type": "execute_result"
    }
   ],
   "source": [
    "mat2 = sm.Matrix([[1, 2], [3, 4]])\n",
    "mat2"
   ]
  },
  {
   "cell_type": "code",
   "execution_count": 50,
   "id": "ebf97013",
   "metadata": {
    "execution": {
     "iopub.execute_input": "2022-06-13T06:55:12.703591Z",
     "iopub.status.busy": "2022-06-13T06:55:12.703284Z",
     "iopub.status.idle": "2022-06-13T06:55:12.707155Z",
     "shell.execute_reply": "2022-06-13T06:55:12.706600Z"
    }
   },
   "outputs": [
    {
     "data": {
      "text/latex": [
       "$\\displaystyle \\left( 2, \\  2\\right)$"
      ],
      "text/plain": [
       "(2, 2)"
      ]
     },
     "execution_count": 50,
     "metadata": {},
     "output_type": "execute_result"
    }
   ],
   "source": [
    "mat1.shape"
   ]
  },
  {
   "cell_type": "code",
   "execution_count": 51,
   "id": "b1fd63a2",
   "metadata": {
    "execution": {
     "iopub.execute_input": "2022-06-13T06:55:12.709771Z",
     "iopub.status.busy": "2022-06-13T06:55:12.709454Z",
     "iopub.status.idle": "2022-06-13T06:55:12.713633Z",
     "shell.execute_reply": "2022-06-13T06:55:12.713077Z"
    }
   },
   "outputs": [
    {
     "data": {
      "text/latex": [
       "$\\displaystyle 2 a$"
      ],
      "text/plain": [
       "2⋅a"
      ]
     },
     "execution_count": 51,
     "metadata": {},
     "output_type": "execute_result"
    }
   ],
   "source": [
    "mat1[0, 1]"
   ]
  },
  {
   "cell_type": "code",
   "execution_count": 52,
   "id": "337aa2da",
   "metadata": {
    "execution": {
     "iopub.execute_input": "2022-06-13T06:55:12.716572Z",
     "iopub.status.busy": "2022-06-13T06:55:12.716266Z",
     "iopub.status.idle": "2022-06-13T06:55:12.720873Z",
     "shell.execute_reply": "2022-06-13T06:55:12.720302Z"
    }
   },
   "outputs": [
    {
     "data": {
      "text/latex": [
       "$\\displaystyle \\left[\\begin{matrix}a & 2 a\\end{matrix}\\right]$"
      ],
      "text/plain": [
       "[a  2⋅a]"
      ]
     },
     "execution_count": 52,
     "metadata": {},
     "output_type": "execute_result"
    }
   ],
   "source": [
    "mat1[0, 0:2]"
   ]
  },
  {
   "cell_type": "code",
   "execution_count": 53,
   "id": "8e2d037e",
   "metadata": {
    "execution": {
     "iopub.execute_input": "2022-06-13T06:55:12.723418Z",
     "iopub.status.busy": "2022-06-13T06:55:12.723112Z",
     "iopub.status.idle": "2022-06-13T06:55:12.727869Z",
     "shell.execute_reply": "2022-06-13T06:55:12.727336Z"
    }
   },
   "outputs": [
    {
     "data": {
      "text/latex": [
       "$\\displaystyle \\left[\\begin{matrix}2 a\\\\f{\\left(t \\right)}\\end{matrix}\\right]$"
      ],
      "text/plain": [
       "⎡2⋅a ⎤\n",
       "⎢    ⎥\n",
       "⎣f(t)⎦"
      ]
     },
     "execution_count": 53,
     "metadata": {},
     "output_type": "execute_result"
    }
   ],
   "source": [
    "mat1[0:2, 1]"
   ]
  },
  {
   "cell_type": "code",
   "execution_count": 54,
   "id": "b337569b",
   "metadata": {
    "execution": {
     "iopub.execute_input": "2022-06-13T06:55:12.730462Z",
     "iopub.status.busy": "2022-06-13T06:55:12.730157Z",
     "iopub.status.idle": "2022-06-13T06:55:12.737051Z",
     "shell.execute_reply": "2022-06-13T06:55:12.736499Z"
    }
   },
   "outputs": [
    {
     "data": {
      "text/latex": [
       "$\\displaystyle \\left[\\begin{matrix}a + 1 & 2 a + 2\\\\\\frac{b}{\\omega} + 3 & f{\\left(t \\right)} + 4\\end{matrix}\\right]$"
      ],
      "text/plain": [
       "⎡a + 1  2⋅a + 2 ⎤\n",
       "⎢               ⎥\n",
       "⎢b              ⎥\n",
       "⎢─ + 3  f(t) + 4⎥\n",
       "⎣ω              ⎦"
      ]
     },
     "execution_count": 54,
     "metadata": {},
     "output_type": "execute_result"
    }
   ],
   "source": [
    "mat1 + mat2"
   ]
  },
  {
   "cell_type": "code",
   "execution_count": 55,
   "id": "2faeddb2",
   "metadata": {
    "execution": {
     "iopub.execute_input": "2022-06-13T06:55:12.739803Z",
     "iopub.status.busy": "2022-06-13T06:55:12.739351Z",
     "iopub.status.idle": "2022-06-13T06:55:12.749940Z",
     "shell.execute_reply": "2022-06-13T06:55:12.749364Z"
    }
   },
   "outputs": [
    {
     "data": {
      "text/latex": [
       "$\\displaystyle \\left[\\begin{matrix}7 a & 10 a\\\\\\frac{b}{\\omega} + 3 f{\\left(t \\right)} & \\frac{2 b}{\\omega} + 4 f{\\left(t \\right)}\\end{matrix}\\right]$"
      ],
      "text/plain": [
       "⎡   7⋅a          10⋅a    ⎤\n",
       "⎢                        ⎥\n",
       "⎢b           2⋅b         ⎥\n",
       "⎢─ + 3⋅f(t)  ─── + 4⋅f(t)⎥\n",
       "⎣ω            ω          ⎦"
      ]
     },
     "execution_count": 55,
     "metadata": {},
     "output_type": "execute_result"
    }
   ],
   "source": [
    "mat1*mat2"
   ]
  },
  {
   "cell_type": "code",
   "execution_count": 56,
   "id": "90c772ed",
   "metadata": {
    "execution": {
     "iopub.execute_input": "2022-06-13T06:55:12.752296Z",
     "iopub.status.busy": "2022-06-13T06:55:12.751968Z",
     "iopub.status.idle": "2022-06-13T06:55:12.758784Z",
     "shell.execute_reply": "2022-06-13T06:55:12.758225Z"
    }
   },
   "outputs": [
    {
     "data": {
      "text/latex": [
       "$\\displaystyle \\left[\\begin{matrix}7 a & 10 a\\\\\\frac{b}{\\omega} + 3 f{\\left(t \\right)} & \\frac{2 b}{\\omega} + 4 f{\\left(t \\right)}\\end{matrix}\\right]$"
      ],
      "text/plain": [
       "⎡   7⋅a          10⋅a    ⎤\n",
       "⎢                        ⎥\n",
       "⎢b           2⋅b         ⎥\n",
       "⎢─ + 3⋅f(t)  ─── + 4⋅f(t)⎥\n",
       "⎣ω            ω          ⎦"
      ]
     },
     "execution_count": 56,
     "metadata": {},
     "output_type": "execute_result"
    }
   ],
   "source": [
    "mat1@mat2"
   ]
  },
  {
   "cell_type": "code",
   "execution_count": 57,
   "id": "ed3a5c2d",
   "metadata": {
    "execution": {
     "iopub.execute_input": "2022-06-13T06:55:12.761416Z",
     "iopub.status.busy": "2022-06-13T06:55:12.761106Z",
     "iopub.status.idle": "2022-06-13T06:55:12.767944Z",
     "shell.execute_reply": "2022-06-13T06:55:12.767212Z"
    }
   },
   "outputs": [
    {
     "data": {
      "text/latex": [
       "$\\displaystyle \\left[\\begin{matrix}a & 4 a\\\\\\frac{3 b}{\\omega} & 4 f{\\left(t \\right)}\\end{matrix}\\right]$"
      ],
      "text/plain": [
       "⎡ a    4⋅a  ⎤\n",
       "⎢           ⎥\n",
       "⎢3⋅b        ⎥\n",
       "⎢───  4⋅f(t)⎥\n",
       "⎣ ω         ⎦"
      ]
     },
     "execution_count": 57,
     "metadata": {},
     "output_type": "execute_result"
    }
   ],
   "source": [
    "sm.hadamard_product(mat1, mat2)"
   ]
  },
  {
   "cell_type": "code",
   "execution_count": 58,
   "id": "7d98bc26",
   "metadata": {
    "execution": {
     "iopub.execute_input": "2022-06-13T06:55:12.770628Z",
     "iopub.status.busy": "2022-06-13T06:55:12.770318Z",
     "iopub.status.idle": "2022-06-13T06:55:12.781815Z",
     "shell.execute_reply": "2022-06-13T06:55:12.781280Z"
    }
   },
   "outputs": [
    {
     "data": {
      "text/latex": [
       "$\\displaystyle \\left[\\begin{matrix}a + \\frac{b}{\\omega^{2}}\\\\a \\omega + f{\\left(t \\right)}\\\\a \\sin{\\left(\\omega \\right)} + \\frac{\\left|{f{\\left(t \\right)}}\\right|}{\\sqrt{b}}\\\\5 \\sin{\\left(12 \\right)} + 105.986768359379\\\\t \\sin{\\left(\\omega f{\\left(t \\right)} \\right)} + \\frac{f{\\left(t \\right)}}{\\sqrt{t}}\\end{matrix}\\right]$"
      ],
      "text/plain": [
       "⎡               b            ⎤\n",
       "⎢           a + ──           ⎥\n",
       "⎢                2           ⎥\n",
       "⎢               ω            ⎥\n",
       "⎢                            ⎥\n",
       "⎢         a⋅ω + f(t)         ⎥\n",
       "⎢                            ⎥\n",
       "⎢                │f(t)│      ⎥\n",
       "⎢     a⋅sin(ω) + ──────      ⎥\n",
       "⎢                  √b        ⎥\n",
       "⎢                            ⎥\n",
       "⎢5⋅sin(12) + 105.986768359379⎥\n",
       "⎢                            ⎥\n",
       "⎢                    f(t)    ⎥\n",
       "⎢    t⋅sin(ω⋅f(t)) + ────    ⎥\n",
       "⎣                     √t     ⎦"
      ]
     },
     "execution_count": 58,
     "metadata": {},
     "output_type": "execute_result"
    }
   ],
   "source": [
    "mat3 = sm.Matrix([expr1, expr2, expr3, expr4, expr5])\n",
    "mat3"
   ]
  },
  {
   "cell_type": "code",
   "execution_count": 59,
   "id": "c7b1030e",
   "metadata": {
    "execution": {
     "iopub.execute_input": "2022-06-13T06:55:12.784434Z",
     "iopub.status.busy": "2022-06-13T06:55:12.784130Z",
     "iopub.status.idle": "2022-06-13T06:55:12.798377Z",
     "shell.execute_reply": "2022-06-13T06:55:12.797836Z"
    }
   },
   "outputs": [
    {
     "data": {
      "text/latex": [
       "$\\displaystyle \\left[\\begin{matrix}1\\\\\\omega\\\\\\sin{\\left(\\omega \\right)}\\\\0\\\\0\\end{matrix}\\right]$"
      ],
      "text/plain": [
       "⎡  1   ⎤\n",
       "⎢      ⎥\n",
       "⎢  ω   ⎥\n",
       "⎢      ⎥\n",
       "⎢sin(ω)⎥\n",
       "⎢      ⎥\n",
       "⎢  0   ⎥\n",
       "⎢      ⎥\n",
       "⎣  0   ⎦"
      ]
     },
     "execution_count": 59,
     "metadata": {},
     "output_type": "execute_result"
    }
   ],
   "source": [
    "mat3.diff(a)"
   ]
  },
  {
   "cell_type": "code",
   "execution_count": 60,
   "id": "6349f45a",
   "metadata": {
    "execution": {
     "iopub.execute_input": "2022-06-13T06:55:12.800962Z",
     "iopub.status.busy": "2022-06-13T06:55:12.800656Z",
     "iopub.status.idle": "2022-06-13T06:55:12.817590Z",
     "shell.execute_reply": "2022-06-13T06:55:12.816909Z"
    }
   },
   "outputs": [
    {
     "data": {
      "text/latex": [
       "$\\displaystyle \\left[\\begin{matrix}0\\\\\\frac{d}{d t} f{\\left(t \\right)}\\\\\\frac{\\left(\\operatorname{re}{\\left(f{\\left(t \\right)}\\right)} \\frac{d}{d t} \\operatorname{re}{\\left(f{\\left(t \\right)}\\right)} + \\operatorname{im}{\\left(f{\\left(t \\right)}\\right)} \\frac{d}{d t} \\operatorname{im}{\\left(f{\\left(t \\right)}\\right)}\\right) \\operatorname{sign}{\\left(f{\\left(t \\right)} \\right)}}{\\sqrt{b} f{\\left(t \\right)}}\\\\0\\\\\\omega t \\cos{\\left(\\omega f{\\left(t \\right)} \\right)} \\frac{d}{d t} f{\\left(t \\right)} + \\sin{\\left(\\omega f{\\left(t \\right)} \\right)} + \\frac{\\frac{d}{d t} f{\\left(t \\right)}}{\\sqrt{t}} - \\frac{f{\\left(t \\right)}}{2 t^{\\frac{3}{2}}}\\end{matrix}\\right]$"
      ],
      "text/plain": [
       "⎡                            0                             ⎤\n",
       "⎢                                                          ⎥\n",
       "⎢                         d                                ⎥\n",
       "⎢                         ──(f(t))                         ⎥\n",
       "⎢                         dt                               ⎥\n",
       "⎢                                                          ⎥\n",
       "⎢⎛         d                       d           ⎞           ⎥\n",
       "⎢⎜re(f(t))⋅──(re(f(t))) + im(f(t))⋅──(im(f(t)))⎟⋅sign(f(t))⎥\n",
       "⎢⎝         dt                      dt          ⎠           ⎥\n",
       "⎢──────────────────────────────────────────────────────────⎥\n",
       "⎢                         √b⋅f(t)                          ⎥\n",
       "⎢                                                          ⎥\n",
       "⎢                            0                             ⎥\n",
       "⎢                                                          ⎥\n",
       "⎢                                         d                ⎥\n",
       "⎢                                         ──(f(t))         ⎥\n",
       "⎢                d                        dt          f(t) ⎥\n",
       "⎢ω⋅t⋅cos(ω⋅f(t))⋅──(f(t)) + sin(ω⋅f(t)) + ──────── - ──────⎥\n",
       "⎢                dt                          √t         3/2⎥\n",
       "⎣                                                    2⋅t   ⎦"
      ]
     },
     "execution_count": 60,
     "metadata": {},
     "output_type": "execute_result"
    }
   ],
   "source": [
    "mat3.diff(t)"
   ]
  },
  {
   "cell_type": "code",
   "execution_count": 61,
   "id": "5cc66760",
   "metadata": {
    "execution": {
     "iopub.execute_input": "2022-06-13T06:55:12.820162Z",
     "iopub.status.busy": "2022-06-13T06:55:12.819845Z",
     "iopub.status.idle": "2022-06-13T06:55:12.826225Z",
     "shell.execute_reply": "2022-06-13T06:55:12.825717Z"
    }
   },
   "outputs": [
    {
     "data": {
      "text/latex": [
       "$\\displaystyle \\left[\\begin{matrix}a\\\\b\\\\\\omega\\\\t\\end{matrix}\\right]$"
      ],
      "text/plain": [
       "⎡a⎤\n",
       "⎢ ⎥\n",
       "⎢b⎥\n",
       "⎢ ⎥\n",
       "⎢ω⎥\n",
       "⎢ ⎥\n",
       "⎣t⎦"
      ]
     },
     "execution_count": 61,
     "metadata": {},
     "output_type": "execute_result"
    }
   ],
   "source": [
    "mat4 = sm.Matrix([a, b, omega, t])\n",
    "mat4"
   ]
  },
  {
   "cell_type": "code",
   "execution_count": 62,
   "id": "35729913",
   "metadata": {
    "execution": {
     "iopub.execute_input": "2022-06-13T06:55:12.829157Z",
     "iopub.status.busy": "2022-06-13T06:55:12.828782Z",
     "iopub.status.idle": "2022-06-13T06:55:12.854429Z",
     "shell.execute_reply": "2022-06-13T06:55:12.853896Z"
    }
   },
   "outputs": [
    {
     "data": {
      "text/latex": [
       "$\\displaystyle \\left[\\begin{matrix}1 & \\frac{1}{\\omega^{2}} & - \\frac{2 b}{\\omega^{3}} & 0\\\\\\omega & 0 & a & \\frac{d}{d t} f{\\left(t \\right)}\\\\\\sin{\\left(\\omega \\right)} & - \\frac{\\left|{f{\\left(t \\right)}}\\right|}{2 b^{\\frac{3}{2}}} & a \\cos{\\left(\\omega \\right)} & \\frac{\\left(\\operatorname{re}{\\left(f{\\left(t \\right)}\\right)} \\frac{d}{d t} \\operatorname{re}{\\left(f{\\left(t \\right)}\\right)} + \\operatorname{im}{\\left(f{\\left(t \\right)}\\right)} \\frac{d}{d t} \\operatorname{im}{\\left(f{\\left(t \\right)}\\right)}\\right) \\operatorname{sign}{\\left(f{\\left(t \\right)} \\right)}}{\\sqrt{b} f{\\left(t \\right)}}\\\\0 & 0 & 0 & 0\\\\0 & 0 & t f{\\left(t \\right)} \\cos{\\left(\\omega f{\\left(t \\right)} \\right)} & \\omega t \\cos{\\left(\\omega f{\\left(t \\right)} \\right)} \\frac{d}{d t} f{\\left(t \\right)} + \\sin{\\left(\\omega f{\\left(t \\right)} \\right)} + \\frac{\\frac{d}{d t} f{\\left(t \\right)}}{\\sqrt{t}} - \\frac{f{\\left(t \\right)}}{2 t^{\\frac{3}{2}}}\\end{matrix}\\right]$"
      ],
      "text/plain": [
       "⎡           1            -2⋅b                                                 \n",
       "⎢  1        ──           ─────                                     0          \n",
       "⎢            2              3                                                 \n",
       "⎢           ω              ω                                                  \n",
       "⎢                                                                             \n",
       "⎢                                                               d             \n",
       "⎢  ω        0              a                                    ──(f(t))      \n",
       "⎢                                                               dt            \n",
       "⎢                                                                             \n",
       "⎢                                      ⎛         d                       d    \n",
       "⎢                                      ⎜re(f(t))⋅──(re(f(t))) + im(f(t))⋅──(im\n",
       "⎢        -│f(t)│                       ⎝         dt                      dt   \n",
       "⎢sin(ω)  ────────       a⋅cos(ω)       ───────────────────────────────────────\n",
       "⎢            3/2                                                √b⋅f(t)       \n",
       "⎢         2⋅b                                                                 \n",
       "⎢                                                                             \n",
       "⎢  0        0              0                                       0          \n",
       "⎢                                                                             \n",
       "⎢                                                                             \n",
       "⎢                                                                             \n",
       "⎢                                                      d                      \n",
       "⎢  0        0      t⋅f(t)⋅cos(ω⋅f(t))  ω⋅t⋅cos(ω⋅f(t))⋅──(f(t)) + sin(ω⋅f(t)) \n",
       "⎢                                                      dt                     \n",
       "⎣                                                                             \n",
       "\n",
       "                   ⎤\n",
       "                   ⎥\n",
       "                   ⎥\n",
       "                   ⎥\n",
       "                   ⎥\n",
       "                   ⎥\n",
       "                   ⎥\n",
       "                   ⎥\n",
       "                   ⎥\n",
       "       ⎞           ⎥\n",
       "(f(t)))⎟⋅sign(f(t))⎥\n",
       "       ⎠           ⎥\n",
       "───────────────────⎥\n",
       "                   ⎥\n",
       "                   ⎥\n",
       "                   ⎥\n",
       "                   ⎥\n",
       "                   ⎥\n",
       "  d                ⎥\n",
       "  ──(f(t))         ⎥\n",
       "  dt          f(t) ⎥\n",
       "+ ──────── - ──────⎥\n",
       "     √t         3/2⎥\n",
       "             2⋅t   ⎦"
      ]
     },
     "execution_count": 62,
     "metadata": {},
     "output_type": "execute_result"
    }
   ],
   "source": [
    "mat3.jacobian(mat4)"
   ]
  },
  {
   "cell_type": "code",
   "execution_count": 63,
   "id": "b0f1425b",
   "metadata": {
    "execution": {
     "iopub.execute_input": "2022-06-13T06:55:12.857181Z",
     "iopub.status.busy": "2022-06-13T06:55:12.856751Z",
     "iopub.status.idle": "2022-06-13T06:55:12.875071Z",
     "shell.execute_reply": "2022-06-13T06:55:12.874539Z"
    }
   },
   "outputs": [
    {
     "data": {
      "text/latex": [
       "$\\displaystyle \\left[\\begin{matrix}a_{1} \\sin{\\left(f{\\left(t \\right)} \\right)} \\cos{\\left(2 f{\\left(t \\right)} \\right)} + a_{2} + \\frac{\\omega \\log{\\left(t \\right)}}{\\log{\\left(f{\\left(t \\right)} \\right)}} + 100\\\\a_{1} \\omega^{2} + a_{2} f{\\left(t \\right)} + \\omega + f^{3}{\\left(t \\right)}\\end{matrix}\\right]$"
      ],
      "text/plain": [
       "⎡                                 ω⋅log(t)      ⎤\n",
       "⎢a₁⋅sin(f(t))⋅cos(2⋅f(t)) + a₂ + ───────── + 100⎥\n",
       "⎢                                log(f(t))      ⎥\n",
       "⎢                                               ⎥\n",
       "⎢              2                  3             ⎥\n",
       "⎣          a₁⋅ω  + a₂⋅f(t) + ω + f (t)          ⎦"
      ]
     },
     "execution_count": 63,
     "metadata": {},
     "output_type": "execute_result"
    }
   ],
   "source": [
    "a1, a2 = sm.symbols('a1, a2')\n",
    "\n",
    "exprs = sm.Matrix([\n",
    "    [a1*sm.sin(f(t))*sm.cos(2*f(t)) + a2 + omega/sm.log(f(t), t) + 100],\n",
    "    [a1*omega**2 + f(t)*a2 + omega + f(t)**3],\n",
    "])\n",
    "exprs"
   ]
  },
  {
   "cell_type": "code",
   "execution_count": 64,
   "id": "f590b9f5",
   "metadata": {
    "execution": {
     "iopub.execute_input": "2022-06-13T06:55:12.878617Z",
     "iopub.status.busy": "2022-06-13T06:55:12.877534Z",
     "iopub.status.idle": "2022-06-13T06:55:12.888616Z",
     "shell.execute_reply": "2022-06-13T06:55:12.888093Z"
    }
   },
   "outputs": [
    {
     "data": {
      "text/latex": [
       "$\\displaystyle \\left[\\begin{matrix}\\sin{\\left(f{\\left(t \\right)} \\right)} \\cos{\\left(2 f{\\left(t \\right)} \\right)} & 1\\\\\\omega^{2} & f{\\left(t \\right)}\\end{matrix}\\right]$"
      ],
      "text/plain": [
       "⎡sin(f(t))⋅cos(2⋅f(t))   1  ⎤\n",
       "⎢                           ⎥\n",
       "⎢          2                ⎥\n",
       "⎣         ω             f(t)⎦"
      ]
     },
     "execution_count": 64,
     "metadata": {},
     "output_type": "execute_result"
    }
   ],
   "source": [
    "A = exprs.jacobian([a1, a2])\n",
    "A"
   ]
  },
  {
   "cell_type": "code",
   "execution_count": 65,
   "id": "218fe470",
   "metadata": {
    "execution": {
     "iopub.execute_input": "2022-06-13T06:55:12.891333Z",
     "iopub.status.busy": "2022-06-13T06:55:12.890922Z",
     "iopub.status.idle": "2022-06-13T06:55:12.900201Z",
     "shell.execute_reply": "2022-06-13T06:55:12.899493Z"
    }
   },
   "outputs": [
    {
     "data": {
      "text/latex": [
       "$\\displaystyle \\left[\\begin{matrix}- \\frac{\\omega \\log{\\left(t \\right)}}{\\log{\\left(f{\\left(t \\right)} \\right)}} - 100\\\\- \\omega - f^{3}{\\left(t \\right)}\\end{matrix}\\right]$"
      ],
      "text/plain": [
       "⎡   ω⋅log(t)      ⎤\n",
       "⎢- ───────── - 100⎥\n",
       "⎢  log(f(t))      ⎥\n",
       "⎢                 ⎥\n",
       "⎢         3       ⎥\n",
       "⎣   -ω - f (t)    ⎦"
      ]
     },
     "execution_count": 65,
     "metadata": {},
     "output_type": "execute_result"
    }
   ],
   "source": [
    "b = -exprs.xreplace({a1: 0, a2:0})\n",
    "b"
   ]
  },
  {
   "cell_type": "code",
   "execution_count": 66,
   "id": "4dbf82e4",
   "metadata": {
    "execution": {
     "iopub.execute_input": "2022-06-13T06:55:12.902804Z",
     "iopub.status.busy": "2022-06-13T06:55:12.902493Z",
     "iopub.status.idle": "2022-06-13T06:55:12.932881Z",
     "shell.execute_reply": "2022-06-13T06:55:12.932357Z"
    }
   },
   "outputs": [
    {
     "data": {
      "text/latex": [
       "$\\displaystyle \\left[\\begin{matrix}\\frac{- \\frac{\\omega \\log{\\left(t \\right)}}{\\log{\\left(f{\\left(t \\right)} \\right)}} - 100 - \\frac{- \\frac{\\omega^{2} \\left(- \\frac{\\omega \\log{\\left(t \\right)}}{\\log{\\left(f{\\left(t \\right)} \\right)}} - 100\\right)}{\\sin{\\left(f{\\left(t \\right)} \\right)} \\cos{\\left(2 f{\\left(t \\right)} \\right)}} - \\omega - f^{3}{\\left(t \\right)}}{- \\frac{\\omega^{2}}{\\sin{\\left(f{\\left(t \\right)} \\right)} \\cos{\\left(2 f{\\left(t \\right)} \\right)}} + f{\\left(t \\right)}}}{\\sin{\\left(f{\\left(t \\right)} \\right)} \\cos{\\left(2 f{\\left(t \\right)} \\right)}}\\\\\\frac{- \\frac{\\omega^{2} \\left(- \\frac{\\omega \\log{\\left(t \\right)}}{\\log{\\left(f{\\left(t \\right)} \\right)}} - 100\\right)}{\\sin{\\left(f{\\left(t \\right)} \\right)} \\cos{\\left(2 f{\\left(t \\right)} \\right)}} - \\omega - f^{3}{\\left(t \\right)}}{- \\frac{\\omega^{2}}{\\sin{\\left(f{\\left(t \\right)} \\right)} \\cos{\\left(2 f{\\left(t \\right)} \\right)}} + f{\\left(t \\right)}}\\end{matrix}\\right]$"
      ],
      "text/plain": [
       "⎡                       2 ⎛   ω⋅log(t)      ⎞            ⎤\n",
       "⎢                      ω ⋅⎜- ───────── - 100⎟            ⎥\n",
       "⎢                         ⎝  log(f(t))      ⎠        3   ⎥\n",
       "⎢                    - ────────────────────── - ω - f (t)⎥\n",
       "⎢   ω⋅log(t)           sin(f(t))⋅cos(2⋅f(t))             ⎥\n",
       "⎢- ───────── - 100 - ────────────────────────────────────⎥\n",
       "⎢  log(f(t))                         2                   ⎥\n",
       "⎢                                   ω                    ⎥\n",
       "⎢                       - ───────────────────── + f(t)   ⎥\n",
       "⎢                         sin(f(t))⋅cos(2⋅f(t))          ⎥\n",
       "⎢────────────────────────────────────────────────────────⎥\n",
       "⎢                 sin(f(t))⋅cos(2⋅f(t))                  ⎥\n",
       "⎢                                                        ⎥\n",
       "⎢             2 ⎛   ω⋅log(t)      ⎞                      ⎥\n",
       "⎢            ω ⋅⎜- ───────── - 100⎟                      ⎥\n",
       "⎢               ⎝  log(f(t))      ⎠        3             ⎥\n",
       "⎢          - ────────────────────── - ω - f (t)          ⎥\n",
       "⎢            sin(f(t))⋅cos(2⋅f(t))                       ⎥\n",
       "⎢          ────────────────────────────────────          ⎥\n",
       "⎢                          2                             ⎥\n",
       "⎢                         ω                              ⎥\n",
       "⎢             - ───────────────────── + f(t)             ⎥\n",
       "⎣               sin(f(t))⋅cos(2⋅f(t))                    ⎦"
      ]
     },
     "execution_count": 66,
     "metadata": {},
     "output_type": "execute_result"
    }
   ],
   "source": [
    "A.LUsolve(b)"
   ]
  },
  {
   "cell_type": "code",
   "execution_count": 67,
   "id": "ca3099b6",
   "metadata": {
    "execution": {
     "iopub.execute_input": "2022-06-13T06:55:12.935677Z",
     "iopub.status.busy": "2022-06-13T06:55:12.935216Z",
     "iopub.status.idle": "2022-06-13T06:55:13.780892Z",
     "shell.execute_reply": "2022-06-13T06:55:13.780311Z"
    }
   },
   "outputs": [
    {
     "data": {
      "text/latex": [
       "$\\displaystyle \\left[\\begin{matrix}\\frac{- \\omega f{\\left(t \\right)} \\log{\\left(t \\right)} + \\omega \\log{\\left(f{\\left(t \\right)} \\right)} + f^{3}{\\left(t \\right)} \\log{\\left(f{\\left(t \\right)} \\right)} - 100 f{\\left(t \\right)} \\log{\\left(f{\\left(t \\right)} \\right)}}{\\left(- \\omega^{2} + f{\\left(t \\right)} \\sin{\\left(f{\\left(t \\right)} \\right)} \\cos{\\left(2 f{\\left(t \\right)} \\right)}\\right) \\log{\\left(f{\\left(t \\right)} \\right)}}\\\\\\frac{- \\omega^{2} \\left(\\omega \\log{\\left(t \\right)} + 100 \\log{\\left(f{\\left(t \\right)} \\right)}\\right) + \\left(\\omega + f^{3}{\\left(t \\right)}\\right) \\log{\\left(f{\\left(t \\right)} \\right)} \\sin{\\left(f{\\left(t \\right)} \\right)} \\cos{\\left(2 f{\\left(t \\right)} \\right)}}{\\left(\\omega^{2} - f{\\left(t \\right)} \\sin{\\left(f{\\left(t \\right)} \\right)} \\cos{\\left(2 f{\\left(t \\right)} \\right)}\\right) \\log{\\left(f{\\left(t \\right)} \\right)}}\\end{matrix}\\right]$"
      ],
      "text/plain": [
       "⎡                                     3                                       \n",
       "⎢     -ω⋅f(t)⋅log(t) + ω⋅log(f(t)) + f (t)⋅log(f(t)) - 100⋅f(t)⋅log(f(t))     \n",
       "⎢     ───────────────────────────────────────────────────────────────────     \n",
       "⎢                ⎛   2                             ⎞                          \n",
       "⎢                ⎝- ω  + f(t)⋅sin(f(t))⋅cos(2⋅f(t))⎠⋅log(f(t))                \n",
       "⎢                                                                             \n",
       "⎢   2                              ⎛     3   ⎞                                \n",
       "⎢- ω ⋅(ω⋅log(t) + 100⋅log(f(t))) + ⎝ω + f (t)⎠⋅log(f(t))⋅sin(f(t))⋅cos(2⋅f(t))\n",
       "⎢─────────────────────────────────────────────────────────────────────────────\n",
       "⎢                 ⎛ 2                             ⎞                           \n",
       "⎣                 ⎝ω  - f(t)⋅sin(f(t))⋅cos(2⋅f(t))⎠⋅log(f(t))                 \n",
       "\n",
       "⎤\n",
       "⎥\n",
       "⎥\n",
       "⎥\n",
       "⎥\n",
       "⎥\n",
       "⎥\n",
       "⎥\n",
       "⎥\n",
       "⎥\n",
       "⎦"
      ]
     },
     "execution_count": 67,
     "metadata": {},
     "output_type": "execute_result"
    }
   ],
   "source": [
    "sm.simplify(A.LUsolve(b))"
   ]
  },
  {
   "cell_type": "code",
   "execution_count": 68,
   "id": "cbd35905",
   "metadata": {
    "execution": {
     "iopub.execute_input": "2022-06-13T06:55:13.783722Z",
     "iopub.status.busy": "2022-06-13T06:55:13.783399Z",
     "iopub.status.idle": "2022-06-13T06:55:13.812902Z",
     "shell.execute_reply": "2022-06-13T06:55:13.812350Z"
    }
   },
   "outputs": [
    {
     "data": {
      "text/latex": [
       "$\\displaystyle 1$"
      ],
      "text/plain": [
       "1"
      ]
     },
     "execution_count": 68,
     "metadata": {},
     "output_type": "execute_result"
    }
   ],
   "source": [
    "sm.trigsimp(sm.cos(omega)**2 + sm.sin(omega)**2)"
   ]
  },
  {
   "cell_type": "code",
   "execution_count": 69,
   "id": "26744da4",
   "metadata": {
    "execution": {
     "iopub.execute_input": "2022-06-13T06:55:13.816431Z",
     "iopub.status.busy": "2022-06-13T06:55:13.815318Z",
     "iopub.status.idle": "2022-06-13T06:55:13.835162Z",
     "shell.execute_reply": "2022-06-13T06:55:13.834635Z"
    }
   },
   "outputs": [],
   "source": [
    "substitutions, simplified = sm.cse(A.LUsolve(b))"
   ]
  },
  {
   "cell_type": "code",
   "execution_count": 70,
   "id": "be92c299",
   "metadata": {
    "execution": {
     "iopub.execute_input": "2022-06-13T06:55:13.838154Z",
     "iopub.status.busy": "2022-06-13T06:55:13.837742Z",
     "iopub.status.idle": "2022-06-13T06:55:13.843629Z",
     "shell.execute_reply": "2022-06-13T06:55:13.843116Z"
    }
   },
   "outputs": [
    {
     "data": {
      "text/latex": [
       "$\\displaystyle \\left( x_{0}, \\  f{\\left(t \\right)}\\right)$"
      ],
      "text/plain": [
       "(x₀, f(t))"
      ]
     },
     "execution_count": 70,
     "metadata": {},
     "output_type": "execute_result"
    }
   ],
   "source": [
    "substitutions[0]"
   ]
  },
  {
   "cell_type": "code",
   "execution_count": 71,
   "id": "bf632c26",
   "metadata": {
    "execution": {
     "iopub.execute_input": "2022-06-13T06:55:13.846365Z",
     "iopub.status.busy": "2022-06-13T06:55:13.845931Z",
     "iopub.status.idle": "2022-06-13T06:55:13.852768Z",
     "shell.execute_reply": "2022-06-13T06:55:13.852242Z"
    }
   },
   "outputs": [
    {
     "data": {
      "text/latex": [
       "$\\displaystyle x_{0} = f{\\left(t \\right)}$"
      ],
      "text/plain": [
       "x₀ = f(t)"
      ]
     },
     "execution_count": 71,
     "metadata": {},
     "output_type": "execute_result"
    }
   ],
   "source": [
    "sm.Eq(*substitutions[0])"
   ]
  },
  {
   "cell_type": "code",
   "execution_count": 72,
   "id": "183365f2",
   "metadata": {
    "execution": {
     "iopub.execute_input": "2022-06-13T06:55:13.855328Z",
     "iopub.status.busy": "2022-06-13T06:55:13.854912Z",
     "iopub.status.idle": "2022-06-13T06:55:13.865898Z",
     "shell.execute_reply": "2022-06-13T06:55:13.865375Z"
    }
   },
   "outputs": [
    {
     "data": {
      "text/latex": [
       "$\\displaystyle x_{1} = \\frac{1}{\\sin{\\left(x_{0} \\right)} \\cos{\\left(2 x_{0} \\right)}}$"
      ],
      "text/plain": [
       "             1        \n",
       "x₁ = ─────────────────\n",
       "     sin(x₀)⋅cos(2⋅x₀)"
      ]
     },
     "execution_count": 72,
     "metadata": {},
     "output_type": "execute_result"
    }
   ],
   "source": [
    "sm.Eq(*substitutions[1])"
   ]
  },
  {
   "cell_type": "code",
   "execution_count": 73,
   "id": "38e1aa3e",
   "metadata": {
    "execution": {
     "iopub.execute_input": "2022-06-13T06:55:13.868679Z",
     "iopub.status.busy": "2022-06-13T06:55:13.868271Z",
     "iopub.status.idle": "2022-06-13T06:55:13.875967Z",
     "shell.execute_reply": "2022-06-13T06:55:13.875450Z"
    }
   },
   "outputs": [
    {
     "data": {
      "text/latex": [
       "$\\displaystyle x_{2} = \\omega^{2} x_{1}$"
      ],
      "text/plain": [
       "      2   \n",
       "x₂ = ω ⋅x₁"
      ]
     },
     "execution_count": 73,
     "metadata": {},
     "output_type": "execute_result"
    }
   ],
   "source": [
    "sm.Eq(*substitutions[2])"
   ]
  },
  {
   "cell_type": "code",
   "execution_count": 74,
   "id": "a15a6bfb",
   "metadata": {
    "execution": {
     "iopub.execute_input": "2022-06-13T06:55:13.878737Z",
     "iopub.status.busy": "2022-06-13T06:55:13.878331Z",
     "iopub.status.idle": "2022-06-13T06:55:13.890535Z",
     "shell.execute_reply": "2022-06-13T06:55:13.890004Z"
    }
   },
   "outputs": [
    {
     "data": {
      "text/latex": [
       "$\\displaystyle x_{4} = \\frac{- \\omega - x_{0}^{3} + x_{2} x_{3}}{x_{0} - x_{2}}$"
      ],
      "text/plain": [
       "            3        \n",
       "     -ω - x₀  + x₂⋅x₃\n",
       "x₄ = ────────────────\n",
       "         x₀ - x₂     "
      ]
     },
     "execution_count": 74,
     "metadata": {},
     "output_type": "execute_result"
    }
   ],
   "source": [
    "sm.Eq(*substitutions[4])"
   ]
  },
  {
   "cell_type": "code",
   "execution_count": 75,
   "id": "1c5919ad",
   "metadata": {
    "execution": {
     "iopub.execute_input": "2022-06-13T06:55:13.893756Z",
     "iopub.status.busy": "2022-06-13T06:55:13.892663Z",
     "iopub.status.idle": "2022-06-13T06:55:13.900262Z",
     "shell.execute_reply": "2022-06-13T06:55:13.899738Z"
    }
   },
   "outputs": [
    {
     "data": {
      "text/latex": [
       "$\\displaystyle \\left[\\begin{matrix}x_{1} \\left(- x_{3} - x_{4}\\right)\\\\x_{4}\\end{matrix}\\right]$"
      ],
      "text/plain": [
       "⎡x₁⋅(-x₃ - x₄)⎤\n",
       "⎢             ⎥\n",
       "⎣     x₄      ⎦"
      ]
     },
     "execution_count": 75,
     "metadata": {},
     "output_type": "execute_result"
    }
   ],
   "source": [
    "simplified[0]"
   ]
  }
 ],
 "metadata": {
  "kernelspec": {
   "display_name": "Python 3 (ipykernel)",
   "language": "python",
   "name": "python3"
  },
  "language_info": {
   "codemirror_mode": {
    "name": "ipython",
    "version": 3
   },
   "file_extension": ".py",
   "mimetype": "text/x-python",
   "name": "python",
   "nbconvert_exporter": "python",
   "pygments_lexer": "ipython3",
   "version": "3.9.13"
  }
 },
 "nbformat": 4,
 "nbformat_minor": 5
}