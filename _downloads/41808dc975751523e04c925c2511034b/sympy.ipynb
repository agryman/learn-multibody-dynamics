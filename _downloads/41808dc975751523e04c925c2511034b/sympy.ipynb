{
 "cells": [
  {
   "cell_type": "code",
   "execution_count": 1,
   "id": "e74a338a",
   "metadata": {
    "execution": {
     "iopub.execute_input": "2022-03-16T06:31:56.724590Z",
     "iopub.status.busy": "2022-03-16T06:31:56.724257Z",
     "iopub.status.idle": "2022-03-16T06:31:57.041581Z",
     "shell.execute_reply": "2022-03-16T06:31:57.041007Z"
    }
   },
   "outputs": [],
   "source": [
    "import sympy as sm"
   ]
  },
  {
   "cell_type": "code",
   "execution_count": 2,
   "id": "fe0ff439",
   "metadata": {
    "execution": {
     "iopub.execute_input": "2022-03-16T06:31:57.044921Z",
     "iopub.status.busy": "2022-03-16T06:31:57.044743Z",
     "iopub.status.idle": "2022-03-16T06:31:57.051635Z",
     "shell.execute_reply": "2022-03-16T06:31:57.051115Z"
    }
   },
   "outputs": [],
   "source": [
    "sm.init_printing(use_latex='mathjax')"
   ]
  },
  {
   "cell_type": "code",
   "execution_count": 3,
   "id": "58bb73ff",
   "metadata": {
    "execution": {
     "iopub.execute_input": "2022-03-16T06:31:57.054212Z",
     "iopub.status.busy": "2022-03-16T06:31:57.053945Z",
     "iopub.status.idle": "2022-03-16T06:31:57.063079Z",
     "shell.execute_reply": "2022-03-16T06:31:57.062332Z"
    }
   },
   "outputs": [
    {
     "data": {
      "text/latex": [
       "$\\displaystyle a$"
      ],
      "text/plain": [
       "a"
      ]
     },
     "execution_count": 3,
     "metadata": {},
     "output_type": "execute_result"
    }
   ],
   "source": [
    "a = sm.symbols('a')\n",
    "a"
   ]
  },
  {
   "cell_type": "code",
   "execution_count": 4,
   "id": "bea7d4ee",
   "metadata": {
    "execution": {
     "iopub.execute_input": "2022-03-16T06:31:57.066124Z",
     "iopub.status.busy": "2022-03-16T06:31:57.065676Z",
     "iopub.status.idle": "2022-03-16T06:31:57.072149Z",
     "shell.execute_reply": "2022-03-16T06:31:57.071519Z"
    }
   },
   "outputs": [
    {
     "data": {
      "text/plain": [
       "sympy.core.symbol.Symbol"
      ]
     },
     "execution_count": 4,
     "metadata": {},
     "output_type": "execute_result"
    }
   ],
   "source": [
    "type(a)"
   ]
  },
  {
   "cell_type": "code",
   "execution_count": 5,
   "id": "8e54f82f",
   "metadata": {
    "execution": {
     "iopub.execute_input": "2022-03-16T06:31:57.075220Z",
     "iopub.status.busy": "2022-03-16T06:31:57.074871Z",
     "iopub.status.idle": "2022-03-16T06:31:57.082176Z",
     "shell.execute_reply": "2022-03-16T06:31:57.081531Z"
    }
   },
   "outputs": [
    {
     "data": {
      "text/latex": [
       "$\\displaystyle \\left( b, \\  t, \\  \\omega\\right)$"
      ],
      "text/plain": [
       "(b, t, ω)"
      ]
     },
     "execution_count": 5,
     "metadata": {},
     "output_type": "execute_result"
    }
   ],
   "source": [
    "b, t, omega = sm.symbols('b, t, omega')\n",
    "b, t, omega"
   ]
  },
  {
   "cell_type": "code",
   "execution_count": 6,
   "id": "a2c79685",
   "metadata": {
    "execution": {
     "iopub.execute_input": "2022-03-16T06:31:57.085189Z",
     "iopub.status.busy": "2022-03-16T06:31:57.084857Z",
     "iopub.status.idle": "2022-03-16T06:31:57.089934Z",
     "shell.execute_reply": "2022-03-16T06:31:57.089443Z"
    }
   },
   "outputs": [
    {
     "data": {
      "text/latex": [
       "$\\displaystyle \\left( \\alpha_{1}, \\  \\omega_{2}\\right)$"
      ],
      "text/plain": [
       "(α₁, ω₂)"
      ]
     },
     "execution_count": 6,
     "metadata": {},
     "output_type": "execute_result"
    }
   ],
   "source": [
    "pivot_angle, w2 = sm.symbols('alpha1, omega2')\n",
    "pivot_angle, w2"
   ]
  },
  {
   "cell_type": "code",
   "execution_count": 7,
   "id": "f5b3c23e",
   "metadata": {
    "execution": {
     "iopub.execute_input": "2022-03-16T06:31:57.092742Z",
     "iopub.status.busy": "2022-03-16T06:31:57.092391Z",
     "iopub.status.idle": "2022-03-16T06:31:57.096660Z",
     "shell.execute_reply": "2022-03-16T06:31:57.096084Z"
    }
   },
   "outputs": [
    {
     "data": {
      "text/plain": [
       "f"
      ]
     },
     "execution_count": 7,
     "metadata": {},
     "output_type": "execute_result"
    }
   ],
   "source": [
    "f = sm.Function('f')\n",
    "f"
   ]
  },
  {
   "cell_type": "code",
   "execution_count": 8,
   "id": "55f6f056",
   "metadata": {
    "execution": {
     "iopub.execute_input": "2022-03-16T06:31:57.100235Z",
     "iopub.status.busy": "2022-03-16T06:31:57.099810Z",
     "iopub.status.idle": "2022-03-16T06:31:57.103467Z",
     "shell.execute_reply": "2022-03-16T06:31:57.102951Z"
    }
   },
   "outputs": [
    {
     "data": {
      "text/plain": [
       "sympy.core.function.UndefinedFunction"
      ]
     },
     "execution_count": 8,
     "metadata": {},
     "output_type": "execute_result"
    }
   ],
   "source": [
    "type(f)"
   ]
  },
  {
   "cell_type": "code",
   "execution_count": 9,
   "id": "1d0cec41",
   "metadata": {
    "execution": {
     "iopub.execute_input": "2022-03-16T06:31:57.106969Z",
     "iopub.status.busy": "2022-03-16T06:31:57.106563Z",
     "iopub.status.idle": "2022-03-16T06:31:57.110962Z",
     "shell.execute_reply": "2022-03-16T06:31:57.110454Z"
    }
   },
   "outputs": [
    {
     "data": {
      "text/latex": [
       "$\\displaystyle f{\\left(t \\right)}$"
      ],
      "text/plain": [
       "f(t)"
      ]
     },
     "execution_count": 9,
     "metadata": {},
     "output_type": "execute_result"
    }
   ],
   "source": [
    "f(t)"
   ]
  },
  {
   "cell_type": "code",
   "execution_count": 10,
   "id": "6ac6ce5d",
   "metadata": {
    "execution": {
     "iopub.execute_input": "2022-03-16T06:31:57.114507Z",
     "iopub.status.busy": "2022-03-16T06:31:57.114077Z",
     "iopub.status.idle": "2022-03-16T06:31:57.117942Z",
     "shell.execute_reply": "2022-03-16T06:31:57.117401Z"
    }
   },
   "outputs": [
    {
     "data": {
      "text/plain": [
       "f"
      ]
     },
     "execution_count": 10,
     "metadata": {},
     "output_type": "execute_result"
    }
   ],
   "source": [
    "type(f(t))"
   ]
  },
  {
   "cell_type": "code",
   "execution_count": 11,
   "id": "1d2ea06b",
   "metadata": {
    "execution": {
     "iopub.execute_input": "2022-03-16T06:31:57.120950Z",
     "iopub.status.busy": "2022-03-16T06:31:57.120666Z",
     "iopub.status.idle": "2022-03-16T06:31:57.125681Z",
     "shell.execute_reply": "2022-03-16T06:31:57.125126Z"
    }
   },
   "outputs": [
    {
     "data": {
      "text/latex": [
       "$\\displaystyle f{\\left(a,b,\\omega,t \\right)}$"
      ],
      "text/plain": [
       "f(a, b, ω, t)"
      ]
     },
     "execution_count": 11,
     "metadata": {},
     "output_type": "execute_result"
    }
   ],
   "source": [
    "f(a, b, omega, t)"
   ]
  },
  {
   "cell_type": "code",
   "execution_count": 12,
   "id": "51ad17bf",
   "metadata": {
    "execution": {
     "iopub.execute_input": "2022-03-16T06:31:57.129033Z",
     "iopub.status.busy": "2022-03-16T06:31:57.128684Z",
     "iopub.status.idle": "2022-03-16T06:31:57.347434Z",
     "shell.execute_reply": "2022-03-16T06:31:57.346813Z"
    }
   },
   "outputs": [
    {
     "data": {
      "text/latex": [
       "$\\displaystyle a + \\frac{b}{\\omega^{2}}$"
      ],
      "text/plain": [
       "    b \n",
       "a + ──\n",
       "     2\n",
       "    ω "
      ]
     },
     "execution_count": 12,
     "metadata": {},
     "output_type": "execute_result"
    }
   ],
   "source": [
    "expr1 = a + b/omega**2\n",
    "expr1"
   ]
  },
  {
   "cell_type": "code",
   "execution_count": 13,
   "id": "a87da0e4",
   "metadata": {
    "execution": {
     "iopub.execute_input": "2022-03-16T06:31:57.350574Z",
     "iopub.status.busy": "2022-03-16T06:31:57.350279Z",
     "iopub.status.idle": "2022-03-16T06:31:57.354324Z",
     "shell.execute_reply": "2022-03-16T06:31:57.353809Z"
    }
   },
   "outputs": [
    {
     "data": {
      "text/plain": [
       "sympy.core.add.Add"
      ]
     },
     "execution_count": 13,
     "metadata": {},
     "output_type": "execute_result"
    }
   ],
   "source": [
    "type(expr1)"
   ]
  },
  {
   "cell_type": "code",
   "execution_count": 14,
   "id": "c5d51c12",
   "metadata": {
    "execution": {
     "iopub.execute_input": "2022-03-16T06:31:57.357405Z",
     "iopub.status.busy": "2022-03-16T06:31:57.356995Z",
     "iopub.status.idle": "2022-03-16T06:31:57.361197Z",
     "shell.execute_reply": "2022-03-16T06:31:57.360681Z"
    }
   },
   "outputs": [
    {
     "data": {
      "text/plain": [
       "\"Add(Symbol('a'), Mul(Symbol('b'), Pow(Symbol('omega'), Integer(-2))))\""
      ]
     },
     "execution_count": 14,
     "metadata": {},
     "output_type": "execute_result"
    }
   ],
   "source": [
    "sm.srepr(expr1)"
   ]
  },
  {
   "cell_type": "code",
   "execution_count": 15,
   "id": "7d33b43c",
   "metadata": {
    "execution": {
     "iopub.execute_input": "2022-03-16T06:31:57.364388Z",
     "iopub.status.busy": "2022-03-16T06:31:57.364101Z",
     "iopub.status.idle": "2022-03-16T06:31:57.369729Z",
     "shell.execute_reply": "2022-03-16T06:31:57.369200Z"
    }
   },
   "outputs": [
    {
     "data": {
      "text/latex": [
       "$\\displaystyle a \\omega + f{\\left(t \\right)}$"
      ],
      "text/plain": [
       "a⋅ω + f(t)"
      ]
     },
     "execution_count": 15,
     "metadata": {},
     "output_type": "execute_result"
    }
   ],
   "source": [
    "expr2 = f(t) + a*omega\n",
    "expr2"
   ]
  },
  {
   "cell_type": "code",
   "execution_count": 16,
   "id": "5d69f186",
   "metadata": {
    "execution": {
     "iopub.execute_input": "2022-03-16T06:31:57.372593Z",
     "iopub.status.busy": "2022-03-16T06:31:57.372242Z",
     "iopub.status.idle": "2022-03-16T06:31:57.379729Z",
     "shell.execute_reply": "2022-03-16T06:31:57.379211Z"
    }
   },
   "outputs": [
    {
     "data": {
      "text/latex": [
       "$\\displaystyle a \\sin{\\left(\\omega \\right)} + \\frac{\\left|{f{\\left(t \\right)}}\\right|}{\\sqrt{b}}$"
      ],
      "text/plain": [
       "           │f(t)│\n",
       "a⋅sin(ω) + ──────\n",
       "             √b  "
      ]
     },
     "execution_count": 16,
     "metadata": {},
     "output_type": "execute_result"
    }
   ],
   "source": [
    "expr3 = a*sm.sin(omega) + sm.Abs(f(t))/sm.sqrt(b)\n",
    "expr3"
   ]
  },
  {
   "cell_type": "code",
   "execution_count": 17,
   "id": "d5942cef",
   "metadata": {
    "execution": {
     "iopub.execute_input": "2022-03-16T06:31:57.382629Z",
     "iopub.status.busy": "2022-03-16T06:31:57.382263Z",
     "iopub.status.idle": "2022-03-16T06:31:57.389177Z",
     "shell.execute_reply": "2022-03-16T06:31:57.388669Z"
    }
   },
   "outputs": [
    {
     "data": {
      "text/latex": [
       "$\\displaystyle 5 \\sin{\\left(12 \\right)} + 105.986768359379$"
      ],
      "text/plain": [
       "5⋅sin(12) + 105.986768359379"
      ]
     },
     "execution_count": 17,
     "metadata": {},
     "output_type": "execute_result"
    }
   ],
   "source": [
    "expr4 = 5*sm.sin(12) + sm.Abs(-1001)/sm.sqrt(89.2)\n",
    "expr4"
   ]
  },
  {
   "cell_type": "code",
   "execution_count": 18,
   "id": "496928db",
   "metadata": {
    "execution": {
     "iopub.execute_input": "2022-03-16T06:31:57.392060Z",
     "iopub.status.busy": "2022-03-16T06:31:57.391700Z",
     "iopub.status.idle": "2022-03-16T06:31:57.396461Z",
     "shell.execute_reply": "2022-03-16T06:31:57.395931Z"
    }
   },
   "outputs": [
    {
     "data": {
      "text/latex": [
       "$\\displaystyle 0.5 a$"
      ],
      "text/plain": [
       "0.5⋅a"
      ]
     },
     "execution_count": 18,
     "metadata": {},
     "output_type": "execute_result"
    }
   ],
   "source": [
    "1/2*a"
   ]
  },
  {
   "cell_type": "code",
   "execution_count": 19,
   "id": "acea7345",
   "metadata": {
    "execution": {
     "iopub.execute_input": "2022-03-16T06:31:57.399243Z",
     "iopub.status.busy": "2022-03-16T06:31:57.398977Z",
     "iopub.status.idle": "2022-03-16T06:31:57.403258Z",
     "shell.execute_reply": "2022-03-16T06:31:57.402758Z"
    }
   },
   "outputs": [
    {
     "data": {
      "text/latex": [
       "$\\displaystyle \\frac{a}{2}$"
      ],
      "text/plain": [
       "a\n",
       "─\n",
       "2"
      ]
     },
     "execution_count": 19,
     "metadata": {},
     "output_type": "execute_result"
    }
   ],
   "source": [
    "sm.S(1)/2*a"
   ]
  },
  {
   "cell_type": "code",
   "execution_count": 20,
   "id": "9f727b85",
   "metadata": {
    "execution": {
     "iopub.execute_input": "2022-03-16T06:31:57.406107Z",
     "iopub.status.busy": "2022-03-16T06:31:57.405699Z",
     "iopub.status.idle": "2022-03-16T06:31:57.413567Z",
     "shell.execute_reply": "2022-03-16T06:31:57.413060Z"
    }
   },
   "outputs": [
    {
     "data": {
      "text/latex": [
       "$\\displaystyle t \\sin{\\left(\\omega f{\\left(t \\right)} \\right)} + \\frac{f{\\left(t \\right)}}{\\sqrt{t}}$"
      ],
      "text/plain": [
       "                f(t)\n",
       "t⋅sin(ω⋅f(t)) + ────\n",
       "                 √t "
      ]
     },
     "execution_count": 20,
     "metadata": {},
     "output_type": "execute_result"
    }
   ],
   "source": [
    "expr5 = t*sm.sin(omega*f(t)) + f(t)/sm.sqrt(t)\n",
    "expr5"
   ]
  },
  {
   "cell_type": "code",
   "execution_count": 21,
   "id": "0818c3f8",
   "metadata": {
    "execution": {
     "iopub.execute_input": "2022-03-16T06:31:57.416290Z",
     "iopub.status.busy": "2022-03-16T06:31:57.416053Z",
     "iopub.status.idle": "2022-03-16T06:31:57.420223Z",
     "shell.execute_reply": "2022-03-16T06:31:57.419702Z"
    }
   },
   "outputs": [
    {
     "data": {
      "text/plain": [
       "\"Add(Mul(Symbol('a'), sin(Symbol('omega'))), Mul(Pow(Symbol('b'), Rational(-1, 2)), Abs(Function('f')(Symbol('t')))))\""
      ]
     },
     "execution_count": 21,
     "metadata": {},
     "output_type": "execute_result"
    }
   ],
   "source": [
    "sm.srepr(expr3)"
   ]
  },
  {
   "cell_type": "code",
   "execution_count": 22,
   "id": "eb589d9e",
   "metadata": {
    "execution": {
     "iopub.execute_input": "2022-03-16T06:31:57.422971Z",
     "iopub.status.busy": "2022-03-16T06:31:57.422621Z",
     "iopub.status.idle": "2022-03-16T06:31:57.426800Z",
     "shell.execute_reply": "2022-03-16T06:31:57.426283Z"
    }
   },
   "outputs": [
    {
     "data": {
      "text/plain": [
       "'a*sin(omega) + Abs(f(t))/sqrt(b)'"
      ]
     },
     "execution_count": 22,
     "metadata": {},
     "output_type": "execute_result"
    }
   ],
   "source": [
    "repr(expr3)"
   ]
  },
  {
   "cell_type": "code",
   "execution_count": 23,
   "id": "235e0a27",
   "metadata": {
    "execution": {
     "iopub.execute_input": "2022-03-16T06:31:57.429764Z",
     "iopub.status.busy": "2022-03-16T06:31:57.429409Z",
     "iopub.status.idle": "2022-03-16T06:31:57.433177Z",
     "shell.execute_reply": "2022-03-16T06:31:57.432638Z"
    }
   },
   "outputs": [
    {
     "name": "stdout",
     "output_type": "stream",
     "text": [
      "a*sin(omega) + Abs(f(t))/sqrt(b)\n"
     ]
    }
   ],
   "source": [
    "print(expr3)"
   ]
  },
  {
   "cell_type": "code",
   "execution_count": 24,
   "id": "c91d2f7f",
   "metadata": {
    "execution": {
     "iopub.execute_input": "2022-03-16T06:31:57.436359Z",
     "iopub.status.busy": "2022-03-16T06:31:57.435918Z",
     "iopub.status.idle": "2022-03-16T06:31:57.440049Z",
     "shell.execute_reply": "2022-03-16T06:31:57.439501Z"
    }
   },
   "outputs": [
    {
     "name": "stdout",
     "output_type": "stream",
     "text": [
      "           │f(t)│\n",
      "a⋅sin(ω) + ──────\n",
      "             √b  \n"
     ]
    }
   ],
   "source": [
    "sm.pprint(expr3)"
   ]
  },
  {
   "cell_type": "code",
   "execution_count": 25,
   "id": "868d6f46",
   "metadata": {
    "execution": {
     "iopub.execute_input": "2022-03-16T06:31:57.442951Z",
     "iopub.status.busy": "2022-03-16T06:31:57.442681Z",
     "iopub.status.idle": "2022-03-16T06:31:57.447028Z",
     "shell.execute_reply": "2022-03-16T06:31:57.446521Z"
    }
   },
   "outputs": [
    {
     "data": {
      "text/plain": [
       "'a \\\\sin{\\\\left(\\\\omega \\\\right)} + \\\\frac{\\\\left|{f{\\\\left(t \\\\right)}}\\\\right|}{\\\\sqrt{b}}'"
      ]
     },
     "execution_count": 25,
     "metadata": {},
     "output_type": "execute_result"
    }
   ],
   "source": [
    "sm.latex(expr3)"
   ]
  },
  {
   "cell_type": "code",
   "execution_count": 26,
   "id": "0567198c",
   "metadata": {
    "execution": {
     "iopub.execute_input": "2022-03-16T06:31:57.449862Z",
     "iopub.status.busy": "2022-03-16T06:31:57.449513Z",
     "iopub.status.idle": "2022-03-16T06:31:57.453226Z",
     "shell.execute_reply": "2022-03-16T06:31:57.452689Z"
    }
   },
   "outputs": [
    {
     "name": "stdout",
     "output_type": "stream",
     "text": [
      "a \\sin{\\left(\\omega \\right)} + \\frac{\\left|{f{\\left(t \\right)}}\\right|}{\\sqrt{b}}\n"
     ]
    }
   ],
   "source": [
    "print(sm.latex(expr3))"
   ]
  },
  {
   "cell_type": "code",
   "execution_count": 27,
   "id": "718bda73",
   "metadata": {
    "execution": {
     "iopub.execute_input": "2022-03-16T06:31:57.456250Z",
     "iopub.status.busy": "2022-03-16T06:31:57.455893Z",
     "iopub.status.idle": "2022-03-16T06:31:57.461143Z",
     "shell.execute_reply": "2022-03-16T06:31:57.460602Z"
    }
   },
   "outputs": [
    {
     "data": {
      "text/latex": [
       "$\\displaystyle \\frac{d}{d t} f{\\left(t \\right)}$"
      ],
      "text/plain": [
       "d       \n",
       "──(f(t))\n",
       "dt      "
      ]
     },
     "execution_count": 27,
     "metadata": {},
     "output_type": "execute_result"
    }
   ],
   "source": [
    "sm.diff(f(t), t)"
   ]
  },
  {
   "cell_type": "code",
   "execution_count": 28,
   "id": "c3f78878",
   "metadata": {
    "execution": {
     "iopub.execute_input": "2022-03-16T06:31:57.464082Z",
     "iopub.status.busy": "2022-03-16T06:31:57.463712Z",
     "iopub.status.idle": "2022-03-16T06:31:57.468646Z",
     "shell.execute_reply": "2022-03-16T06:31:57.468105Z"
    }
   },
   "outputs": [
    {
     "data": {
      "text/latex": [
       "$\\displaystyle \\frac{d}{d t} f{\\left(t \\right)}$"
      ],
      "text/plain": [
       "d       \n",
       "──(f(t))\n",
       "dt      "
      ]
     },
     "execution_count": 28,
     "metadata": {},
     "output_type": "execute_result"
    }
   ],
   "source": [
    "f(t).diff(t)"
   ]
  },
  {
   "cell_type": "code",
   "execution_count": 29,
   "id": "d89a74c2",
   "metadata": {
    "execution": {
     "iopub.execute_input": "2022-03-16T06:31:57.471607Z",
     "iopub.status.busy": "2022-03-16T06:31:57.471184Z",
     "iopub.status.idle": "2022-03-16T06:31:57.476442Z",
     "shell.execute_reply": "2022-03-16T06:31:57.475901Z"
    }
   },
   "outputs": [
    {
     "data": {
      "text/latex": [
       "$\\displaystyle a \\sin{\\left(\\omega \\right)} + \\frac{\\left|{f{\\left(t \\right)}}\\right|}{\\sqrt{b}}$"
      ],
      "text/plain": [
       "           │f(t)│\n",
       "a⋅sin(ω) + ──────\n",
       "             √b  "
      ]
     },
     "execution_count": 29,
     "metadata": {},
     "output_type": "execute_result"
    }
   ],
   "source": [
    "expr3"
   ]
  },
  {
   "cell_type": "code",
   "execution_count": 30,
   "id": "e4eece99",
   "metadata": {
    "execution": {
     "iopub.execute_input": "2022-03-16T06:31:57.479360Z",
     "iopub.status.busy": "2022-03-16T06:31:57.478936Z",
     "iopub.status.idle": "2022-03-16T06:31:57.489138Z",
     "shell.execute_reply": "2022-03-16T06:31:57.488605Z"
    }
   },
   "outputs": [
    {
     "data": {
      "text/latex": [
       "$\\displaystyle - \\frac{\\left|{f{\\left(t \\right)}}\\right|}{2 b^{\\frac{3}{2}}}$"
      ],
      "text/plain": [
       "-│f(t)│ \n",
       "────────\n",
       "    3/2 \n",
       " 2⋅b    "
      ]
     },
     "execution_count": 30,
     "metadata": {},
     "output_type": "execute_result"
    }
   ],
   "source": [
    "expr3.diff(b)"
   ]
  },
  {
   "cell_type": "code",
   "execution_count": 31,
   "id": "9da5ac43",
   "metadata": {
    "execution": {
     "iopub.execute_input": "2022-03-16T06:31:57.491539Z",
     "iopub.status.busy": "2022-03-16T06:31:57.491182Z",
     "iopub.status.idle": "2022-03-16T06:31:57.514153Z",
     "shell.execute_reply": "2022-03-16T06:31:57.513575Z"
    }
   },
   "outputs": [
    {
     "data": {
      "text/latex": [
       "$\\displaystyle - \\frac{\\left(\\operatorname{re}{\\left(f{\\left(t \\right)}\\right)} \\frac{d}{d t} \\operatorname{re}{\\left(f{\\left(t \\right)}\\right)} + \\operatorname{im}{\\left(f{\\left(t \\right)}\\right)} \\frac{d}{d t} \\operatorname{im}{\\left(f{\\left(t \\right)}\\right)}\\right) \\operatorname{sign}{\\left(f{\\left(t \\right)} \\right)}}{2 b^{\\frac{3}{2}} f{\\left(t \\right)}}$"
      ],
      "text/plain": [
       " ⎛         d                       d           ⎞            \n",
       "-⎜re(f(t))⋅──(re(f(t))) + im(f(t))⋅──(im(f(t)))⎟⋅sign(f(t)) \n",
       " ⎝         dt                      dt          ⎠            \n",
       "────────────────────────────────────────────────────────────\n",
       "                           3/2                              \n",
       "                        2⋅b   ⋅f(t)                         "
      ]
     },
     "execution_count": 31,
     "metadata": {},
     "output_type": "execute_result"
    }
   ],
   "source": [
    "expr3.diff(b, t)"
   ]
  },
  {
   "cell_type": "code",
   "execution_count": 32,
   "id": "4500eda9",
   "metadata": {
    "execution": {
     "iopub.execute_input": "2022-03-16T06:31:57.517743Z",
     "iopub.status.busy": "2022-03-16T06:31:57.517351Z",
     "iopub.status.idle": "2022-03-16T06:31:57.536602Z",
     "shell.execute_reply": "2022-03-16T06:31:57.536031Z"
    }
   },
   "outputs": [
    {
     "data": {
      "text/latex": [
       "$\\displaystyle \\frac{\\left(\\operatorname{re}{\\left(h{\\left(t \\right)}\\right)} \\frac{d}{d t} \\operatorname{re}{\\left(h{\\left(t \\right)}\\right)} + \\operatorname{im}{\\left(h{\\left(t \\right)}\\right)} \\frac{d}{d t} \\operatorname{im}{\\left(h{\\left(t \\right)}\\right)}\\right) \\operatorname{sign}{\\left(h{\\left(t \\right)} \\right)}}{h{\\left(t \\right)}}$"
      ],
      "text/plain": [
       "⎛         d                       d           ⎞           \n",
       "⎜re(h(t))⋅──(re(h(t))) + im(h(t))⋅──(im(h(t)))⎟⋅sign(h(t))\n",
       "⎝         dt                      dt          ⎠           \n",
       "──────────────────────────────────────────────────────────\n",
       "                           h(t)                           "
      ]
     },
     "execution_count": 32,
     "metadata": {},
     "output_type": "execute_result"
    }
   ],
   "source": [
    "h = sm.Function('h')\n",
    "sm.Abs(h(t)).diff(t)"
   ]
  },
  {
   "cell_type": "code",
   "execution_count": 33,
   "id": "f66cdf3d",
   "metadata": {
    "execution": {
     "iopub.execute_input": "2022-03-16T06:31:57.539013Z",
     "iopub.status.busy": "2022-03-16T06:31:57.538733Z",
     "iopub.status.idle": "2022-03-16T06:31:57.546636Z",
     "shell.execute_reply": "2022-03-16T06:31:57.546105Z"
    }
   },
   "outputs": [
    {
     "data": {
      "text/latex": [
       "$\\displaystyle \\operatorname{sign}{\\left(h{\\left(t \\right)} \\right)} \\frac{d}{d t} h{\\left(t \\right)}$"
      ],
      "text/plain": [
       "           d       \n",
       "sign(h(t))⋅──(h(t))\n",
       "           dt      "
      ]
     },
     "execution_count": 33,
     "metadata": {},
     "output_type": "execute_result"
    }
   ],
   "source": [
    "h = sm.Function('h', real=True)\n",
    "sm.Abs(h(t)).diff(t)"
   ]
  },
  {
   "cell_type": "code",
   "execution_count": 34,
   "id": "e37eb361",
   "metadata": {
    "execution": {
     "iopub.execute_input": "2022-03-16T06:31:57.549232Z",
     "iopub.status.busy": "2022-03-16T06:31:57.548813Z",
     "iopub.status.idle": "2022-03-16T06:31:57.554808Z",
     "shell.execute_reply": "2022-03-16T06:31:57.554268Z"
    }
   },
   "outputs": [
    {
     "data": {
      "text/latex": [
       "$\\displaystyle \\frac{d}{d t} h{\\left(t \\right)}$"
      ],
      "text/plain": [
       "d       \n",
       "──(h(t))\n",
       "dt      "
      ]
     },
     "execution_count": 34,
     "metadata": {},
     "output_type": "execute_result"
    }
   ],
   "source": [
    "h = sm.Function('h', real=True, positive=True)\n",
    "sm.Abs(h(t)).diff(t)"
   ]
  },
  {
   "cell_type": "code",
   "execution_count": 35,
   "id": "a5fde238",
   "metadata": {
    "execution": {
     "iopub.execute_input": "2022-03-16T06:31:57.557634Z",
     "iopub.status.busy": "2022-03-16T06:31:57.557360Z",
     "iopub.status.idle": "2022-03-16T06:31:57.562966Z",
     "shell.execute_reply": "2022-03-16T06:31:57.562463Z"
    }
   },
   "outputs": [
    {
     "data": {
      "text/latex": [
       "$\\displaystyle t \\sin{\\left(\\omega f{\\left(t \\right)} \\right)} + \\frac{f{\\left(t \\right)}}{\\sqrt{t}}$"
      ],
      "text/plain": [
       "                f(t)\n",
       "t⋅sin(ω⋅f(t)) + ────\n",
       "                 √t "
      ]
     },
     "execution_count": 35,
     "metadata": {},
     "output_type": "execute_result"
    }
   ],
   "source": [
    "expr5"
   ]
  },
  {
   "cell_type": "code",
   "execution_count": 36,
   "id": "36e0ea0a",
   "metadata": {
    "execution": {
     "iopub.execute_input": "2022-03-16T06:31:57.565944Z",
     "iopub.status.busy": "2022-03-16T06:31:57.565527Z",
     "iopub.status.idle": "2022-03-16T06:31:57.584857Z",
     "shell.execute_reply": "2022-03-16T06:31:57.584317Z"
    }
   },
   "outputs": [
    {
     "data": {
      "text/latex": [
       "$\\displaystyle \\omega t \\cos{\\left(\\omega f{\\left(t \\right)} \\right)} \\frac{d}{d t} f{\\left(t \\right)} + \\sin{\\left(\\omega f{\\left(t \\right)} \\right)} + \\frac{\\frac{d}{d t} f{\\left(t \\right)}}{\\sqrt{t}} - \\frac{f{\\left(t \\right)}}{2 t^{\\frac{3}{2}}}$"
      ],
      "text/plain": [
       "                                         d                \n",
       "                                         ──(f(t))         \n",
       "                d                        dt          f(t) \n",
       "ω⋅t⋅cos(ω⋅f(t))⋅──(f(t)) + sin(ω⋅f(t)) + ──────── - ──────\n",
       "                dt                          √t         3/2\n",
       "                                                    2⋅t   "
      ]
     },
     "execution_count": 36,
     "metadata": {},
     "output_type": "execute_result"
    }
   ],
   "source": [
    "expr5.diff(t)"
   ]
  },
  {
   "cell_type": "code",
   "execution_count": 37,
   "id": "f5fe1fdd",
   "metadata": {
    "execution": {
     "iopub.execute_input": "2022-03-16T06:31:57.587279Z",
     "iopub.status.busy": "2022-03-16T06:31:57.586989Z",
     "iopub.status.idle": "2022-03-16T06:31:57.590410Z",
     "shell.execute_reply": "2022-03-16T06:31:57.589844Z"
    }
   },
   "outputs": [],
   "source": [
    "repl = {omega: sm.pi/4, a: 2, f(t): -12, b: 25}"
   ]
  },
  {
   "cell_type": "code",
   "execution_count": 38,
   "id": "a5d5dfd5",
   "metadata": {
    "execution": {
     "iopub.execute_input": "2022-03-16T06:31:57.592890Z",
     "iopub.status.busy": "2022-03-16T06:31:57.592480Z",
     "iopub.status.idle": "2022-03-16T06:31:57.601779Z",
     "shell.execute_reply": "2022-03-16T06:31:57.601249Z"
    }
   },
   "outputs": [
    {
     "data": {
      "text/latex": [
       "$\\displaystyle \\sqrt{2} + \\frac{12}{5}$"
      ],
      "text/plain": [
       "√2 + 12/5"
      ]
     },
     "execution_count": 38,
     "metadata": {},
     "output_type": "execute_result"
    }
   ],
   "source": [
    "expr3.xreplace(repl)"
   ]
  },
  {
   "cell_type": "code",
   "execution_count": 39,
   "id": "de79a71e",
   "metadata": {
    "execution": {
     "iopub.execute_input": "2022-03-16T06:31:57.604746Z",
     "iopub.status.busy": "2022-03-16T06:31:57.604382Z",
     "iopub.status.idle": "2022-03-16T06:31:57.609906Z",
     "shell.execute_reply": "2022-03-16T06:31:57.609392Z"
    }
   },
   "outputs": [
    {
     "data": {
      "text/latex": [
       "$\\displaystyle 3.81421356237309504880168872421$"
      ],
      "text/plain": [
       "3.814213562373095048801688724210"
      ]
     },
     "execution_count": 39,
     "metadata": {},
     "output_type": "execute_result"
    }
   ],
   "source": [
    "expr3.evalf(n=31, subs=repl)"
   ]
  },
  {
   "cell_type": "code",
   "execution_count": 40,
   "id": "5d23bc82",
   "metadata": {
    "execution": {
     "iopub.execute_input": "2022-03-16T06:31:57.612873Z",
     "iopub.status.busy": "2022-03-16T06:31:57.612454Z",
     "iopub.status.idle": "2022-03-16T06:31:57.617427Z",
     "shell.execute_reply": "2022-03-16T06:31:57.616910Z"
    }
   },
   "outputs": [
    {
     "data": {
      "text/plain": [
       "sympy.core.numbers.Float"
      ]
     },
     "execution_count": 40,
     "metadata": {},
     "output_type": "execute_result"
    }
   ],
   "source": [
    "type(expr3.evalf(n=31, subs=repl))"
   ]
  },
  {
   "cell_type": "code",
   "execution_count": 41,
   "id": "68c73edf",
   "metadata": {
    "execution": {
     "iopub.execute_input": "2022-03-16T06:31:57.620365Z",
     "iopub.status.busy": "2022-03-16T06:31:57.619941Z",
     "iopub.status.idle": "2022-03-16T06:31:57.625676Z",
     "shell.execute_reply": "2022-03-16T06:31:57.625152Z"
    }
   },
   "outputs": [
    {
     "data": {
      "text/latex": [
       "$\\displaystyle 3.81421356237309504880168872420969807856967187537694807317667973799073247846210703885038753432764157273501384623091229702492483605585073721264412149709993583141322266592750559275579995050115278206057147010955997160597027453459686201472851741864088919860955232923048430871432145083976260362799525140799$"
      ],
      "text/plain": [
       "3.8142135623730950488016887242096980785696718753769480731766797379907324784621\n",
       "070388503875343276415727350138462309122970249248360558507372126441214970999358\n",
       "314132226659275055927557999505011527820605714701095599716059702745345968620147\n",
       "2851741864088919860955232923048430871432145083976260362799525140799"
      ]
     },
     "execution_count": 41,
     "metadata": {},
     "output_type": "execute_result"
    }
   ],
   "source": [
    "expr3.evalf(n=300, subs=repl)"
   ]
  },
  {
   "cell_type": "code",
   "execution_count": 42,
   "id": "2ed0716a",
   "metadata": {
    "execution": {
     "iopub.execute_input": "2022-03-16T06:31:57.628570Z",
     "iopub.status.busy": "2022-03-16T06:31:57.628201Z",
     "iopub.status.idle": "2022-03-16T06:31:57.633486Z",
     "shell.execute_reply": "2022-03-16T06:31:57.632970Z"
    }
   },
   "outputs": [
    {
     "data": {
      "text/latex": [
       "$\\displaystyle 3.81421356237309$"
      ],
      "text/plain": [
       "3.814213562373095"
      ]
     },
     "execution_count": 42,
     "metadata": {},
     "output_type": "execute_result"
    }
   ],
   "source": [
    "float(expr3.evalf(n=300, subs=repl))"
   ]
  },
  {
   "cell_type": "code",
   "execution_count": 43,
   "id": "d8173d2c",
   "metadata": {
    "execution": {
     "iopub.execute_input": "2022-03-16T06:31:57.636427Z",
     "iopub.status.busy": "2022-03-16T06:31:57.635962Z",
     "iopub.status.idle": "2022-03-16T06:31:57.642110Z",
     "shell.execute_reply": "2022-03-16T06:31:57.641595Z"
    }
   },
   "outputs": [
    {
     "data": {
      "text/plain": [
       "float"
      ]
     },
     "execution_count": 43,
     "metadata": {},
     "output_type": "execute_result"
    }
   ],
   "source": [
    "type(float(expr3.evalf(n=300, subs=repl)))"
   ]
  },
  {
   "cell_type": "code",
   "execution_count": 44,
   "id": "3c8d4781",
   "metadata": {
    "execution": {
     "iopub.execute_input": "2022-03-16T06:31:57.644470Z",
     "iopub.status.busy": "2022-03-16T06:31:57.644045Z",
     "iopub.status.idle": "2022-03-16T06:31:57.817826Z",
     "shell.execute_reply": "2022-03-16T06:31:57.817261Z"
    }
   },
   "outputs": [],
   "source": [
    "eval_expr3 = sm.lambdify((omega, a, f(t), b), expr3)"
   ]
  },
  {
   "cell_type": "code",
   "execution_count": 45,
   "id": "f654d4ed",
   "metadata": {
    "execution": {
     "iopub.execute_input": "2022-03-16T06:31:57.820930Z",
     "iopub.status.busy": "2022-03-16T06:31:57.820624Z",
     "iopub.status.idle": "2022-03-16T06:31:57.825574Z",
     "shell.execute_reply": "2022-03-16T06:31:57.825090Z"
    }
   },
   "outputs": [
    {
     "name": "stdout",
     "output_type": "stream",
     "text": [
      "Help on function _lambdifygenerated:\n",
      "\n",
      "_lambdifygenerated(omega, a, _Dummy_23, b)\n",
      "    Created with lambdify. Signature:\n",
      "    \n",
      "    func(omega, a, f, b)\n",
      "    \n",
      "    Expression:\n",
      "    \n",
      "    a*sin(omega) + Abs(f(t))/sqrt(b)\n",
      "    \n",
      "    Source code:\n",
      "    \n",
      "    def _lambdifygenerated(omega, a, _Dummy_23, b):\n",
      "        return a*sin(omega) + abs(_Dummy_23)/sqrt(b)\n",
      "    \n",
      "    \n",
      "    Imported modules:\n",
      "\n"
     ]
    }
   ],
   "source": [
    "help(eval_expr3)"
   ]
  },
  {
   "cell_type": "code",
   "execution_count": 46,
   "id": "61793114",
   "metadata": {
    "execution": {
     "iopub.execute_input": "2022-03-16T06:31:57.828274Z",
     "iopub.status.busy": "2022-03-16T06:31:57.827922Z",
     "iopub.status.idle": "2022-03-16T06:31:57.834164Z",
     "shell.execute_reply": "2022-03-16T06:31:57.833689Z"
    }
   },
   "outputs": [
    {
     "data": {
      "text/latex": [
       "$\\displaystyle 3.81365036221073$"
      ],
      "text/plain": [
       "3.8136503622107316"
      ]
     },
     "execution_count": 46,
     "metadata": {},
     "output_type": "execute_result"
    }
   ],
   "source": [
    "eval_expr3(3.14/4, 2, -12, 25)"
   ]
  },
  {
   "cell_type": "code",
   "execution_count": 47,
   "id": "c753f821",
   "metadata": {
    "execution": {
     "iopub.execute_input": "2022-03-16T06:31:57.836580Z",
     "iopub.status.busy": "2022-03-16T06:31:57.836204Z",
     "iopub.status.idle": "2022-03-16T06:31:57.841923Z",
     "shell.execute_reply": "2022-03-16T06:31:57.841445Z"
    }
   },
   "outputs": [
    {
     "data": {
      "text/plain": [
       "numpy.float64"
      ]
     },
     "execution_count": 47,
     "metadata": {},
     "output_type": "execute_result"
    }
   ],
   "source": [
    "type(eval_expr3(3.14/4, 2, -12, 25))"
   ]
  },
  {
   "cell_type": "code",
   "execution_count": 48,
   "id": "b54c86f7",
   "metadata": {
    "execution": {
     "iopub.execute_input": "2022-03-16T06:31:57.844401Z",
     "iopub.status.busy": "2022-03-16T06:31:57.843931Z",
     "iopub.status.idle": "2022-03-16T06:31:57.850208Z",
     "shell.execute_reply": "2022-03-16T06:31:57.849665Z"
    }
   },
   "outputs": [
    {
     "data": {
      "text/latex": [
       "$\\displaystyle \\left[\\begin{matrix}a & 2 a\\\\\\frac{b}{\\omega} & f{\\left(t \\right)}\\end{matrix}\\right]$"
      ],
      "text/plain": [
       "⎡a  2⋅a ⎤\n",
       "⎢       ⎥\n",
       "⎢b      ⎥\n",
       "⎢─  f(t)⎥\n",
       "⎣ω      ⎦"
      ]
     },
     "execution_count": 48,
     "metadata": {},
     "output_type": "execute_result"
    }
   ],
   "source": [
    "mat1 = sm.Matrix([[a, 2*a], [b/omega, f(t)]])\n",
    "mat1"
   ]
  },
  {
   "cell_type": "code",
   "execution_count": 49,
   "id": "3b676d65",
   "metadata": {
    "execution": {
     "iopub.execute_input": "2022-03-16T06:31:57.852809Z",
     "iopub.status.busy": "2022-03-16T06:31:57.852450Z",
     "iopub.status.idle": "2022-03-16T06:31:57.857347Z",
     "shell.execute_reply": "2022-03-16T06:31:57.856816Z"
    }
   },
   "outputs": [
    {
     "data": {
      "text/latex": [
       "$\\displaystyle \\left[\\begin{matrix}1 & 2\\\\3 & 4\\end{matrix}\\right]$"
      ],
      "text/plain": [
       "⎡1  2⎤\n",
       "⎢    ⎥\n",
       "⎣3  4⎦"
      ]
     },
     "execution_count": 49,
     "metadata": {},
     "output_type": "execute_result"
    }
   ],
   "source": [
    "mat2 = sm.Matrix([[1, 2], [3, 4]])\n",
    "mat2"
   ]
  },
  {
   "cell_type": "code",
   "execution_count": 50,
   "id": "e12fd6c5",
   "metadata": {
    "execution": {
     "iopub.execute_input": "2022-03-16T06:31:57.860235Z",
     "iopub.status.busy": "2022-03-16T06:31:57.859869Z",
     "iopub.status.idle": "2022-03-16T06:31:57.863841Z",
     "shell.execute_reply": "2022-03-16T06:31:57.863298Z"
    }
   },
   "outputs": [
    {
     "data": {
      "text/latex": [
       "$\\displaystyle \\left( 2, \\  2\\right)$"
      ],
      "text/plain": [
       "(2, 2)"
      ]
     },
     "execution_count": 50,
     "metadata": {},
     "output_type": "execute_result"
    }
   ],
   "source": [
    "mat1.shape"
   ]
  },
  {
   "cell_type": "code",
   "execution_count": 51,
   "id": "0c229eec",
   "metadata": {
    "execution": {
     "iopub.execute_input": "2022-03-16T06:31:57.866726Z",
     "iopub.status.busy": "2022-03-16T06:31:57.866370Z",
     "iopub.status.idle": "2022-03-16T06:31:57.870572Z",
     "shell.execute_reply": "2022-03-16T06:31:57.870035Z"
    }
   },
   "outputs": [
    {
     "data": {
      "text/latex": [
       "$\\displaystyle 2 a$"
      ],
      "text/plain": [
       "2⋅a"
      ]
     },
     "execution_count": 51,
     "metadata": {},
     "output_type": "execute_result"
    }
   ],
   "source": [
    "mat1[0, 1]"
   ]
  },
  {
   "cell_type": "code",
   "execution_count": 52,
   "id": "0a6ebaed",
   "metadata": {
    "execution": {
     "iopub.execute_input": "2022-03-16T06:31:57.873442Z",
     "iopub.status.busy": "2022-03-16T06:31:57.873092Z",
     "iopub.status.idle": "2022-03-16T06:31:57.877763Z",
     "shell.execute_reply": "2022-03-16T06:31:57.877235Z"
    }
   },
   "outputs": [
    {
     "data": {
      "text/latex": [
       "$\\displaystyle \\left[\\begin{matrix}a & 2 a\\end{matrix}\\right]$"
      ],
      "text/plain": [
       "[a  2⋅a]"
      ]
     },
     "execution_count": 52,
     "metadata": {},
     "output_type": "execute_result"
    }
   ],
   "source": [
    "mat1[0, 0:2]"
   ]
  },
  {
   "cell_type": "code",
   "execution_count": 53,
   "id": "7f532187",
   "metadata": {
    "execution": {
     "iopub.execute_input": "2022-03-16T06:31:57.880840Z",
     "iopub.status.busy": "2022-03-16T06:31:57.880494Z",
     "iopub.status.idle": "2022-03-16T06:31:57.885353Z",
     "shell.execute_reply": "2022-03-16T06:31:57.884815Z"
    }
   },
   "outputs": [
    {
     "data": {
      "text/latex": [
       "$\\displaystyle \\left[\\begin{matrix}2 a\\\\f{\\left(t \\right)}\\end{matrix}\\right]$"
      ],
      "text/plain": [
       "⎡2⋅a ⎤\n",
       "⎢    ⎥\n",
       "⎣f(t)⎦"
      ]
     },
     "execution_count": 53,
     "metadata": {},
     "output_type": "execute_result"
    }
   ],
   "source": [
    "mat1[0:2, 1]"
   ]
  },
  {
   "cell_type": "code",
   "execution_count": 54,
   "id": "8005d805",
   "metadata": {
    "execution": {
     "iopub.execute_input": "2022-03-16T06:31:57.888366Z",
     "iopub.status.busy": "2022-03-16T06:31:57.888003Z",
     "iopub.status.idle": "2022-03-16T06:31:57.895318Z",
     "shell.execute_reply": "2022-03-16T06:31:57.894790Z"
    }
   },
   "outputs": [
    {
     "data": {
      "text/latex": [
       "$\\displaystyle \\left[\\begin{matrix}a + 1 & 2 a + 2\\\\\\frac{b}{\\omega} + 3 & f{\\left(t \\right)} + 4\\end{matrix}\\right]$"
      ],
      "text/plain": [
       "⎡a + 1  2⋅a + 2 ⎤\n",
       "⎢               ⎥\n",
       "⎢b              ⎥\n",
       "⎢─ + 3  f(t) + 4⎥\n",
       "⎣ω              ⎦"
      ]
     },
     "execution_count": 54,
     "metadata": {},
     "output_type": "execute_result"
    }
   ],
   "source": [
    "mat1 + mat2"
   ]
  },
  {
   "cell_type": "code",
   "execution_count": 55,
   "id": "a8552084",
   "metadata": {
    "execution": {
     "iopub.execute_input": "2022-03-16T06:31:57.898157Z",
     "iopub.status.busy": "2022-03-16T06:31:57.897812Z",
     "iopub.status.idle": "2022-03-16T06:31:57.908240Z",
     "shell.execute_reply": "2022-03-16T06:31:57.907689Z"
    }
   },
   "outputs": [
    {
     "data": {
      "text/latex": [
       "$\\displaystyle \\left[\\begin{matrix}7 a & 10 a\\\\\\frac{b}{\\omega} + 3 f{\\left(t \\right)} & \\frac{2 b}{\\omega} + 4 f{\\left(t \\right)}\\end{matrix}\\right]$"
      ],
      "text/plain": [
       "⎡   7⋅a          10⋅a    ⎤\n",
       "⎢                        ⎥\n",
       "⎢b           2⋅b         ⎥\n",
       "⎢─ + 3⋅f(t)  ─── + 4⋅f(t)⎥\n",
       "⎣ω            ω          ⎦"
      ]
     },
     "execution_count": 55,
     "metadata": {},
     "output_type": "execute_result"
    }
   ],
   "source": [
    "mat1*mat2"
   ]
  },
  {
   "cell_type": "code",
   "execution_count": 56,
   "id": "ba0f88c5",
   "metadata": {
    "execution": {
     "iopub.execute_input": "2022-03-16T06:31:57.911214Z",
     "iopub.status.busy": "2022-03-16T06:31:57.910862Z",
     "iopub.status.idle": "2022-03-16T06:31:57.918011Z",
     "shell.execute_reply": "2022-03-16T06:31:57.917492Z"
    }
   },
   "outputs": [
    {
     "data": {
      "text/latex": [
       "$\\displaystyle \\left[\\begin{matrix}7 a & 10 a\\\\\\frac{b}{\\omega} + 3 f{\\left(t \\right)} & \\frac{2 b}{\\omega} + 4 f{\\left(t \\right)}\\end{matrix}\\right]$"
      ],
      "text/plain": [
       "⎡   7⋅a          10⋅a    ⎤\n",
       "⎢                        ⎥\n",
       "⎢b           2⋅b         ⎥\n",
       "⎢─ + 3⋅f(t)  ─── + 4⋅f(t)⎥\n",
       "⎣ω            ω          ⎦"
      ]
     },
     "execution_count": 56,
     "metadata": {},
     "output_type": "execute_result"
    }
   ],
   "source": [
    "mat1@mat2"
   ]
  },
  {
   "cell_type": "code",
   "execution_count": 57,
   "id": "98daf5ad",
   "metadata": {
    "execution": {
     "iopub.execute_input": "2022-03-16T06:31:57.920838Z",
     "iopub.status.busy": "2022-03-16T06:31:57.920492Z",
     "iopub.status.idle": "2022-03-16T06:31:57.927416Z",
     "shell.execute_reply": "2022-03-16T06:31:57.926888Z"
    }
   },
   "outputs": [
    {
     "data": {
      "text/latex": [
       "$\\displaystyle \\left[\\begin{matrix}a & 4 a\\\\\\frac{3 b}{\\omega} & 4 f{\\left(t \\right)}\\end{matrix}\\right]$"
      ],
      "text/plain": [
       "⎡ a    4⋅a  ⎤\n",
       "⎢           ⎥\n",
       "⎢3⋅b        ⎥\n",
       "⎢───  4⋅f(t)⎥\n",
       "⎣ ω         ⎦"
      ]
     },
     "execution_count": 57,
     "metadata": {},
     "output_type": "execute_result"
    }
   ],
   "source": [
    "sm.hadamard_product(mat1, mat2)"
   ]
  },
  {
   "cell_type": "code",
   "execution_count": 58,
   "id": "d68f50d0",
   "metadata": {
    "execution": {
     "iopub.execute_input": "2022-03-16T06:31:57.930263Z",
     "iopub.status.busy": "2022-03-16T06:31:57.929915Z",
     "iopub.status.idle": "2022-03-16T06:31:57.940481Z",
     "shell.execute_reply": "2022-03-16T06:31:57.939927Z"
    }
   },
   "outputs": [
    {
     "data": {
      "text/latex": [
       "$\\displaystyle \\left[\\begin{matrix}a + \\frac{b}{\\omega^{2}}\\\\a \\omega + f{\\left(t \\right)}\\\\a \\sin{\\left(\\omega \\right)} + \\frac{\\left|{f{\\left(t \\right)}}\\right|}{\\sqrt{b}}\\\\5 \\sin{\\left(12 \\right)} + 105.986768359379\\\\t \\sin{\\left(\\omega f{\\left(t \\right)} \\right)} + \\frac{f{\\left(t \\right)}}{\\sqrt{t}}\\end{matrix}\\right]$"
      ],
      "text/plain": [
       "⎡               b            ⎤\n",
       "⎢           a + ──           ⎥\n",
       "⎢                2           ⎥\n",
       "⎢               ω            ⎥\n",
       "⎢                            ⎥\n",
       "⎢         a⋅ω + f(t)         ⎥\n",
       "⎢                            ⎥\n",
       "⎢                │f(t)│      ⎥\n",
       "⎢     a⋅sin(ω) + ──────      ⎥\n",
       "⎢                  √b        ⎥\n",
       "⎢                            ⎥\n",
       "⎢5⋅sin(12) + 105.986768359379⎥\n",
       "⎢                            ⎥\n",
       "⎢                    f(t)    ⎥\n",
       "⎢    t⋅sin(ω⋅f(t)) + ────    ⎥\n",
       "⎣                     √t     ⎦"
      ]
     },
     "execution_count": 58,
     "metadata": {},
     "output_type": "execute_result"
    }
   ],
   "source": [
    "mat3 = sm.Matrix([expr1, expr2, expr3, expr4, expr5])\n",
    "mat3"
   ]
  },
  {
   "cell_type": "code",
   "execution_count": 59,
   "id": "dd7c884e",
   "metadata": {
    "execution": {
     "iopub.execute_input": "2022-03-16T06:31:57.943432Z",
     "iopub.status.busy": "2022-03-16T06:31:57.943078Z",
     "iopub.status.idle": "2022-03-16T06:31:57.958896Z",
     "shell.execute_reply": "2022-03-16T06:31:57.958352Z"
    }
   },
   "outputs": [
    {
     "data": {
      "text/latex": [
       "$\\displaystyle \\left[\\begin{matrix}1\\\\\\omega\\\\\\sin{\\left(\\omega \\right)}\\\\0\\\\0\\end{matrix}\\right]$"
      ],
      "text/plain": [
       "⎡  1   ⎤\n",
       "⎢      ⎥\n",
       "⎢  ω   ⎥\n",
       "⎢      ⎥\n",
       "⎢sin(ω)⎥\n",
       "⎢      ⎥\n",
       "⎢  0   ⎥\n",
       "⎢      ⎥\n",
       "⎣  0   ⎦"
      ]
     },
     "execution_count": 59,
     "metadata": {},
     "output_type": "execute_result"
    }
   ],
   "source": [
    "mat3.diff(a)"
   ]
  },
  {
   "cell_type": "code",
   "execution_count": 60,
   "id": "5b4eec03",
   "metadata": {
    "execution": {
     "iopub.execute_input": "2022-03-16T06:31:57.961275Z",
     "iopub.status.busy": "2022-03-16T06:31:57.960993Z",
     "iopub.status.idle": "2022-03-16T06:31:57.978188Z",
     "shell.execute_reply": "2022-03-16T06:31:57.977651Z"
    }
   },
   "outputs": [
    {
     "data": {
      "text/latex": [
       "$\\displaystyle \\left[\\begin{matrix}0\\\\\\frac{d}{d t} f{\\left(t \\right)}\\\\\\frac{\\left(\\operatorname{re}{\\left(f{\\left(t \\right)}\\right)} \\frac{d}{d t} \\operatorname{re}{\\left(f{\\left(t \\right)}\\right)} + \\operatorname{im}{\\left(f{\\left(t \\right)}\\right)} \\frac{d}{d t} \\operatorname{im}{\\left(f{\\left(t \\right)}\\right)}\\right) \\operatorname{sign}{\\left(f{\\left(t \\right)} \\right)}}{\\sqrt{b} f{\\left(t \\right)}}\\\\0\\\\\\omega t \\cos{\\left(\\omega f{\\left(t \\right)} \\right)} \\frac{d}{d t} f{\\left(t \\right)} + \\sin{\\left(\\omega f{\\left(t \\right)} \\right)} + \\frac{\\frac{d}{d t} f{\\left(t \\right)}}{\\sqrt{t}} - \\frac{f{\\left(t \\right)}}{2 t^{\\frac{3}{2}}}\\end{matrix}\\right]$"
      ],
      "text/plain": [
       "⎡                            0                             ⎤\n",
       "⎢                                                          ⎥\n",
       "⎢                         d                                ⎥\n",
       "⎢                         ──(f(t))                         ⎥\n",
       "⎢                         dt                               ⎥\n",
       "⎢                                                          ⎥\n",
       "⎢⎛         d                       d           ⎞           ⎥\n",
       "⎢⎜re(f(t))⋅──(re(f(t))) + im(f(t))⋅──(im(f(t)))⎟⋅sign(f(t))⎥\n",
       "⎢⎝         dt                      dt          ⎠           ⎥\n",
       "⎢──────────────────────────────────────────────────────────⎥\n",
       "⎢                         √b⋅f(t)                          ⎥\n",
       "⎢                                                          ⎥\n",
       "⎢                            0                             ⎥\n",
       "⎢                                                          ⎥\n",
       "⎢                                         d                ⎥\n",
       "⎢                                         ──(f(t))         ⎥\n",
       "⎢                d                        dt          f(t) ⎥\n",
       "⎢ω⋅t⋅cos(ω⋅f(t))⋅──(f(t)) + sin(ω⋅f(t)) + ──────── - ──────⎥\n",
       "⎢                dt                          √t         3/2⎥\n",
       "⎣                                                    2⋅t   ⎦"
      ]
     },
     "execution_count": 60,
     "metadata": {},
     "output_type": "execute_result"
    }
   ],
   "source": [
    "mat3.diff(t)"
   ]
  },
  {
   "cell_type": "code",
   "execution_count": 61,
   "id": "5837fb27",
   "metadata": {
    "execution": {
     "iopub.execute_input": "2022-03-16T06:31:57.980641Z",
     "iopub.status.busy": "2022-03-16T06:31:57.980364Z",
     "iopub.status.idle": "2022-03-16T06:31:57.985515Z",
     "shell.execute_reply": "2022-03-16T06:31:57.984977Z"
    }
   },
   "outputs": [
    {
     "data": {
      "text/latex": [
       "$\\displaystyle \\left[\\begin{matrix}a\\\\b\\\\\\omega\\\\t\\end{matrix}\\right]$"
      ],
      "text/plain": [
       "⎡a⎤\n",
       "⎢ ⎥\n",
       "⎢b⎥\n",
       "⎢ ⎥\n",
       "⎢ω⎥\n",
       "⎢ ⎥\n",
       "⎣t⎦"
      ]
     },
     "execution_count": 61,
     "metadata": {},
     "output_type": "execute_result"
    }
   ],
   "source": [
    "mat4 = sm.Matrix([a, b, omega, t])\n",
    "mat4"
   ]
  },
  {
   "cell_type": "code",
   "execution_count": 62,
   "id": "f13c8464",
   "metadata": {
    "execution": {
     "iopub.execute_input": "2022-03-16T06:31:57.988478Z",
     "iopub.status.busy": "2022-03-16T06:31:57.988185Z",
     "iopub.status.idle": "2022-03-16T06:31:58.015896Z",
     "shell.execute_reply": "2022-03-16T06:31:58.015276Z"
    }
   },
   "outputs": [
    {
     "data": {
      "text/latex": [
       "$\\displaystyle \\left[\\begin{matrix}1 & \\frac{1}{\\omega^{2}} & - \\frac{2 b}{\\omega^{3}} & 0\\\\\\omega & 0 & a & \\frac{d}{d t} f{\\left(t \\right)}\\\\\\sin{\\left(\\omega \\right)} & - \\frac{\\left|{f{\\left(t \\right)}}\\right|}{2 b^{\\frac{3}{2}}} & a \\cos{\\left(\\omega \\right)} & \\frac{\\left(\\operatorname{re}{\\left(f{\\left(t \\right)}\\right)} \\frac{d}{d t} \\operatorname{re}{\\left(f{\\left(t \\right)}\\right)} + \\operatorname{im}{\\left(f{\\left(t \\right)}\\right)} \\frac{d}{d t} \\operatorname{im}{\\left(f{\\left(t \\right)}\\right)}\\right) \\operatorname{sign}{\\left(f{\\left(t \\right)} \\right)}}{\\sqrt{b} f{\\left(t \\right)}}\\\\0 & 0 & 0 & 0\\\\0 & 0 & t f{\\left(t \\right)} \\cos{\\left(\\omega f{\\left(t \\right)} \\right)} & \\omega t \\cos{\\left(\\omega f{\\left(t \\right)} \\right)} \\frac{d}{d t} f{\\left(t \\right)} + \\sin{\\left(\\omega f{\\left(t \\right)} \\right)} + \\frac{\\frac{d}{d t} f{\\left(t \\right)}}{\\sqrt{t}} - \\frac{f{\\left(t \\right)}}{2 t^{\\frac{3}{2}}}\\end{matrix}\\right]$"
      ],
      "text/plain": [
       "⎡           1            -2⋅b                                                 \n",
       "⎢  1        ──           ─────                                     0          \n",
       "⎢            2              3                                                 \n",
       "⎢           ω              ω                                                  \n",
       "⎢                                                                             \n",
       "⎢                                                               d             \n",
       "⎢  ω        0              a                                    ──(f(t))      \n",
       "⎢                                                               dt            \n",
       "⎢                                                                             \n",
       "⎢                                      ⎛         d                       d    \n",
       "⎢                                      ⎜re(f(t))⋅──(re(f(t))) + im(f(t))⋅──(im\n",
       "⎢        -│f(t)│                       ⎝         dt                      dt   \n",
       "⎢sin(ω)  ────────       a⋅cos(ω)       ───────────────────────────────────────\n",
       "⎢            3/2                                                √b⋅f(t)       \n",
       "⎢         2⋅b                                                                 \n",
       "⎢                                                                             \n",
       "⎢  0        0              0                                       0          \n",
       "⎢                                                                             \n",
       "⎢                                                                             \n",
       "⎢                                                                             \n",
       "⎢                                                      d                      \n",
       "⎢  0        0      t⋅f(t)⋅cos(ω⋅f(t))  ω⋅t⋅cos(ω⋅f(t))⋅──(f(t)) + sin(ω⋅f(t)) \n",
       "⎢                                                      dt                     \n",
       "⎣                                                                             \n",
       "\n",
       "                   ⎤\n",
       "                   ⎥\n",
       "                   ⎥\n",
       "                   ⎥\n",
       "                   ⎥\n",
       "                   ⎥\n",
       "                   ⎥\n",
       "                   ⎥\n",
       "                   ⎥\n",
       "       ⎞           ⎥\n",
       "(f(t)))⎟⋅sign(f(t))⎥\n",
       "       ⎠           ⎥\n",
       "───────────────────⎥\n",
       "                   ⎥\n",
       "                   ⎥\n",
       "                   ⎥\n",
       "                   ⎥\n",
       "                   ⎥\n",
       "  d                ⎥\n",
       "  ──(f(t))         ⎥\n",
       "  dt          f(t) ⎥\n",
       "+ ──────── - ──────⎥\n",
       "     √t         3/2⎥\n",
       "             2⋅t   ⎦"
      ]
     },
     "execution_count": 62,
     "metadata": {},
     "output_type": "execute_result"
    }
   ],
   "source": [
    "mat3.jacobian(mat4)"
   ]
  },
  {
   "cell_type": "code",
   "execution_count": 63,
   "id": "507c407a",
   "metadata": {
    "execution": {
     "iopub.execute_input": "2022-03-16T06:31:58.018825Z",
     "iopub.status.busy": "2022-03-16T06:31:58.018513Z",
     "iopub.status.idle": "2022-03-16T06:31:58.040142Z",
     "shell.execute_reply": "2022-03-16T06:31:58.039650Z"
    }
   },
   "outputs": [
    {
     "data": {
      "text/latex": [
       "$\\displaystyle \\left[\\begin{matrix}a_{1} \\sin{\\left(f{\\left(t \\right)} \\right)} \\cos{\\left(2 f{\\left(t \\right)} \\right)} + a_{2} + \\frac{\\omega \\log{\\left(t \\right)}}{\\log{\\left(f{\\left(t \\right)} \\right)}} + 100\\\\a_{1} \\omega^{2} + a_{2} f{\\left(t \\right)} + \\omega + f^{3}{\\left(t \\right)}\\end{matrix}\\right]$"
      ],
      "text/plain": [
       "⎡                                 ω⋅log(t)      ⎤\n",
       "⎢a₁⋅sin(f(t))⋅cos(2⋅f(t)) + a₂ + ───────── + 100⎥\n",
       "⎢                                log(f(t))      ⎥\n",
       "⎢                                               ⎥\n",
       "⎢              2                  3             ⎥\n",
       "⎣          a₁⋅ω  + a₂⋅f(t) + ω + f (t)          ⎦"
      ]
     },
     "execution_count": 63,
     "metadata": {},
     "output_type": "execute_result"
    }
   ],
   "source": [
    "a1, a2 = sm.symbols('a1, a2')\n",
    "\n",
    "exprs = sm.Matrix([\n",
    "    [a1*sm.sin(f(t))*sm.cos(2*f(t)) + a2 + omega/sm.log(f(t), t) + 100],\n",
    "    [a1*omega**2 + f(t)*a2 + omega + f(t)**3],\n",
    "])\n",
    "exprs"
   ]
  },
  {
   "cell_type": "code",
   "execution_count": 64,
   "id": "86ab5c0f",
   "metadata": {
    "execution": {
     "iopub.execute_input": "2022-03-16T06:31:58.042721Z",
     "iopub.status.busy": "2022-03-16T06:31:58.042275Z",
     "iopub.status.idle": "2022-03-16T06:31:58.053462Z",
     "shell.execute_reply": "2022-03-16T06:31:58.052944Z"
    }
   },
   "outputs": [
    {
     "data": {
      "text/latex": [
       "$\\displaystyle \\left[\\begin{matrix}\\sin{\\left(f{\\left(t \\right)} \\right)} \\cos{\\left(2 f{\\left(t \\right)} \\right)} & 1\\\\\\omega^{2} & f{\\left(t \\right)}\\end{matrix}\\right]$"
      ],
      "text/plain": [
       "⎡sin(f(t))⋅cos(2⋅f(t))   1  ⎤\n",
       "⎢                           ⎥\n",
       "⎢          2                ⎥\n",
       "⎣         ω             f(t)⎦"
      ]
     },
     "execution_count": 64,
     "metadata": {},
     "output_type": "execute_result"
    }
   ],
   "source": [
    "A = exprs.jacobian([a1, a2])\n",
    "A"
   ]
  },
  {
   "cell_type": "code",
   "execution_count": 65,
   "id": "4578548b",
   "metadata": {
    "execution": {
     "iopub.execute_input": "2022-03-16T06:31:58.056313Z",
     "iopub.status.busy": "2022-03-16T06:31:58.055846Z",
     "iopub.status.idle": "2022-03-16T06:31:58.064044Z",
     "shell.execute_reply": "2022-03-16T06:31:58.063511Z"
    }
   },
   "outputs": [
    {
     "data": {
      "text/latex": [
       "$\\displaystyle \\left[\\begin{matrix}- \\frac{\\omega \\log{\\left(t \\right)}}{\\log{\\left(f{\\left(t \\right)} \\right)}} - 100\\\\- \\omega - f^{3}{\\left(t \\right)}\\end{matrix}\\right]$"
      ],
      "text/plain": [
       "⎡   ω⋅log(t)      ⎤\n",
       "⎢- ───────── - 100⎥\n",
       "⎢  log(f(t))      ⎥\n",
       "⎢                 ⎥\n",
       "⎢         3       ⎥\n",
       "⎣   -ω - f (t)    ⎦"
      ]
     },
     "execution_count": 65,
     "metadata": {},
     "output_type": "execute_result"
    }
   ],
   "source": [
    "b = -exprs.xreplace({a1: 0, a2:0})\n",
    "b"
   ]
  },
  {
   "cell_type": "code",
   "execution_count": 66,
   "id": "722d6e2b",
   "metadata": {
    "execution": {
     "iopub.execute_input": "2022-03-16T06:31:58.066583Z",
     "iopub.status.busy": "2022-03-16T06:31:58.066299Z",
     "iopub.status.idle": "2022-03-16T06:31:58.101560Z",
     "shell.execute_reply": "2022-03-16T06:31:58.100987Z"
    }
   },
   "outputs": [
    {
     "data": {
      "text/latex": [
       "$\\displaystyle \\left[\\begin{matrix}\\frac{- \\frac{\\omega \\log{\\left(t \\right)}}{\\log{\\left(f{\\left(t \\right)} \\right)}} - 100 - \\frac{- \\frac{\\omega^{2} \\left(- \\frac{\\omega \\log{\\left(t \\right)}}{\\log{\\left(f{\\left(t \\right)} \\right)}} - 100\\right)}{\\sin{\\left(f{\\left(t \\right)} \\right)} \\cos{\\left(2 f{\\left(t \\right)} \\right)}} - \\omega - f^{3}{\\left(t \\right)}}{- \\frac{\\omega^{2}}{\\sin{\\left(f{\\left(t \\right)} \\right)} \\cos{\\left(2 f{\\left(t \\right)} \\right)}} + f{\\left(t \\right)}}}{\\sin{\\left(f{\\left(t \\right)} \\right)} \\cos{\\left(2 f{\\left(t \\right)} \\right)}}\\\\\\frac{- \\frac{\\omega^{2} \\left(- \\frac{\\omega \\log{\\left(t \\right)}}{\\log{\\left(f{\\left(t \\right)} \\right)}} - 100\\right)}{\\sin{\\left(f{\\left(t \\right)} \\right)} \\cos{\\left(2 f{\\left(t \\right)} \\right)}} - \\omega - f^{3}{\\left(t \\right)}}{- \\frac{\\omega^{2}}{\\sin{\\left(f{\\left(t \\right)} \\right)} \\cos{\\left(2 f{\\left(t \\right)} \\right)}} + f{\\left(t \\right)}}\\end{matrix}\\right]$"
      ],
      "text/plain": [
       "⎡                       2 ⎛   ω⋅log(t)      ⎞            ⎤\n",
       "⎢                      ω ⋅⎜- ───────── - 100⎟            ⎥\n",
       "⎢                         ⎝  log(f(t))      ⎠        3   ⎥\n",
       "⎢                    - ────────────────────── - ω - f (t)⎥\n",
       "⎢   ω⋅log(t)           sin(f(t))⋅cos(2⋅f(t))             ⎥\n",
       "⎢- ───────── - 100 - ────────────────────────────────────⎥\n",
       "⎢  log(f(t))                         2                   ⎥\n",
       "⎢                                   ω                    ⎥\n",
       "⎢                       - ───────────────────── + f(t)   ⎥\n",
       "⎢                         sin(f(t))⋅cos(2⋅f(t))          ⎥\n",
       "⎢────────────────────────────────────────────────────────⎥\n",
       "⎢                 sin(f(t))⋅cos(2⋅f(t))                  ⎥\n",
       "⎢                                                        ⎥\n",
       "⎢             2 ⎛   ω⋅log(t)      ⎞                      ⎥\n",
       "⎢            ω ⋅⎜- ───────── - 100⎟                      ⎥\n",
       "⎢               ⎝  log(f(t))      ⎠        3             ⎥\n",
       "⎢          - ────────────────────── - ω - f (t)          ⎥\n",
       "⎢            sin(f(t))⋅cos(2⋅f(t))                       ⎥\n",
       "⎢          ────────────────────────────────────          ⎥\n",
       "⎢                          2                             ⎥\n",
       "⎢                         ω                              ⎥\n",
       "⎢             - ───────────────────── + f(t)             ⎥\n",
       "⎣               sin(f(t))⋅cos(2⋅f(t))                    ⎦"
      ]
     },
     "execution_count": 66,
     "metadata": {},
     "output_type": "execute_result"
    }
   ],
   "source": [
    "A.LUsolve(b)"
   ]
  },
  {
   "cell_type": "code",
   "execution_count": 67,
   "id": "4084f9dc",
   "metadata": {
    "execution": {
     "iopub.execute_input": "2022-03-16T06:31:58.104152Z",
     "iopub.status.busy": "2022-03-16T06:31:58.103770Z",
     "iopub.status.idle": "2022-03-16T06:31:59.113650Z",
     "shell.execute_reply": "2022-03-16T06:31:59.113133Z"
    }
   },
   "outputs": [
    {
     "data": {
      "text/latex": [
       "$\\displaystyle \\left[\\begin{matrix}\\frac{- \\omega f{\\left(t \\right)} \\log{\\left(t \\right)} + \\omega \\log{\\left(f{\\left(t \\right)} \\right)} + f^{3}{\\left(t \\right)} \\log{\\left(f{\\left(t \\right)} \\right)} - 100 f{\\left(t \\right)} \\log{\\left(f{\\left(t \\right)} \\right)}}{\\left(- \\omega^{2} + f{\\left(t \\right)} \\sin{\\left(f{\\left(t \\right)} \\right)} \\cos{\\left(2 f{\\left(t \\right)} \\right)}\\right) \\log{\\left(f{\\left(t \\right)} \\right)}}\\\\\\frac{- \\omega^{2} \\left(\\omega \\log{\\left(t \\right)} + 100 \\log{\\left(f{\\left(t \\right)} \\right)}\\right) + \\left(\\omega + f^{3}{\\left(t \\right)}\\right) \\log{\\left(f{\\left(t \\right)} \\right)} \\sin{\\left(f{\\left(t \\right)} \\right)} \\cos{\\left(2 f{\\left(t \\right)} \\right)}}{\\left(\\omega^{2} - f{\\left(t \\right)} \\sin{\\left(f{\\left(t \\right)} \\right)} \\cos{\\left(2 f{\\left(t \\right)} \\right)}\\right) \\log{\\left(f{\\left(t \\right)} \\right)}}\\end{matrix}\\right]$"
      ],
      "text/plain": [
       "⎡                                     3                                       \n",
       "⎢     -ω⋅f(t)⋅log(t) + ω⋅log(f(t)) + f (t)⋅log(f(t)) - 100⋅f(t)⋅log(f(t))     \n",
       "⎢     ───────────────────────────────────────────────────────────────────     \n",
       "⎢                ⎛   2                             ⎞                          \n",
       "⎢                ⎝- ω  + f(t)⋅sin(f(t))⋅cos(2⋅f(t))⎠⋅log(f(t))                \n",
       "⎢                                                                             \n",
       "⎢   2                              ⎛     3   ⎞                                \n",
       "⎢- ω ⋅(ω⋅log(t) + 100⋅log(f(t))) + ⎝ω + f (t)⎠⋅log(f(t))⋅sin(f(t))⋅cos(2⋅f(t))\n",
       "⎢─────────────────────────────────────────────────────────────────────────────\n",
       "⎢                 ⎛ 2                             ⎞                           \n",
       "⎣                 ⎝ω  - f(t)⋅sin(f(t))⋅cos(2⋅f(t))⎠⋅log(f(t))                 \n",
       "\n",
       "⎤\n",
       "⎥\n",
       "⎥\n",
       "⎥\n",
       "⎥\n",
       "⎥\n",
       "⎥\n",
       "⎥\n",
       "⎥\n",
       "⎥\n",
       "⎦"
      ]
     },
     "execution_count": 67,
     "metadata": {},
     "output_type": "execute_result"
    }
   ],
   "source": [
    "sm.simplify(A.LUsolve(b))"
   ]
  },
  {
   "cell_type": "code",
   "execution_count": 68,
   "id": "b5b9997b",
   "metadata": {
    "execution": {
     "iopub.execute_input": "2022-03-16T06:31:59.116457Z",
     "iopub.status.busy": "2022-03-16T06:31:59.116126Z",
     "iopub.status.idle": "2022-03-16T06:31:59.148166Z",
     "shell.execute_reply": "2022-03-16T06:31:59.147225Z"
    }
   },
   "outputs": [
    {
     "data": {
      "text/latex": [
       "$\\displaystyle 1$"
      ],
      "text/plain": [
       "1"
      ]
     },
     "execution_count": 68,
     "metadata": {},
     "output_type": "execute_result"
    }
   ],
   "source": [
    "sm.trigsimp(sm.cos(omega)**2 + sm.sin(omega)**2)"
   ]
  },
  {
   "cell_type": "code",
   "execution_count": 69,
   "id": "e9dc6132",
   "metadata": {
    "execution": {
     "iopub.execute_input": "2022-03-16T06:31:59.150894Z",
     "iopub.status.busy": "2022-03-16T06:31:59.150584Z",
     "iopub.status.idle": "2022-03-16T06:31:59.174229Z",
     "shell.execute_reply": "2022-03-16T06:31:59.173669Z"
    }
   },
   "outputs": [],
   "source": [
    "substitutions, simplified = sm.cse(A.LUsolve(b))"
   ]
  },
  {
   "cell_type": "code",
   "execution_count": 70,
   "id": "09cfb250",
   "metadata": {
    "execution": {
     "iopub.execute_input": "2022-03-16T06:31:59.177661Z",
     "iopub.status.busy": "2022-03-16T06:31:59.177189Z",
     "iopub.status.idle": "2022-03-16T06:31:59.183489Z",
     "shell.execute_reply": "2022-03-16T06:31:59.183008Z"
    }
   },
   "outputs": [
    {
     "data": {
      "text/latex": [
       "$\\displaystyle \\left( x_{0}, \\  f{\\left(t \\right)}\\right)$"
      ],
      "text/plain": [
       "(x₀, f(t))"
      ]
     },
     "execution_count": 70,
     "metadata": {},
     "output_type": "execute_result"
    }
   ],
   "source": [
    "substitutions[0]"
   ]
  },
  {
   "cell_type": "code",
   "execution_count": 71,
   "id": "1946eca9",
   "metadata": {
    "execution": {
     "iopub.execute_input": "2022-03-16T06:31:59.186331Z",
     "iopub.status.busy": "2022-03-16T06:31:59.185906Z",
     "iopub.status.idle": "2022-03-16T06:31:59.193182Z",
     "shell.execute_reply": "2022-03-16T06:31:59.192702Z"
    }
   },
   "outputs": [
    {
     "data": {
      "text/latex": [
       "$\\displaystyle x_{0} = f{\\left(t \\right)}$"
      ],
      "text/plain": [
       "x₀ = f(t)"
      ]
     },
     "execution_count": 71,
     "metadata": {},
     "output_type": "execute_result"
    }
   ],
   "source": [
    "sm.Eq(*substitutions[0])"
   ]
  },
  {
   "cell_type": "code",
   "execution_count": 72,
   "id": "6498dd35",
   "metadata": {
    "execution": {
     "iopub.execute_input": "2022-03-16T06:31:59.196621Z",
     "iopub.status.busy": "2022-03-16T06:31:59.195558Z",
     "iopub.status.idle": "2022-03-16T06:31:59.208039Z",
     "shell.execute_reply": "2022-03-16T06:31:59.207577Z"
    }
   },
   "outputs": [
    {
     "data": {
      "text/latex": [
       "$\\displaystyle x_{1} = \\frac{1}{\\sin{\\left(x_{0} \\right)} \\cos{\\left(2 x_{0} \\right)}}$"
      ],
      "text/plain": [
       "             1        \n",
       "x₁ = ─────────────────\n",
       "     sin(x₀)⋅cos(2⋅x₀)"
      ]
     },
     "execution_count": 72,
     "metadata": {},
     "output_type": "execute_result"
    }
   ],
   "source": [
    "sm.Eq(*substitutions[1])"
   ]
  },
  {
   "cell_type": "code",
   "execution_count": 73,
   "id": "adc00443",
   "metadata": {
    "execution": {
     "iopub.execute_input": "2022-03-16T06:31:59.211402Z",
     "iopub.status.busy": "2022-03-16T06:31:59.210338Z",
     "iopub.status.idle": "2022-03-16T06:31:59.218702Z",
     "shell.execute_reply": "2022-03-16T06:31:59.218237Z"
    }
   },
   "outputs": [
    {
     "data": {
      "text/latex": [
       "$\\displaystyle x_{2} = \\omega^{2} x_{1}$"
      ],
      "text/plain": [
       "      2   \n",
       "x₂ = ω ⋅x₁"
      ]
     },
     "execution_count": 73,
     "metadata": {},
     "output_type": "execute_result"
    }
   ],
   "source": [
    "sm.Eq(*substitutions[2])"
   ]
  },
  {
   "cell_type": "code",
   "execution_count": 74,
   "id": "bf17e7e4",
   "metadata": {
    "execution": {
     "iopub.execute_input": "2022-03-16T06:31:59.221356Z",
     "iopub.status.busy": "2022-03-16T06:31:59.220994Z",
     "iopub.status.idle": "2022-03-16T06:31:59.234004Z",
     "shell.execute_reply": "2022-03-16T06:31:59.233481Z"
    }
   },
   "outputs": [
    {
     "data": {
      "text/latex": [
       "$\\displaystyle x_{4} = \\frac{- \\omega - x_{0}^{3} + x_{2} x_{3}}{x_{0} - x_{2}}$"
      ],
      "text/plain": [
       "            3        \n",
       "     -ω - x₀  + x₂⋅x₃\n",
       "x₄ = ────────────────\n",
       "         x₀ - x₂     "
      ]
     },
     "execution_count": 74,
     "metadata": {},
     "output_type": "execute_result"
    }
   ],
   "source": [
    "sm.Eq(*substitutions[4])"
   ]
  },
  {
   "cell_type": "code",
   "execution_count": 75,
   "id": "6fe55591",
   "metadata": {
    "execution": {
     "iopub.execute_input": "2022-03-16T06:31:59.237304Z",
     "iopub.status.busy": "2022-03-16T06:31:59.236298Z",
     "iopub.status.idle": "2022-03-16T06:31:59.244069Z",
     "shell.execute_reply": "2022-03-16T06:31:59.243606Z"
    }
   },
   "outputs": [
    {
     "data": {
      "text/latex": [
       "$\\displaystyle \\left[\\begin{matrix}x_{1} \\left(- x_{3} - x_{4}\\right)\\\\x_{4}\\end{matrix}\\right]$"
      ],
      "text/plain": [
       "⎡x₁⋅(-x₃ - x₄)⎤\n",
       "⎢             ⎥\n",
       "⎣     x₄      ⎦"
      ]
     },
     "execution_count": 75,
     "metadata": {},
     "output_type": "execute_result"
    }
   ],
   "source": [
    "simplified[0]"
   ]
  }
 ],
 "metadata": {
  "kernelspec": {
   "display_name": "Python 3 (ipykernel)",
   "language": "python",
   "name": "python3"
  },
  "language_info": {
   "codemirror_mode": {
    "name": "ipython",
    "version": 3
   },
   "file_extension": ".py",
   "mimetype": "text/x-python",
   "name": "python",
   "nbconvert_exporter": "python",
   "pygments_lexer": "ipython3",
   "version": "3.9.10"
  }
 },
 "nbformat": 4,
 "nbformat_minor": 5
}