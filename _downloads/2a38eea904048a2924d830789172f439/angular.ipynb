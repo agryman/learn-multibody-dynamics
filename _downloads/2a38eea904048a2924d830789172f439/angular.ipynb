{
 "cells": [
  {
   "cell_type": "code",
   "execution_count": 1,
   "id": "75b6eb4e",
   "metadata": {
    "execution": {
     "iopub.execute_input": "2022-06-13T06:51:09.169020Z",
     "iopub.status.busy": "2022-06-13T06:51:09.168665Z",
     "iopub.status.idle": "2022-06-13T06:51:09.619073Z",
     "shell.execute_reply": "2022-06-13T06:51:09.618488Z"
    }
   },
   "outputs": [],
   "source": [
    "import sympy as sm\n",
    "import sympy.physics.mechanics as me\n",
    "me.init_vprinting(use_latex='mathjax')"
   ]
  },
  {
   "cell_type": "code",
   "execution_count": 2,
   "id": "389d5bd2",
   "metadata": {
    "execution": {
     "iopub.execute_input": "2022-06-13T06:51:09.622332Z",
     "iopub.status.busy": "2022-06-13T06:51:09.621778Z",
     "iopub.status.idle": "2022-06-13T06:51:09.627709Z",
     "shell.execute_reply": "2022-06-13T06:51:09.627147Z"
    }
   },
   "outputs": [],
   "source": [
    "cxx, cyy, czz = me.dynamicsymbols('c_{xx}, c_{yy}, c_{zz}')\n",
    "cxy, cxz, cyx = me.dynamicsymbols('c_{xy}, c_{xz}, c_{yx}')\n",
    "cyz, czx, czy = me.dynamicsymbols('c_{yz}, c_{zx}, c_{zy}')\n",
    "\n",
    "B_C_A = sm.Matrix([[cxx, cxy, cxz],\n",
    "                   [cyx, cyy, cyz],\n",
    "                   [czx, czy, czz]])"
   ]
  },
  {
   "cell_type": "code",
   "execution_count": 3,
   "id": "8156020b",
   "metadata": {
    "execution": {
     "iopub.execute_input": "2022-06-13T06:51:09.630199Z",
     "iopub.status.busy": "2022-06-13T06:51:09.629722Z",
     "iopub.status.idle": "2022-06-13T06:51:09.657669Z",
     "shell.execute_reply": "2022-06-13T06:51:09.657134Z"
    }
   },
   "outputs": [
    {
     "data": {
      "text/latex": [
       "$\\displaystyle \\left[\\begin{matrix}c_{xx} & c_{xy} & c_{xz}\\\\c_{yx} & c_{yy} & c_{yz}\\\\c_{zx} & c_{zy} & c_{zz}\\end{matrix}\\right]$"
      ],
      "text/plain": [
       "⎡c_{xx}  c_{xy}  c_{xz}⎤\n",
       "⎢                      ⎥\n",
       "⎢c_{yx}  c_{yy}  c_{yz}⎥\n",
       "⎢                      ⎥\n",
       "⎣c_{zx}  c_{zy}  c_{zz}⎦"
      ]
     },
     "execution_count": 3,
     "metadata": {},
     "output_type": "execute_result"
    }
   ],
   "source": [
    "A = me.ReferenceFrame('A')\n",
    "B = me.ReferenceFrame('B')\n",
    "B.orient_explicit(A, B_C_A.transpose())\n",
    "B.dcm(A)"
   ]
  },
  {
   "cell_type": "code",
   "execution_count": 4,
   "id": "169fa9d4",
   "metadata": {
    "execution": {
     "iopub.execute_input": "2022-06-13T06:51:09.660804Z",
     "iopub.status.busy": "2022-06-13T06:51:09.660323Z",
     "iopub.status.idle": "2022-06-13T06:51:09.665273Z",
     "shell.execute_reply": "2022-06-13T06:51:09.664736Z"
    }
   },
   "outputs": [
    {
     "data": {
      "text/latex": [
       "$\\displaystyle c_{xx}\\mathbf{\\hat{a}_x} + c_{xy}\\mathbf{\\hat{a}_y} + c_{xz}\\mathbf{\\hat{a}_z}$"
      ],
      "text/plain": [
       "c_{xx} a_x + c_{xy} a_y + c_{xz} a_z"
      ]
     },
     "execution_count": 4,
     "metadata": {},
     "output_type": "execute_result"
    }
   ],
   "source": [
    "B.x.express(A)"
   ]
  },
  {
   "cell_type": "code",
   "execution_count": 5,
   "id": "479c6d7c",
   "metadata": {
    "execution": {
     "iopub.execute_input": "2022-06-13T06:51:09.668039Z",
     "iopub.status.busy": "2022-06-13T06:51:09.667565Z",
     "iopub.status.idle": "2022-06-13T06:51:09.672468Z",
     "shell.execute_reply": "2022-06-13T06:51:09.671908Z"
    }
   },
   "outputs": [
    {
     "data": {
      "text/latex": [
       "$\\displaystyle c_{yx}\\mathbf{\\hat{a}_x} + c_{yy}\\mathbf{\\hat{a}_y} + c_{yz}\\mathbf{\\hat{a}_z}$"
      ],
      "text/plain": [
       "c_{yx} a_x + c_{yy} a_y + c_{yz} a_z"
      ]
     },
     "execution_count": 5,
     "metadata": {},
     "output_type": "execute_result"
    }
   ],
   "source": [
    "B.y.express(A)"
   ]
  },
  {
   "cell_type": "code",
   "execution_count": 6,
   "id": "107ababc",
   "metadata": {
    "execution": {
     "iopub.execute_input": "2022-06-13T06:51:09.674758Z",
     "iopub.status.busy": "2022-06-13T06:51:09.674570Z",
     "iopub.status.idle": "2022-06-13T06:51:09.679180Z",
     "shell.execute_reply": "2022-06-13T06:51:09.678643Z"
    }
   },
   "outputs": [
    {
     "data": {
      "text/latex": [
       "$\\displaystyle c_{zx}\\mathbf{\\hat{a}_x} + c_{zy}\\mathbf{\\hat{a}_y} + c_{zz}\\mathbf{\\hat{a}_z}$"
      ],
      "text/plain": [
       "c_{zx} a_x + c_{zy} a_y + c_{zz} a_z"
      ]
     },
     "execution_count": 6,
     "metadata": {},
     "output_type": "execute_result"
    }
   ],
   "source": [
    "B.z.express(A)"
   ]
  },
  {
   "cell_type": "code",
   "execution_count": 7,
   "id": "863afc3c",
   "metadata": {
    "execution": {
     "iopub.execute_input": "2022-06-13T06:51:09.681884Z",
     "iopub.status.busy": "2022-06-13T06:51:09.681583Z",
     "iopub.status.idle": "2022-06-13T06:51:09.688515Z",
     "shell.execute_reply": "2022-06-13T06:51:09.687994Z"
    }
   },
   "outputs": [
    {
     "data": {
      "text/latex": [
       "$\\displaystyle \\dot{c}_{yx}\\mathbf{\\hat{a}_x} + \\dot{c}_{yy}\\mathbf{\\hat{a}_y} + \\dot{c}_{yz}\\mathbf{\\hat{a}_z}$"
      ],
      "text/plain": [
       "c_{ẏx} a_x + c_{ẏy} a_y + c_{ẏz} a_z"
      ]
     },
     "execution_count": 7,
     "metadata": {},
     "output_type": "execute_result"
    }
   ],
   "source": [
    "B.y.express(A).dt(A)"
   ]
  },
  {
   "cell_type": "code",
   "execution_count": 8,
   "id": "cc9f99d4",
   "metadata": {
    "execution": {
     "iopub.execute_input": "2022-06-13T06:51:09.690810Z",
     "iopub.status.busy": "2022-06-13T06:51:09.690508Z",
     "iopub.status.idle": "2022-06-13T06:51:09.700435Z",
     "shell.execute_reply": "2022-06-13T06:51:09.699887Z"
    }
   },
   "outputs": [
    {
     "data": {
      "text/latex": [
       "$\\displaystyle c_{zx} \\dot{c}_{yx} + c_{zy} \\dot{c}_{yy} + c_{zz} \\dot{c}_{yz}$"
      ],
      "text/plain": [
       "c_{zx}⋅c_{ẏx} + c_{zy}⋅c_{ẏy} + c_{zz}⋅c_{ẏz}"
      ]
     },
     "execution_count": 8,
     "metadata": {},
     "output_type": "execute_result"
    }
   ],
   "source": [
    "mnx = me.dot(B.y.express(A).dt(A), B.z)\n",
    "mnx"
   ]
  },
  {
   "cell_type": "code",
   "execution_count": 9,
   "id": "ea10306f",
   "metadata": {
    "execution": {
     "iopub.execute_input": "2022-06-13T06:51:09.703228Z",
     "iopub.status.busy": "2022-06-13T06:51:09.703038Z",
     "iopub.status.idle": "2022-06-13T06:51:09.712675Z",
     "shell.execute_reply": "2022-06-13T06:51:09.712124Z"
    }
   },
   "outputs": [
    {
     "data": {
      "text/latex": [
       "$\\displaystyle c_{xx} \\dot{c}_{zx} + c_{xy} \\dot{c}_{zy} + c_{xz} \\dot{c}_{zz}$"
      ],
      "text/plain": [
       "c_{xx}⋅c_{żx} + c_{xy}⋅c_{ży} + c_{xz}⋅c_{żz}"
      ]
     },
     "execution_count": 9,
     "metadata": {},
     "output_type": "execute_result"
    }
   ],
   "source": [
    "mny = me.dot(B.z.express(A).dt(A), B.x)\n",
    "mny"
   ]
  },
  {
   "cell_type": "code",
   "execution_count": 10,
   "id": "3e365481",
   "metadata": {
    "execution": {
     "iopub.execute_input": "2022-06-13T06:51:09.714915Z",
     "iopub.status.busy": "2022-06-13T06:51:09.714604Z",
     "iopub.status.idle": "2022-06-13T06:51:09.723985Z",
     "shell.execute_reply": "2022-06-13T06:51:09.723452Z"
    }
   },
   "outputs": [
    {
     "data": {
      "text/latex": [
       "$\\displaystyle c_{yx} \\dot{c}_{xx} + c_{yy} \\dot{c}_{xy} + c_{yz} \\dot{c}_{xz}$"
      ],
      "text/plain": [
       "c_{yx}⋅c_{ẋx} + c_{yy}⋅c_{ẋy} + c_{yz}⋅c_{ẋz}"
      ]
     },
     "execution_count": 10,
     "metadata": {},
     "output_type": "execute_result"
    }
   ],
   "source": [
    "mnz = me.dot(B.x.express(A).dt(A), B.y)\n",
    "mnz"
   ]
  },
  {
   "cell_type": "code",
   "execution_count": 11,
   "id": "c4f651c4",
   "metadata": {
    "execution": {
     "iopub.execute_input": "2022-06-13T06:51:09.726300Z",
     "iopub.status.busy": "2022-06-13T06:51:09.726006Z",
     "iopub.status.idle": "2022-06-13T06:51:09.739008Z",
     "shell.execute_reply": "2022-06-13T06:51:09.738475Z"
    }
   },
   "outputs": [
    {
     "data": {
      "text/latex": [
       "$\\displaystyle (c_{zx} \\dot{c}_{yx} + c_{zy} \\dot{c}_{yy} + c_{zz} \\dot{c}_{yz})\\mathbf{\\hat{b}_x} + (c_{xx} \\dot{c}_{zx} + c_{xy} \\dot{c}_{zy} + c_{xz} \\dot{c}_{zz})\\mathbf{\\hat{b}_y} + (c_{yx} \\dot{c}_{xx} + c_{yy} \\dot{c}_{xy} + c_{yz} \\dot{c}_{xz})\\mathbf{\\hat{b}_z}$"
      ],
      "text/plain": [
       "(c_{zx}⋅c_{ẏx} + c_{zy}⋅c_{ẏy} + c_{zz}⋅c_{ẏz}) b_x + (c_{xx}⋅c_{żx} + c_{\n",
       "xy}⋅c_{ży} + c_{xz}⋅c_{żz}) b_y + (c_{yx}⋅c_{ẋx} + c_{yy}⋅c_{ẋy} + c_{yz}⋅\n",
       "c_{ẋz}) b_z"
      ]
     },
     "execution_count": 11,
     "metadata": {},
     "output_type": "execute_result"
    }
   ],
   "source": [
    "A_w_B = mnx*B.x + mny*B.y + mnz*B.z\n",
    "A_w_B"
   ]
  },
  {
   "cell_type": "code",
   "execution_count": 12,
   "id": "73d7faff",
   "metadata": {
    "execution": {
     "iopub.execute_input": "2022-06-13T06:51:09.741299Z",
     "iopub.status.busy": "2022-06-13T06:51:09.740997Z",
     "iopub.status.idle": "2022-06-13T06:51:09.748646Z",
     "shell.execute_reply": "2022-06-13T06:51:09.748111Z"
    }
   },
   "outputs": [
    {
     "data": {
      "text/latex": [
       "$\\displaystyle \\left[\\begin{matrix}\\cos{\\left(\\theta \\right)} & \\sin{\\left(\\theta \\right)} & 0\\\\- \\sin{\\left(\\theta \\right)} & \\cos{\\left(\\theta \\right)} & 0\\\\0 & 0 & 1\\end{matrix}\\right]$"
      ],
      "text/plain": [
       "⎡cos(θ)   sin(θ)  0⎤\n",
       "⎢                  ⎥\n",
       "⎢-sin(θ)  cos(θ)  0⎥\n",
       "⎢                  ⎥\n",
       "⎣   0       0     1⎦"
      ]
     },
     "execution_count": 12,
     "metadata": {},
     "output_type": "execute_result"
    }
   ],
   "source": [
    "theta = me.dynamicsymbols('theta')\n",
    "\n",
    "B_C_A = sm.Matrix([[sm.cos(theta), sm.sin(theta), 0],\n",
    "                   [-sm.sin(theta), sm.cos(theta), 0],\n",
    "                   [0, 0, 1]])\n",
    "B_C_A"
   ]
  },
  {
   "cell_type": "code",
   "execution_count": 13,
   "id": "285a3cae",
   "metadata": {
    "execution": {
     "iopub.execute_input": "2022-06-13T06:51:09.751412Z",
     "iopub.status.busy": "2022-06-13T06:51:09.751112Z",
     "iopub.status.idle": "2022-06-13T06:51:09.843538Z",
     "shell.execute_reply": "2022-06-13T06:51:09.842940Z"
    }
   },
   "outputs": [
    {
     "data": {
      "text/latex": [
       "$\\displaystyle \\dot{\\theta}\\mathbf{\\hat{b}_z}$"
      ],
      "text/plain": [
       "θ̇ b_z"
      ]
     },
     "execution_count": 13,
     "metadata": {},
     "output_type": "execute_result"
    }
   ],
   "source": [
    "A = me.ReferenceFrame('A')\n",
    "B = me.ReferenceFrame('B')\n",
    "A.orient_explicit(B, B_C_A)\n",
    "\n",
    "mnx = me.dot(B.y.express(A).dt(A), B.z)\n",
    "mny = me.dot(B.z.express(A).dt(A), B.x)\n",
    "mnz = me.dot(B.x.express(A).dt(A), B.y)\n",
    "\n",
    "A_w_B = mnx*B.x + mny*B.y + mnz*B.z\n",
    "A_w_B.simplify()"
   ]
  },
  {
   "cell_type": "code",
   "execution_count": 14,
   "id": "32c68582",
   "metadata": {
    "execution": {
     "iopub.execute_input": "2022-06-13T06:51:09.846121Z",
     "iopub.status.busy": "2022-06-13T06:51:09.845642Z",
     "iopub.status.idle": "2022-06-13T06:51:09.854492Z",
     "shell.execute_reply": "2022-06-13T06:51:09.853950Z"
    }
   },
   "outputs": [
    {
     "data": {
      "text/latex": [
       "$\\displaystyle \\dot{\\theta}\\mathbf{\\hat{a}_z}$"
      ],
      "text/plain": [
       "θ̇ a_z"
      ]
     },
     "execution_count": 14,
     "metadata": {},
     "output_type": "execute_result"
    }
   ],
   "source": [
    "A = me.ReferenceFrame('A')\n",
    "B = me.ReferenceFrame('B')\n",
    "B.orient_axis(A, theta, A.z)\n",
    "B.ang_vel_in(A)"
   ]
  },
  {
   "cell_type": "code",
   "execution_count": 15,
   "id": "6fbc9eb4",
   "metadata": {
    "execution": {
     "iopub.execute_input": "2022-06-13T06:51:09.857320Z",
     "iopub.status.busy": "2022-06-13T06:51:09.857001Z",
     "iopub.status.idle": "2022-06-13T06:51:09.870169Z",
     "shell.execute_reply": "2022-06-13T06:51:09.869663Z"
    }
   },
   "outputs": [
    {
     "data": {
      "text/latex": [
       "$\\displaystyle \\frac{\\sqrt{2} \\dot{\\theta}}{2}\\mathbf{\\hat{a}_x} + \\frac{\\sqrt{2} \\dot{\\theta}}{2}\\mathbf{\\hat{a}_y}$"
      ],
      "text/plain": [
       "√2⋅θ̇       √2⋅θ̇\n",
       "──── a_x + ──── a_y\n",
       " 2          2"
      ]
     },
     "execution_count": 15,
     "metadata": {},
     "output_type": "execute_result"
    }
   ],
   "source": [
    "theta = me.dynamicsymbols('theta')\n",
    "\n",
    "A = me.ReferenceFrame('A')\n",
    "B = me.ReferenceFrame('B')\n",
    "B.orient_axis(A, theta, A.x + A.y)\n",
    "B.ang_vel_in(A)"
   ]
  },
  {
   "cell_type": "code",
   "execution_count": 16,
   "id": "80782638",
   "metadata": {
    "execution": {
     "iopub.execute_input": "2022-06-13T06:51:09.872820Z",
     "iopub.status.busy": "2022-06-13T06:51:09.872405Z",
     "iopub.status.idle": "2022-06-13T06:51:09.890731Z",
     "shell.execute_reply": "2022-06-13T06:51:09.890230Z"
    }
   },
   "outputs": [
    {
     "data": {
      "text/latex": [
       "$\\displaystyle \\sqrt{\\dot{\\theta}^{2}}$"
      ],
      "text/plain": [
       "   ____\n",
       "  ╱  2 \n",
       "╲╱ θ̇  "
      ]
     },
     "execution_count": 16,
     "metadata": {},
     "output_type": "execute_result"
    }
   ],
   "source": [
    "B.ang_vel_in(A).magnitude()"
   ]
  },
  {
   "cell_type": "code",
   "execution_count": 17,
   "id": "e2acb7c4",
   "metadata": {
    "execution": {
     "iopub.execute_input": "2022-06-13T06:51:09.893789Z",
     "iopub.status.busy": "2022-06-13T06:51:09.892694Z",
     "iopub.status.idle": "2022-06-13T06:51:13.439678Z",
     "shell.execute_reply": "2022-06-13T06:51:13.439120Z"
    }
   },
   "outputs": [
    {
     "data": {
      "text/latex": [
       "$\\displaystyle (\\sin{\\left(\\theta \\right)} \\sin{\\left(\\varphi \\right)} \\dot{\\psi} + \\cos{\\left(\\varphi \\right)} \\dot{\\theta})\\mathbf{\\hat{b}_x} + (\\sin{\\left(\\theta \\right)} \\cos{\\left(\\varphi \\right)} \\dot{\\psi} - \\sin{\\left(\\varphi \\right)} \\dot{\\theta})\\mathbf{\\hat{b}_y} + (\\cos{\\left(\\theta \\right)} \\dot{\\psi} + \\dot{\\varphi})\\mathbf{\\hat{b}_z}$"
      ],
      "text/plain": [
       "(sin(θ)⋅sin(varphi)⋅ψ̇ + cos(varphi)⋅θ̇) b_x + (sin(θ)⋅cos(varphi)⋅ψ̇ - sin(va\n",
       "rphi)⋅θ̇) b_y + (cos(θ)⋅ψ̇ + varṗhi) b_z"
      ]
     },
     "execution_count": 17,
     "metadata": {},
     "output_type": "execute_result"
    }
   ],
   "source": [
    "psi, theta, phi = me.dynamicsymbols('psi, theta, varphi')\n",
    "\n",
    "A = me.ReferenceFrame('A')\n",
    "B = me.ReferenceFrame('B')\n",
    "B.orient_body_fixed(A, (psi, theta, phi), 'ZXZ')\n",
    "\n",
    "mnx = me.dot(B.y.express(A).dt(A), B.z)\n",
    "mny = me.dot(B.z.express(A).dt(A), B.x)\n",
    "mnz = me.dot(B.x.express(A).dt(A), B.y)\n",
    "\n",
    "A_w_B = mnx*B.x + mny*B.y + mnz*B.z\n",
    "A_w_B.simplify()"
   ]
  },
  {
   "cell_type": "code",
   "execution_count": 18,
   "id": "8bd5c51c",
   "metadata": {
    "execution": {
     "iopub.execute_input": "2022-06-13T06:51:13.442334Z",
     "iopub.status.busy": "2022-06-13T06:51:13.441862Z",
     "iopub.status.idle": "2022-06-13T06:51:13.750846Z",
     "shell.execute_reply": "2022-06-13T06:51:13.750324Z"
    }
   },
   "outputs": [
    {
     "data": {
      "text/latex": [
       "$\\displaystyle (\\sin{\\left(\\theta \\right)} \\sin{\\left(\\varphi \\right)} \\dot{\\psi} + \\cos{\\left(\\varphi \\right)} \\dot{\\theta})\\mathbf{\\hat{b}_x} + (\\sin{\\left(\\theta \\right)} \\cos{\\left(\\varphi \\right)} \\dot{\\psi} - \\sin{\\left(\\varphi \\right)} \\dot{\\theta})\\mathbf{\\hat{b}_y} + (\\cos{\\left(\\theta \\right)} \\dot{\\psi} + \\dot{\\varphi})\\mathbf{\\hat{b}_z}$"
      ],
      "text/plain": [
       "(sin(θ)⋅sin(varphi)⋅ψ̇ + cos(varphi)⋅θ̇) b_x + (sin(θ)⋅cos(varphi)⋅ψ̇ - sin(va\n",
       "rphi)⋅θ̇) b_y + (cos(θ)⋅ψ̇ + varṗhi) b_z"
      ]
     },
     "execution_count": 18,
     "metadata": {},
     "output_type": "execute_result"
    }
   ],
   "source": [
    "B.ang_vel_in(A).simplify()"
   ]
  },
  {
   "cell_type": "code",
   "execution_count": 19,
   "id": "8476d328",
   "metadata": {
    "execution": {
     "iopub.execute_input": "2022-06-13T06:51:13.753716Z",
     "iopub.status.busy": "2022-06-13T06:51:13.753394Z",
     "iopub.status.idle": "2022-06-13T06:51:13.788172Z",
     "shell.execute_reply": "2022-06-13T06:51:13.787646Z"
    }
   },
   "outputs": [
    {
     "data": {
      "text/latex": [
       "$\\displaystyle u_{1}\\mathbf{\\hat{b}_x} + u_{2}\\mathbf{\\hat{b}_y} + u_{3}\\mathbf{\\hat{b}_z}$"
      ],
      "text/plain": [
       "u₁ b_x + u₂ b_y + u₃ b_z"
      ]
     },
     "execution_count": 19,
     "metadata": {},
     "output_type": "execute_result"
    }
   ],
   "source": [
    "A = me.ReferenceFrame('A')\n",
    "B = me.ReferenceFrame('B')\n",
    "B.orient_body_fixed(A, (psi, theta, 0), 'ZXZ')\n",
    "\n",
    "u1, u2, u3 = me.dynamicsymbols('u1, u2, u3')\n",
    "\n",
    "u = u1*B.x + u2*B.y + u3*B.z\n",
    "u"
   ]
  },
  {
   "cell_type": "code",
   "execution_count": 20,
   "id": "310436b3",
   "metadata": {
    "execution": {
     "iopub.execute_input": "2022-06-13T06:51:13.790865Z",
     "iopub.status.busy": "2022-06-13T06:51:13.790553Z",
     "iopub.status.idle": "2022-06-13T06:51:13.806108Z",
     "shell.execute_reply": "2022-06-13T06:51:13.805590Z"
    }
   },
   "outputs": [
    {
     "data": {
      "text/latex": [
       "$\\displaystyle (u_{1} \\cos{\\left(\\psi \\right)} - u_{2} \\sin{\\left(\\psi \\right)} \\cos{\\left(\\theta \\right)} + u_{3} \\sin{\\left(\\psi \\right)} \\sin{\\left(\\theta \\right)})\\mathbf{\\hat{a}_x} + (u_{1} \\sin{\\left(\\psi \\right)} + u_{2} \\cos{\\left(\\psi \\right)} \\cos{\\left(\\theta \\right)} - u_{3} \\sin{\\left(\\theta \\right)} \\cos{\\left(\\psi \\right)})\\mathbf{\\hat{a}_y} + (u_{2} \\sin{\\left(\\theta \\right)} + u_{3} \\cos{\\left(\\theta \\right)})\\mathbf{\\hat{a}_z}$"
      ],
      "text/plain": [
       "(u₁⋅cos(ψ) - u₂⋅sin(ψ)⋅cos(θ) + u₃⋅sin(ψ)⋅sin(θ)) a_x + (u₁⋅sin(ψ) + u₂⋅cos(ψ)\n",
       "⋅cos(θ) - u₃⋅sin(θ)⋅cos(ψ)) a_y + (u₂⋅sin(θ) + u₃⋅cos(θ)) a_z"
      ]
     },
     "execution_count": 20,
     "metadata": {},
     "output_type": "execute_result"
    }
   ],
   "source": [
    "u.express(A)"
   ]
  },
  {
   "cell_type": "code",
   "execution_count": 21,
   "id": "6516ba53",
   "metadata": {
    "execution": {
     "iopub.execute_input": "2022-06-13T06:51:13.808750Z",
     "iopub.status.busy": "2022-06-13T06:51:13.808450Z",
     "iopub.status.idle": "2022-06-13T06:51:13.872209Z",
     "shell.execute_reply": "2022-06-13T06:51:13.871665Z"
    }
   },
   "outputs": [
    {
     "data": {
      "text/latex": [
       "$\\displaystyle (- u_{1} \\sin{\\left(\\psi \\right)} \\dot{\\psi} + u_{2} \\sin{\\left(\\psi \\right)} \\sin{\\left(\\theta \\right)} \\dot{\\theta} - u_{2} \\cos{\\left(\\psi \\right)} \\cos{\\left(\\theta \\right)} \\dot{\\psi} + u_{3} \\sin{\\left(\\psi \\right)} \\cos{\\left(\\theta \\right)} \\dot{\\theta} + u_{3} \\sin{\\left(\\theta \\right)} \\cos{\\left(\\psi \\right)} \\dot{\\psi} + \\sin{\\left(\\psi \\right)} \\sin{\\left(\\theta \\right)} \\dot{u}_{3} - \\sin{\\left(\\psi \\right)} \\cos{\\left(\\theta \\right)} \\dot{u}_{2} + \\cos{\\left(\\psi \\right)} \\dot{u}_{1})\\mathbf{\\hat{a}_x} + (u_{1} \\cos{\\left(\\psi \\right)} \\dot{\\psi} - u_{2} \\sin{\\left(\\psi \\right)} \\cos{\\left(\\theta \\right)} \\dot{\\psi} - u_{2} \\sin{\\left(\\theta \\right)} \\cos{\\left(\\psi \\right)} \\dot{\\theta} + u_{3} \\sin{\\left(\\psi \\right)} \\sin{\\left(\\theta \\right)} \\dot{\\psi} - u_{3} \\cos{\\left(\\psi \\right)} \\cos{\\left(\\theta \\right)} \\dot{\\theta} + \\sin{\\left(\\psi \\right)} \\dot{u}_{1} - \\sin{\\left(\\theta \\right)} \\cos{\\left(\\psi \\right)} \\dot{u}_{3} + \\cos{\\left(\\psi \\right)} \\cos{\\left(\\theta \\right)} \\dot{u}_{2})\\mathbf{\\hat{a}_y} + (u_{2} \\cos{\\left(\\theta \\right)} \\dot{\\theta} - u_{3} \\sin{\\left(\\theta \\right)} \\dot{\\theta} + \\sin{\\left(\\theta \\right)} \\dot{u}_{2} + \\cos{\\left(\\theta \\right)} \\dot{u}_{3})\\mathbf{\\hat{a}_z}$"
      ],
      "text/plain": [
       "(-u₁⋅sin(ψ)⋅ψ̇ + u₂⋅sin(ψ)⋅sin(θ)⋅θ̇ - u₂⋅cos(ψ)⋅cos(θ)⋅ψ̇ + u₃⋅sin(ψ)⋅cos(θ)⋅\n",
       "θ̇ + u₃⋅sin(θ)⋅cos(ψ)⋅ψ̇ + sin(ψ)⋅sin(θ)⋅u₃̇ - sin(ψ)⋅cos(θ)⋅u₂̇ + cos(ψ)⋅u₁̇)\n",
       " a_x + (u₁⋅cos(ψ)⋅ψ̇ - u₂⋅sin(ψ)⋅cos(θ)⋅ψ̇ - u₂⋅sin(θ)⋅cos(ψ)⋅θ̇ + u₃⋅sin(ψ)⋅s\n",
       "in(θ)⋅ψ̇ - u₃⋅cos(ψ)⋅cos(θ)⋅θ̇ + sin(ψ)⋅u₁̇ - sin(θ)⋅cos(ψ)⋅u₃̇ + cos(ψ)⋅cos(θ\n",
       ")⋅u₂̇) a_y + (u₂⋅cos(θ)⋅θ̇ - u₃⋅sin(θ)⋅θ̇ + sin(θ)⋅u₂̇ + cos(θ)⋅u₃̇) a_z"
      ]
     },
     "execution_count": 21,
     "metadata": {},
     "output_type": "execute_result"
    }
   ],
   "source": [
    "u.express(A).dt(A)"
   ]
  },
  {
   "cell_type": "code",
   "execution_count": 22,
   "id": "7201014a",
   "metadata": {
    "execution": {
     "iopub.execute_input": "2022-06-13T06:51:13.875129Z",
     "iopub.status.busy": "2022-06-13T06:51:13.874806Z",
     "iopub.status.idle": "2022-06-13T06:51:13.883575Z",
     "shell.execute_reply": "2022-06-13T06:51:13.883058Z"
    }
   },
   "outputs": [
    {
     "data": {
      "text/latex": [
       "$\\displaystyle \\dot{u}_{1}\\mathbf{\\hat{b}_x} + \\dot{u}_{2}\\mathbf{\\hat{b}_y} + \\dot{u}_{3}\\mathbf{\\hat{b}_z}$"
      ],
      "text/plain": [
       "u₁̇ b_x + u₂̇ b_y + u₃̇ b_z"
      ]
     },
     "execution_count": 22,
     "metadata": {},
     "output_type": "execute_result"
    }
   ],
   "source": [
    "u.dt(B)"
   ]
  },
  {
   "cell_type": "code",
   "execution_count": 23,
   "id": "0f7862d5",
   "metadata": {
    "execution": {
     "iopub.execute_input": "2022-06-13T06:51:13.886974Z",
     "iopub.status.busy": "2022-06-13T06:51:13.885898Z",
     "iopub.status.idle": "2022-06-13T06:51:13.894245Z",
     "shell.execute_reply": "2022-06-13T06:51:13.893735Z"
    }
   },
   "outputs": [
    {
     "data": {
      "text/latex": [
       "$\\displaystyle \\dot{\\theta}\\mathbf{\\hat{b}_x} + \\sin{\\left(\\theta \\right)} \\dot{\\psi}\\mathbf{\\hat{b}_y} + \\cos{\\left(\\theta \\right)} \\dot{\\psi}\\mathbf{\\hat{b}_z}$"
      ],
      "text/plain": [
       "θ̇ b_x + sin(θ)⋅ψ̇ b_y + cos(θ)⋅ψ̇ b_z"
      ]
     },
     "execution_count": 23,
     "metadata": {},
     "output_type": "execute_result"
    }
   ],
   "source": [
    "A_w_B = B.ang_vel_in(A)\n",
    "A_w_B"
   ]
  },
  {
   "cell_type": "code",
   "execution_count": 24,
   "id": "f2b14119",
   "metadata": {
    "execution": {
     "iopub.execute_input": "2022-06-13T06:51:13.896915Z",
     "iopub.status.busy": "2022-06-13T06:51:13.896492Z",
     "iopub.status.idle": "2022-06-13T06:51:13.915444Z",
     "shell.execute_reply": "2022-06-13T06:51:13.914949Z"
    }
   },
   "outputs": [
    {
     "data": {
      "text/latex": [
       "$\\displaystyle (- u_{2} \\cos{\\left(\\theta \\right)} \\dot{\\psi} + u_{3} \\sin{\\left(\\theta \\right)} \\dot{\\psi} + \\dot{u}_{1})\\mathbf{\\hat{b}_x} + (u_{1} \\cos{\\left(\\theta \\right)} \\dot{\\psi} - u_{3} \\dot{\\theta} + \\dot{u}_{2})\\mathbf{\\hat{b}_y} + (- u_{1} \\sin{\\left(\\theta \\right)} \\dot{\\psi} + u_{2} \\dot{\\theta} + \\dot{u}_{3})\\mathbf{\\hat{b}_z}$"
      ],
      "text/plain": [
       "(-u₂⋅cos(θ)⋅ψ̇ + u₃⋅sin(θ)⋅ψ̇ + u₁̇) b_x + (u₁⋅cos(θ)⋅ψ̇ - u₃⋅θ̇ + u₂̇) b_y +\n",
       "(-u₁⋅sin(θ)⋅ψ̇ + u₂⋅θ̇ + u₃̇) b_z"
      ]
     },
     "execution_count": 24,
     "metadata": {},
     "output_type": "execute_result"
    }
   ],
   "source": [
    "u.dt(B) + me.cross(A_w_B, u)"
   ]
  },
  {
   "cell_type": "code",
   "execution_count": 25,
   "id": "ad4c21b3",
   "metadata": {
    "execution": {
     "iopub.execute_input": "2022-06-13T06:51:13.918166Z",
     "iopub.status.busy": "2022-06-13T06:51:13.917755Z",
     "iopub.status.idle": "2022-06-13T06:51:16.143618Z",
     "shell.execute_reply": "2022-06-13T06:51:16.143073Z"
    }
   },
   "outputs": [
    {
     "data": {
      "text/latex": [
       "$\\displaystyle (- u_{2} \\cos{\\left(\\theta \\right)} \\dot{\\psi} + u_{3} \\sin{\\left(\\theta \\right)} \\dot{\\psi} + \\dot{u}_{1})\\mathbf{\\hat{b}_x} + (u_{1} \\cos{\\left(\\theta \\right)} \\dot{\\psi} - u_{3} \\dot{\\theta} + \\dot{u}_{2})\\mathbf{\\hat{b}_y} + (- u_{1} \\sin{\\left(\\theta \\right)} \\dot{\\psi} + u_{2} \\dot{\\theta} + \\dot{u}_{3})\\mathbf{\\hat{b}_z}$"
      ],
      "text/plain": [
       "(-u₂⋅cos(θ)⋅ψ̇ + u₃⋅sin(θ)⋅ψ̇ + u₁̇) b_x + (u₁⋅cos(θ)⋅ψ̇ - u₃⋅θ̇ + u₂̇) b_y +\n",
       "(-u₁⋅sin(θ)⋅ψ̇ + u₂⋅θ̇ + u₃̇) b_z"
      ]
     },
     "execution_count": 25,
     "metadata": {},
     "output_type": "execute_result"
    }
   ],
   "source": [
    "u.express(A).dt(A).express(B).simplify()"
   ]
  },
  {
   "cell_type": "code",
   "execution_count": 26,
   "id": "6410aeaf",
   "metadata": {
    "execution": {
     "iopub.execute_input": "2022-06-13T06:51:16.146556Z",
     "iopub.status.busy": "2022-06-13T06:51:16.146224Z",
     "iopub.status.idle": "2022-06-13T06:51:16.160911Z",
     "shell.execute_reply": "2022-06-13T06:51:16.160389Z"
    }
   },
   "outputs": [],
   "source": [
    "psi, theta, phi = me.dynamicsymbols('psi, theta, varphi')\n",
    "\n",
    "A = me.ReferenceFrame('A')\n",
    "B = me.ReferenceFrame('B')\n",
    "C = me.ReferenceFrame('C')\n",
    "D = me.ReferenceFrame('D')\n",
    "\n",
    "B.orient_axis(A, psi, A.y)\n",
    "C.orient_axis(B, theta, B.x)\n",
    "D.orient_axis(C, phi, C.y)"
   ]
  },
  {
   "cell_type": "code",
   "execution_count": 27,
   "id": "f91edd6f",
   "metadata": {
    "execution": {
     "iopub.execute_input": "2022-06-13T06:51:16.163821Z",
     "iopub.status.busy": "2022-06-13T06:51:16.163389Z",
     "iopub.status.idle": "2022-06-13T06:51:16.170129Z",
     "shell.execute_reply": "2022-06-13T06:51:16.169601Z"
    }
   },
   "outputs": [
    {
     "data": {
      "text/latex": [
       "$\\displaystyle \\dot{\\psi}\\mathbf{\\hat{a}_y}$"
      ],
      "text/plain": [
       "ψ̇ a_y"
      ]
     },
     "execution_count": 27,
     "metadata": {},
     "output_type": "execute_result"
    }
   ],
   "source": [
    "A_w_B = B.ang_vel_in(A)\n",
    "A_w_B"
   ]
  },
  {
   "cell_type": "code",
   "execution_count": 28,
   "id": "486ed96b",
   "metadata": {
    "execution": {
     "iopub.execute_input": "2022-06-13T06:51:16.172997Z",
     "iopub.status.busy": "2022-06-13T06:51:16.172582Z",
     "iopub.status.idle": "2022-06-13T06:51:16.178994Z",
     "shell.execute_reply": "2022-06-13T06:51:16.178483Z"
    }
   },
   "outputs": [
    {
     "data": {
      "text/latex": [
       "$\\displaystyle \\dot{\\theta}\\mathbf{\\hat{b}_x}$"
      ],
      "text/plain": [
       "θ̇ b_x"
      ]
     },
     "execution_count": 28,
     "metadata": {},
     "output_type": "execute_result"
    }
   ],
   "source": [
    "B_w_C = C.ang_vel_in(B)\n",
    "B_w_C"
   ]
  },
  {
   "cell_type": "code",
   "execution_count": 29,
   "id": "d9ad9ebd",
   "metadata": {
    "execution": {
     "iopub.execute_input": "2022-06-13T06:51:16.181593Z",
     "iopub.status.busy": "2022-06-13T06:51:16.181108Z",
     "iopub.status.idle": "2022-06-13T06:51:16.187404Z",
     "shell.execute_reply": "2022-06-13T06:51:16.186888Z"
    }
   },
   "outputs": [
    {
     "data": {
      "text/latex": [
       "$\\displaystyle \\dot{\\varphi}\\mathbf{\\hat{c}_y}$"
      ],
      "text/plain": [
       "varṗhi c_y"
      ]
     },
     "execution_count": 29,
     "metadata": {},
     "output_type": "execute_result"
    }
   ],
   "source": [
    "C_w_D = D.ang_vel_in(C)\n",
    "C_w_D"
   ]
  },
  {
   "cell_type": "code",
   "execution_count": 30,
   "id": "48bf1ff8",
   "metadata": {
    "execution": {
     "iopub.execute_input": "2022-06-13T06:51:16.190891Z",
     "iopub.status.busy": "2022-06-13T06:51:16.189826Z",
     "iopub.status.idle": "2022-06-13T06:51:16.197547Z",
     "shell.execute_reply": "2022-06-13T06:51:16.197029Z"
    }
   },
   "outputs": [
    {
     "data": {
      "text/latex": [
       "$\\displaystyle \\dot{\\psi}\\mathbf{\\hat{a}_y} + \\dot{\\theta}\\mathbf{\\hat{b}_x} + \\dot{\\varphi}\\mathbf{\\hat{c}_y}$"
      ],
      "text/plain": [
       "ψ̇ a_y + θ̇ b_x + varṗhi c_y"
      ]
     },
     "execution_count": 30,
     "metadata": {},
     "output_type": "execute_result"
    }
   ],
   "source": [
    "A_w_D = A_w_B + B_w_C + C_w_D\n",
    "A_w_D"
   ]
  },
  {
   "cell_type": "code",
   "execution_count": 31,
   "id": "aa01b9a3",
   "metadata": {
    "execution": {
     "iopub.execute_input": "2022-06-13T06:51:16.200348Z",
     "iopub.status.busy": "2022-06-13T06:51:16.199912Z",
     "iopub.status.idle": "2022-06-13T06:51:16.597453Z",
     "shell.execute_reply": "2022-06-13T06:51:16.596877Z"
    }
   },
   "outputs": [
    {
     "data": {
      "text/latex": [
       "$\\displaystyle (\\sin{\\left(\\theta \\right)} \\sin{\\left(\\varphi \\right)} \\dot{\\psi} + \\cos{\\left(\\varphi \\right)} \\dot{\\theta})\\mathbf{\\hat{d}_x} + (\\cos{\\left(\\theta \\right)} \\dot{\\psi} + \\dot{\\varphi})\\mathbf{\\hat{d}_y} + (- \\sin{\\left(\\theta \\right)} \\cos{\\left(\\varphi \\right)} \\dot{\\psi} + \\sin{\\left(\\varphi \\right)} \\dot{\\theta})\\mathbf{\\hat{d}_z}$"
      ],
      "text/plain": [
       "(sin(θ)⋅sin(varphi)⋅ψ̇ + cos(varphi)⋅θ̇) d_x + (cos(θ)⋅ψ̇ + varṗhi) d_y + (-s\n",
       "in(θ)⋅cos(varphi)⋅ψ̇ + sin(varphi)⋅θ̇) d_z"
      ]
     },
     "execution_count": 31,
     "metadata": {},
     "output_type": "execute_result"
    }
   ],
   "source": [
    "A2 = me.ReferenceFrame('A')\n",
    "D2 = me.ReferenceFrame('D')\n",
    "D2.orient_body_fixed(A2, (psi, theta, phi), 'YXY')\n",
    "D2.ang_vel_in(A2).simplify()"
   ]
  },
  {
   "cell_type": "code",
   "execution_count": 32,
   "id": "eaffdd4a",
   "metadata": {
    "execution": {
     "iopub.execute_input": "2022-06-13T06:51:16.600328Z",
     "iopub.status.busy": "2022-06-13T06:51:16.599997Z",
     "iopub.status.idle": "2022-06-13T06:51:16.622093Z",
     "shell.execute_reply": "2022-06-13T06:51:16.621568Z"
    }
   },
   "outputs": [
    {
     "data": {
      "text/latex": [
       "$\\displaystyle (\\sin{\\left(\\theta \\right)} \\sin{\\left(\\varphi \\right)} \\dot{\\psi} + \\cos{\\left(\\varphi \\right)} \\dot{\\theta})\\mathbf{\\hat{d}_x} + (\\cos{\\left(\\theta \\right)} \\dot{\\psi} + \\dot{\\varphi})\\mathbf{\\hat{d}_y} + (- \\sin{\\left(\\theta \\right)} \\cos{\\left(\\varphi \\right)} \\dot{\\psi} + \\sin{\\left(\\varphi \\right)} \\dot{\\theta})\\mathbf{\\hat{d}_z}$"
      ],
      "text/plain": [
       "(sin(θ)⋅sin(varphi)⋅ψ̇ + cos(varphi)⋅θ̇) d_x + (cos(θ)⋅ψ̇ + varṗhi) d_y + (-s\n",
       "in(θ)⋅cos(varphi)⋅ψ̇ + sin(varphi)⋅θ̇) d_z"
      ]
     },
     "execution_count": 32,
     "metadata": {},
     "output_type": "execute_result"
    }
   ],
   "source": [
    "A_w_D.express(D)"
   ]
  },
  {
   "cell_type": "code",
   "execution_count": 33,
   "id": "0dcc0850",
   "metadata": {
    "execution": {
     "iopub.execute_input": "2022-06-13T06:51:16.624864Z",
     "iopub.status.busy": "2022-06-13T06:51:16.624429Z",
     "iopub.status.idle": "2022-06-13T06:51:16.637904Z",
     "shell.execute_reply": "2022-06-13T06:51:16.636294Z"
    }
   },
   "outputs": [
    {
     "data": {
      "text/latex": [
       "$\\displaystyle \\ddot{\\theta}\\mathbf{\\hat{a}_z}$"
      ],
      "text/plain": [
       "θ̈ a_z"
      ]
     },
     "execution_count": 33,
     "metadata": {},
     "output_type": "execute_result"
    }
   ],
   "source": [
    "theta = me.dynamicsymbols('theta')\n",
    "\n",
    "A = me.ReferenceFrame('A')\n",
    "B = me.ReferenceFrame('B')\n",
    "B.orient_axis(A, theta, A.z)\n",
    "B.ang_acc_in(A)"
   ]
  },
  {
   "cell_type": "code",
   "execution_count": 34,
   "id": "13ac887f",
   "metadata": {
    "execution": {
     "iopub.execute_input": "2022-06-13T06:51:16.643746Z",
     "iopub.status.busy": "2022-06-13T06:51:16.643521Z",
     "iopub.status.idle": "2022-06-13T06:51:16.657689Z",
     "shell.execute_reply": "2022-06-13T06:51:16.657179Z"
    }
   },
   "outputs": [
    {
     "data": {
      "text/latex": [
       "$\\displaystyle \\ddot{\\theta}\\mathbf{\\hat{a}_z}$"
      ],
      "text/plain": [
       "θ̈ a_z"
      ]
     },
     "execution_count": 34,
     "metadata": {},
     "output_type": "execute_result"
    }
   ],
   "source": [
    "B.ang_vel_in(A).dt(A)"
   ]
  },
  {
   "cell_type": "code",
   "execution_count": 35,
   "id": "1a882993",
   "metadata": {
    "execution": {
     "iopub.execute_input": "2022-06-13T06:51:16.663463Z",
     "iopub.status.busy": "2022-06-13T06:51:16.663230Z",
     "iopub.status.idle": "2022-06-13T06:51:16.673248Z",
     "shell.execute_reply": "2022-06-13T06:51:16.671885Z"
    }
   },
   "outputs": [
    {
     "data": {
      "text/latex": [
       "$\\displaystyle \\ddot{\\theta}\\mathbf{\\hat{a}_z}$"
      ],
      "text/plain": [
       "θ̈ a_z"
      ]
     },
     "execution_count": 35,
     "metadata": {},
     "output_type": "execute_result"
    }
   ],
   "source": [
    "B.ang_vel_in(A).dt(B)"
   ]
  },
  {
   "cell_type": "code",
   "execution_count": 36,
   "id": "d2131dab",
   "metadata": {
    "execution": {
     "iopub.execute_input": "2022-06-13T06:51:16.679389Z",
     "iopub.status.busy": "2022-06-13T06:51:16.679081Z",
     "iopub.status.idle": "2022-06-13T06:51:17.809490Z",
     "shell.execute_reply": "2022-06-13T06:51:17.808897Z"
    }
   },
   "outputs": [
    {
     "data": {
      "text/latex": [
       "$\\displaystyle (\\sin{\\left(\\theta \\right)} \\sin{\\left(\\varphi \\right)} \\ddot{\\psi} + \\sin{\\left(\\theta \\right)} \\cos{\\left(\\varphi \\right)} \\dot{\\psi} \\dot{\\varphi} + \\sin{\\left(\\varphi \\right)} \\cos{\\left(\\theta \\right)} \\dot{\\psi} \\dot{\\theta} - \\sin{\\left(\\varphi \\right)} \\dot{\\theta} \\dot{\\varphi} + \\cos{\\left(\\varphi \\right)} \\ddot{\\theta})\\mathbf{\\hat{d}_x} + (- \\sin{\\left(\\theta \\right)} \\dot{\\psi} \\dot{\\theta} + \\cos{\\left(\\theta \\right)} \\ddot{\\psi} + \\ddot{\\varphi})\\mathbf{\\hat{d}_y} + (\\sin{\\left(\\theta \\right)} \\sin{\\left(\\varphi \\right)} \\dot{\\psi} \\dot{\\varphi} - \\sin{\\left(\\theta \\right)} \\cos{\\left(\\varphi \\right)} \\ddot{\\psi} + \\sin{\\left(\\varphi \\right)} \\ddot{\\theta} - \\cos{\\left(\\theta \\right)} \\cos{\\left(\\varphi \\right)} \\dot{\\psi} \\dot{\\theta} + \\cos{\\left(\\varphi \\right)} \\dot{\\theta} \\dot{\\varphi})\\mathbf{\\hat{d}_z}$"
      ],
      "text/plain": [
       "(sin(θ)⋅sin(varphi)⋅ψ̈ + sin(θ)⋅cos(varphi)⋅ψ̇⋅varṗhi + sin(varphi)⋅cos(θ)⋅ψ̇\n",
       "⋅θ̇ - sin(varphi)⋅θ̇⋅varṗhi + cos(varphi)⋅θ̈) d_x + (-sin(θ)⋅ψ̇⋅θ̇ + cos(θ)⋅ψ\n",
       "̈ + varp̈hi) d_y + (sin(θ)⋅sin(varphi)⋅ψ̇⋅varṗhi - sin(θ)⋅cos(varphi)⋅ψ̈ + si\n",
       "n(varphi)⋅θ̈ - cos(θ)⋅cos(varphi)⋅ψ̇⋅θ̇ + cos(varphi)⋅θ̇⋅varṗhi) d_z"
      ]
     },
     "execution_count": 36,
     "metadata": {},
     "output_type": "execute_result"
    }
   ],
   "source": [
    "psi, theta, phi = me.dynamicsymbols('psi, theta, varphi')\n",
    "\n",
    "A = me.ReferenceFrame('A')\n",
    "D = me.ReferenceFrame('D')\n",
    "D.orient_body_fixed(A, (psi, theta, phi), 'YXY')\n",
    "\n",
    "D.ang_acc_in(A).simplify()"
   ]
  },
  {
   "cell_type": "code",
   "execution_count": 37,
   "id": "25978e6a",
   "metadata": {
    "execution": {
     "iopub.execute_input": "2022-06-13T06:51:17.812324Z",
     "iopub.status.busy": "2022-06-13T06:51:17.811990Z",
     "iopub.status.idle": "2022-06-13T06:51:18.775284Z",
     "shell.execute_reply": "2022-06-13T06:51:18.774731Z"
    }
   },
   "outputs": [
    {
     "data": {
      "text/latex": [
       "$\\displaystyle (\\sin{\\left(\\theta \\right)} \\sin{\\left(\\varphi \\right)} \\ddot{\\psi} + \\sin{\\left(\\theta \\right)} \\cos{\\left(\\varphi \\right)} \\dot{\\psi} \\dot{\\varphi} + \\sin{\\left(\\varphi \\right)} \\cos{\\left(\\theta \\right)} \\dot{\\psi} \\dot{\\theta} - \\sin{\\left(\\varphi \\right)} \\dot{\\theta} \\dot{\\varphi} + \\cos{\\left(\\varphi \\right)} \\ddot{\\theta})\\mathbf{\\hat{d}_x} + (- \\sin{\\left(\\theta \\right)} \\dot{\\psi} \\dot{\\theta} + \\cos{\\left(\\theta \\right)} \\ddot{\\psi} + \\ddot{\\varphi})\\mathbf{\\hat{d}_y} + (\\sin{\\left(\\theta \\right)} \\sin{\\left(\\varphi \\right)} \\dot{\\psi} \\dot{\\varphi} - \\sin{\\left(\\theta \\right)} \\cos{\\left(\\varphi \\right)} \\ddot{\\psi} + \\sin{\\left(\\varphi \\right)} \\ddot{\\theta} - \\cos{\\left(\\theta \\right)} \\cos{\\left(\\varphi \\right)} \\dot{\\psi} \\dot{\\theta} + \\cos{\\left(\\varphi \\right)} \\dot{\\theta} \\dot{\\varphi})\\mathbf{\\hat{d}_z}$"
      ],
      "text/plain": [
       "(sin(θ)⋅sin(varphi)⋅ψ̈ + sin(θ)⋅cos(varphi)⋅ψ̇⋅varṗhi + sin(varphi)⋅cos(θ)⋅ψ̇\n",
       "⋅θ̇ - sin(varphi)⋅θ̇⋅varṗhi + cos(varphi)⋅θ̈) d_x + (-sin(θ)⋅ψ̇⋅θ̇ + cos(θ)⋅ψ\n",
       "̈ + varp̈hi) d_y + (sin(θ)⋅sin(varphi)⋅ψ̇⋅varṗhi - sin(θ)⋅cos(varphi)⋅ψ̈ + si\n",
       "n(varphi)⋅θ̈ - cos(θ)⋅cos(varphi)⋅ψ̇⋅θ̇ + cos(varphi)⋅θ̇⋅varṗhi) d_z"
      ]
     },
     "execution_count": 37,
     "metadata": {},
     "output_type": "execute_result"
    }
   ],
   "source": [
    "D.ang_vel_in(A).dt(A).simplify()"
   ]
  },
  {
   "cell_type": "code",
   "execution_count": 38,
   "id": "f2a886bf",
   "metadata": {
    "execution": {
     "iopub.execute_input": "2022-06-13T06:51:18.777894Z",
     "iopub.status.busy": "2022-06-13T06:51:18.777420Z",
     "iopub.status.idle": "2022-06-13T06:51:19.732963Z",
     "shell.execute_reply": "2022-06-13T06:51:19.732033Z"
    }
   },
   "outputs": [
    {
     "data": {
      "text/latex": [
       "$\\displaystyle (\\sin{\\left(\\theta \\right)} \\sin{\\left(\\varphi \\right)} \\ddot{\\psi} + \\sin{\\left(\\theta \\right)} \\cos{\\left(\\varphi \\right)} \\dot{\\psi} \\dot{\\varphi} + \\sin{\\left(\\varphi \\right)} \\cos{\\left(\\theta \\right)} \\dot{\\psi} \\dot{\\theta} - \\sin{\\left(\\varphi \\right)} \\dot{\\theta} \\dot{\\varphi} + \\cos{\\left(\\varphi \\right)} \\ddot{\\theta})\\mathbf{\\hat{d}_x} + (- \\sin{\\left(\\theta \\right)} \\dot{\\psi} \\dot{\\theta} + \\cos{\\left(\\theta \\right)} \\ddot{\\psi} + \\ddot{\\varphi})\\mathbf{\\hat{d}_y} + (\\sin{\\left(\\theta \\right)} \\sin{\\left(\\varphi \\right)} \\dot{\\psi} \\dot{\\varphi} - \\sin{\\left(\\theta \\right)} \\cos{\\left(\\varphi \\right)} \\ddot{\\psi} + \\sin{\\left(\\varphi \\right)} \\ddot{\\theta} - \\cos{\\left(\\theta \\right)} \\cos{\\left(\\varphi \\right)} \\dot{\\psi} \\dot{\\theta} + \\cos{\\left(\\varphi \\right)} \\dot{\\theta} \\dot{\\varphi})\\mathbf{\\hat{d}_z}$"
      ],
      "text/plain": [
       "(sin(θ)⋅sin(varphi)⋅ψ̈ + sin(θ)⋅cos(varphi)⋅ψ̇⋅varṗhi + sin(varphi)⋅cos(θ)⋅ψ̇\n",
       "⋅θ̇ - sin(varphi)⋅θ̇⋅varṗhi + cos(varphi)⋅θ̈) d_x + (-sin(θ)⋅ψ̇⋅θ̇ + cos(θ)⋅ψ\n",
       "̈ + varp̈hi) d_y + (sin(θ)⋅sin(varphi)⋅ψ̇⋅varṗhi - sin(θ)⋅cos(varphi)⋅ψ̈ + si\n",
       "n(varphi)⋅θ̈ - cos(θ)⋅cos(varphi)⋅ψ̇⋅θ̇ + cos(varphi)⋅θ̇⋅varṗhi) d_z"
      ]
     },
     "execution_count": 38,
     "metadata": {},
     "output_type": "execute_result"
    }
   ],
   "source": [
    "D.ang_vel_in(A).dt(D).simplify()"
   ]
  },
  {
   "cell_type": "code",
   "execution_count": 39,
   "id": "027401bc",
   "metadata": {
    "execution": {
     "iopub.execute_input": "2022-06-13T06:51:19.735274Z",
     "iopub.status.busy": "2022-06-13T06:51:19.735078Z",
     "iopub.status.idle": "2022-06-13T06:51:19.747941Z",
     "shell.execute_reply": "2022-06-13T06:51:19.747376Z"
    }
   },
   "outputs": [],
   "source": [
    "psi, theta, phi = me.dynamicsymbols('psi, theta, varphi')\n",
    "\n",
    "A = me.ReferenceFrame('A')\n",
    "B = me.ReferenceFrame('B')\n",
    "C = me.ReferenceFrame('C')\n",
    "D = me.ReferenceFrame('D')\n",
    "\n",
    "B.orient_axis(A, psi, A.y)\n",
    "C.orient_axis(B, theta, B.x)\n",
    "D.orient_axis(C, phi, C.y)"
   ]
  },
  {
   "cell_type": "code",
   "execution_count": 40,
   "id": "5a2c49bc",
   "metadata": {
    "execution": {
     "iopub.execute_input": "2022-06-13T06:51:19.750228Z",
     "iopub.status.busy": "2022-06-13T06:51:19.749925Z",
     "iopub.status.idle": "2022-06-13T06:51:19.756151Z",
     "shell.execute_reply": "2022-06-13T06:51:19.755598Z"
    }
   },
   "outputs": [
    {
     "data": {
      "text/latex": [
       "$\\displaystyle \\ddot{\\psi}\\mathbf{\\hat{a}_y}$"
      ],
      "text/plain": [
       "ψ̈ a_y"
      ]
     },
     "execution_count": 40,
     "metadata": {},
     "output_type": "execute_result"
    }
   ],
   "source": [
    "A_alp_B = B.ang_acc_in(A)\n",
    "A_alp_B"
   ]
  },
  {
   "cell_type": "code",
   "execution_count": 41,
   "id": "3b3a2d08",
   "metadata": {
    "execution": {
     "iopub.execute_input": "2022-06-13T06:51:19.759270Z",
     "iopub.status.busy": "2022-06-13T06:51:19.758810Z",
     "iopub.status.idle": "2022-06-13T06:51:19.765135Z",
     "shell.execute_reply": "2022-06-13T06:51:19.764617Z"
    }
   },
   "outputs": [
    {
     "data": {
      "text/latex": [
       "$\\displaystyle \\ddot{\\theta}\\mathbf{\\hat{b}_x}$"
      ],
      "text/plain": [
       "θ̈ b_x"
      ]
     },
     "execution_count": 41,
     "metadata": {},
     "output_type": "execute_result"
    }
   ],
   "source": [
    "B_alp_C = C.ang_acc_in(B)\n",
    "B_alp_C"
   ]
  },
  {
   "cell_type": "code",
   "execution_count": 42,
   "id": "eb9d68bd",
   "metadata": {
    "execution": {
     "iopub.execute_input": "2022-06-13T06:51:19.767881Z",
     "iopub.status.busy": "2022-06-13T06:51:19.767572Z",
     "iopub.status.idle": "2022-06-13T06:51:19.773725Z",
     "shell.execute_reply": "2022-06-13T06:51:19.773192Z"
    }
   },
   "outputs": [
    {
     "data": {
      "text/latex": [
       "$\\displaystyle \\ddot{\\varphi}\\mathbf{\\hat{c}_y}$"
      ],
      "text/plain": [
       "varp̈hi c_y"
      ]
     },
     "execution_count": 42,
     "metadata": {},
     "output_type": "execute_result"
    }
   ],
   "source": [
    "C_alp_D = D.ang_acc_in(C)\n",
    "C_alp_D"
   ]
  },
  {
   "cell_type": "code",
   "execution_count": 43,
   "id": "09b64cc4",
   "metadata": {
    "execution": {
     "iopub.execute_input": "2022-06-13T06:51:19.776503Z",
     "iopub.status.busy": "2022-06-13T06:51:19.776192Z",
     "iopub.status.idle": "2022-06-13T06:51:19.969517Z",
     "shell.execute_reply": "2022-06-13T06:51:19.968923Z"
    }
   },
   "outputs": [
    {
     "data": {
      "text/latex": [
       "$\\displaystyle (\\sin{\\left(\\theta \\right)} \\sin{\\left(\\varphi \\right)} \\ddot{\\psi} + \\cos{\\left(\\varphi \\right)} \\ddot{\\theta})\\mathbf{\\hat{d}_x} + (\\cos{\\left(\\theta \\right)} \\ddot{\\psi} + \\ddot{\\varphi})\\mathbf{\\hat{d}_y} + (- \\sin{\\left(\\theta \\right)} \\cos{\\left(\\varphi \\right)} \\ddot{\\psi} + \\sin{\\left(\\varphi \\right)} \\ddot{\\theta})\\mathbf{\\hat{d}_z}$"
      ],
      "text/plain": [
       "(sin(θ)⋅sin(varphi)⋅ψ̈ + cos(varphi)⋅θ̈) d_x + (cos(θ)⋅ψ̈ + varp̈hi) d_y + (-s\n",
       "in(θ)⋅cos(varphi)⋅ψ̈ + sin(varphi)⋅θ̈) d_z"
      ]
     },
     "execution_count": 43,
     "metadata": {},
     "output_type": "execute_result"
    }
   ],
   "source": [
    "A_alp_D = A_alp_B + B_alp_C + C_alp_D\n",
    "A_alp_D.express(D).simplify()"
   ]
  },
  {
   "cell_type": "code",
   "execution_count": 44,
   "id": "c75637d5",
   "metadata": {
    "execution": {
     "iopub.execute_input": "2022-06-13T06:51:19.972158Z",
     "iopub.status.busy": "2022-06-13T06:51:19.971673Z",
     "iopub.status.idle": "2022-06-13T06:51:20.568074Z",
     "shell.execute_reply": "2022-06-13T06:51:20.567467Z"
    }
   },
   "outputs": [
    {
     "data": {
      "text/latex": [
       "$\\displaystyle (\\sin{\\left(\\theta \\right)} \\sin{\\left(\\varphi \\right)} \\ddot{\\psi} + \\sin{\\left(\\theta \\right)} \\cos{\\left(\\varphi \\right)} \\dot{\\psi} \\dot{\\varphi} + \\sin{\\left(\\varphi \\right)} \\cos{\\left(\\theta \\right)} \\dot{\\psi} \\dot{\\theta} - \\sin{\\left(\\varphi \\right)} \\dot{\\theta} \\dot{\\varphi} + \\cos{\\left(\\varphi \\right)} \\ddot{\\theta})\\mathbf{\\hat{d}_x} + (- \\sin{\\left(\\theta \\right)} \\dot{\\psi} \\dot{\\theta} + \\cos{\\left(\\theta \\right)} \\ddot{\\psi} + \\ddot{\\varphi})\\mathbf{\\hat{d}_y} + (\\sin{\\left(\\theta \\right)} \\sin{\\left(\\varphi \\right)} \\dot{\\psi} \\dot{\\varphi} - \\sin{\\left(\\theta \\right)} \\cos{\\left(\\varphi \\right)} \\ddot{\\psi} + \\sin{\\left(\\varphi \\right)} \\ddot{\\theta} - \\cos{\\left(\\theta \\right)} \\cos{\\left(\\varphi \\right)} \\dot{\\psi} \\dot{\\theta} + \\cos{\\left(\\varphi \\right)} \\dot{\\theta} \\dot{\\varphi})\\mathbf{\\hat{d}_z}$"
      ],
      "text/plain": [
       "(sin(θ)⋅sin(varphi)⋅ψ̈ + sin(θ)⋅cos(varphi)⋅ψ̇⋅varṗhi + sin(varphi)⋅cos(θ)⋅ψ̇\n",
       "⋅θ̇ - sin(varphi)⋅θ̇⋅varṗhi + cos(varphi)⋅θ̈) d_x + (-sin(θ)⋅ψ̇⋅θ̇ + cos(θ)⋅ψ\n",
       "̈ + varp̈hi) d_y + (sin(θ)⋅sin(varphi)⋅ψ̇⋅varṗhi - sin(θ)⋅cos(varphi)⋅ψ̈ + si\n",
       "n(varphi)⋅θ̈ - cos(θ)⋅cos(varphi)⋅ψ̇⋅θ̇ + cos(varphi)⋅θ̇⋅varṗhi) d_z"
      ]
     },
     "execution_count": 44,
     "metadata": {},
     "output_type": "execute_result"
    }
   ],
   "source": [
    "D.ang_acc_in(A).express(D).simplify()"
   ]
  }
 ],
 "metadata": {
  "kernelspec": {
   "display_name": "Python 3 (ipykernel)",
   "language": "python",
   "name": "python3"
  },
  "language_info": {
   "codemirror_mode": {
    "name": "ipython",
    "version": 3
   },
   "file_extension": ".py",
   "mimetype": "text/x-python",
   "name": "python",
   "nbconvert_exporter": "python",
   "pygments_lexer": "ipython3",
   "version": "3.9.13"
  }
 },
 "nbformat": 4,
 "nbformat_minor": 5
}