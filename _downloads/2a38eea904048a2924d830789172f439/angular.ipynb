{
 "cells": [
  {
   "cell_type": "code",
   "execution_count": 1,
   "id": "562dfb25",
   "metadata": {
    "execution": {
     "iopub.execute_input": "2022-03-16T06:31:15.394365Z",
     "iopub.status.busy": "2022-03-16T06:31:15.393893Z",
     "iopub.status.idle": "2022-03-16T06:31:15.959537Z",
     "shell.execute_reply": "2022-03-16T06:31:15.958975Z"
    }
   },
   "outputs": [],
   "source": [
    "import sympy as sm\n",
    "import sympy.physics.mechanics as me\n",
    "me.init_vprinting(use_latex='mathjax')"
   ]
  },
  {
   "cell_type": "code",
   "execution_count": 2,
   "id": "b28214c5",
   "metadata": {
    "execution": {
     "iopub.execute_input": "2022-03-16T06:31:15.962692Z",
     "iopub.status.busy": "2022-03-16T06:31:15.962388Z",
     "iopub.status.idle": "2022-03-16T06:31:15.968900Z",
     "shell.execute_reply": "2022-03-16T06:31:15.968345Z"
    }
   },
   "outputs": [],
   "source": [
    "cxx, cyy, czz = me.dynamicsymbols('c_{xx}, c_{yy}, c_{zz}')\n",
    "cxy, cxz, cyx = me.dynamicsymbols('c_{xy}, c_{xz}, c_{yx}')\n",
    "cyz, czx, czy = me.dynamicsymbols('c_{yz}, c_{zx}, c_{zy}')\n",
    "\n",
    "B_C_A = sm.Matrix([[cxx, cxy, cxz],\n",
    "                   [cyx, cyy, cyz],\n",
    "                   [czx, czy, czz]])"
   ]
  },
  {
   "cell_type": "code",
   "execution_count": 3,
   "id": "0cd14a19",
   "metadata": {
    "execution": {
     "iopub.execute_input": "2022-03-16T06:31:15.971610Z",
     "iopub.status.busy": "2022-03-16T06:31:15.971457Z",
     "iopub.status.idle": "2022-03-16T06:31:16.004155Z",
     "shell.execute_reply": "2022-03-16T06:31:16.003594Z"
    }
   },
   "outputs": [
    {
     "data": {
      "text/latex": [
       "$\\displaystyle \\left[\\begin{matrix}c_{xx} & c_{xy} & c_{xz}\\\\c_{yx} & c_{yy} & c_{yz}\\\\c_{zx} & c_{zy} & c_{zz}\\end{matrix}\\right]$"
      ],
      "text/plain": [
       "⎡c_{xx}  c_{xy}  c_{xz}⎤\n",
       "⎢                      ⎥\n",
       "⎢c_{yx}  c_{yy}  c_{yz}⎥\n",
       "⎢                      ⎥\n",
       "⎣c_{zx}  c_{zy}  c_{zz}⎦"
      ]
     },
     "execution_count": 3,
     "metadata": {},
     "output_type": "execute_result"
    }
   ],
   "source": [
    "A = me.ReferenceFrame('A')\n",
    "B = me.ReferenceFrame('B')\n",
    "B.orient_explicit(A, B_C_A.transpose())\n",
    "B.dcm(A)"
   ]
  },
  {
   "cell_type": "code",
   "execution_count": 4,
   "id": "2e8ed632",
   "metadata": {
    "execution": {
     "iopub.execute_input": "2022-03-16T06:31:16.007927Z",
     "iopub.status.busy": "2022-03-16T06:31:16.007768Z",
     "iopub.status.idle": "2022-03-16T06:31:16.012706Z",
     "shell.execute_reply": "2022-03-16T06:31:16.012179Z"
    }
   },
   "outputs": [
    {
     "data": {
      "text/latex": [
       "$\\displaystyle c_{xx}\\mathbf{\\hat{a}_x} + c_{xy}\\mathbf{\\hat{a}_y} + c_{xz}\\mathbf{\\hat{a}_z}$"
      ],
      "text/plain": [
       "c_{xx} a_x + c_{xy} a_y + c_{xz} a_z"
      ]
     },
     "execution_count": 4,
     "metadata": {},
     "output_type": "execute_result"
    }
   ],
   "source": [
    "B.x.express(A)"
   ]
  },
  {
   "cell_type": "code",
   "execution_count": 5,
   "id": "3ee1cf0b",
   "metadata": {
    "execution": {
     "iopub.execute_input": "2022-03-16T06:31:16.016052Z",
     "iopub.status.busy": "2022-03-16T06:31:16.015900Z",
     "iopub.status.idle": "2022-03-16T06:31:16.020566Z",
     "shell.execute_reply": "2022-03-16T06:31:16.020046Z"
    }
   },
   "outputs": [
    {
     "data": {
      "text/latex": [
       "$\\displaystyle c_{yx}\\mathbf{\\hat{a}_x} + c_{yy}\\mathbf{\\hat{a}_y} + c_{yz}\\mathbf{\\hat{a}_z}$"
      ],
      "text/plain": [
       "c_{yx} a_x + c_{yy} a_y + c_{yz} a_z"
      ]
     },
     "execution_count": 5,
     "metadata": {},
     "output_type": "execute_result"
    }
   ],
   "source": [
    "B.y.express(A)"
   ]
  },
  {
   "cell_type": "code",
   "execution_count": 6,
   "id": "c06c30d1",
   "metadata": {
    "execution": {
     "iopub.execute_input": "2022-03-16T06:31:16.023508Z",
     "iopub.status.busy": "2022-03-16T06:31:16.023170Z",
     "iopub.status.idle": "2022-03-16T06:31:16.027932Z",
     "shell.execute_reply": "2022-03-16T06:31:16.027428Z"
    }
   },
   "outputs": [
    {
     "data": {
      "text/latex": [
       "$\\displaystyle c_{zx}\\mathbf{\\hat{a}_x} + c_{zy}\\mathbf{\\hat{a}_y} + c_{zz}\\mathbf{\\hat{a}_z}$"
      ],
      "text/plain": [
       "c_{zx} a_x + c_{zy} a_y + c_{zz} a_z"
      ]
     },
     "execution_count": 6,
     "metadata": {},
     "output_type": "execute_result"
    }
   ],
   "source": [
    "B.z.express(A)"
   ]
  },
  {
   "cell_type": "code",
   "execution_count": 7,
   "id": "209bde04",
   "metadata": {
    "execution": {
     "iopub.execute_input": "2022-03-16T06:31:16.030900Z",
     "iopub.status.busy": "2022-03-16T06:31:16.030562Z",
     "iopub.status.idle": "2022-03-16T06:31:16.038258Z",
     "shell.execute_reply": "2022-03-16T06:31:16.037751Z"
    }
   },
   "outputs": [
    {
     "data": {
      "text/latex": [
       "$\\displaystyle \\dot{c}_{yx}\\mathbf{\\hat{a}_x} + \\dot{c}_{yy}\\mathbf{\\hat{a}_y} + \\dot{c}_{yz}\\mathbf{\\hat{a}_z}$"
      ],
      "text/plain": [
       "c_{ẏx} a_x + c_{ẏy} a_y + c_{ẏz} a_z"
      ]
     },
     "execution_count": 7,
     "metadata": {},
     "output_type": "execute_result"
    }
   ],
   "source": [
    "B.y.express(A).dt(A)"
   ]
  },
  {
   "cell_type": "code",
   "execution_count": 8,
   "id": "c3ea1782",
   "metadata": {
    "execution": {
     "iopub.execute_input": "2022-03-16T06:31:16.041443Z",
     "iopub.status.busy": "2022-03-16T06:31:16.041092Z",
     "iopub.status.idle": "2022-03-16T06:31:16.051840Z",
     "shell.execute_reply": "2022-03-16T06:31:16.051324Z"
    }
   },
   "outputs": [
    {
     "data": {
      "text/latex": [
       "$\\displaystyle c_{zx} \\dot{c}_{yx} + c_{zy} \\dot{c}_{yy} + c_{zz} \\dot{c}_{yz}$"
      ],
      "text/plain": [
       "c_{zx}⋅c_{ẏx} + c_{zy}⋅c_{ẏy} + c_{zz}⋅c_{ẏz}"
      ]
     },
     "execution_count": 8,
     "metadata": {},
     "output_type": "execute_result"
    }
   ],
   "source": [
    "mnx = me.dot(B.y.express(A).dt(A), B.z)\n",
    "mnx"
   ]
  },
  {
   "cell_type": "code",
   "execution_count": 9,
   "id": "37735911",
   "metadata": {
    "execution": {
     "iopub.execute_input": "2022-03-16T06:31:16.054406Z",
     "iopub.status.busy": "2022-03-16T06:31:16.054067Z",
     "iopub.status.idle": "2022-03-16T06:31:16.064367Z",
     "shell.execute_reply": "2022-03-16T06:31:16.063854Z"
    }
   },
   "outputs": [
    {
     "data": {
      "text/latex": [
       "$\\displaystyle c_{xx} \\dot{c}_{zx} + c_{xy} \\dot{c}_{zy} + c_{xz} \\dot{c}_{zz}$"
      ],
      "text/plain": [
       "c_{xx}⋅c_{żx} + c_{xy}⋅c_{ży} + c_{xz}⋅c_{żz}"
      ]
     },
     "execution_count": 9,
     "metadata": {},
     "output_type": "execute_result"
    }
   ],
   "source": [
    "mny = me.dot(B.z.express(A).dt(A), B.x)\n",
    "mny"
   ]
  },
  {
   "cell_type": "code",
   "execution_count": 10,
   "id": "507e137d",
   "metadata": {
    "execution": {
     "iopub.execute_input": "2022-03-16T06:31:16.067010Z",
     "iopub.status.busy": "2022-03-16T06:31:16.066672Z",
     "iopub.status.idle": "2022-03-16T06:31:16.076817Z",
     "shell.execute_reply": "2022-03-16T06:31:16.076303Z"
    }
   },
   "outputs": [
    {
     "data": {
      "text/latex": [
       "$\\displaystyle c_{yx} \\dot{c}_{xx} + c_{yy} \\dot{c}_{xy} + c_{yz} \\dot{c}_{xz}$"
      ],
      "text/plain": [
       "c_{yx}⋅c_{ẋx} + c_{yy}⋅c_{ẋy} + c_{yz}⋅c_{ẋz}"
      ]
     },
     "execution_count": 10,
     "metadata": {},
     "output_type": "execute_result"
    }
   ],
   "source": [
    "mnz = me.dot(B.x.express(A).dt(A), B.y)\n",
    "mnz"
   ]
  },
  {
   "cell_type": "code",
   "execution_count": 11,
   "id": "c01c4448",
   "metadata": {
    "execution": {
     "iopub.execute_input": "2022-03-16T06:31:16.079503Z",
     "iopub.status.busy": "2022-03-16T06:31:16.079102Z",
     "iopub.status.idle": "2022-03-16T06:31:16.092290Z",
     "shell.execute_reply": "2022-03-16T06:31:16.091762Z"
    }
   },
   "outputs": [
    {
     "data": {
      "text/latex": [
       "$\\displaystyle (c_{zx} \\dot{c}_{yx} + c_{zy} \\dot{c}_{yy} + c_{zz} \\dot{c}_{yz})\\mathbf{\\hat{b}_x} + (c_{xx} \\dot{c}_{zx} + c_{xy} \\dot{c}_{zy} + c_{xz} \\dot{c}_{zz})\\mathbf{\\hat{b}_y} + (c_{yx} \\dot{c}_{xx} + c_{yy} \\dot{c}_{xy} + c_{yz} \\dot{c}_{xz})\\mathbf{\\hat{b}_z}$"
      ],
      "text/plain": [
       "(c_{zx}⋅c_{ẏx} + c_{zy}⋅c_{ẏy} + c_{zz}⋅c_{ẏz}) b_x + (c_{xx}⋅c_{żx} + c_{\n",
       "xy}⋅c_{ży} + c_{xz}⋅c_{żz}) b_y + (c_{yx}⋅c_{ẋx} + c_{yy}⋅c_{ẋy} + c_{yz}⋅\n",
       "c_{ẋz}) b_z"
      ]
     },
     "execution_count": 11,
     "metadata": {},
     "output_type": "execute_result"
    }
   ],
   "source": [
    "A_w_B = mnx*B.x + mny*B.y + mnz*B.z\n",
    "A_w_B"
   ]
  },
  {
   "cell_type": "code",
   "execution_count": 12,
   "id": "046de4e0",
   "metadata": {
    "execution": {
     "iopub.execute_input": "2022-03-16T06:31:16.095230Z",
     "iopub.status.busy": "2022-03-16T06:31:16.094893Z",
     "iopub.status.idle": "2022-03-16T06:31:16.103023Z",
     "shell.execute_reply": "2022-03-16T06:31:16.102532Z"
    }
   },
   "outputs": [
    {
     "data": {
      "text/latex": [
       "$\\displaystyle \\left[\\begin{matrix}\\cos{\\left(\\theta \\right)} & \\sin{\\left(\\theta \\right)} & 0\\\\- \\sin{\\left(\\theta \\right)} & \\cos{\\left(\\theta \\right)} & 0\\\\0 & 0 & 1\\end{matrix}\\right]$"
      ],
      "text/plain": [
       "⎡cos(θ)   sin(θ)  0⎤\n",
       "⎢                  ⎥\n",
       "⎢-sin(θ)  cos(θ)  0⎥\n",
       "⎢                  ⎥\n",
       "⎣   0       0     1⎦"
      ]
     },
     "execution_count": 12,
     "metadata": {},
     "output_type": "execute_result"
    }
   ],
   "source": [
    "theta = me.dynamicsymbols('theta')\n",
    "\n",
    "B_C_A = sm.Matrix([[sm.cos(theta), sm.sin(theta), 0],\n",
    "                   [-sm.sin(theta), sm.cos(theta), 0],\n",
    "                   [0, 0, 1]])\n",
    "B_C_A"
   ]
  },
  {
   "cell_type": "code",
   "execution_count": 13,
   "id": "3faa708f",
   "metadata": {
    "execution": {
     "iopub.execute_input": "2022-03-16T06:31:16.106021Z",
     "iopub.status.busy": "2022-03-16T06:31:16.105682Z",
     "iopub.status.idle": "2022-03-16T06:31:16.214476Z",
     "shell.execute_reply": "2022-03-16T06:31:16.213845Z"
    }
   },
   "outputs": [
    {
     "data": {
      "text/latex": [
       "$\\displaystyle \\dot{\\theta}\\mathbf{\\hat{b}_z}$"
      ],
      "text/plain": [
       "θ̇ b_z"
      ]
     },
     "execution_count": 13,
     "metadata": {},
     "output_type": "execute_result"
    }
   ],
   "source": [
    "A = me.ReferenceFrame('A')\n",
    "B = me.ReferenceFrame('B')\n",
    "A.orient_explicit(B, B_C_A)\n",
    "\n",
    "mnx = me.dot(B.y.express(A).dt(A), B.z)\n",
    "mny = me.dot(B.z.express(A).dt(A), B.x)\n",
    "mnz = me.dot(B.x.express(A).dt(A), B.y)\n",
    "\n",
    "A_w_B = mnx*B.x + mny*B.y + mnz*B.z\n",
    "A_w_B.simplify()"
   ]
  },
  {
   "cell_type": "code",
   "execution_count": 14,
   "id": "d635d7cd",
   "metadata": {
    "execution": {
     "iopub.execute_input": "2022-03-16T06:31:16.217123Z",
     "iopub.status.busy": "2022-03-16T06:31:16.216743Z",
     "iopub.status.idle": "2022-03-16T06:31:16.226313Z",
     "shell.execute_reply": "2022-03-16T06:31:16.225780Z"
    }
   },
   "outputs": [
    {
     "data": {
      "text/latex": [
       "$\\displaystyle \\dot{\\theta}\\mathbf{\\hat{a}_z}$"
      ],
      "text/plain": [
       "θ̇ a_z"
      ]
     },
     "execution_count": 14,
     "metadata": {},
     "output_type": "execute_result"
    }
   ],
   "source": [
    "A = me.ReferenceFrame('A')\n",
    "B = me.ReferenceFrame('B')\n",
    "B.orient_axis(A, theta, A.z)\n",
    "B.ang_vel_in(A)"
   ]
  },
  {
   "cell_type": "code",
   "execution_count": 15,
   "id": "d64aeffa",
   "metadata": {
    "execution": {
     "iopub.execute_input": "2022-03-16T06:31:16.229580Z",
     "iopub.status.busy": "2022-03-16T06:31:16.229167Z",
     "iopub.status.idle": "2022-03-16T06:31:16.241032Z",
     "shell.execute_reply": "2022-03-16T06:31:16.240526Z"
    }
   },
   "outputs": [
    {
     "data": {
      "text/latex": [
       "$\\displaystyle \\frac{\\sqrt{2} \\dot{\\theta}}{2}\\mathbf{\\hat{a}_x} + \\frac{\\sqrt{2} \\dot{\\theta}}{2}\\mathbf{\\hat{a}_y}$"
      ],
      "text/plain": [
       "√2⋅θ̇       √2⋅θ̇\n",
       "──── a_x + ──── a_y\n",
       " 2          2"
      ]
     },
     "execution_count": 15,
     "metadata": {},
     "output_type": "execute_result"
    }
   ],
   "source": [
    "theta = me.dynamicsymbols('theta')\n",
    "\n",
    "A = me.ReferenceFrame('A')\n",
    "B = me.ReferenceFrame('B')\n",
    "B.orient_axis(A, theta, A.x + A.y)\n",
    "B.ang_vel_in(A)"
   ]
  },
  {
   "cell_type": "code",
   "execution_count": 16,
   "id": "6f081338",
   "metadata": {
    "execution": {
     "iopub.execute_input": "2022-03-16T06:31:16.243727Z",
     "iopub.status.busy": "2022-03-16T06:31:16.243320Z",
     "iopub.status.idle": "2022-03-16T06:31:16.261054Z",
     "shell.execute_reply": "2022-03-16T06:31:16.260531Z"
    }
   },
   "outputs": [
    {
     "data": {
      "text/latex": [
       "$\\displaystyle \\sqrt{\\dot{\\theta}^{2}}$"
      ],
      "text/plain": [
       "   ____\n",
       "  ╱  2 \n",
       "╲╱ θ̇  "
      ]
     },
     "execution_count": 16,
     "metadata": {},
     "output_type": "execute_result"
    }
   ],
   "source": [
    "B.ang_vel_in(A).magnitude()"
   ]
  },
  {
   "cell_type": "code",
   "execution_count": 17,
   "id": "96f778cd",
   "metadata": {
    "execution": {
     "iopub.execute_input": "2022-03-16T06:31:16.264193Z",
     "iopub.status.busy": "2022-03-16T06:31:16.263784Z",
     "iopub.status.idle": "2022-03-16T06:31:20.502941Z",
     "shell.execute_reply": "2022-03-16T06:31:20.502428Z"
    }
   },
   "outputs": [
    {
     "data": {
      "text/latex": [
       "$\\displaystyle (\\sin{\\left(\\theta \\right)} \\sin{\\left(\\varphi \\right)} \\dot{\\psi} + \\cos{\\left(\\varphi \\right)} \\dot{\\theta})\\mathbf{\\hat{b}_x} + (\\sin{\\left(\\theta \\right)} \\cos{\\left(\\varphi \\right)} \\dot{\\psi} - \\sin{\\left(\\varphi \\right)} \\dot{\\theta})\\mathbf{\\hat{b}_y} + (\\cos{\\left(\\theta \\right)} \\dot{\\psi} + \\dot{\\varphi})\\mathbf{\\hat{b}_z}$"
      ],
      "text/plain": [
       "(sin(θ)⋅sin(varphi)⋅ψ̇ + cos(varphi)⋅θ̇) b_x + (sin(θ)⋅cos(varphi)⋅ψ̇ - sin(va\n",
       "rphi)⋅θ̇) b_y + (cos(θ)⋅ψ̇ + varṗhi) b_z"
      ]
     },
     "execution_count": 17,
     "metadata": {},
     "output_type": "execute_result"
    }
   ],
   "source": [
    "psi, theta, phi = me.dynamicsymbols('psi, theta, varphi')\n",
    "\n",
    "A = me.ReferenceFrame('A')\n",
    "B = me.ReferenceFrame('B')\n",
    "B.orient_body_fixed(A, (psi, theta, phi), 'ZXZ')\n",
    "\n",
    "mnx = me.dot(B.y.express(A).dt(A), B.z)\n",
    "mny = me.dot(B.z.express(A).dt(A), B.x)\n",
    "mnz = me.dot(B.x.express(A).dt(A), B.y)\n",
    "\n",
    "A_w_B = mnx*B.x + mny*B.y + mnz*B.z\n",
    "A_w_B.simplify()"
   ]
  },
  {
   "cell_type": "code",
   "execution_count": 18,
   "id": "f2b6437c",
   "metadata": {
    "execution": {
     "iopub.execute_input": "2022-03-16T06:31:20.505869Z",
     "iopub.status.busy": "2022-03-16T06:31:20.505472Z",
     "iopub.status.idle": "2022-03-16T06:31:20.863855Z",
     "shell.execute_reply": "2022-03-16T06:31:20.863253Z"
    }
   },
   "outputs": [
    {
     "data": {
      "text/latex": [
       "$\\displaystyle (\\sin{\\left(\\theta \\right)} \\sin{\\left(\\varphi \\right)} \\dot{\\psi} + \\cos{\\left(\\varphi \\right)} \\dot{\\theta})\\mathbf{\\hat{b}_x} + (\\sin{\\left(\\theta \\right)} \\cos{\\left(\\varphi \\right)} \\dot{\\psi} - \\sin{\\left(\\varphi \\right)} \\dot{\\theta})\\mathbf{\\hat{b}_y} + (\\cos{\\left(\\theta \\right)} \\dot{\\psi} + \\dot{\\varphi})\\mathbf{\\hat{b}_z}$"
      ],
      "text/plain": [
       "(sin(θ)⋅sin(varphi)⋅ψ̇ + cos(varphi)⋅θ̇) b_x + (sin(θ)⋅cos(varphi)⋅ψ̇ - sin(va\n",
       "rphi)⋅θ̇) b_y + (cos(θ)⋅ψ̇ + varṗhi) b_z"
      ]
     },
     "execution_count": 18,
     "metadata": {},
     "output_type": "execute_result"
    }
   ],
   "source": [
    "B.ang_vel_in(A).simplify()"
   ]
  },
  {
   "cell_type": "code",
   "execution_count": 19,
   "id": "1c16eb2e",
   "metadata": {
    "execution": {
     "iopub.execute_input": "2022-03-16T06:31:20.866948Z",
     "iopub.status.busy": "2022-03-16T06:31:20.866651Z",
     "iopub.status.idle": "2022-03-16T06:31:20.905451Z",
     "shell.execute_reply": "2022-03-16T06:31:20.904932Z"
    }
   },
   "outputs": [
    {
     "data": {
      "text/latex": [
       "$\\displaystyle u_{1}\\mathbf{\\hat{b}_x} + u_{2}\\mathbf{\\hat{b}_y} + u_{3}\\mathbf{\\hat{b}_z}$"
      ],
      "text/plain": [
       "u₁ b_x + u₂ b_y + u₃ b_z"
      ]
     },
     "execution_count": 19,
     "metadata": {},
     "output_type": "execute_result"
    }
   ],
   "source": [
    "A = me.ReferenceFrame('A')\n",
    "B = me.ReferenceFrame('B')\n",
    "B.orient_body_fixed(A, (psi, theta, 0), 'ZXZ')\n",
    "\n",
    "u1, u2, u3 = me.dynamicsymbols('u1, u2, u3')\n",
    "\n",
    "u = u1*B.x + u2*B.y + u3*B.z\n",
    "u"
   ]
  },
  {
   "cell_type": "code",
   "execution_count": 20,
   "id": "15756576",
   "metadata": {
    "execution": {
     "iopub.execute_input": "2022-03-16T06:31:20.907988Z",
     "iopub.status.busy": "2022-03-16T06:31:20.907586Z",
     "iopub.status.idle": "2022-03-16T06:31:20.922463Z",
     "shell.execute_reply": "2022-03-16T06:31:20.921970Z"
    }
   },
   "outputs": [
    {
     "data": {
      "text/latex": [
       "$\\displaystyle (u_{1} \\cos{\\left(\\psi \\right)} - u_{2} \\sin{\\left(\\psi \\right)} \\cos{\\left(\\theta \\right)} + u_{3} \\sin{\\left(\\psi \\right)} \\sin{\\left(\\theta \\right)})\\mathbf{\\hat{a}_x} + (u_{1} \\sin{\\left(\\psi \\right)} + u_{2} \\cos{\\left(\\psi \\right)} \\cos{\\left(\\theta \\right)} - u_{3} \\sin{\\left(\\theta \\right)} \\cos{\\left(\\psi \\right)})\\mathbf{\\hat{a}_y} + (u_{2} \\sin{\\left(\\theta \\right)} + u_{3} \\cos{\\left(\\theta \\right)})\\mathbf{\\hat{a}_z}$"
      ],
      "text/plain": [
       "(u₁⋅cos(ψ) - u₂⋅sin(ψ)⋅cos(θ) + u₃⋅sin(ψ)⋅sin(θ)) a_x + (u₁⋅sin(ψ) + u₂⋅cos(ψ)\n",
       "⋅cos(θ) - u₃⋅sin(θ)⋅cos(ψ)) a_y + (u₂⋅sin(θ) + u₃⋅cos(θ)) a_z"
      ]
     },
     "execution_count": 20,
     "metadata": {},
     "output_type": "execute_result"
    }
   ],
   "source": [
    "u.express(A)"
   ]
  },
  {
   "cell_type": "code",
   "execution_count": 21,
   "id": "9e58fc91",
   "metadata": {
    "execution": {
     "iopub.execute_input": "2022-03-16T06:31:20.925063Z",
     "iopub.status.busy": "2022-03-16T06:31:20.924661Z",
     "iopub.status.idle": "2022-03-16T06:31:20.999175Z",
     "shell.execute_reply": "2022-03-16T06:31:20.998607Z"
    }
   },
   "outputs": [
    {
     "data": {
      "text/latex": [
       "$\\displaystyle (- u_{1} \\sin{\\left(\\psi \\right)} \\dot{\\psi} + u_{2} \\sin{\\left(\\psi \\right)} \\sin{\\left(\\theta \\right)} \\dot{\\theta} - u_{2} \\cos{\\left(\\psi \\right)} \\cos{\\left(\\theta \\right)} \\dot{\\psi} + u_{3} \\sin{\\left(\\psi \\right)} \\cos{\\left(\\theta \\right)} \\dot{\\theta} + u_{3} \\sin{\\left(\\theta \\right)} \\cos{\\left(\\psi \\right)} \\dot{\\psi} + \\sin{\\left(\\psi \\right)} \\sin{\\left(\\theta \\right)} \\dot{u}_{3} - \\sin{\\left(\\psi \\right)} \\cos{\\left(\\theta \\right)} \\dot{u}_{2} + \\cos{\\left(\\psi \\right)} \\dot{u}_{1})\\mathbf{\\hat{a}_x} + (u_{1} \\cos{\\left(\\psi \\right)} \\dot{\\psi} - u_{2} \\sin{\\left(\\psi \\right)} \\cos{\\left(\\theta \\right)} \\dot{\\psi} - u_{2} \\sin{\\left(\\theta \\right)} \\cos{\\left(\\psi \\right)} \\dot{\\theta} + u_{3} \\sin{\\left(\\psi \\right)} \\sin{\\left(\\theta \\right)} \\dot{\\psi} - u_{3} \\cos{\\left(\\psi \\right)} \\cos{\\left(\\theta \\right)} \\dot{\\theta} + \\sin{\\left(\\psi \\right)} \\dot{u}_{1} - \\sin{\\left(\\theta \\right)} \\cos{\\left(\\psi \\right)} \\dot{u}_{3} + \\cos{\\left(\\psi \\right)} \\cos{\\left(\\theta \\right)} \\dot{u}_{2})\\mathbf{\\hat{a}_y} + (u_{2} \\cos{\\left(\\theta \\right)} \\dot{\\theta} - u_{3} \\sin{\\left(\\theta \\right)} \\dot{\\theta} + \\sin{\\left(\\theta \\right)} \\dot{u}_{2} + \\cos{\\left(\\theta \\right)} \\dot{u}_{3})\\mathbf{\\hat{a}_z}$"
      ],
      "text/plain": [
       "(-u₁⋅sin(ψ)⋅ψ̇ + u₂⋅sin(ψ)⋅sin(θ)⋅θ̇ - u₂⋅cos(ψ)⋅cos(θ)⋅ψ̇ + u₃⋅sin(ψ)⋅cos(θ)⋅\n",
       "θ̇ + u₃⋅sin(θ)⋅cos(ψ)⋅ψ̇ + sin(ψ)⋅sin(θ)⋅u₃̇ - sin(ψ)⋅cos(θ)⋅u₂̇ + cos(ψ)⋅u₁̇)\n",
       " a_x + (u₁⋅cos(ψ)⋅ψ̇ - u₂⋅sin(ψ)⋅cos(θ)⋅ψ̇ - u₂⋅sin(θ)⋅cos(ψ)⋅θ̇ + u₃⋅sin(ψ)⋅s\n",
       "in(θ)⋅ψ̇ - u₃⋅cos(ψ)⋅cos(θ)⋅θ̇ + sin(ψ)⋅u₁̇ - sin(θ)⋅cos(ψ)⋅u₃̇ + cos(ψ)⋅cos(θ\n",
       ")⋅u₂̇) a_y + (u₂⋅cos(θ)⋅θ̇ - u₃⋅sin(θ)⋅θ̇ + sin(θ)⋅u₂̇ + cos(θ)⋅u₃̇) a_z"
      ]
     },
     "execution_count": 21,
     "metadata": {},
     "output_type": "execute_result"
    }
   ],
   "source": [
    "u.express(A).dt(A)"
   ]
  },
  {
   "cell_type": "code",
   "execution_count": 22,
   "id": "d67577df",
   "metadata": {
    "execution": {
     "iopub.execute_input": "2022-03-16T06:31:21.002309Z",
     "iopub.status.busy": "2022-03-16T06:31:21.002021Z",
     "iopub.status.idle": "2022-03-16T06:31:21.009335Z",
     "shell.execute_reply": "2022-03-16T06:31:21.008837Z"
    }
   },
   "outputs": [
    {
     "data": {
      "text/latex": [
       "$\\displaystyle \\dot{u}_{1}\\mathbf{\\hat{b}_x} + \\dot{u}_{2}\\mathbf{\\hat{b}_y} + \\dot{u}_{3}\\mathbf{\\hat{b}_z}$"
      ],
      "text/plain": [
       "u₁̇ b_x + u₂̇ b_y + u₃̇ b_z"
      ]
     },
     "execution_count": 22,
     "metadata": {},
     "output_type": "execute_result"
    }
   ],
   "source": [
    "u.dt(B)"
   ]
  },
  {
   "cell_type": "code",
   "execution_count": 23,
   "id": "5db8b462",
   "metadata": {
    "execution": {
     "iopub.execute_input": "2022-03-16T06:31:21.012537Z",
     "iopub.status.busy": "2022-03-16T06:31:21.012096Z",
     "iopub.status.idle": "2022-03-16T06:31:21.019324Z",
     "shell.execute_reply": "2022-03-16T06:31:21.018798Z"
    }
   },
   "outputs": [
    {
     "data": {
      "text/latex": [
       "$\\displaystyle \\dot{\\theta}\\mathbf{\\hat{b}_x} + \\sin{\\left(\\theta \\right)} \\dot{\\psi}\\mathbf{\\hat{b}_y} + \\cos{\\left(\\theta \\right)} \\dot{\\psi}\\mathbf{\\hat{b}_z}$"
      ],
      "text/plain": [
       "θ̇ b_x + sin(θ)⋅ψ̇ b_y + cos(θ)⋅ψ̇ b_z"
      ]
     },
     "execution_count": 23,
     "metadata": {},
     "output_type": "execute_result"
    }
   ],
   "source": [
    "A_w_B = B.ang_vel_in(A)\n",
    "A_w_B"
   ]
  },
  {
   "cell_type": "code",
   "execution_count": 24,
   "id": "1be8d20d",
   "metadata": {
    "execution": {
     "iopub.execute_input": "2022-03-16T06:31:21.021717Z",
     "iopub.status.busy": "2022-03-16T06:31:21.021318Z",
     "iopub.status.idle": "2022-03-16T06:31:21.040669Z",
     "shell.execute_reply": "2022-03-16T06:31:21.040134Z"
    }
   },
   "outputs": [
    {
     "data": {
      "text/latex": [
       "$\\displaystyle (- u_{2} \\cos{\\left(\\theta \\right)} \\dot{\\psi} + u_{3} \\sin{\\left(\\theta \\right)} \\dot{\\psi} + \\dot{u}_{1})\\mathbf{\\hat{b}_x} + (u_{1} \\cos{\\left(\\theta \\right)} \\dot{\\psi} - u_{3} \\dot{\\theta} + \\dot{u}_{2})\\mathbf{\\hat{b}_y} + (- u_{1} \\sin{\\left(\\theta \\right)} \\dot{\\psi} + u_{2} \\dot{\\theta} + \\dot{u}_{3})\\mathbf{\\hat{b}_z}$"
      ],
      "text/plain": [
       "(-u₂⋅cos(θ)⋅ψ̇ + u₃⋅sin(θ)⋅ψ̇ + u₁̇) b_x + (u₁⋅cos(θ)⋅ψ̇ - u₃⋅θ̇ + u₂̇) b_y +\n",
       "(-u₁⋅sin(θ)⋅ψ̇ + u₂⋅θ̇ + u₃̇) b_z"
      ]
     },
     "execution_count": 24,
     "metadata": {},
     "output_type": "execute_result"
    }
   ],
   "source": [
    "u.dt(B) + me.cross(A_w_B, u)"
   ]
  },
  {
   "cell_type": "code",
   "execution_count": 25,
   "id": "9a10b25f",
   "metadata": {
    "execution": {
     "iopub.execute_input": "2022-03-16T06:31:21.042976Z",
     "iopub.status.busy": "2022-03-16T06:31:21.042641Z",
     "iopub.status.idle": "2022-03-16T06:31:23.698620Z",
     "shell.execute_reply": "2022-03-16T06:31:23.698044Z"
    }
   },
   "outputs": [
    {
     "data": {
      "text/latex": [
       "$\\displaystyle (- u_{2} \\cos{\\left(\\theta \\right)} \\dot{\\psi} + u_{3} \\sin{\\left(\\theta \\right)} \\dot{\\psi} + \\dot{u}_{1})\\mathbf{\\hat{b}_x} + (u_{1} \\cos{\\left(\\theta \\right)} \\dot{\\psi} - u_{3} \\dot{\\theta} + \\dot{u}_{2})\\mathbf{\\hat{b}_y} + (- u_{1} \\sin{\\left(\\theta \\right)} \\dot{\\psi} + u_{2} \\dot{\\theta} + \\dot{u}_{3})\\mathbf{\\hat{b}_z}$"
      ],
      "text/plain": [
       "(-u₂⋅cos(θ)⋅ψ̇ + u₃⋅sin(θ)⋅ψ̇ + u₁̇) b_x + (u₁⋅cos(θ)⋅ψ̇ - u₃⋅θ̇ + u₂̇) b_y +\n",
       "(-u₁⋅sin(θ)⋅ψ̇ + u₂⋅θ̇ + u₃̇) b_z"
      ]
     },
     "execution_count": 25,
     "metadata": {},
     "output_type": "execute_result"
    }
   ],
   "source": [
    "u.express(A).dt(A).express(B).simplify()"
   ]
  },
  {
   "cell_type": "code",
   "execution_count": 26,
   "id": "94f95218",
   "metadata": {
    "execution": {
     "iopub.execute_input": "2022-03-16T06:31:23.701564Z",
     "iopub.status.busy": "2022-03-16T06:31:23.701274Z",
     "iopub.status.idle": "2022-03-16T06:31:23.717464Z",
     "shell.execute_reply": "2022-03-16T06:31:23.716973Z"
    }
   },
   "outputs": [],
   "source": [
    "psi, theta, phi = me.dynamicsymbols('psi, theta, varphi')\n",
    "\n",
    "A = me.ReferenceFrame('A')\n",
    "B = me.ReferenceFrame('B')\n",
    "C = me.ReferenceFrame('C')\n",
    "D = me.ReferenceFrame('D')\n",
    "\n",
    "B.orient_axis(A, psi, A.y)\n",
    "C.orient_axis(B, theta, B.x)\n",
    "D.orient_axis(C, phi, C.y)"
   ]
  },
  {
   "cell_type": "code",
   "execution_count": 27,
   "id": "082ae571",
   "metadata": {
    "execution": {
     "iopub.execute_input": "2022-03-16T06:31:23.719983Z",
     "iopub.status.busy": "2022-03-16T06:31:23.719497Z",
     "iopub.status.idle": "2022-03-16T06:31:23.724848Z",
     "shell.execute_reply": "2022-03-16T06:31:23.724327Z"
    }
   },
   "outputs": [
    {
     "data": {
      "text/latex": [
       "$\\displaystyle \\dot{\\psi}\\mathbf{\\hat{a}_y}$"
      ],
      "text/plain": [
       "ψ̇ a_y"
      ]
     },
     "execution_count": 27,
     "metadata": {},
     "output_type": "execute_result"
    }
   ],
   "source": [
    "A_w_B = B.ang_vel_in(A)\n",
    "A_w_B"
   ]
  },
  {
   "cell_type": "code",
   "execution_count": 28,
   "id": "f7e07115",
   "metadata": {
    "execution": {
     "iopub.execute_input": "2022-03-16T06:31:23.727234Z",
     "iopub.status.busy": "2022-03-16T06:31:23.726831Z",
     "iopub.status.idle": "2022-03-16T06:31:23.731551Z",
     "shell.execute_reply": "2022-03-16T06:31:23.731049Z"
    }
   },
   "outputs": [
    {
     "data": {
      "text/latex": [
       "$\\displaystyle \\dot{\\theta}\\mathbf{\\hat{b}_x}$"
      ],
      "text/plain": [
       "θ̇ b_x"
      ]
     },
     "execution_count": 28,
     "metadata": {},
     "output_type": "execute_result"
    }
   ],
   "source": [
    "B_w_C = C.ang_vel_in(B)\n",
    "B_w_C"
   ]
  },
  {
   "cell_type": "code",
   "execution_count": 29,
   "id": "c10e883e",
   "metadata": {
    "execution": {
     "iopub.execute_input": "2022-03-16T06:31:23.734613Z",
     "iopub.status.busy": "2022-03-16T06:31:23.734278Z",
     "iopub.status.idle": "2022-03-16T06:31:23.738817Z",
     "shell.execute_reply": "2022-03-16T06:31:23.738317Z"
    }
   },
   "outputs": [
    {
     "data": {
      "text/latex": [
       "$\\displaystyle \\dot{\\varphi}\\mathbf{\\hat{c}_y}$"
      ],
      "text/plain": [
       "varṗhi c_y"
      ]
     },
     "execution_count": 29,
     "metadata": {},
     "output_type": "execute_result"
    }
   ],
   "source": [
    "C_w_D = D.ang_vel_in(C)\n",
    "C_w_D"
   ]
  },
  {
   "cell_type": "code",
   "execution_count": 30,
   "id": "a1b12b0f",
   "metadata": {
    "execution": {
     "iopub.execute_input": "2022-03-16T06:31:23.741836Z",
     "iopub.status.busy": "2022-03-16T06:31:23.741503Z",
     "iopub.status.idle": "2022-03-16T06:31:23.747347Z",
     "shell.execute_reply": "2022-03-16T06:31:23.746855Z"
    }
   },
   "outputs": [
    {
     "data": {
      "text/latex": [
       "$\\displaystyle \\dot{\\psi}\\mathbf{\\hat{a}_y} + \\dot{\\theta}\\mathbf{\\hat{b}_x} + \\dot{\\varphi}\\mathbf{\\hat{c}_y}$"
      ],
      "text/plain": [
       "ψ̇ a_y + θ̇ b_x + varṗhi c_y"
      ]
     },
     "execution_count": 30,
     "metadata": {},
     "output_type": "execute_result"
    }
   ],
   "source": [
    "A_w_D = A_w_B + B_w_C + C_w_D\n",
    "A_w_D"
   ]
  },
  {
   "cell_type": "code",
   "execution_count": 31,
   "id": "8a24df34",
   "metadata": {
    "execution": {
     "iopub.execute_input": "2022-03-16T06:31:23.750414Z",
     "iopub.status.busy": "2022-03-16T06:31:23.750081Z",
     "iopub.status.idle": "2022-03-16T06:31:24.210562Z",
     "shell.execute_reply": "2022-03-16T06:31:24.209959Z"
    }
   },
   "outputs": [
    {
     "data": {
      "text/latex": [
       "$\\displaystyle (\\sin{\\left(\\theta \\right)} \\sin{\\left(\\varphi \\right)} \\dot{\\psi} + \\cos{\\left(\\varphi \\right)} \\dot{\\theta})\\mathbf{\\hat{d}_x} + (\\cos{\\left(\\theta \\right)} \\dot{\\psi} + \\dot{\\varphi})\\mathbf{\\hat{d}_y} + (- \\sin{\\left(\\theta \\right)} \\cos{\\left(\\varphi \\right)} \\dot{\\psi} + \\sin{\\left(\\varphi \\right)} \\dot{\\theta})\\mathbf{\\hat{d}_z}$"
      ],
      "text/plain": [
       "(sin(θ)⋅sin(varphi)⋅ψ̇ + cos(varphi)⋅θ̇) d_x + (cos(θ)⋅ψ̇ + varṗhi) d_y + (-s\n",
       "in(θ)⋅cos(varphi)⋅ψ̇ + sin(varphi)⋅θ̇) d_z"
      ]
     },
     "execution_count": 31,
     "metadata": {},
     "output_type": "execute_result"
    }
   ],
   "source": [
    "A2 = me.ReferenceFrame('A')\n",
    "D2 = me.ReferenceFrame('D')\n",
    "D2.orient_body_fixed(A2, (psi, theta, phi), 'YXY')\n",
    "D2.ang_vel_in(A2).simplify()"
   ]
  },
  {
   "cell_type": "code",
   "execution_count": 32,
   "id": "8a10c105",
   "metadata": {
    "execution": {
     "iopub.execute_input": "2022-03-16T06:31:24.213627Z",
     "iopub.status.busy": "2022-03-16T06:31:24.213337Z",
     "iopub.status.idle": "2022-03-16T06:31:24.237021Z",
     "shell.execute_reply": "2022-03-16T06:31:24.236554Z"
    }
   },
   "outputs": [
    {
     "data": {
      "text/latex": [
       "$\\displaystyle (\\sin{\\left(\\theta \\right)} \\sin{\\left(\\varphi \\right)} \\dot{\\psi} + \\cos{\\left(\\varphi \\right)} \\dot{\\theta})\\mathbf{\\hat{d}_x} + (\\cos{\\left(\\theta \\right)} \\dot{\\psi} + \\dot{\\varphi})\\mathbf{\\hat{d}_y} + (- \\sin{\\left(\\theta \\right)} \\cos{\\left(\\varphi \\right)} \\dot{\\psi} + \\sin{\\left(\\varphi \\right)} \\dot{\\theta})\\mathbf{\\hat{d}_z}$"
      ],
      "text/plain": [
       "(sin(θ)⋅sin(varphi)⋅ψ̇ + cos(varphi)⋅θ̇) d_x + (cos(θ)⋅ψ̇ + varṗhi) d_y + (-s\n",
       "in(θ)⋅cos(varphi)⋅ψ̇ + sin(varphi)⋅θ̇) d_z"
      ]
     },
     "execution_count": 32,
     "metadata": {},
     "output_type": "execute_result"
    }
   ],
   "source": [
    "A_w_D.express(D)"
   ]
  },
  {
   "cell_type": "code",
   "execution_count": 33,
   "id": "23cf4d62",
   "metadata": {
    "execution": {
     "iopub.execute_input": "2022-03-16T06:31:24.239323Z",
     "iopub.status.busy": "2022-03-16T06:31:24.238987Z",
     "iopub.status.idle": "2022-03-16T06:31:24.250009Z",
     "shell.execute_reply": "2022-03-16T06:31:24.249510Z"
    }
   },
   "outputs": [
    {
     "data": {
      "text/latex": [
       "$\\displaystyle \\ddot{\\theta}\\mathbf{\\hat{a}_z}$"
      ],
      "text/plain": [
       "θ̈ a_z"
      ]
     },
     "execution_count": 33,
     "metadata": {},
     "output_type": "execute_result"
    }
   ],
   "source": [
    "theta = me.dynamicsymbols('theta')\n",
    "\n",
    "A = me.ReferenceFrame('A')\n",
    "B = me.ReferenceFrame('B')\n",
    "B.orient_axis(A, theta, A.z)\n",
    "B.ang_acc_in(A)"
   ]
  },
  {
   "cell_type": "code",
   "execution_count": 34,
   "id": "e2ca688e",
   "metadata": {
    "execution": {
     "iopub.execute_input": "2022-03-16T06:31:24.253059Z",
     "iopub.status.busy": "2022-03-16T06:31:24.252663Z",
     "iopub.status.idle": "2022-03-16T06:31:24.259100Z",
     "shell.execute_reply": "2022-03-16T06:31:24.258603Z"
    }
   },
   "outputs": [
    {
     "data": {
      "text/latex": [
       "$\\displaystyle \\ddot{\\theta}\\mathbf{\\hat{a}_z}$"
      ],
      "text/plain": [
       "θ̈ a_z"
      ]
     },
     "execution_count": 34,
     "metadata": {},
     "output_type": "execute_result"
    }
   ],
   "source": [
    "B.ang_vel_in(A).dt(A)"
   ]
  },
  {
   "cell_type": "code",
   "execution_count": 35,
   "id": "bf16697f",
   "metadata": {
    "execution": {
     "iopub.execute_input": "2022-03-16T06:31:24.262084Z",
     "iopub.status.busy": "2022-03-16T06:31:24.261752Z",
     "iopub.status.idle": "2022-03-16T06:31:24.270561Z",
     "shell.execute_reply": "2022-03-16T06:31:24.270067Z"
    }
   },
   "outputs": [
    {
     "data": {
      "text/latex": [
       "$\\displaystyle \\ddot{\\theta}\\mathbf{\\hat{a}_z}$"
      ],
      "text/plain": [
       "θ̈ a_z"
      ]
     },
     "execution_count": 35,
     "metadata": {},
     "output_type": "execute_result"
    }
   ],
   "source": [
    "B.ang_vel_in(A).dt(B)"
   ]
  },
  {
   "cell_type": "code",
   "execution_count": 36,
   "id": "45e7fa02",
   "metadata": {
    "execution": {
     "iopub.execute_input": "2022-03-16T06:31:24.273531Z",
     "iopub.status.busy": "2022-03-16T06:31:24.273134Z",
     "iopub.status.idle": "2022-03-16T06:31:25.614076Z",
     "shell.execute_reply": "2022-03-16T06:31:25.613515Z"
    }
   },
   "outputs": [
    {
     "data": {
      "text/latex": [
       "$\\displaystyle (\\sin{\\left(\\theta \\right)} \\sin{\\left(\\varphi \\right)} \\ddot{\\psi} + \\sin{\\left(\\theta \\right)} \\cos{\\left(\\varphi \\right)} \\dot{\\psi} \\dot{\\varphi} + \\sin{\\left(\\varphi \\right)} \\cos{\\left(\\theta \\right)} \\dot{\\psi} \\dot{\\theta} - \\sin{\\left(\\varphi \\right)} \\dot{\\theta} \\dot{\\varphi} + \\cos{\\left(\\varphi \\right)} \\ddot{\\theta})\\mathbf{\\hat{d}_x} + (- \\sin{\\left(\\theta \\right)} \\dot{\\psi} \\dot{\\theta} + \\cos{\\left(\\theta \\right)} \\ddot{\\psi} + \\ddot{\\varphi})\\mathbf{\\hat{d}_y} + (\\sin{\\left(\\theta \\right)} \\sin{\\left(\\varphi \\right)} \\dot{\\psi} \\dot{\\varphi} - \\sin{\\left(\\theta \\right)} \\cos{\\left(\\varphi \\right)} \\ddot{\\psi} + \\sin{\\left(\\varphi \\right)} \\ddot{\\theta} - \\cos{\\left(\\theta \\right)} \\cos{\\left(\\varphi \\right)} \\dot{\\psi} \\dot{\\theta} + \\cos{\\left(\\varphi \\right)} \\dot{\\theta} \\dot{\\varphi})\\mathbf{\\hat{d}_z}$"
      ],
      "text/plain": [
       "(sin(θ)⋅sin(varphi)⋅ψ̈ + sin(θ)⋅cos(varphi)⋅ψ̇⋅varṗhi + sin(varphi)⋅cos(θ)⋅ψ̇\n",
       "⋅θ̇ - sin(varphi)⋅θ̇⋅varṗhi + cos(varphi)⋅θ̈) d_x + (-sin(θ)⋅ψ̇⋅θ̇ + cos(θ)⋅ψ\n",
       "̈ + varp̈hi) d_y + (sin(θ)⋅sin(varphi)⋅ψ̇⋅varṗhi - sin(θ)⋅cos(varphi)⋅ψ̈ + si\n",
       "n(varphi)⋅θ̈ - cos(θ)⋅cos(varphi)⋅ψ̇⋅θ̇ + cos(varphi)⋅θ̇⋅varṗhi) d_z"
      ]
     },
     "execution_count": 36,
     "metadata": {},
     "output_type": "execute_result"
    }
   ],
   "source": [
    "psi, theta, phi = me.dynamicsymbols('psi, theta, varphi')\n",
    "\n",
    "A = me.ReferenceFrame('A')\n",
    "D = me.ReferenceFrame('D')\n",
    "D.orient_body_fixed(A, (psi, theta, phi), 'YXY')\n",
    "\n",
    "D.ang_acc_in(A).simplify()"
   ]
  },
  {
   "cell_type": "code",
   "execution_count": 37,
   "id": "f4f79abb",
   "metadata": {
    "execution": {
     "iopub.execute_input": "2022-03-16T06:31:25.616944Z",
     "iopub.status.busy": "2022-03-16T06:31:25.616661Z",
     "iopub.status.idle": "2022-03-16T06:31:26.758109Z",
     "shell.execute_reply": "2022-03-16T06:31:26.757535Z"
    }
   },
   "outputs": [
    {
     "data": {
      "text/latex": [
       "$\\displaystyle (\\sin{\\left(\\theta \\right)} \\sin{\\left(\\varphi \\right)} \\ddot{\\psi} + \\sin{\\left(\\theta \\right)} \\cos{\\left(\\varphi \\right)} \\dot{\\psi} \\dot{\\varphi} + \\sin{\\left(\\varphi \\right)} \\cos{\\left(\\theta \\right)} \\dot{\\psi} \\dot{\\theta} - \\sin{\\left(\\varphi \\right)} \\dot{\\theta} \\dot{\\varphi} + \\cos{\\left(\\varphi \\right)} \\ddot{\\theta})\\mathbf{\\hat{d}_x} + (- \\sin{\\left(\\theta \\right)} \\dot{\\psi} \\dot{\\theta} + \\cos{\\left(\\theta \\right)} \\ddot{\\psi} + \\ddot{\\varphi})\\mathbf{\\hat{d}_y} + (\\sin{\\left(\\theta \\right)} \\sin{\\left(\\varphi \\right)} \\dot{\\psi} \\dot{\\varphi} - \\sin{\\left(\\theta \\right)} \\cos{\\left(\\varphi \\right)} \\ddot{\\psi} + \\sin{\\left(\\varphi \\right)} \\ddot{\\theta} - \\cos{\\left(\\theta \\right)} \\cos{\\left(\\varphi \\right)} \\dot{\\psi} \\dot{\\theta} + \\cos{\\left(\\varphi \\right)} \\dot{\\theta} \\dot{\\varphi})\\mathbf{\\hat{d}_z}$"
      ],
      "text/plain": [
       "(sin(θ)⋅sin(varphi)⋅ψ̈ + sin(θ)⋅cos(varphi)⋅ψ̇⋅varṗhi + sin(varphi)⋅cos(θ)⋅ψ̇\n",
       "⋅θ̇ - sin(varphi)⋅θ̇⋅varṗhi + cos(varphi)⋅θ̈) d_x + (-sin(θ)⋅ψ̇⋅θ̇ + cos(θ)⋅ψ\n",
       "̈ + varp̈hi) d_y + (sin(θ)⋅sin(varphi)⋅ψ̇⋅varṗhi - sin(θ)⋅cos(varphi)⋅ψ̈ + si\n",
       "n(varphi)⋅θ̈ - cos(θ)⋅cos(varphi)⋅ψ̇⋅θ̇ + cos(varphi)⋅θ̇⋅varṗhi) d_z"
      ]
     },
     "execution_count": 37,
     "metadata": {},
     "output_type": "execute_result"
    }
   ],
   "source": [
    "D.ang_vel_in(A).dt(A).simplify()"
   ]
  },
  {
   "cell_type": "code",
   "execution_count": 38,
   "id": "914824a1",
   "metadata": {
    "execution": {
     "iopub.execute_input": "2022-03-16T06:31:26.760866Z",
     "iopub.status.busy": "2022-03-16T06:31:26.760585Z",
     "iopub.status.idle": "2022-03-16T06:31:27.906737Z",
     "shell.execute_reply": "2022-03-16T06:31:27.906255Z"
    }
   },
   "outputs": [
    {
     "data": {
      "text/latex": [
       "$\\displaystyle (\\sin{\\left(\\theta \\right)} \\sin{\\left(\\varphi \\right)} \\ddot{\\psi} + \\sin{\\left(\\theta \\right)} \\cos{\\left(\\varphi \\right)} \\dot{\\psi} \\dot{\\varphi} + \\sin{\\left(\\varphi \\right)} \\cos{\\left(\\theta \\right)} \\dot{\\psi} \\dot{\\theta} - \\sin{\\left(\\varphi \\right)} \\dot{\\theta} \\dot{\\varphi} + \\cos{\\left(\\varphi \\right)} \\ddot{\\theta})\\mathbf{\\hat{d}_x} + (- \\sin{\\left(\\theta \\right)} \\dot{\\psi} \\dot{\\theta} + \\cos{\\left(\\theta \\right)} \\ddot{\\psi} + \\ddot{\\varphi})\\mathbf{\\hat{d}_y} + (\\sin{\\left(\\theta \\right)} \\sin{\\left(\\varphi \\right)} \\dot{\\psi} \\dot{\\varphi} - \\sin{\\left(\\theta \\right)} \\cos{\\left(\\varphi \\right)} \\ddot{\\psi} + \\sin{\\left(\\varphi \\right)} \\ddot{\\theta} - \\cos{\\left(\\theta \\right)} \\cos{\\left(\\varphi \\right)} \\dot{\\psi} \\dot{\\theta} + \\cos{\\left(\\varphi \\right)} \\dot{\\theta} \\dot{\\varphi})\\mathbf{\\hat{d}_z}$"
      ],
      "text/plain": [
       "(sin(θ)⋅sin(varphi)⋅ψ̈ + sin(θ)⋅cos(varphi)⋅ψ̇⋅varṗhi + sin(varphi)⋅cos(θ)⋅ψ̇\n",
       "⋅θ̇ - sin(varphi)⋅θ̇⋅varṗhi + cos(varphi)⋅θ̈) d_x + (-sin(θ)⋅ψ̇⋅θ̇ + cos(θ)⋅ψ\n",
       "̈ + varp̈hi) d_y + (sin(θ)⋅sin(varphi)⋅ψ̇⋅varṗhi - sin(θ)⋅cos(varphi)⋅ψ̈ + si\n",
       "n(varphi)⋅θ̈ - cos(θ)⋅cos(varphi)⋅ψ̇⋅θ̇ + cos(varphi)⋅θ̇⋅varṗhi) d_z"
      ]
     },
     "execution_count": 38,
     "metadata": {},
     "output_type": "execute_result"
    }
   ],
   "source": [
    "D.ang_vel_in(A).dt(D).simplify()"
   ]
  },
  {
   "cell_type": "code",
   "execution_count": 39,
   "id": "a239482e",
   "metadata": {
    "execution": {
     "iopub.execute_input": "2022-03-16T06:31:27.909345Z",
     "iopub.status.busy": "2022-03-16T06:31:27.908971Z",
     "iopub.status.idle": "2022-03-16T06:31:27.924240Z",
     "shell.execute_reply": "2022-03-16T06:31:27.923778Z"
    }
   },
   "outputs": [],
   "source": [
    "psi, theta, phi = me.dynamicsymbols('psi, theta, varphi')\n",
    "\n",
    "A = me.ReferenceFrame('A')\n",
    "B = me.ReferenceFrame('B')\n",
    "C = me.ReferenceFrame('C')\n",
    "D = me.ReferenceFrame('D')\n",
    "\n",
    "B.orient_axis(A, psi, A.y)\n",
    "C.orient_axis(B, theta, B.x)\n",
    "D.orient_axis(C, phi, C.y)"
   ]
  },
  {
   "cell_type": "code",
   "execution_count": 40,
   "id": "2a026376",
   "metadata": {
    "execution": {
     "iopub.execute_input": "2022-03-16T06:31:27.926571Z",
     "iopub.status.busy": "2022-03-16T06:31:27.926176Z",
     "iopub.status.idle": "2022-03-16T06:31:27.932708Z",
     "shell.execute_reply": "2022-03-16T06:31:27.932178Z"
    }
   },
   "outputs": [
    {
     "data": {
      "text/latex": [
       "$\\displaystyle \\ddot{\\psi}\\mathbf{\\hat{a}_y}$"
      ],
      "text/plain": [
       "ψ̈ a_y"
      ]
     },
     "execution_count": 40,
     "metadata": {},
     "output_type": "execute_result"
    }
   ],
   "source": [
    "A_alp_B = B.ang_acc_in(A)\n",
    "A_alp_B"
   ]
  },
  {
   "cell_type": "code",
   "execution_count": 41,
   "id": "579df6a7",
   "metadata": {
    "execution": {
     "iopub.execute_input": "2022-03-16T06:31:27.935665Z",
     "iopub.status.busy": "2022-03-16T06:31:27.935331Z",
     "iopub.status.idle": "2022-03-16T06:31:27.941885Z",
     "shell.execute_reply": "2022-03-16T06:31:27.941389Z"
    }
   },
   "outputs": [
    {
     "data": {
      "text/latex": [
       "$\\displaystyle \\ddot{\\theta}\\mathbf{\\hat{b}_x}$"
      ],
      "text/plain": [
       "θ̈ b_x"
      ]
     },
     "execution_count": 41,
     "metadata": {},
     "output_type": "execute_result"
    }
   ],
   "source": [
    "B_alp_C = C.ang_acc_in(B)\n",
    "B_alp_C"
   ]
  },
  {
   "cell_type": "code",
   "execution_count": 42,
   "id": "1100b047",
   "metadata": {
    "execution": {
     "iopub.execute_input": "2022-03-16T06:31:27.944845Z",
     "iopub.status.busy": "2022-03-16T06:31:27.944515Z",
     "iopub.status.idle": "2022-03-16T06:31:27.954968Z",
     "shell.execute_reply": "2022-03-16T06:31:27.954444Z"
    }
   },
   "outputs": [
    {
     "data": {
      "text/latex": [
       "$\\displaystyle \\ddot{\\varphi}\\mathbf{\\hat{c}_y}$"
      ],
      "text/plain": [
       "varp̈hi c_y"
      ]
     },
     "execution_count": 42,
     "metadata": {},
     "output_type": "execute_result"
    }
   ],
   "source": [
    "C_alp_D = D.ang_acc_in(C)\n",
    "C_alp_D"
   ]
  },
  {
   "cell_type": "code",
   "execution_count": 43,
   "id": "9db4b5e7",
   "metadata": {
    "execution": {
     "iopub.execute_input": "2022-03-16T06:31:27.957468Z",
     "iopub.status.busy": "2022-03-16T06:31:27.957214Z",
     "iopub.status.idle": "2022-03-16T06:31:28.184539Z",
     "shell.execute_reply": "2022-03-16T06:31:28.183985Z"
    }
   },
   "outputs": [
    {
     "data": {
      "text/latex": [
       "$\\displaystyle (\\sin{\\left(\\theta \\right)} \\sin{\\left(\\varphi \\right)} \\ddot{\\psi} + \\cos{\\left(\\varphi \\right)} \\ddot{\\theta})\\mathbf{\\hat{d}_x} + (\\cos{\\left(\\theta \\right)} \\ddot{\\psi} + \\ddot{\\varphi})\\mathbf{\\hat{d}_y} + (- \\sin{\\left(\\theta \\right)} \\cos{\\left(\\varphi \\right)} \\ddot{\\psi} + \\sin{\\left(\\varphi \\right)} \\ddot{\\theta})\\mathbf{\\hat{d}_z}$"
      ],
      "text/plain": [
       "(sin(θ)⋅sin(varphi)⋅ψ̈ + cos(varphi)⋅θ̈) d_x + (cos(θ)⋅ψ̈ + varp̈hi) d_y + (-s\n",
       "in(θ)⋅cos(varphi)⋅ψ̈ + sin(varphi)⋅θ̈) d_z"
      ]
     },
     "execution_count": 43,
     "metadata": {},
     "output_type": "execute_result"
    }
   ],
   "source": [
    "A_alp_D = A_alp_B + B_alp_C + C_alp_D\n",
    "A_alp_D.express(D).simplify()"
   ]
  },
  {
   "cell_type": "code",
   "execution_count": 44,
   "id": "8a418dc3",
   "metadata": {
    "execution": {
     "iopub.execute_input": "2022-03-16T06:31:28.187278Z",
     "iopub.status.busy": "2022-03-16T06:31:28.186987Z",
     "iopub.status.idle": "2022-03-16T06:31:28.905201Z",
     "shell.execute_reply": "2022-03-16T06:31:28.904679Z"
    }
   },
   "outputs": [
    {
     "data": {
      "text/latex": [
       "$\\displaystyle (\\sin{\\left(\\theta \\right)} \\sin{\\left(\\varphi \\right)} \\ddot{\\psi} + \\sin{\\left(\\theta \\right)} \\cos{\\left(\\varphi \\right)} \\dot{\\psi} \\dot{\\varphi} + \\sin{\\left(\\varphi \\right)} \\cos{\\left(\\theta \\right)} \\dot{\\psi} \\dot{\\theta} - \\sin{\\left(\\varphi \\right)} \\dot{\\theta} \\dot{\\varphi} + \\cos{\\left(\\varphi \\right)} \\ddot{\\theta})\\mathbf{\\hat{d}_x} + (- \\sin{\\left(\\theta \\right)} \\dot{\\psi} \\dot{\\theta} + \\cos{\\left(\\theta \\right)} \\ddot{\\psi} + \\ddot{\\varphi})\\mathbf{\\hat{d}_y} + (\\sin{\\left(\\theta \\right)} \\sin{\\left(\\varphi \\right)} \\dot{\\psi} \\dot{\\varphi} - \\sin{\\left(\\theta \\right)} \\cos{\\left(\\varphi \\right)} \\ddot{\\psi} + \\sin{\\left(\\varphi \\right)} \\ddot{\\theta} - \\cos{\\left(\\theta \\right)} \\cos{\\left(\\varphi \\right)} \\dot{\\psi} \\dot{\\theta} + \\cos{\\left(\\varphi \\right)} \\dot{\\theta} \\dot{\\varphi})\\mathbf{\\hat{d}_z}$"
      ],
      "text/plain": [
       "(sin(θ)⋅sin(varphi)⋅ψ̈ + sin(θ)⋅cos(varphi)⋅ψ̇⋅varṗhi + sin(varphi)⋅cos(θ)⋅ψ̇\n",
       "⋅θ̇ - sin(varphi)⋅θ̇⋅varṗhi + cos(varphi)⋅θ̈) d_x + (-sin(θ)⋅ψ̇⋅θ̇ + cos(θ)⋅ψ\n",
       "̈ + varp̈hi) d_y + (sin(θ)⋅sin(varphi)⋅ψ̇⋅varṗhi - sin(θ)⋅cos(varphi)⋅ψ̈ + si\n",
       "n(varphi)⋅θ̈ - cos(θ)⋅cos(varphi)⋅ψ̇⋅θ̇ + cos(varphi)⋅θ̇⋅varṗhi) d_z"
      ]
     },
     "execution_count": 44,
     "metadata": {},
     "output_type": "execute_result"
    }
   ],
   "source": [
    "D.ang_acc_in(A).express(D).simplify()"
   ]
  }
 ],
 "metadata": {
  "kernelspec": {
   "display_name": "Python 3 (ipykernel)",
   "language": "python",
   "name": "python3"
  },
  "language_info": {
   "codemirror_mode": {
    "name": "ipython",
    "version": 3
   },
   "file_extension": ".py",
   "mimetype": "text/x-python",
   "name": "python",
   "nbconvert_exporter": "python",
   "pygments_lexer": "ipython3",
   "version": "3.9.10"
  }
 },
 "nbformat": 4,
 "nbformat_minor": 5
}