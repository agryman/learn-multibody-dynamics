{
 "cells": [
  {
   "cell_type": "code",
   "execution_count": 1,
   "id": "9bb1cb97",
   "metadata": {
    "execution": {
     "iopub.execute_input": "2022-06-13T06:55:50.829103Z",
     "iopub.status.busy": "2022-06-13T06:55:50.828727Z",
     "iopub.status.idle": "2022-06-13T06:55:51.277427Z",
     "shell.execute_reply": "2022-06-13T06:55:51.276831Z"
    }
   },
   "outputs": [],
   "source": [
    "import sympy as sm\n",
    "import sympy.physics.mechanics as me\n",
    "sm.init_printing(use_latex='mathjax')"
   ]
  },
  {
   "cell_type": "code",
   "execution_count": 2,
   "id": "e3b110a6",
   "metadata": {
    "execution": {
     "iopub.execute_input": "2022-06-13T06:55:51.280289Z",
     "iopub.status.busy": "2022-06-13T06:55:51.279947Z",
     "iopub.status.idle": "2022-06-13T06:55:51.283584Z",
     "shell.execute_reply": "2022-06-13T06:55:51.283022Z"
    }
   },
   "outputs": [],
   "source": [
    "N = me.ReferenceFrame('N')"
   ]
  },
  {
   "cell_type": "code",
   "execution_count": 3,
   "id": "e7823ceb",
   "metadata": {
    "execution": {
     "iopub.execute_input": "2022-06-13T06:55:51.286105Z",
     "iopub.status.busy": "2022-06-13T06:55:51.285639Z",
     "iopub.status.idle": "2022-06-13T06:55:51.288641Z",
     "shell.execute_reply": "2022-06-13T06:55:51.288107Z"
    }
   },
   "outputs": [],
   "source": [
    "a, b, c, d, e, f = sm.symbols('a, b, c, d, e, f')"
   ]
  },
  {
   "cell_type": "code",
   "execution_count": 4,
   "id": "923f86cf",
   "metadata": {
    "execution": {
     "iopub.execute_input": "2022-06-13T06:55:51.290831Z",
     "iopub.status.busy": "2022-06-13T06:55:51.290517Z",
     "iopub.status.idle": "2022-06-13T06:55:51.296661Z",
     "shell.execute_reply": "2022-06-13T06:55:51.296103Z"
    }
   },
   "outputs": [
    {
     "data": {
      "text/latex": [
       "$\\displaystyle a\\mathbf{\\hat{n}_x}$"
      ],
      "text/plain": [
       "a n_x"
      ]
     },
     "execution_count": 4,
     "metadata": {},
     "output_type": "execute_result"
    }
   ],
   "source": [
    "v = a*N.x\n",
    "v"
   ]
  },
  {
   "cell_type": "code",
   "execution_count": 5,
   "id": "298c72ab",
   "metadata": {
    "execution": {
     "iopub.execute_input": "2022-06-13T06:55:51.300002Z",
     "iopub.status.busy": "2022-06-13T06:55:51.299535Z",
     "iopub.status.idle": "2022-06-13T06:55:51.305358Z",
     "shell.execute_reply": "2022-06-13T06:55:51.304818Z"
    }
   },
   "outputs": [
    {
     "data": {
      "text/latex": [
       "$\\displaystyle \\left[\\begin{matrix}a\\\\0\\\\0\\end{matrix}\\right]$"
      ],
      "text/plain": [
       "⎡a⎤\n",
       "⎢ ⎥\n",
       "⎢0⎥\n",
       "⎢ ⎥\n",
       "⎣0⎦"
      ]
     },
     "execution_count": 5,
     "metadata": {},
     "output_type": "execute_result"
    }
   ],
   "source": [
    "v.to_matrix(N)"
   ]
  },
  {
   "cell_type": "code",
   "execution_count": 6,
   "id": "a29ca81f",
   "metadata": {
    "execution": {
     "iopub.execute_input": "2022-06-13T06:55:51.307957Z",
     "iopub.status.busy": "2022-06-13T06:55:51.307764Z",
     "iopub.status.idle": "2022-06-13T06:55:51.312641Z",
     "shell.execute_reply": "2022-06-13T06:55:51.312112Z"
    }
   },
   "outputs": [
    {
     "data": {
      "text/latex": [
       "$\\displaystyle a\\mathbf{\\hat{n}_x} + b\\mathbf{\\hat{n}_y} + c\\mathbf{\\hat{n}_z}$"
      ],
      "text/plain": [
       "a n_x + b n_y + c n_z"
      ]
     },
     "execution_count": 6,
     "metadata": {},
     "output_type": "execute_result"
    }
   ],
   "source": [
    "w = a*N.x + b*N.y + c*N.z\n",
    "w"
   ]
  },
  {
   "cell_type": "code",
   "execution_count": 7,
   "id": "8cf17ad8",
   "metadata": {
    "execution": {
     "iopub.execute_input": "2022-06-13T06:55:51.315345Z",
     "iopub.status.busy": "2022-06-13T06:55:51.315028Z",
     "iopub.status.idle": "2022-06-13T06:55:51.320784Z",
     "shell.execute_reply": "2022-06-13T06:55:51.320244Z"
    }
   },
   "outputs": [
    {
     "data": {
      "text/latex": [
       "$\\displaystyle \\left[\\begin{matrix}a\\\\b\\\\c\\end{matrix}\\right]$"
      ],
      "text/plain": [
       "⎡a⎤\n",
       "⎢ ⎥\n",
       "⎢b⎥\n",
       "⎢ ⎥\n",
       "⎣c⎦"
      ]
     },
     "execution_count": 7,
     "metadata": {},
     "output_type": "execute_result"
    }
   ],
   "source": [
    "w.to_matrix(N)"
   ]
  },
  {
   "cell_type": "code",
   "execution_count": 8,
   "id": "c625b999",
   "metadata": {
    "execution": {
     "iopub.execute_input": "2022-06-13T06:55:51.323747Z",
     "iopub.status.busy": "2022-06-13T06:55:51.323441Z",
     "iopub.status.idle": "2022-06-13T06:55:51.328341Z",
     "shell.execute_reply": "2022-06-13T06:55:51.327789Z"
    }
   },
   "outputs": [
    {
     "data": {
      "text/latex": [
       "$\\displaystyle d\\mathbf{\\hat{n}_x} + e\\mathbf{\\hat{n}_y} + f\\mathbf{\\hat{n}_z}$"
      ],
      "text/plain": [
       "d n_x + e n_y + f n_z"
      ]
     },
     "execution_count": 8,
     "metadata": {},
     "output_type": "execute_result"
    }
   ],
   "source": [
    "x = d*N.x + e*N.y + f*N.z\n",
    "x"
   ]
  },
  {
   "cell_type": "code",
   "execution_count": 9,
   "id": "60985015",
   "metadata": {
    "execution": {
     "iopub.execute_input": "2022-06-13T06:55:51.330568Z",
     "iopub.status.busy": "2022-06-13T06:55:51.330260Z",
     "iopub.status.idle": "2022-06-13T06:55:51.335754Z",
     "shell.execute_reply": "2022-06-13T06:55:51.335202Z"
    }
   },
   "outputs": [
    {
     "data": {
      "text/latex": [
       "$\\displaystyle (a + d)\\mathbf{\\hat{n}_x} + (b + e)\\mathbf{\\hat{n}_y} + (c + f)\\mathbf{\\hat{n}_z}$"
      ],
      "text/plain": [
       "(a + d) n_x + (b + e) n_y + (c + f) n_z"
      ]
     },
     "execution_count": 9,
     "metadata": {},
     "output_type": "execute_result"
    }
   ],
   "source": [
    "w + x"
   ]
  },
  {
   "cell_type": "code",
   "execution_count": 10,
   "id": "ce82dcca",
   "metadata": {
    "execution": {
     "iopub.execute_input": "2022-06-13T06:55:51.337985Z",
     "iopub.status.busy": "2022-06-13T06:55:51.337683Z",
     "iopub.status.idle": "2022-06-13T06:55:51.343901Z",
     "shell.execute_reply": "2022-06-13T06:55:51.343352Z"
    }
   },
   "outputs": [
    {
     "data": {
      "text/latex": [
       "$\\displaystyle 2 a\\mathbf{\\hat{n}_x} + 2 b\\mathbf{\\hat{n}_y} + 2 c\\mathbf{\\hat{n}_z}$"
      ],
      "text/plain": [
       "2⋅a n_x + 2⋅b n_y + 2⋅c n_z"
      ]
     },
     "execution_count": 10,
     "metadata": {},
     "output_type": "execute_result"
    }
   ],
   "source": [
    "y = 2*w\n",
    "y"
   ]
  },
  {
   "cell_type": "code",
   "execution_count": 11,
   "id": "c0748412",
   "metadata": {
    "execution": {
     "iopub.execute_input": "2022-06-13T06:55:51.346546Z",
     "iopub.status.busy": "2022-06-13T06:55:51.346236Z",
     "iopub.status.idle": "2022-06-13T06:55:51.351219Z",
     "shell.execute_reply": "2022-06-13T06:55:51.350659Z"
    }
   },
   "outputs": [
    {
     "data": {
      "text/latex": [
       "$\\displaystyle -  a\\mathbf{\\hat{n}_x} -  b\\mathbf{\\hat{n}_y} -  c\\mathbf{\\hat{n}_z}$"
      ],
      "text/plain": [
       "-a n_x + -b n_y + -c n_z"
      ]
     },
     "execution_count": 11,
     "metadata": {},
     "output_type": "execute_result"
    }
   ],
   "source": [
    "z = -w\n",
    "z"
   ]
  },
  {
   "cell_type": "code",
   "execution_count": 12,
   "id": "3531384d",
   "metadata": {
    "execution": {
     "iopub.execute_input": "2022-06-13T06:55:51.353955Z",
     "iopub.status.busy": "2022-06-13T06:55:51.353649Z",
     "iopub.status.idle": "2022-06-13T06:55:51.357075Z",
     "shell.execute_reply": "2022-06-13T06:55:51.356508Z"
    }
   },
   "outputs": [],
   "source": [
    "N = me.ReferenceFrame('N')\n",
    "l, theta = sm.symbols('l, theta')"
   ]
  },
  {
   "cell_type": "code",
   "execution_count": 13,
   "id": "3aa340f1",
   "metadata": {
    "execution": {
     "iopub.execute_input": "2022-06-13T06:55:51.359283Z",
     "iopub.status.busy": "2022-06-13T06:55:51.358977Z",
     "iopub.status.idle": "2022-06-13T06:55:51.370351Z",
     "shell.execute_reply": "2022-06-13T06:55:51.369803Z"
    }
   },
   "outputs": [
    {
     "data": {
      "text/latex": [
       "$\\displaystyle \\frac{\\sqrt{2} l}{2}\\mathbf{\\hat{n}_x} + \\frac{\\sqrt{2} l}{2}\\mathbf{\\hat{n}_y}$"
      ],
      "text/plain": [
       "√2⋅l       √2⋅l\n",
       "──── n_x + ──── n_y\n",
       " 2          2"
      ]
     },
     "execution_count": 13,
     "metadata": {},
     "output_type": "execute_result"
    }
   ],
   "source": [
    "v1 = l*sm.cos(sm.pi/4)*N.x + l*sm.sin(sm.pi/4)*N.y\n",
    "v1"
   ]
  },
  {
   "cell_type": "code",
   "execution_count": 14,
   "id": "27dab87b",
   "metadata": {
    "execution": {
     "iopub.execute_input": "2022-06-13T06:55:51.373119Z",
     "iopub.status.busy": "2022-06-13T06:55:51.372609Z",
     "iopub.status.idle": "2022-06-13T06:55:51.376954Z",
     "shell.execute_reply": "2022-06-13T06:55:51.376407Z"
    }
   },
   "outputs": [
    {
     "data": {
      "text/latex": [
       "$\\displaystyle - 10\\mathbf{\\hat{n}_y}$"
      ],
      "text/plain": [
       "-10 n_y"
      ]
     },
     "execution_count": 14,
     "metadata": {},
     "output_type": "execute_result"
    }
   ],
   "source": [
    "v2 = -10*N.y\n",
    "v2"
   ]
  },
  {
   "cell_type": "code",
   "execution_count": 15,
   "id": "05919e52",
   "metadata": {
    "execution": {
     "iopub.execute_input": "2022-06-13T06:55:51.379985Z",
     "iopub.status.busy": "2022-06-13T06:55:51.379659Z",
     "iopub.status.idle": "2022-06-13T06:55:51.387782Z",
     "shell.execute_reply": "2022-06-13T06:55:51.387220Z"
    }
   },
   "outputs": [
    {
     "data": {
      "text/latex": [
       "$\\displaystyle -  l \\sin{\\left(\\theta \\right)}\\mathbf{\\hat{n}_x} + l \\cos{\\left(\\theta \\right)}\\mathbf{\\hat{n}_y}$"
      ],
      "text/plain": [
       "-l⋅sin(θ) n_x + l⋅cos(θ) n_y"
      ]
     },
     "execution_count": 15,
     "metadata": {},
     "output_type": "execute_result"
    }
   ],
   "source": [
    "v3 = -l*sm.sin(theta)*N.x + l*sm.cos(theta)*N.y\n",
    "v3"
   ]
  },
  {
   "cell_type": "code",
   "execution_count": 16,
   "id": "4e96e2bf",
   "metadata": {
    "execution": {
     "iopub.execute_input": "2022-06-13T06:55:51.390244Z",
     "iopub.status.busy": "2022-06-13T06:55:51.389921Z",
     "iopub.status.idle": "2022-06-13T06:55:51.400425Z",
     "shell.execute_reply": "2022-06-13T06:55:51.399877Z"
    }
   },
   "outputs": [
    {
     "data": {
      "text/latex": [
       "$\\displaystyle (5 l \\sin{\\left(\\theta \\right)} + \\frac{\\sqrt{2} l}{2})\\mathbf{\\hat{n}_x} + (- 5 l \\cos{\\left(\\theta \\right)} + \\frac{\\sqrt{2} l}{2} - 10)\\mathbf{\\hat{n}_y}$"
      ],
      "text/plain": [
       "⎛             √2⋅l⎞       ⎛              √2⋅l     ⎞\n",
       "⎜5⋅l⋅sin(θ) + ────⎟ n_x + ⎜-5⋅l⋅cos(θ) + ──── - 10⎟ n_y\n",
       "⎝              2  ⎠       ⎝               2       ⎠"
      ]
     },
     "execution_count": 16,
     "metadata": {},
     "output_type": "execute_result"
    }
   ],
   "source": [
    "v1 + v2 - 5*v3"
   ]
  },
  {
   "cell_type": "code",
   "execution_count": 17,
   "id": "c2c980c4",
   "metadata": {
    "execution": {
     "iopub.execute_input": "2022-06-13T06:55:51.403157Z",
     "iopub.status.busy": "2022-06-13T06:55:51.402704Z",
     "iopub.status.idle": "2022-06-13T06:55:51.407649Z",
     "shell.execute_reply": "2022-06-13T06:55:51.407087Z"
    }
   },
   "outputs": [],
   "source": [
    "N = me.ReferenceFrame('N')\n",
    "w = a*N.x + b*N.y + c*N.z\n",
    "x = d*N.x + e*N.y + f*N.z"
   ]
  },
  {
   "cell_type": "code",
   "execution_count": 18,
   "id": "3ad9e578",
   "metadata": {
    "execution": {
     "iopub.execute_input": "2022-06-13T06:55:51.410100Z",
     "iopub.status.busy": "2022-06-13T06:55:51.409782Z",
     "iopub.status.idle": "2022-06-13T06:55:51.416285Z",
     "shell.execute_reply": "2022-06-13T06:55:51.415728Z"
    }
   },
   "outputs": [
    {
     "data": {
      "text/latex": [
       "$\\displaystyle a d + b e + c f$"
      ],
      "text/plain": [
       "a⋅d + b⋅e + c⋅f"
      ]
     },
     "execution_count": 18,
     "metadata": {},
     "output_type": "execute_result"
    }
   ],
   "source": [
    "me.dot(w, x)"
   ]
  },
  {
   "cell_type": "code",
   "execution_count": 19,
   "id": "c0b692fa",
   "metadata": {
    "execution": {
     "iopub.execute_input": "2022-06-13T06:55:51.419122Z",
     "iopub.status.busy": "2022-06-13T06:55:51.418667Z",
     "iopub.status.idle": "2022-06-13T06:55:51.424024Z",
     "shell.execute_reply": "2022-06-13T06:55:51.423464Z"
    }
   },
   "outputs": [
    {
     "data": {
      "text/latex": [
       "$\\displaystyle a d + b e + c f$"
      ],
      "text/plain": [
       "a⋅d + b⋅e + c⋅f"
      ]
     },
     "execution_count": 19,
     "metadata": {},
     "output_type": "execute_result"
    }
   ],
   "source": [
    "w.dot(x)"
   ]
  },
  {
   "cell_type": "code",
   "execution_count": 20,
   "id": "864188e2",
   "metadata": {
    "execution": {
     "iopub.execute_input": "2022-06-13T06:55:51.426550Z",
     "iopub.status.busy": "2022-06-13T06:55:51.426248Z",
     "iopub.status.idle": "2022-06-13T06:55:51.441012Z",
     "shell.execute_reply": "2022-06-13T06:55:51.440429Z"
    }
   },
   "outputs": [
    {
     "data": {
      "text/latex": [
       "$\\displaystyle \\frac{a}{\\sqrt{a^{2} + b^{2} + c^{2}}}\\mathbf{\\hat{n}_x} + \\frac{b}{\\sqrt{a^{2} + b^{2} + c^{2}}}\\mathbf{\\hat{n}_y} + \\frac{c}{\\sqrt{a^{2} + b^{2} + c^{2}}}\\mathbf{\\hat{n}_z}$"
      ],
      "text/plain": [
       "        a                       b                       c\n",
       "───────────────── n_x + ───────────────── n_y + ───────────────── n_z\n",
       "   ______________          ______________          ______________\n",
       "  ╱  2    2    2          ╱  2    2    2          ╱  2    2    2\n",
       "╲╱  a  + b  + c         ╲╱  a  + b  + c         ╲╱  a  + b  + c"
      ]
     },
     "execution_count": 20,
     "metadata": {},
     "output_type": "execute_result"
    }
   ],
   "source": [
    "w.normalize()"
   ]
  },
  {
   "cell_type": "code",
   "execution_count": 21,
   "id": "495b07bf",
   "metadata": {
    "execution": {
     "iopub.execute_input": "2022-06-13T06:55:51.443454Z",
     "iopub.status.busy": "2022-06-13T06:55:51.442990Z",
     "iopub.status.idle": "2022-06-13T06:55:51.451009Z",
     "shell.execute_reply": "2022-06-13T06:55:51.450459Z"
    }
   },
   "outputs": [
    {
     "data": {
      "text/latex": [
       "$\\displaystyle \\frac{a}{\\sqrt{a^{2} + b^{2} + c^{2}}}\\mathbf{\\hat{n}_x} + \\frac{b}{\\sqrt{a^{2} + b^{2} + c^{2}}}\\mathbf{\\hat{n}_y} + \\frac{c}{\\sqrt{a^{2} + b^{2} + c^{2}}}\\mathbf{\\hat{n}_z}$"
      ],
      "text/plain": [
       "        a                       b                       c\n",
       "───────────────── n_x + ───────────────── n_y + ───────────────── n_z\n",
       "   ______________          ______________          ______________\n",
       "  ╱  2    2    2          ╱  2    2    2          ╱  2    2    2\n",
       "╲╱  a  + b  + c         ╲╱  a  + b  + c         ╲╱  a  + b  + c"
      ]
     },
     "execution_count": 21,
     "metadata": {},
     "output_type": "execute_result"
    }
   ],
   "source": [
    "def normalize(vector):\n",
    "    return vector/sm.sqrt(me.dot(vector, vector))\n",
    "\n",
    "normalize(w)"
   ]
  },
  {
   "cell_type": "code",
   "execution_count": 22,
   "id": "05a37249",
   "metadata": {
    "execution": {
     "iopub.execute_input": "2022-06-13T06:55:51.453746Z",
     "iopub.status.busy": "2022-06-13T06:55:51.453424Z",
     "iopub.status.idle": "2022-06-13T06:55:51.458711Z",
     "shell.execute_reply": "2022-06-13T06:55:51.458167Z"
    }
   },
   "outputs": [
    {
     "data": {
      "text/latex": [
       "$\\displaystyle \\sqrt{a^{2} + b^{2} + c^{2}}$"
      ],
      "text/plain": [
       "   ______________\n",
       "  ╱  2    2    2 \n",
       "╲╱  a  + b  + c  "
      ]
     },
     "execution_count": 22,
     "metadata": {},
     "output_type": "execute_result"
    }
   ],
   "source": [
    "w.magnitude()"
   ]
  },
  {
   "cell_type": "code",
   "execution_count": 23,
   "id": "3ff8ac81",
   "metadata": {
    "execution": {
     "iopub.execute_input": "2022-06-13T06:55:51.461568Z",
     "iopub.status.busy": "2022-06-13T06:55:51.461101Z",
     "iopub.status.idle": "2022-06-13T06:55:51.468938Z",
     "shell.execute_reply": "2022-06-13T06:55:51.468374Z"
    }
   },
   "outputs": [
    {
     "data": {
      "text/latex": [
       "$\\displaystyle \\frac{a}{\\sqrt{a^{2} + b^{2} + c^{2}}}\\mathbf{\\hat{n}_x} + \\frac{b}{\\sqrt{a^{2} + b^{2} + c^{2}}}\\mathbf{\\hat{n}_y} + \\frac{c}{\\sqrt{a^{2} + b^{2} + c^{2}}}\\mathbf{\\hat{n}_z}$"
      ],
      "text/plain": [
       "        a                       b                       c\n",
       "───────────────── n_x + ───────────────── n_y + ───────────────── n_z\n",
       "   ______________          ______________          ______________\n",
       "  ╱  2    2    2          ╱  2    2    2          ╱  2    2    2\n",
       "╲╱  a  + b  + c         ╲╱  a  + b  + c         ╲╱  a  + b  + c"
      ]
     },
     "execution_count": 23,
     "metadata": {},
     "output_type": "execute_result"
    }
   ],
   "source": [
    "w/w.magnitude()"
   ]
  },
  {
   "cell_type": "code",
   "execution_count": 24,
   "id": "e7a5d6c9",
   "metadata": {
    "execution": {
     "iopub.execute_input": "2022-06-13T06:55:51.471674Z",
     "iopub.status.busy": "2022-06-13T06:55:51.471142Z",
     "iopub.status.idle": "2022-06-13T06:55:51.476173Z",
     "shell.execute_reply": "2022-06-13T06:55:51.475579Z"
    }
   },
   "outputs": [],
   "source": [
    "N = me.ReferenceFrame('N')\n",
    "v1 = a*N.x + b*N.y + a*N.z\n",
    "v2 = b*N.x + a*N.y + b*N.z"
   ]
  },
  {
   "cell_type": "code",
   "execution_count": 25,
   "id": "c037cd1e",
   "metadata": {
    "execution": {
     "iopub.execute_input": "2022-06-13T06:55:51.478591Z",
     "iopub.status.busy": "2022-06-13T06:55:51.478401Z",
     "iopub.status.idle": "2022-06-13T06:55:51.496118Z",
     "shell.execute_reply": "2022-06-13T06:55:51.495548Z"
    }
   },
   "outputs": [
    {
     "data": {
      "text/latex": [
       "$\\displaystyle \\operatorname{acos}{\\left(\\frac{3 a b}{\\sqrt{a^{2} + 2 b^{2}} \\sqrt{2 a^{2} + b^{2}}} \\right)}$"
      ],
      "text/plain": [
       "    ⎛            3⋅a⋅b            ⎞\n",
       "acos⎜─────────────────────────────⎟\n",
       "    ⎜   ___________    ___________⎟\n",
       "    ⎜  ╱  2      2    ╱    2    2 ⎟\n",
       "    ⎝╲╱  a  + 2⋅b  ⋅╲╱  2⋅a  + b  ⎠"
      ]
     },
     "execution_count": 25,
     "metadata": {},
     "output_type": "execute_result"
    }
   ],
   "source": [
    "sm.acos(v1.dot(v2) / (v1.magnitude()*v2.magnitude()))"
   ]
  },
  {
   "cell_type": "code",
   "execution_count": 26,
   "id": "ef7ef7b4",
   "metadata": {
    "execution": {
     "iopub.execute_input": "2022-06-13T06:55:51.498478Z",
     "iopub.status.busy": "2022-06-13T06:55:51.498151Z",
     "iopub.status.idle": "2022-06-13T06:55:51.503887Z",
     "shell.execute_reply": "2022-06-13T06:55:51.503331Z"
    }
   },
   "outputs": [
    {
     "data": {
      "text/latex": [
       "$\\displaystyle a\\mathbf{\\hat{n}_x} + b\\mathbf{\\hat{n}_y} + c\\mathbf{\\hat{n}_z}$"
      ],
      "text/plain": [
       "a n_x + b n_y + c n_z"
      ]
     },
     "execution_count": 26,
     "metadata": {},
     "output_type": "execute_result"
    }
   ],
   "source": [
    "N = me.ReferenceFrame('N')\n",
    "w = a*N.x + b*N.y + c*N.z\n",
    "w"
   ]
  },
  {
   "cell_type": "code",
   "execution_count": 27,
   "id": "e69c8036",
   "metadata": {
    "execution": {
     "iopub.execute_input": "2022-06-13T06:55:51.506500Z",
     "iopub.status.busy": "2022-06-13T06:55:51.506187Z",
     "iopub.status.idle": "2022-06-13T06:55:51.511213Z",
     "shell.execute_reply": "2022-06-13T06:55:51.510666Z"
    }
   },
   "outputs": [
    {
     "data": {
      "text/latex": [
       "$\\displaystyle d\\mathbf{\\hat{n}_x} + e\\mathbf{\\hat{n}_y} + f\\mathbf{\\hat{n}_z}$"
      ],
      "text/plain": [
       "d n_x + e n_y + f n_z"
      ]
     },
     "execution_count": 27,
     "metadata": {},
     "output_type": "execute_result"
    }
   ],
   "source": [
    "x = d*N.x + e*N.y + f*N.z\n",
    "x"
   ]
  },
  {
   "cell_type": "code",
   "execution_count": 28,
   "id": "8cb5b285",
   "metadata": {
    "execution": {
     "iopub.execute_input": "2022-06-13T06:55:51.513794Z",
     "iopub.status.busy": "2022-06-13T06:55:51.513484Z",
     "iopub.status.idle": "2022-06-13T06:55:51.523324Z",
     "shell.execute_reply": "2022-06-13T06:55:51.522783Z"
    }
   },
   "outputs": [
    {
     "data": {
      "text/latex": [
       "$\\displaystyle (b f - c e)\\mathbf{\\hat{n}_x} + (- a f + c d)\\mathbf{\\hat{n}_y} + (a e - b d)\\mathbf{\\hat{n}_z}$"
      ],
      "text/plain": [
       "(b⋅f - c⋅e) n_x + (-a⋅f + c⋅d) n_y + (a⋅e - b⋅d) n_z"
      ]
     },
     "execution_count": 28,
     "metadata": {},
     "output_type": "execute_result"
    }
   ],
   "source": [
    "me.cross(w, x)"
   ]
  },
  {
   "cell_type": "code",
   "execution_count": 29,
   "id": "b222ac1a",
   "metadata": {
    "execution": {
     "iopub.execute_input": "2022-06-13T06:55:51.525576Z",
     "iopub.status.busy": "2022-06-13T06:55:51.525262Z",
     "iopub.status.idle": "2022-06-13T06:55:51.535521Z",
     "shell.execute_reply": "2022-06-13T06:55:51.535004Z"
    }
   },
   "outputs": [
    {
     "data": {
      "text/latex": [
       "$\\displaystyle (b f - c e)\\mathbf{\\hat{n}_x} + (- a f + c d)\\mathbf{\\hat{n}_y} + (a e - b d)\\mathbf{\\hat{n}_z}$"
      ],
      "text/plain": [
       "(b⋅f - c⋅e) n_x + (-a⋅f + c⋅d) n_y + (a⋅e - b⋅d) n_z"
      ]
     },
     "execution_count": 29,
     "metadata": {},
     "output_type": "execute_result"
    }
   ],
   "source": [
    "w.cross(x)"
   ]
  },
  {
   "cell_type": "code",
   "execution_count": 30,
   "id": "8f2663b8",
   "metadata": {
    "execution": {
     "iopub.execute_input": "2022-06-13T06:55:51.538233Z",
     "iopub.status.busy": "2022-06-13T06:55:51.537798Z",
     "iopub.status.idle": "2022-06-13T06:55:51.548985Z",
     "shell.execute_reply": "2022-06-13T06:55:51.548479Z"
    }
   },
   "outputs": [
    {
     "data": {
      "text/latex": [
       "$\\displaystyle \\sqrt{36077}$"
      ],
      "text/plain": [
       "√36077"
      ]
     },
     "execution_count": 30,
     "metadata": {},
     "output_type": "execute_result"
    }
   ],
   "source": [
    "N = me.ReferenceFrame('N')\n",
    "\n",
    "p1 = 23*N.x - 12* N.y\n",
    "p2 = 16*N.x + 2*N.y - 4*N.z\n",
    "p3 = N.x + 14*N.z\n",
    "\n",
    "me.cross(p2 - p1, p3 - p1).magnitude() / 2"
   ]
  },
  {
   "cell_type": "code",
   "execution_count": 31,
   "id": "257a1108",
   "metadata": {
    "execution": {
     "iopub.execute_input": "2022-06-13T06:55:51.551317Z",
     "iopub.status.busy": "2022-06-13T06:55:51.550999Z",
     "iopub.status.idle": "2022-06-13T06:55:51.558692Z",
     "shell.execute_reply": "2022-06-13T06:55:51.558173Z"
    }
   },
   "outputs": [
    {
     "data": {
      "text/latex": [
       "$\\displaystyle a\\mathbf{\\hat{a}_x} + b\\mathbf{\\hat{n}_y}$"
      ],
      "text/plain": [
       "a a_x + b n_y"
      ]
     },
     "execution_count": 31,
     "metadata": {},
     "output_type": "execute_result"
    }
   ],
   "source": [
    "N = me.ReferenceFrame('N')\n",
    "A = me.ReferenceFrame('A')\n",
    "a, b, theta = sm.symbols('a, b, theta')\n",
    "\n",
    "v = a*A.x + b*N.y\n",
    "v"
   ]
  },
  {
   "cell_type": "code",
   "execution_count": 32,
   "id": "bac95543",
   "metadata": {
    "execution": {
     "iopub.execute_input": "2022-06-13T06:55:51.561029Z",
     "iopub.status.busy": "2022-06-13T06:55:51.560725Z",
     "iopub.status.idle": "2022-06-13T06:55:51.565610Z",
     "shell.execute_reply": "2022-06-13T06:55:51.565061Z"
    }
   },
   "outputs": [
    {
     "data": {
      "text/latex": [
       "$\\displaystyle 2 a\\mathbf{\\hat{a}_x} + 2 b\\mathbf{\\hat{n}_y}$"
      ],
      "text/plain": [
       "2⋅a a_x + 2⋅b n_y"
      ]
     },
     "execution_count": 32,
     "metadata": {},
     "output_type": "execute_result"
    }
   ],
   "source": [
    "v + v"
   ]
  },
  {
   "cell_type": "code",
   "execution_count": 33,
   "id": "5f8b3112",
   "metadata": {
    "execution": {
     "iopub.execute_input": "2022-06-13T06:55:51.568171Z",
     "iopub.status.busy": "2022-06-13T06:55:51.567853Z",
     "iopub.status.idle": "2022-06-13T06:55:51.577722Z",
     "shell.execute_reply": "2022-06-13T06:55:51.577184Z"
    }
   },
   "outputs": [
    {
     "data": {
      "text/latex": [
       "$\\displaystyle a \\cos{\\left(\\theta \\right)}\\mathbf{\\hat{n}_x} + (a \\sin{\\left(\\theta \\right)} + b)\\mathbf{\\hat{n}_y}$"
      ],
      "text/plain": [
       "a⋅cos(θ) n_x + (a⋅sin(θ) + b) n_y"
      ]
     },
     "execution_count": 33,
     "metadata": {},
     "output_type": "execute_result"
    }
   ],
   "source": [
    "A.orient_axis(N, theta, N.z)\n",
    "\n",
    "v.express(N)"
   ]
  },
  {
   "cell_type": "code",
   "execution_count": 34,
   "id": "b476860e",
   "metadata": {
    "execution": {
     "iopub.execute_input": "2022-06-13T06:55:51.580233Z",
     "iopub.status.busy": "2022-06-13T06:55:51.579687Z",
     "iopub.status.idle": "2022-06-13T06:55:51.585703Z",
     "shell.execute_reply": "2022-06-13T06:55:51.585172Z"
    }
   },
   "outputs": [
    {
     "data": {
      "text/latex": [
       "$\\displaystyle (a + b \\sin{\\left(\\theta \\right)})\\mathbf{\\hat{a}_x} + b \\cos{\\left(\\theta \\right)}\\mathbf{\\hat{a}_y}$"
      ],
      "text/plain": [
       "(a + b⋅sin(θ)) a_x + b⋅cos(θ) a_y"
      ]
     },
     "execution_count": 34,
     "metadata": {},
     "output_type": "execute_result"
    }
   ],
   "source": [
    "v.express(A)"
   ]
  },
  {
   "cell_type": "code",
   "execution_count": 35,
   "id": "2a871394",
   "metadata": {
    "execution": {
     "iopub.execute_input": "2022-06-13T06:55:51.587929Z",
     "iopub.status.busy": "2022-06-13T06:55:51.587627Z",
     "iopub.status.idle": "2022-06-13T06:55:51.592800Z",
     "shell.execute_reply": "2022-06-13T06:55:51.592238Z"
    }
   },
   "outputs": [],
   "source": [
    "q1, q2, q3, q4, q5 = sm.symbols('q1, q2, q3, q4, q5')\n",
    "l1, l2, l3, l4 = sm.symbols('l1, l2, l3, l4')\n",
    "N = me.ReferenceFrame('N')\n",
    "A = me.ReferenceFrame('A')\n",
    "B = me.ReferenceFrame('B')\n",
    "C = me.ReferenceFrame('C')"
   ]
  },
  {
   "cell_type": "code",
   "execution_count": 36,
   "id": "fff7ef43",
   "metadata": {
    "execution": {
     "iopub.execute_input": "2022-06-13T06:55:51.595021Z",
     "iopub.status.busy": "2022-06-13T06:55:51.594715Z",
     "iopub.status.idle": "2022-06-13T06:55:51.616316Z",
     "shell.execute_reply": "2022-06-13T06:55:51.615699Z"
    }
   },
   "outputs": [],
   "source": [
    "A.orient_body_fixed(N, (q1, q2, 0), 'ZXZ')"
   ]
  },
  {
   "cell_type": "code",
   "execution_count": 37,
   "id": "fad1de0a",
   "metadata": {
    "execution": {
     "iopub.execute_input": "2022-06-13T06:55:51.618638Z",
     "iopub.status.busy": "2022-06-13T06:55:51.618313Z",
     "iopub.status.idle": "2022-06-13T06:55:51.626839Z",
     "shell.execute_reply": "2022-06-13T06:55:51.626245Z"
    }
   },
   "outputs": [],
   "source": [
    "B.orient_axis(A, q3, A.x)"
   ]
  },
  {
   "cell_type": "code",
   "execution_count": 38,
   "id": "a58e2d43",
   "metadata": {
    "execution": {
     "iopub.execute_input": "2022-06-13T06:55:51.629330Z",
     "iopub.status.busy": "2022-06-13T06:55:51.629009Z",
     "iopub.status.idle": "2022-06-13T06:55:51.653463Z",
     "shell.execute_reply": "2022-06-13T06:55:51.652892Z"
    }
   },
   "outputs": [],
   "source": [
    "C.orient_body_fixed(B, (q4, q5, 0), 'XZX')"
   ]
  },
  {
   "cell_type": "code",
   "execution_count": 39,
   "id": "b84eaaa5",
   "metadata": {
    "execution": {
     "iopub.execute_input": "2022-06-13T06:55:51.656378Z",
     "iopub.status.busy": "2022-06-13T06:55:51.656042Z",
     "iopub.status.idle": "2022-06-13T06:55:51.661026Z",
     "shell.execute_reply": "2022-06-13T06:55:51.660508Z"
    }
   },
   "outputs": [],
   "source": [
    "R_P1_P2 = l1*A.z\n",
    "R_P2_P3 = l2*B.z\n",
    "R_P3_P4 = l3*C.z - l4*C.y"
   ]
  },
  {
   "cell_type": "code",
   "execution_count": 40,
   "id": "07c20f37",
   "metadata": {
    "execution": {
     "iopub.execute_input": "2022-06-13T06:55:51.664509Z",
     "iopub.status.busy": "2022-06-13T06:55:51.663407Z",
     "iopub.status.idle": "2022-06-13T06:55:51.670466Z",
     "shell.execute_reply": "2022-06-13T06:55:51.669974Z"
    }
   },
   "outputs": [
    {
     "data": {
      "text/latex": [
       "$\\displaystyle l_{1}\\mathbf{\\hat{a}_z} + l_{2}\\mathbf{\\hat{b}_z} -  l_{4}\\mathbf{\\hat{c}_y} + l_{3}\\mathbf{\\hat{c}_z}$"
      ],
      "text/plain": [
       "l₁ a_z + l₂ b_z + -l₄ c_y + l₃ c_z"
      ]
     },
     "execution_count": 40,
     "metadata": {},
     "output_type": "execute_result"
    }
   ],
   "source": [
    "R_P1_P4 = R_P1_P2 + R_P2_P3 + R_P3_P4\n",
    "R_P1_P4"
   ]
  },
  {
   "cell_type": "code",
   "execution_count": 41,
   "id": "f0f2768b",
   "metadata": {
    "execution": {
     "iopub.execute_input": "2022-06-13T06:55:51.673126Z",
     "iopub.status.busy": "2022-06-13T06:55:51.672716Z",
     "iopub.status.idle": "2022-06-13T06:55:51.751535Z",
     "shell.execute_reply": "2022-06-13T06:55:51.750962Z"
    }
   },
   "outputs": [
    {
     "data": {
      "text/latex": [
       "$\\displaystyle (l_{1} \\sin{\\left(q_{1} \\right)} \\sin{\\left(q_{2} \\right)} + l_{2} \\left(\\sin{\\left(q_{1} \\right)} \\sin{\\left(q_{2} \\right)} \\cos{\\left(q_{3} \\right)} + \\sin{\\left(q_{1} \\right)} \\sin{\\left(q_{3} \\right)} \\cos{\\left(q_{2} \\right)}\\right) + l_{3} \\left(- \\left(\\sin{\\left(q_{1} \\right)} \\sin{\\left(q_{2} \\right)} \\sin{\\left(q_{3} \\right)} - \\sin{\\left(q_{1} \\right)} \\cos{\\left(q_{2} \\right)} \\cos{\\left(q_{3} \\right)}\\right) \\sin{\\left(q_{4} \\right)} + \\left(\\sin{\\left(q_{1} \\right)} \\sin{\\left(q_{2} \\right)} \\cos{\\left(q_{3} \\right)} + \\sin{\\left(q_{1} \\right)} \\sin{\\left(q_{3} \\right)} \\cos{\\left(q_{2} \\right)}\\right) \\cos{\\left(q_{4} \\right)}\\right) - l_{4} \\left(\\left(\\sin{\\left(q_{1} \\right)} \\sin{\\left(q_{2} \\right)} \\sin{\\left(q_{3} \\right)} - \\sin{\\left(q_{1} \\right)} \\cos{\\left(q_{2} \\right)} \\cos{\\left(q_{3} \\right)}\\right) \\cos{\\left(q_{4} \\right)} \\cos{\\left(q_{5} \\right)} + \\left(\\sin{\\left(q_{1} \\right)} \\sin{\\left(q_{2} \\right)} \\cos{\\left(q_{3} \\right)} + \\sin{\\left(q_{1} \\right)} \\sin{\\left(q_{3} \\right)} \\cos{\\left(q_{2} \\right)}\\right) \\sin{\\left(q_{4} \\right)} \\cos{\\left(q_{5} \\right)} - \\sin{\\left(q_{5} \\right)} \\cos{\\left(q_{1} \\right)}\\right))\\mathbf{\\hat{n}_x} + (- l_{1} \\sin{\\left(q_{2} \\right)} \\cos{\\left(q_{1} \\right)} + l_{2} \\left(- \\sin{\\left(q_{2} \\right)} \\cos{\\left(q_{1} \\right)} \\cos{\\left(q_{3} \\right)} - \\sin{\\left(q_{3} \\right)} \\cos{\\left(q_{1} \\right)} \\cos{\\left(q_{2} \\right)}\\right) + l_{3} \\left(- \\left(- \\sin{\\left(q_{2} \\right)} \\sin{\\left(q_{3} \\right)} \\cos{\\left(q_{1} \\right)} + \\cos{\\left(q_{1} \\right)} \\cos{\\left(q_{2} \\right)} \\cos{\\left(q_{3} \\right)}\\right) \\sin{\\left(q_{4} \\right)} + \\left(- \\sin{\\left(q_{2} \\right)} \\cos{\\left(q_{1} \\right)} \\cos{\\left(q_{3} \\right)} - \\sin{\\left(q_{3} \\right)} \\cos{\\left(q_{1} \\right)} \\cos{\\left(q_{2} \\right)}\\right) \\cos{\\left(q_{4} \\right)}\\right) - l_{4} \\left(\\left(- \\sin{\\left(q_{2} \\right)} \\sin{\\left(q_{3} \\right)} \\cos{\\left(q_{1} \\right)} + \\cos{\\left(q_{1} \\right)} \\cos{\\left(q_{2} \\right)} \\cos{\\left(q_{3} \\right)}\\right) \\cos{\\left(q_{4} \\right)} \\cos{\\left(q_{5} \\right)} + \\left(- \\sin{\\left(q_{2} \\right)} \\cos{\\left(q_{1} \\right)} \\cos{\\left(q_{3} \\right)} - \\sin{\\left(q_{3} \\right)} \\cos{\\left(q_{1} \\right)} \\cos{\\left(q_{2} \\right)}\\right) \\sin{\\left(q_{4} \\right)} \\cos{\\left(q_{5} \\right)} - \\sin{\\left(q_{1} \\right)} \\sin{\\left(q_{5} \\right)}\\right))\\mathbf{\\hat{n}_y} + (l_{1} \\cos{\\left(q_{2} \\right)} + l_{2} \\left(- \\sin{\\left(q_{2} \\right)} \\sin{\\left(q_{3} \\right)} + \\cos{\\left(q_{2} \\right)} \\cos{\\left(q_{3} \\right)}\\right) + l_{3} \\left(\\left(- \\sin{\\left(q_{2} \\right)} \\sin{\\left(q_{3} \\right)} + \\cos{\\left(q_{2} \\right)} \\cos{\\left(q_{3} \\right)}\\right) \\cos{\\left(q_{4} \\right)} - \\left(\\sin{\\left(q_{2} \\right)} \\cos{\\left(q_{3} \\right)} + \\sin{\\left(q_{3} \\right)} \\cos{\\left(q_{2} \\right)}\\right) \\sin{\\left(q_{4} \\right)}\\right) - l_{4} \\left(\\left(- \\sin{\\left(q_{2} \\right)} \\sin{\\left(q_{3} \\right)} + \\cos{\\left(q_{2} \\right)} \\cos{\\left(q_{3} \\right)}\\right) \\sin{\\left(q_{4} \\right)} \\cos{\\left(q_{5} \\right)} + \\left(\\sin{\\left(q_{2} \\right)} \\cos{\\left(q_{3} \\right)} + \\sin{\\left(q_{3} \\right)} \\cos{\\left(q_{2} \\right)}\\right) \\cos{\\left(q_{4} \\right)} \\cos{\\left(q_{5} \\right)}\\right))\\mathbf{\\hat{n}_z}$"
      ],
      "text/plain": [
       "(l₁⋅sin(q₁)⋅sin(q₂) + l₂⋅(sin(q₁)⋅sin(q₂)⋅cos(q₃) + sin(q₁)⋅sin(q₃)⋅cos(q₂)) +\n",
       " l₃⋅(-(sin(q₁)⋅sin(q₂)⋅sin(q₃) - sin(q₁)⋅cos(q₂)⋅cos(q₃))⋅sin(q₄) + (sin(q₁)⋅s\n",
       "in(q₂)⋅cos(q₃) + sin(q₁)⋅sin(q₃)⋅cos(q₂))⋅cos(q₄)) - l₄⋅((sin(q₁)⋅sin(q₂)⋅sin(\n",
       "q₃) - sin(q₁)⋅cos(q₂)⋅cos(q₃))⋅cos(q₄)⋅cos(q₅) + (sin(q₁)⋅sin(q₂)⋅cos(q₃) + si\n",
       "n(q₁)⋅sin(q₃)⋅cos(q₂))⋅sin(q₄)⋅cos(q₅) - sin(q₅)⋅cos(q₁))) n_x + (-l₁⋅sin(q₂)⋅\n",
       "cos(q₁) + l₂⋅(-sin(q₂)⋅cos(q₁)⋅cos(q₃) - sin(q₃)⋅cos(q₁)⋅cos(q₂)) + l₃⋅(-(-sin\n",
       "(q₂)⋅sin(q₃)⋅cos(q₁) + cos(q₁)⋅cos(q₂)⋅cos(q₃))⋅sin(q₄) + (-sin(q₂)⋅cos(q₁)⋅co\n",
       "s(q₃) - sin(q₃)⋅cos(q₁)⋅cos(q₂))⋅cos(q₄)) - l₄⋅((-sin(q₂)⋅sin(q₃)⋅cos(q₁) + co\n",
       "s(q₁)⋅cos(q₂)⋅cos(q₃))⋅cos(q₄)⋅cos(q₅) + (-sin(q₂)⋅cos(q₁)⋅cos(q₃) - sin(q₃)⋅c\n",
       "os(q₁)⋅cos(q₂))⋅sin(q₄)⋅cos(q₅) - sin(q₁)⋅sin(q₅))) n_y + (l₁⋅cos(q₂) + l₂⋅(-s\n",
       "in(q₂)⋅sin(q₃) + cos(q₂)⋅cos(q₃)) + l₃⋅((-sin(q₂)⋅sin(q₃) + cos(q₂)⋅cos(q₃))⋅c\n",
       "os(q₄) - (sin(q₂)⋅cos(q₃) + sin(q₃)⋅cos(q₂))⋅sin(q₄)) - l₄⋅((-sin(q₂)⋅sin(q₃)\n",
       "+ cos(q₂)⋅cos(q₃))⋅sin(q₄)⋅cos(q₅) + (sin(q₂)⋅cos(q₃) + sin(q₃)⋅cos(q₂))⋅cos(q\n",
       "₄)⋅cos(q₅))) n_z"
      ]
     },
     "execution_count": 41,
     "metadata": {},
     "output_type": "execute_result"
    }
   ],
   "source": [
    "R_P1_P4.express(N)"
   ]
  },
  {
   "cell_type": "code",
   "execution_count": 42,
   "id": "fdae9d28",
   "metadata": {
    "execution": {
     "iopub.execute_input": "2022-06-13T06:55:51.754374Z",
     "iopub.status.busy": "2022-06-13T06:55:51.754049Z",
     "iopub.status.idle": "2022-06-13T06:55:51.761972Z",
     "shell.execute_reply": "2022-06-13T06:55:51.761445Z"
    }
   },
   "outputs": [
    {
     "data": {
      "text/latex": [
       "$\\displaystyle l_{1} \\sin{\\left(q_{1} \\right)} \\sin{\\left(q_{2} \\right)}\\mathbf{\\hat{n}_x} -  l_{1} \\sin{\\left(q_{2} \\right)} \\cos{\\left(q_{1} \\right)}\\mathbf{\\hat{n}_y} + l_{1} \\cos{\\left(q_{2} \\right)}\\mathbf{\\hat{n}_z}$"
      ],
      "text/plain": [
       "l₁⋅sin(q₁)⋅sin(q₂) n_x + -l₁⋅sin(q₂)⋅cos(q₁) n_y + l₁⋅cos(q₂) n_z"
      ]
     },
     "execution_count": 42,
     "metadata": {},
     "output_type": "execute_result"
    }
   ],
   "source": [
    "R_P1_P2.express(N)"
   ]
  },
  {
   "cell_type": "code",
   "execution_count": 43,
   "id": "119bc701",
   "metadata": {
    "execution": {
     "iopub.execute_input": "2022-06-13T06:55:51.764609Z",
     "iopub.status.busy": "2022-06-13T06:55:51.764300Z",
     "iopub.status.idle": "2022-06-13T06:55:51.769921Z",
     "shell.execute_reply": "2022-06-13T06:55:51.769352Z"
    }
   },
   "outputs": [
    {
     "data": {
      "text/latex": [
       "$\\displaystyle \\left\\{l_{1}, q_{1}, q_{2}\\right\\}$"
      ],
      "text/plain": [
       "{l₁, q₁, q₂}"
      ]
     },
     "execution_count": 43,
     "metadata": {},
     "output_type": "execute_result"
    }
   ],
   "source": [
    "R_P1_P2.free_symbols(N)"
   ]
  },
  {
   "cell_type": "code",
   "execution_count": 44,
   "id": "3d25f652",
   "metadata": {
    "execution": {
     "iopub.execute_input": "2022-06-13T06:55:51.772261Z",
     "iopub.status.busy": "2022-06-13T06:55:51.772047Z",
     "iopub.status.idle": "2022-06-13T06:55:51.778865Z",
     "shell.execute_reply": "2022-06-13T06:55:51.778355Z"
    }
   },
   "outputs": [
    {
     "data": {
      "text/latex": [
       "$\\displaystyle \\left\\{l_{1}\\right\\}$"
      ],
      "text/plain": [
       "{l₁}"
      ]
     },
     "execution_count": 44,
     "metadata": {},
     "output_type": "execute_result"
    }
   ],
   "source": [
    "R_P1_P2.free_symbols(A)"
   ]
  },
  {
   "cell_type": "code",
   "execution_count": 45,
   "id": "b44e97bd",
   "metadata": {
    "execution": {
     "iopub.execute_input": "2022-06-13T06:55:51.781149Z",
     "iopub.status.busy": "2022-06-13T06:55:51.780825Z",
     "iopub.status.idle": "2022-06-13T06:55:51.789509Z",
     "shell.execute_reply": "2022-06-13T06:55:51.789001Z"
    }
   },
   "outputs": [
    {
     "data": {
      "text/latex": [
       "$\\displaystyle \\left\\{l_{1}, l_{2}, l_{3}, l_{4}, q_{1}, q_{2}, q_{3}, q_{4}, q_{5}\\right\\}$"
      ],
      "text/plain": [
       "{l₁, l₂, l₃, l₄, q₁, q₂, q₃, q₄, q₅}"
      ]
     },
     "execution_count": 45,
     "metadata": {},
     "output_type": "execute_result"
    }
   ],
   "source": [
    "R_P1_P4.free_symbols(N)"
   ]
  }
 ],
 "metadata": {
  "kernelspec": {
   "display_name": "Python 3 (ipykernel)",
   "language": "python",
   "name": "python3"
  },
  "language_info": {
   "codemirror_mode": {
    "name": "ipython",
    "version": 3
   },
   "file_extension": ".py",
   "mimetype": "text/x-python",
   "name": "python",
   "nbconvert_exporter": "python",
   "pygments_lexer": "ipython3",
   "version": "3.9.13"
  }
 },
 "nbformat": 4,
 "nbformat_minor": 5
}