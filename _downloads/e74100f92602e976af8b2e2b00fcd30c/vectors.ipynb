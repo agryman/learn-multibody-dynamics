{
 "cells": [
  {
   "cell_type": "code",
   "execution_count": 1,
   "id": "97ca0f18",
   "metadata": {
    "execution": {
     "iopub.execute_input": "2022-03-16T06:32:06.570940Z",
     "iopub.status.busy": "2022-03-16T06:32:06.570702Z",
     "iopub.status.idle": "2022-03-16T06:32:07.113669Z",
     "shell.execute_reply": "2022-03-16T06:32:07.113080Z"
    }
   },
   "outputs": [],
   "source": [
    "import sympy as sm\n",
    "import sympy.physics.mechanics as me\n",
    "sm.init_printing(use_latex='mathjax')"
   ]
  },
  {
   "cell_type": "code",
   "execution_count": 2,
   "id": "cab4bda0",
   "metadata": {
    "execution": {
     "iopub.execute_input": "2022-03-16T06:32:07.116829Z",
     "iopub.status.busy": "2022-03-16T06:32:07.116510Z",
     "iopub.status.idle": "2022-03-16T06:32:07.120163Z",
     "shell.execute_reply": "2022-03-16T06:32:07.119626Z"
    }
   },
   "outputs": [],
   "source": [
    "N = me.ReferenceFrame('N')"
   ]
  },
  {
   "cell_type": "code",
   "execution_count": 3,
   "id": "89d634b2",
   "metadata": {
    "execution": {
     "iopub.execute_input": "2022-03-16T06:32:07.122765Z",
     "iopub.status.busy": "2022-03-16T06:32:07.122487Z",
     "iopub.status.idle": "2022-03-16T06:32:07.126823Z",
     "shell.execute_reply": "2022-03-16T06:32:07.126351Z"
    }
   },
   "outputs": [],
   "source": [
    "a, b, c, d, e, f = sm.symbols('a, b, c, d, e, f')"
   ]
  },
  {
   "cell_type": "code",
   "execution_count": 4,
   "id": "682763e8",
   "metadata": {
    "execution": {
     "iopub.execute_input": "2022-03-16T06:32:07.129224Z",
     "iopub.status.busy": "2022-03-16T06:32:07.129068Z",
     "iopub.status.idle": "2022-03-16T06:32:07.135458Z",
     "shell.execute_reply": "2022-03-16T06:32:07.134955Z"
    }
   },
   "outputs": [
    {
     "data": {
      "text/latex": [
       "$\\displaystyle a\\mathbf{\\hat{n}_x}$"
      ],
      "text/plain": [
       "a n_x"
      ]
     },
     "execution_count": 4,
     "metadata": {},
     "output_type": "execute_result"
    }
   ],
   "source": [
    "v = a*N.x\n",
    "v"
   ]
  },
  {
   "cell_type": "code",
   "execution_count": 5,
   "id": "59f81510",
   "metadata": {
    "execution": {
     "iopub.execute_input": "2022-03-16T06:32:07.138740Z",
     "iopub.status.busy": "2022-03-16T06:32:07.138584Z",
     "iopub.status.idle": "2022-03-16T06:32:07.144570Z",
     "shell.execute_reply": "2022-03-16T06:32:07.144042Z"
    }
   },
   "outputs": [
    {
     "data": {
      "text/latex": [
       "$\\displaystyle \\left[\\begin{matrix}a\\\\0\\\\0\\end{matrix}\\right]$"
      ],
      "text/plain": [
       "⎡a⎤\n",
       "⎢ ⎥\n",
       "⎢0⎥\n",
       "⎢ ⎥\n",
       "⎣0⎦"
      ]
     },
     "execution_count": 5,
     "metadata": {},
     "output_type": "execute_result"
    }
   ],
   "source": [
    "v.to_matrix(N)"
   ]
  },
  {
   "cell_type": "code",
   "execution_count": 6,
   "id": "087920ba",
   "metadata": {
    "execution": {
     "iopub.execute_input": "2022-03-16T06:32:07.147593Z",
     "iopub.status.busy": "2022-03-16T06:32:07.147438Z",
     "iopub.status.idle": "2022-03-16T06:32:07.152481Z",
     "shell.execute_reply": "2022-03-16T06:32:07.151936Z"
    }
   },
   "outputs": [
    {
     "data": {
      "text/latex": [
       "$\\displaystyle a\\mathbf{\\hat{n}_x} + b\\mathbf{\\hat{n}_y} + c\\mathbf{\\hat{n}_z}$"
      ],
      "text/plain": [
       "a n_x + b n_y + c n_z"
      ]
     },
     "execution_count": 6,
     "metadata": {},
     "output_type": "execute_result"
    }
   ],
   "source": [
    "w = a*N.x + b*N.y + c*N.z\n",
    "w"
   ]
  },
  {
   "cell_type": "code",
   "execution_count": 7,
   "id": "b6e0bcef",
   "metadata": {
    "execution": {
     "iopub.execute_input": "2022-03-16T06:32:07.155361Z",
     "iopub.status.busy": "2022-03-16T06:32:07.155008Z",
     "iopub.status.idle": "2022-03-16T06:32:07.161171Z",
     "shell.execute_reply": "2022-03-16T06:32:07.160667Z"
    }
   },
   "outputs": [
    {
     "data": {
      "text/latex": [
       "$\\displaystyle \\left[\\begin{matrix}a\\\\b\\\\c\\end{matrix}\\right]$"
      ],
      "text/plain": [
       "⎡a⎤\n",
       "⎢ ⎥\n",
       "⎢b⎥\n",
       "⎢ ⎥\n",
       "⎣c⎦"
      ]
     },
     "execution_count": 7,
     "metadata": {},
     "output_type": "execute_result"
    }
   ],
   "source": [
    "w.to_matrix(N)"
   ]
  },
  {
   "cell_type": "code",
   "execution_count": 8,
   "id": "97febad0",
   "metadata": {
    "execution": {
     "iopub.execute_input": "2022-03-16T06:32:07.164093Z",
     "iopub.status.busy": "2022-03-16T06:32:07.163814Z",
     "iopub.status.idle": "2022-03-16T06:32:07.169154Z",
     "shell.execute_reply": "2022-03-16T06:32:07.168639Z"
    }
   },
   "outputs": [
    {
     "data": {
      "text/latex": [
       "$\\displaystyle d\\mathbf{\\hat{n}_x} + e\\mathbf{\\hat{n}_y} + f\\mathbf{\\hat{n}_z}$"
      ],
      "text/plain": [
       "d n_x + e n_y + f n_z"
      ]
     },
     "execution_count": 8,
     "metadata": {},
     "output_type": "execute_result"
    }
   ],
   "source": [
    "x = d*N.x + e*N.y + f*N.z\n",
    "x"
   ]
  },
  {
   "cell_type": "code",
   "execution_count": 9,
   "id": "1d2de5a5",
   "metadata": {
    "execution": {
     "iopub.execute_input": "2022-03-16T06:32:07.172059Z",
     "iopub.status.busy": "2022-03-16T06:32:07.171705Z",
     "iopub.status.idle": "2022-03-16T06:32:07.177696Z",
     "shell.execute_reply": "2022-03-16T06:32:07.177170Z"
    }
   },
   "outputs": [
    {
     "data": {
      "text/latex": [
       "$\\displaystyle (a + d)\\mathbf{\\hat{n}_x} + (b + e)\\mathbf{\\hat{n}_y} + (c + f)\\mathbf{\\hat{n}_z}$"
      ],
      "text/plain": [
       "(a + d) n_x + (b + e) n_y + (c + f) n_z"
      ]
     },
     "execution_count": 9,
     "metadata": {},
     "output_type": "execute_result"
    }
   ],
   "source": [
    "w + x"
   ]
  },
  {
   "cell_type": "code",
   "execution_count": 10,
   "id": "1bac2500",
   "metadata": {
    "execution": {
     "iopub.execute_input": "2022-03-16T06:32:07.180831Z",
     "iopub.status.busy": "2022-03-16T06:32:07.180405Z",
     "iopub.status.idle": "2022-03-16T06:32:07.186121Z",
     "shell.execute_reply": "2022-03-16T06:32:07.185606Z"
    }
   },
   "outputs": [
    {
     "data": {
      "text/latex": [
       "$\\displaystyle 2 a\\mathbf{\\hat{n}_x} + 2 b\\mathbf{\\hat{n}_y} + 2 c\\mathbf{\\hat{n}_z}$"
      ],
      "text/plain": [
       "2⋅a n_x + 2⋅b n_y + 2⋅c n_z"
      ]
     },
     "execution_count": 10,
     "metadata": {},
     "output_type": "execute_result"
    }
   ],
   "source": [
    "y = 2*w\n",
    "y"
   ]
  },
  {
   "cell_type": "code",
   "execution_count": 11,
   "id": "84e162f4",
   "metadata": {
    "execution": {
     "iopub.execute_input": "2022-03-16T06:32:07.188887Z",
     "iopub.status.busy": "2022-03-16T06:32:07.188728Z",
     "iopub.status.idle": "2022-03-16T06:32:07.194092Z",
     "shell.execute_reply": "2022-03-16T06:32:07.193568Z"
    }
   },
   "outputs": [
    {
     "data": {
      "text/latex": [
       "$\\displaystyle -  a\\mathbf{\\hat{n}_x} -  b\\mathbf{\\hat{n}_y} -  c\\mathbf{\\hat{n}_z}$"
      ],
      "text/plain": [
       "-a n_x + -b n_y + -c n_z"
      ]
     },
     "execution_count": 11,
     "metadata": {},
     "output_type": "execute_result"
    }
   ],
   "source": [
    "z = -w\n",
    "z"
   ]
  },
  {
   "cell_type": "code",
   "execution_count": 12,
   "id": "1e63df47",
   "metadata": {
    "execution": {
     "iopub.execute_input": "2022-03-16T06:32:07.197225Z",
     "iopub.status.busy": "2022-03-16T06:32:07.196803Z",
     "iopub.status.idle": "2022-03-16T06:32:07.200632Z",
     "shell.execute_reply": "2022-03-16T06:32:07.199767Z"
    }
   },
   "outputs": [],
   "source": [
    "N = me.ReferenceFrame('N')\n",
    "l, theta = sm.symbols('l, theta')"
   ]
  },
  {
   "cell_type": "code",
   "execution_count": 13,
   "id": "b896a217",
   "metadata": {
    "execution": {
     "iopub.execute_input": "2022-03-16T06:32:07.203024Z",
     "iopub.status.busy": "2022-03-16T06:32:07.202674Z",
     "iopub.status.idle": "2022-03-16T06:32:07.213047Z",
     "shell.execute_reply": "2022-03-16T06:32:07.212537Z"
    }
   },
   "outputs": [
    {
     "data": {
      "text/latex": [
       "$\\displaystyle \\frac{\\sqrt{2} l}{2}\\mathbf{\\hat{n}_x} + \\frac{\\sqrt{2} l}{2}\\mathbf{\\hat{n}_y}$"
      ],
      "text/plain": [
       "√2⋅l       √2⋅l\n",
       "──── n_x + ──── n_y\n",
       " 2          2"
      ]
     },
     "execution_count": 13,
     "metadata": {},
     "output_type": "execute_result"
    }
   ],
   "source": [
    "v1 = l*sm.cos(sm.pi/4)*N.x + l*sm.sin(sm.pi/4)*N.y\n",
    "v1"
   ]
  },
  {
   "cell_type": "code",
   "execution_count": 14,
   "id": "662000ef",
   "metadata": {
    "execution": {
     "iopub.execute_input": "2022-03-16T06:32:07.216114Z",
     "iopub.status.busy": "2022-03-16T06:32:07.215836Z",
     "iopub.status.idle": "2022-03-16T06:32:07.220127Z",
     "shell.execute_reply": "2022-03-16T06:32:07.219611Z"
    }
   },
   "outputs": [
    {
     "data": {
      "text/latex": [
       "$\\displaystyle - 10\\mathbf{\\hat{n}_y}$"
      ],
      "text/plain": [
       "-10 n_y"
      ]
     },
     "execution_count": 14,
     "metadata": {},
     "output_type": "execute_result"
    }
   ],
   "source": [
    "v2 = -10*N.y\n",
    "v2"
   ]
  },
  {
   "cell_type": "code",
   "execution_count": 15,
   "id": "20f74b20",
   "metadata": {
    "execution": {
     "iopub.execute_input": "2022-03-16T06:32:07.223346Z",
     "iopub.status.busy": "2022-03-16T06:32:07.222925Z",
     "iopub.status.idle": "2022-03-16T06:32:07.230367Z",
     "shell.execute_reply": "2022-03-16T06:32:07.229841Z"
    }
   },
   "outputs": [
    {
     "data": {
      "text/latex": [
       "$\\displaystyle -  l \\sin{\\left(\\theta \\right)}\\mathbf{\\hat{n}_x} + l \\cos{\\left(\\theta \\right)}\\mathbf{\\hat{n}_y}$"
      ],
      "text/plain": [
       "-l⋅sin(θ) n_x + l⋅cos(θ) n_y"
      ]
     },
     "execution_count": 15,
     "metadata": {},
     "output_type": "execute_result"
    }
   ],
   "source": [
    "v3 = -l*sm.sin(theta)*N.x + l*sm.cos(theta)*N.y\n",
    "v3"
   ]
  },
  {
   "cell_type": "code",
   "execution_count": 16,
   "id": "c4362241",
   "metadata": {
    "execution": {
     "iopub.execute_input": "2022-03-16T06:32:07.233238Z",
     "iopub.status.busy": "2022-03-16T06:32:07.232966Z",
     "iopub.status.idle": "2022-03-16T06:32:07.242215Z",
     "shell.execute_reply": "2022-03-16T06:32:07.241649Z"
    }
   },
   "outputs": [
    {
     "data": {
      "text/latex": [
       "$\\displaystyle (5 l \\sin{\\left(\\theta \\right)} + \\frac{\\sqrt{2} l}{2})\\mathbf{\\hat{n}_x} + (- 5 l \\cos{\\left(\\theta \\right)} + \\frac{\\sqrt{2} l}{2} - 10)\\mathbf{\\hat{n}_y}$"
      ],
      "text/plain": [
       "⎛             √2⋅l⎞       ⎛              √2⋅l     ⎞\n",
       "⎜5⋅l⋅sin(θ) + ────⎟ n_x + ⎜-5⋅l⋅cos(θ) + ──── - 10⎟ n_y\n",
       "⎝              2  ⎠       ⎝               2       ⎠"
      ]
     },
     "execution_count": 16,
     "metadata": {},
     "output_type": "execute_result"
    }
   ],
   "source": [
    "v1 + v2 - 5*v3"
   ]
  },
  {
   "cell_type": "code",
   "execution_count": 17,
   "id": "10deaff4",
   "metadata": {
    "execution": {
     "iopub.execute_input": "2022-03-16T06:32:07.244832Z",
     "iopub.status.busy": "2022-03-16T06:32:07.244414Z",
     "iopub.status.idle": "2022-03-16T06:32:07.250505Z",
     "shell.execute_reply": "2022-03-16T06:32:07.250038Z"
    }
   },
   "outputs": [],
   "source": [
    "N = me.ReferenceFrame('N')\n",
    "w = a*N.x + b*N.y + c*N.z\n",
    "x = d*N.x + e*N.y + f*N.z"
   ]
  },
  {
   "cell_type": "code",
   "execution_count": 18,
   "id": "5f692a86",
   "metadata": {
    "execution": {
     "iopub.execute_input": "2022-03-16T06:32:07.253113Z",
     "iopub.status.busy": "2022-03-16T06:32:07.252711Z",
     "iopub.status.idle": "2022-03-16T06:32:07.260137Z",
     "shell.execute_reply": "2022-03-16T06:32:07.259623Z"
    }
   },
   "outputs": [
    {
     "data": {
      "text/latex": [
       "$\\displaystyle a d + b e + c f$"
      ],
      "text/plain": [
       "a⋅d + b⋅e + c⋅f"
      ]
     },
     "execution_count": 18,
     "metadata": {},
     "output_type": "execute_result"
    }
   ],
   "source": [
    "me.dot(w, x)"
   ]
  },
  {
   "cell_type": "code",
   "execution_count": 19,
   "id": "9bdefda3",
   "metadata": {
    "execution": {
     "iopub.execute_input": "2022-03-16T06:32:07.262487Z",
     "iopub.status.busy": "2022-03-16T06:32:07.262138Z",
     "iopub.status.idle": "2022-03-16T06:32:07.267497Z",
     "shell.execute_reply": "2022-03-16T06:32:07.266981Z"
    }
   },
   "outputs": [
    {
     "data": {
      "text/latex": [
       "$\\displaystyle a d + b e + c f$"
      ],
      "text/plain": [
       "a⋅d + b⋅e + c⋅f"
      ]
     },
     "execution_count": 19,
     "metadata": {},
     "output_type": "execute_result"
    }
   ],
   "source": [
    "w.dot(x)"
   ]
  },
  {
   "cell_type": "code",
   "execution_count": 20,
   "id": "9f5165fc",
   "metadata": {
    "execution": {
     "iopub.execute_input": "2022-03-16T06:32:07.270533Z",
     "iopub.status.busy": "2022-03-16T06:32:07.270117Z",
     "iopub.status.idle": "2022-03-16T06:32:07.286308Z",
     "shell.execute_reply": "2022-03-16T06:32:07.285789Z"
    }
   },
   "outputs": [
    {
     "data": {
      "text/latex": [
       "$\\displaystyle \\frac{a}{\\sqrt{a^{2} + b^{2} + c^{2}}}\\mathbf{\\hat{n}_x} + \\frac{b}{\\sqrt{a^{2} + b^{2} + c^{2}}}\\mathbf{\\hat{n}_y} + \\frac{c}{\\sqrt{a^{2} + b^{2} + c^{2}}}\\mathbf{\\hat{n}_z}$"
      ],
      "text/plain": [
       "        a                       b                       c\n",
       "───────────────── n_x + ───────────────── n_y + ───────────────── n_z\n",
       "   ______________          ______________          ______________\n",
       "  ╱  2    2    2          ╱  2    2    2          ╱  2    2    2\n",
       "╲╱  a  + b  + c         ╲╱  a  + b  + c         ╲╱  a  + b  + c"
      ]
     },
     "execution_count": 20,
     "metadata": {},
     "output_type": "execute_result"
    }
   ],
   "source": [
    "w.normalize()"
   ]
  },
  {
   "cell_type": "code",
   "execution_count": 21,
   "id": "856d869b",
   "metadata": {
    "execution": {
     "iopub.execute_input": "2022-03-16T06:32:07.288963Z",
     "iopub.status.busy": "2022-03-16T06:32:07.288607Z",
     "iopub.status.idle": "2022-03-16T06:32:07.297027Z",
     "shell.execute_reply": "2022-03-16T06:32:07.296503Z"
    }
   },
   "outputs": [
    {
     "data": {
      "text/latex": [
       "$\\displaystyle \\frac{a}{\\sqrt{a^{2} + b^{2} + c^{2}}}\\mathbf{\\hat{n}_x} + \\frac{b}{\\sqrt{a^{2} + b^{2} + c^{2}}}\\mathbf{\\hat{n}_y} + \\frac{c}{\\sqrt{a^{2} + b^{2} + c^{2}}}\\mathbf{\\hat{n}_z}$"
      ],
      "text/plain": [
       "        a                       b                       c\n",
       "───────────────── n_x + ───────────────── n_y + ───────────────── n_z\n",
       "   ______________          ______________          ______________\n",
       "  ╱  2    2    2          ╱  2    2    2          ╱  2    2    2\n",
       "╲╱  a  + b  + c         ╲╱  a  + b  + c         ╲╱  a  + b  + c"
      ]
     },
     "execution_count": 21,
     "metadata": {},
     "output_type": "execute_result"
    }
   ],
   "source": [
    "def normalize(vector):\n",
    "    return vector/sm.sqrt(me.dot(vector, vector))\n",
    "\n",
    "normalize(w)"
   ]
  },
  {
   "cell_type": "code",
   "execution_count": 22,
   "id": "ac6281b8",
   "metadata": {
    "execution": {
     "iopub.execute_input": "2022-03-16T06:32:07.299938Z",
     "iopub.status.busy": "2022-03-16T06:32:07.299587Z",
     "iopub.status.idle": "2022-03-16T06:32:07.304776Z",
     "shell.execute_reply": "2022-03-16T06:32:07.304259Z"
    }
   },
   "outputs": [
    {
     "data": {
      "text/latex": [
       "$\\displaystyle \\sqrt{a^{2} + b^{2} + c^{2}}$"
      ],
      "text/plain": [
       "   ______________\n",
       "  ╱  2    2    2 \n",
       "╲╱  a  + b  + c  "
      ]
     },
     "execution_count": 22,
     "metadata": {},
     "output_type": "execute_result"
    }
   ],
   "source": [
    "w.magnitude()"
   ]
  },
  {
   "cell_type": "code",
   "execution_count": 23,
   "id": "5f741e50",
   "metadata": {
    "execution": {
     "iopub.execute_input": "2022-03-16T06:32:07.307688Z",
     "iopub.status.busy": "2022-03-16T06:32:07.307275Z",
     "iopub.status.idle": "2022-03-16T06:32:07.315206Z",
     "shell.execute_reply": "2022-03-16T06:32:07.314698Z"
    }
   },
   "outputs": [
    {
     "data": {
      "text/latex": [
       "$\\displaystyle \\frac{a}{\\sqrt{a^{2} + b^{2} + c^{2}}}\\mathbf{\\hat{n}_x} + \\frac{b}{\\sqrt{a^{2} + b^{2} + c^{2}}}\\mathbf{\\hat{n}_y} + \\frac{c}{\\sqrt{a^{2} + b^{2} + c^{2}}}\\mathbf{\\hat{n}_z}$"
      ],
      "text/plain": [
       "        a                       b                       c\n",
       "───────────────── n_x + ───────────────── n_y + ───────────────── n_z\n",
       "   ______________          ______________          ______________\n",
       "  ╱  2    2    2          ╱  2    2    2          ╱  2    2    2\n",
       "╲╱  a  + b  + c         ╲╱  a  + b  + c         ╲╱  a  + b  + c"
      ]
     },
     "execution_count": 23,
     "metadata": {},
     "output_type": "execute_result"
    }
   ],
   "source": [
    "w/w.magnitude()"
   ]
  },
  {
   "cell_type": "code",
   "execution_count": 24,
   "id": "4b54f5ca",
   "metadata": {
    "execution": {
     "iopub.execute_input": "2022-03-16T06:32:07.318227Z",
     "iopub.status.busy": "2022-03-16T06:32:07.317816Z",
     "iopub.status.idle": "2022-03-16T06:32:07.322842Z",
     "shell.execute_reply": "2022-03-16T06:32:07.322329Z"
    }
   },
   "outputs": [],
   "source": [
    "N = me.ReferenceFrame('N')\n",
    "v1 = a*N.x + b*N.y + a*N.z\n",
    "v2 = b*N.x + a*N.y + b*N.z"
   ]
  },
  {
   "cell_type": "code",
   "execution_count": 25,
   "id": "943e2d99",
   "metadata": {
    "execution": {
     "iopub.execute_input": "2022-03-16T06:32:07.325262Z",
     "iopub.status.busy": "2022-03-16T06:32:07.324916Z",
     "iopub.status.idle": "2022-03-16T06:32:07.344910Z",
     "shell.execute_reply": "2022-03-16T06:32:07.344383Z"
    }
   },
   "outputs": [
    {
     "data": {
      "text/latex": [
       "$\\displaystyle \\operatorname{acos}{\\left(\\frac{3 a b}{\\sqrt{a^{2} + 2 b^{2}} \\sqrt{2 a^{2} + b^{2}}} \\right)}$"
      ],
      "text/plain": [
       "    ⎛            3⋅a⋅b            ⎞\n",
       "acos⎜─────────────────────────────⎟\n",
       "    ⎜   ___________    ___________⎟\n",
       "    ⎜  ╱  2      2    ╱    2    2 ⎟\n",
       "    ⎝╲╱  a  + 2⋅b  ⋅╲╱  2⋅a  + b  ⎠"
      ]
     },
     "execution_count": 25,
     "metadata": {},
     "output_type": "execute_result"
    }
   ],
   "source": [
    "sm.acos(v1.dot(v2) / (v1.magnitude()*v2.magnitude()))"
   ]
  },
  {
   "cell_type": "code",
   "execution_count": 26,
   "id": "f23dae3a",
   "metadata": {
    "execution": {
     "iopub.execute_input": "2022-03-16T06:32:07.347582Z",
     "iopub.status.busy": "2022-03-16T06:32:07.347216Z",
     "iopub.status.idle": "2022-03-16T06:32:07.353051Z",
     "shell.execute_reply": "2022-03-16T06:32:07.352539Z"
    }
   },
   "outputs": [
    {
     "data": {
      "text/latex": [
       "$\\displaystyle a\\mathbf{\\hat{n}_x} + b\\mathbf{\\hat{n}_y} + c\\mathbf{\\hat{n}_z}$"
      ],
      "text/plain": [
       "a n_x + b n_y + c n_z"
      ]
     },
     "execution_count": 26,
     "metadata": {},
     "output_type": "execute_result"
    }
   ],
   "source": [
    "N = me.ReferenceFrame('N')\n",
    "w = a*N.x + b*N.y + c*N.z\n",
    "w"
   ]
  },
  {
   "cell_type": "code",
   "execution_count": 27,
   "id": "49e68762",
   "metadata": {
    "execution": {
     "iopub.execute_input": "2022-03-16T06:32:07.356049Z",
     "iopub.status.busy": "2022-03-16T06:32:07.355621Z",
     "iopub.status.idle": "2022-03-16T06:32:07.360795Z",
     "shell.execute_reply": "2022-03-16T06:32:07.360272Z"
    }
   },
   "outputs": [
    {
     "data": {
      "text/latex": [
       "$\\displaystyle d\\mathbf{\\hat{n}_x} + e\\mathbf{\\hat{n}_y} + f\\mathbf{\\hat{n}_z}$"
      ],
      "text/plain": [
       "d n_x + e n_y + f n_z"
      ]
     },
     "execution_count": 27,
     "metadata": {},
     "output_type": "execute_result"
    }
   ],
   "source": [
    "x = d*N.x + e*N.y + f*N.z\n",
    "x"
   ]
  },
  {
   "cell_type": "code",
   "execution_count": 28,
   "id": "394cd080",
   "metadata": {
    "execution": {
     "iopub.execute_input": "2022-03-16T06:32:07.363742Z",
     "iopub.status.busy": "2022-03-16T06:32:07.363329Z",
     "iopub.status.idle": "2022-03-16T06:32:07.374012Z",
     "shell.execute_reply": "2022-03-16T06:32:07.373492Z"
    }
   },
   "outputs": [
    {
     "data": {
      "text/latex": [
       "$\\displaystyle (b f - c e)\\mathbf{\\hat{n}_x} + (- a f + c d)\\mathbf{\\hat{n}_y} + (a e - b d)\\mathbf{\\hat{n}_z}$"
      ],
      "text/plain": [
       "(b⋅f - c⋅e) n_x + (-a⋅f + c⋅d) n_y + (a⋅e - b⋅d) n_z"
      ]
     },
     "execution_count": 28,
     "metadata": {},
     "output_type": "execute_result"
    }
   ],
   "source": [
    "me.cross(w, x)"
   ]
  },
  {
   "cell_type": "code",
   "execution_count": 29,
   "id": "db6f82b4",
   "metadata": {
    "execution": {
     "iopub.execute_input": "2022-03-16T06:32:07.376967Z",
     "iopub.status.busy": "2022-03-16T06:32:07.376549Z",
     "iopub.status.idle": "2022-03-16T06:32:07.385862Z",
     "shell.execute_reply": "2022-03-16T06:32:07.385337Z"
    }
   },
   "outputs": [
    {
     "data": {
      "text/latex": [
       "$\\displaystyle (b f - c e)\\mathbf{\\hat{n}_x} + (- a f + c d)\\mathbf{\\hat{n}_y} + (a e - b d)\\mathbf{\\hat{n}_z}$"
      ],
      "text/plain": [
       "(b⋅f - c⋅e) n_x + (-a⋅f + c⋅d) n_y + (a⋅e - b⋅d) n_z"
      ]
     },
     "execution_count": 29,
     "metadata": {},
     "output_type": "execute_result"
    }
   ],
   "source": [
    "w.cross(x)"
   ]
  },
  {
   "cell_type": "code",
   "execution_count": 30,
   "id": "90092e2b",
   "metadata": {
    "execution": {
     "iopub.execute_input": "2022-03-16T06:32:07.388680Z",
     "iopub.status.busy": "2022-03-16T06:32:07.388409Z",
     "iopub.status.idle": "2022-03-16T06:32:07.399261Z",
     "shell.execute_reply": "2022-03-16T06:32:07.398746Z"
    }
   },
   "outputs": [
    {
     "data": {
      "text/latex": [
       "$\\displaystyle \\sqrt{36077}$"
      ],
      "text/plain": [
       "√36077"
      ]
     },
     "execution_count": 30,
     "metadata": {},
     "output_type": "execute_result"
    }
   ],
   "source": [
    "N = me.ReferenceFrame('N')\n",
    "\n",
    "p1 = 23*N.x - 12* N.y\n",
    "p2 = 16*N.x + 2*N.y - 4*N.z\n",
    "p3 = N.x + 14*N.z\n",
    "\n",
    "me.cross(p2 - p1, p3 - p1).magnitude() / 2"
   ]
  },
  {
   "cell_type": "code",
   "execution_count": 31,
   "id": "2e148541",
   "metadata": {
    "execution": {
     "iopub.execute_input": "2022-03-16T06:32:07.401714Z",
     "iopub.status.busy": "2022-03-16T06:32:07.401443Z",
     "iopub.status.idle": "2022-03-16T06:32:07.407776Z",
     "shell.execute_reply": "2022-03-16T06:32:07.407263Z"
    }
   },
   "outputs": [
    {
     "data": {
      "text/latex": [
       "$\\displaystyle a\\mathbf{\\hat{a}_x} + b\\mathbf{\\hat{n}_y}$"
      ],
      "text/plain": [
       "a a_x + b n_y"
      ]
     },
     "execution_count": 31,
     "metadata": {},
     "output_type": "execute_result"
    }
   ],
   "source": [
    "N = me.ReferenceFrame('N')\n",
    "A = me.ReferenceFrame('A')\n",
    "a, b, theta = sm.symbols('a, b, theta')\n",
    "\n",
    "v = a*A.x + b*N.y\n",
    "v"
   ]
  },
  {
   "cell_type": "code",
   "execution_count": 32,
   "id": "4d1e1b6a",
   "metadata": {
    "execution": {
     "iopub.execute_input": "2022-03-16T06:32:07.410551Z",
     "iopub.status.busy": "2022-03-16T06:32:07.410281Z",
     "iopub.status.idle": "2022-03-16T06:32:07.415241Z",
     "shell.execute_reply": "2022-03-16T06:32:07.414726Z"
    }
   },
   "outputs": [
    {
     "data": {
      "text/latex": [
       "$\\displaystyle 2 a\\mathbf{\\hat{a}_x} + 2 b\\mathbf{\\hat{n}_y}$"
      ],
      "text/plain": [
       "2⋅a a_x + 2⋅b n_y"
      ]
     },
     "execution_count": 32,
     "metadata": {},
     "output_type": "execute_result"
    }
   ],
   "source": [
    "v + v"
   ]
  },
  {
   "cell_type": "code",
   "execution_count": 33,
   "id": "7b1baca3",
   "metadata": {
    "execution": {
     "iopub.execute_input": "2022-03-16T06:32:07.418163Z",
     "iopub.status.busy": "2022-03-16T06:32:07.417751Z",
     "iopub.status.idle": "2022-03-16T06:32:07.428166Z",
     "shell.execute_reply": "2022-03-16T06:32:07.427631Z"
    }
   },
   "outputs": [
    {
     "data": {
      "text/latex": [
       "$\\displaystyle a \\cos{\\left(\\theta \\right)}\\mathbf{\\hat{n}_x} + (a \\sin{\\left(\\theta \\right)} + b)\\mathbf{\\hat{n}_y}$"
      ],
      "text/plain": [
       "a⋅cos(θ) n_x + (a⋅sin(θ) + b) n_y"
      ]
     },
     "execution_count": 33,
     "metadata": {},
     "output_type": "execute_result"
    }
   ],
   "source": [
    "A.orient_axis(N, theta, N.z)\n",
    "\n",
    "v.express(N)"
   ]
  },
  {
   "cell_type": "code",
   "execution_count": 34,
   "id": "612b63a7",
   "metadata": {
    "execution": {
     "iopub.execute_input": "2022-03-16T06:32:07.430537Z",
     "iopub.status.busy": "2022-03-16T06:32:07.430258Z",
     "iopub.status.idle": "2022-03-16T06:32:07.436561Z",
     "shell.execute_reply": "2022-03-16T06:32:07.436013Z"
    }
   },
   "outputs": [
    {
     "data": {
      "text/latex": [
       "$\\displaystyle (a + b \\sin{\\left(\\theta \\right)})\\mathbf{\\hat{a}_x} + b \\cos{\\left(\\theta \\right)}\\mathbf{\\hat{a}_y}$"
      ],
      "text/plain": [
       "(a + b⋅sin(θ)) a_x + b⋅cos(θ) a_y"
      ]
     },
     "execution_count": 34,
     "metadata": {},
     "output_type": "execute_result"
    }
   ],
   "source": [
    "v.express(A)"
   ]
  },
  {
   "cell_type": "code",
   "execution_count": 35,
   "id": "33864ff3",
   "metadata": {
    "execution": {
     "iopub.execute_input": "2022-03-16T06:32:07.439546Z",
     "iopub.status.busy": "2022-03-16T06:32:07.439186Z",
     "iopub.status.idle": "2022-03-16T06:32:07.444630Z",
     "shell.execute_reply": "2022-03-16T06:32:07.444087Z"
    }
   },
   "outputs": [],
   "source": [
    "q1, q2, q3, q4 = sm.symbols('q1, q2, q3, q4')\n",
    "l1, l2, l3, l4 = sm.symbols('l1, l2, l3, l4')\n",
    "N = me.ReferenceFrame('N')\n",
    "A = me.ReferenceFrame('A')\n",
    "B = me.ReferenceFrame('B')\n",
    "C = me.ReferenceFrame('C')"
   ]
  },
  {
   "cell_type": "code",
   "execution_count": 36,
   "id": "9ed9f71b",
   "metadata": {
    "execution": {
     "iopub.execute_input": "2022-03-16T06:32:07.447129Z",
     "iopub.status.busy": "2022-03-16T06:32:07.446711Z",
     "iopub.status.idle": "2022-03-16T06:32:07.470417Z",
     "shell.execute_reply": "2022-03-16T06:32:07.469933Z"
    }
   },
   "outputs": [],
   "source": [
    "A.orient_body_fixed(N, (q1, q2, 0), 'ZXZ')"
   ]
  },
  {
   "cell_type": "code",
   "execution_count": 37,
   "id": "e4e54114",
   "metadata": {
    "execution": {
     "iopub.execute_input": "2022-03-16T06:32:07.472813Z",
     "iopub.status.busy": "2022-03-16T06:32:07.472529Z",
     "iopub.status.idle": "2022-03-16T06:32:07.478356Z",
     "shell.execute_reply": "2022-03-16T06:32:07.477826Z"
    }
   },
   "outputs": [],
   "source": [
    "B.orient_axis(A, q3, A.x)"
   ]
  },
  {
   "cell_type": "code",
   "execution_count": 38,
   "id": "4d9d5029",
   "metadata": {
    "execution": {
     "iopub.execute_input": "2022-03-16T06:32:07.480845Z",
     "iopub.status.busy": "2022-03-16T06:32:07.480426Z",
     "iopub.status.idle": "2022-03-16T06:32:07.505821Z",
     "shell.execute_reply": "2022-03-16T06:32:07.505321Z"
    }
   },
   "outputs": [],
   "source": [
    "C.orient_body_fixed(B, (q3, q4, 0), 'XZX')"
   ]
  },
  {
   "cell_type": "code",
   "execution_count": 39,
   "id": "254cb6c9",
   "metadata": {
    "execution": {
     "iopub.execute_input": "2022-03-16T06:32:07.508302Z",
     "iopub.status.busy": "2022-03-16T06:32:07.507990Z",
     "iopub.status.idle": "2022-03-16T06:32:07.512293Z",
     "shell.execute_reply": "2022-03-16T06:32:07.511745Z"
    }
   },
   "outputs": [],
   "source": [
    "R_P1_P2 = l1*A.z\n",
    "R_P2_P3 = l2*B.z\n",
    "R_P3_P4 = l3*C.z - l4*C.y"
   ]
  },
  {
   "cell_type": "code",
   "execution_count": 40,
   "id": "cc5a4ed4",
   "metadata": {
    "execution": {
     "iopub.execute_input": "2022-03-16T06:32:07.514754Z",
     "iopub.status.busy": "2022-03-16T06:32:07.514400Z",
     "iopub.status.idle": "2022-03-16T06:32:07.519589Z",
     "shell.execute_reply": "2022-03-16T06:32:07.519074Z"
    }
   },
   "outputs": [
    {
     "data": {
      "text/latex": [
       "$\\displaystyle l_{1}\\mathbf{\\hat{a}_z} + l_{2}\\mathbf{\\hat{b}_z} -  l_{4}\\mathbf{\\hat{c}_y} + l_{3}\\mathbf{\\hat{c}_z}$"
      ],
      "text/plain": [
       "l₁ a_z + l₂ b_z + -l₄ c_y + l₃ c_z"
      ]
     },
     "execution_count": 40,
     "metadata": {},
     "output_type": "execute_result"
    }
   ],
   "source": [
    "R_P1_P4 = R_P1_P2 + R_P2_P3 + R_P3_P4\n",
    "R_P1_P4"
   ]
  },
  {
   "cell_type": "code",
   "execution_count": 41,
   "id": "e9bdae8c",
   "metadata": {
    "execution": {
     "iopub.execute_input": "2022-03-16T06:32:07.522469Z",
     "iopub.status.busy": "2022-03-16T06:32:07.522200Z",
     "iopub.status.idle": "2022-03-16T06:32:07.617637Z",
     "shell.execute_reply": "2022-03-16T06:32:07.617086Z"
    }
   },
   "outputs": [
    {
     "data": {
      "text/latex": [
       "$\\displaystyle (l_{1} \\sin{\\left(q_{1} \\right)} \\sin{\\left(q_{2} \\right)} + l_{2} \\left(\\sin{\\left(q_{1} \\right)} \\sin{\\left(q_{2} \\right)} \\cos{\\left(q_{3} \\right)} + \\sin{\\left(q_{1} \\right)} \\sin{\\left(q_{3} \\right)} \\cos{\\left(q_{2} \\right)}\\right) + l_{3} \\left(- \\left(\\sin{\\left(q_{1} \\right)} \\sin{\\left(q_{2} \\right)} \\sin{\\left(q_{3} \\right)} - \\sin{\\left(q_{1} \\right)} \\cos{\\left(q_{2} \\right)} \\cos{\\left(q_{3} \\right)}\\right) \\sin{\\left(q_{3} \\right)} + \\left(\\sin{\\left(q_{1} \\right)} \\sin{\\left(q_{2} \\right)} \\cos{\\left(q_{3} \\right)} + \\sin{\\left(q_{1} \\right)} \\sin{\\left(q_{3} \\right)} \\cos{\\left(q_{2} \\right)}\\right) \\cos{\\left(q_{3} \\right)}\\right) - l_{4} \\left(\\left(\\sin{\\left(q_{1} \\right)} \\sin{\\left(q_{2} \\right)} \\sin{\\left(q_{3} \\right)} - \\sin{\\left(q_{1} \\right)} \\cos{\\left(q_{2} \\right)} \\cos{\\left(q_{3} \\right)}\\right) \\cos{\\left(q_{3} \\right)} \\cos{\\left(q_{4} \\right)} + \\left(\\sin{\\left(q_{1} \\right)} \\sin{\\left(q_{2} \\right)} \\cos{\\left(q_{3} \\right)} + \\sin{\\left(q_{1} \\right)} \\sin{\\left(q_{3} \\right)} \\cos{\\left(q_{2} \\right)}\\right) \\sin{\\left(q_{3} \\right)} \\cos{\\left(q_{4} \\right)} - \\sin{\\left(q_{4} \\right)} \\cos{\\left(q_{1} \\right)}\\right))\\mathbf{\\hat{n}_x} + (- l_{1} \\sin{\\left(q_{2} \\right)} \\cos{\\left(q_{1} \\right)} + l_{2} \\left(- \\sin{\\left(q_{2} \\right)} \\cos{\\left(q_{1} \\right)} \\cos{\\left(q_{3} \\right)} - \\sin{\\left(q_{3} \\right)} \\cos{\\left(q_{1} \\right)} \\cos{\\left(q_{2} \\right)}\\right) + l_{3} \\left(- \\left(- \\sin{\\left(q_{2} \\right)} \\sin{\\left(q_{3} \\right)} \\cos{\\left(q_{1} \\right)} + \\cos{\\left(q_{1} \\right)} \\cos{\\left(q_{2} \\right)} \\cos{\\left(q_{3} \\right)}\\right) \\sin{\\left(q_{3} \\right)} + \\left(- \\sin{\\left(q_{2} \\right)} \\cos{\\left(q_{1} \\right)} \\cos{\\left(q_{3} \\right)} - \\sin{\\left(q_{3} \\right)} \\cos{\\left(q_{1} \\right)} \\cos{\\left(q_{2} \\right)}\\right) \\cos{\\left(q_{3} \\right)}\\right) - l_{4} \\left(\\left(- \\sin{\\left(q_{2} \\right)} \\sin{\\left(q_{3} \\right)} \\cos{\\left(q_{1} \\right)} + \\cos{\\left(q_{1} \\right)} \\cos{\\left(q_{2} \\right)} \\cos{\\left(q_{3} \\right)}\\right) \\cos{\\left(q_{3} \\right)} \\cos{\\left(q_{4} \\right)} + \\left(- \\sin{\\left(q_{2} \\right)} \\cos{\\left(q_{1} \\right)} \\cos{\\left(q_{3} \\right)} - \\sin{\\left(q_{3} \\right)} \\cos{\\left(q_{1} \\right)} \\cos{\\left(q_{2} \\right)}\\right) \\sin{\\left(q_{3} \\right)} \\cos{\\left(q_{4} \\right)} - \\sin{\\left(q_{1} \\right)} \\sin{\\left(q_{4} \\right)}\\right))\\mathbf{\\hat{n}_y} + (l_{1} \\cos{\\left(q_{2} \\right)} + l_{2} \\left(- \\sin{\\left(q_{2} \\right)} \\sin{\\left(q_{3} \\right)} + \\cos{\\left(q_{2} \\right)} \\cos{\\left(q_{3} \\right)}\\right) + l_{3} \\left(\\left(- \\sin{\\left(q_{2} \\right)} \\sin{\\left(q_{3} \\right)} + \\cos{\\left(q_{2} \\right)} \\cos{\\left(q_{3} \\right)}\\right) \\cos{\\left(q_{3} \\right)} - \\left(\\sin{\\left(q_{2} \\right)} \\cos{\\left(q_{3} \\right)} + \\sin{\\left(q_{3} \\right)} \\cos{\\left(q_{2} \\right)}\\right) \\sin{\\left(q_{3} \\right)}\\right) - l_{4} \\left(\\left(- \\sin{\\left(q_{2} \\right)} \\sin{\\left(q_{3} \\right)} + \\cos{\\left(q_{2} \\right)} \\cos{\\left(q_{3} \\right)}\\right) \\sin{\\left(q_{3} \\right)} \\cos{\\left(q_{4} \\right)} + \\left(\\sin{\\left(q_{2} \\right)} \\cos{\\left(q_{3} \\right)} + \\sin{\\left(q_{3} \\right)} \\cos{\\left(q_{2} \\right)}\\right) \\cos{\\left(q_{3} \\right)} \\cos{\\left(q_{4} \\right)}\\right))\\mathbf{\\hat{n}_z}$"
      ],
      "text/plain": [
       "(l₁⋅sin(q₁)⋅sin(q₂) + l₂⋅(sin(q₁)⋅sin(q₂)⋅cos(q₃) + sin(q₁)⋅sin(q₃)⋅cos(q₂)) +\n",
       " l₃⋅(-(sin(q₁)⋅sin(q₂)⋅sin(q₃) - sin(q₁)⋅cos(q₂)⋅cos(q₃))⋅sin(q₃) + (sin(q₁)⋅s\n",
       "in(q₂)⋅cos(q₃) + sin(q₁)⋅sin(q₃)⋅cos(q₂))⋅cos(q₃)) - l₄⋅((sin(q₁)⋅sin(q₂)⋅sin(\n",
       "q₃) - sin(q₁)⋅cos(q₂)⋅cos(q₃))⋅cos(q₃)⋅cos(q₄) + (sin(q₁)⋅sin(q₂)⋅cos(q₃) + si\n",
       "n(q₁)⋅sin(q₃)⋅cos(q₂))⋅sin(q₃)⋅cos(q₄) - sin(q₄)⋅cos(q₁))) n_x + (-l₁⋅sin(q₂)⋅\n",
       "cos(q₁) + l₂⋅(-sin(q₂)⋅cos(q₁)⋅cos(q₃) - sin(q₃)⋅cos(q₁)⋅cos(q₂)) + l₃⋅(-(-sin\n",
       "(q₂)⋅sin(q₃)⋅cos(q₁) + cos(q₁)⋅cos(q₂)⋅cos(q₃))⋅sin(q₃) + (-sin(q₂)⋅cos(q₁)⋅co\n",
       "s(q₃) - sin(q₃)⋅cos(q₁)⋅cos(q₂))⋅cos(q₃)) - l₄⋅((-sin(q₂)⋅sin(q₃)⋅cos(q₁) + co\n",
       "s(q₁)⋅cos(q₂)⋅cos(q₃))⋅cos(q₃)⋅cos(q₄) + (-sin(q₂)⋅cos(q₁)⋅cos(q₃) - sin(q₃)⋅c\n",
       "os(q₁)⋅cos(q₂))⋅sin(q₃)⋅cos(q₄) - sin(q₁)⋅sin(q₄))) n_y + (l₁⋅cos(q₂) + l₂⋅(-s\n",
       "in(q₂)⋅sin(q₃) + cos(q₂)⋅cos(q₃)) + l₃⋅((-sin(q₂)⋅sin(q₃) + cos(q₂)⋅cos(q₃))⋅c\n",
       "os(q₃) - (sin(q₂)⋅cos(q₃) + sin(q₃)⋅cos(q₂))⋅sin(q₃)) - l₄⋅((-sin(q₂)⋅sin(q₃)\n",
       "+ cos(q₂)⋅cos(q₃))⋅sin(q₃)⋅cos(q₄) + (sin(q₂)⋅cos(q₃) + sin(q₃)⋅cos(q₂))⋅cos(q\n",
       "₃)⋅cos(q₄))) n_z"
      ]
     },
     "execution_count": 41,
     "metadata": {},
     "output_type": "execute_result"
    }
   ],
   "source": [
    "R_P1_P4.express(N)"
   ]
  },
  {
   "cell_type": "code",
   "execution_count": 42,
   "id": "b694a928",
   "metadata": {
    "execution": {
     "iopub.execute_input": "2022-03-16T06:32:07.620608Z",
     "iopub.status.busy": "2022-03-16T06:32:07.620231Z",
     "iopub.status.idle": "2022-03-16T06:32:07.628603Z",
     "shell.execute_reply": "2022-03-16T06:32:07.628114Z"
    }
   },
   "outputs": [
    {
     "data": {
      "text/latex": [
       "$\\displaystyle l_{1} \\sin{\\left(q_{1} \\right)} \\sin{\\left(q_{2} \\right)}\\mathbf{\\hat{n}_x} -  l_{1} \\sin{\\left(q_{2} \\right)} \\cos{\\left(q_{1} \\right)}\\mathbf{\\hat{n}_y} + l_{1} \\cos{\\left(q_{2} \\right)}\\mathbf{\\hat{n}_z}$"
      ],
      "text/plain": [
       "l₁⋅sin(q₁)⋅sin(q₂) n_x + -l₁⋅sin(q₂)⋅cos(q₁) n_y + l₁⋅cos(q₂) n_z"
      ]
     },
     "execution_count": 42,
     "metadata": {},
     "output_type": "execute_result"
    }
   ],
   "source": [
    "R_P1_P2.express(N)"
   ]
  },
  {
   "cell_type": "code",
   "execution_count": 43,
   "id": "623cced3",
   "metadata": {
    "execution": {
     "iopub.execute_input": "2022-03-16T06:32:07.631396Z",
     "iopub.status.busy": "2022-03-16T06:32:07.631007Z",
     "iopub.status.idle": "2022-03-16T06:32:07.638131Z",
     "shell.execute_reply": "2022-03-16T06:32:07.637653Z"
    }
   },
   "outputs": [
    {
     "data": {
      "text/latex": [
       "$\\displaystyle \\left\\{l_{1}, q_{1}, q_{2}\\right\\}$"
      ],
      "text/plain": [
       "{l₁, q₁, q₂}"
      ]
     },
     "execution_count": 43,
     "metadata": {},
     "output_type": "execute_result"
    }
   ],
   "source": [
    "R_P1_P2.free_symbols(N)"
   ]
  },
  {
   "cell_type": "code",
   "execution_count": 44,
   "id": "73165952",
   "metadata": {
    "execution": {
     "iopub.execute_input": "2022-03-16T06:32:07.640823Z",
     "iopub.status.busy": "2022-03-16T06:32:07.640455Z",
     "iopub.status.idle": "2022-03-16T06:32:07.645961Z",
     "shell.execute_reply": "2022-03-16T06:32:07.645444Z"
    }
   },
   "outputs": [
    {
     "data": {
      "text/latex": [
       "$\\displaystyle \\left\\{l_{1}\\right\\}$"
      ],
      "text/plain": [
       "{l₁}"
      ]
     },
     "execution_count": 44,
     "metadata": {},
     "output_type": "execute_result"
    }
   ],
   "source": [
    "R_P1_P2.free_symbols(A)"
   ]
  },
  {
   "cell_type": "code",
   "execution_count": 45,
   "id": "05a97e43",
   "metadata": {
    "execution": {
     "iopub.execute_input": "2022-03-16T06:32:07.648303Z",
     "iopub.status.busy": "2022-03-16T06:32:07.648134Z",
     "iopub.status.idle": "2022-03-16T06:32:07.656993Z",
     "shell.execute_reply": "2022-03-16T06:32:07.656521Z"
    }
   },
   "outputs": [
    {
     "data": {
      "text/latex": [
       "$\\displaystyle \\left\\{l_{1}, l_{2}, l_{3}, l_{4}, q_{1}, q_{2}, q_{3}, q_{4}\\right\\}$"
      ],
      "text/plain": [
       "{l₁, l₂, l₃, l₄, q₁, q₂, q₃, q₄}"
      ]
     },
     "execution_count": 45,
     "metadata": {},
     "output_type": "execute_result"
    }
   ],
   "source": [
    "R_P1_P4.free_symbols(N)"
   ]
  }
 ],
 "metadata": {
  "kernelspec": {
   "display_name": "Python 3 (ipykernel)",
   "language": "python",
   "name": "python3"
  },
  "language_info": {
   "codemirror_mode": {
    "name": "ipython",
    "version": 3
   },
   "file_extension": ".py",
   "mimetype": "text/x-python",
   "name": "python",
   "nbconvert_exporter": "python",
   "pygments_lexer": "ipython3",
   "version": "3.9.10"
  }
 },
 "nbformat": 4,
 "nbformat_minor": 5
}