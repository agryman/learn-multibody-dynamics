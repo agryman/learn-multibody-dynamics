{
 "cells": [
  {
   "cell_type": "code",
   "execution_count": 1,
   "id": "c7d38102",
   "metadata": {
    "execution": {
     "iopub.execute_input": "2022-03-16T06:31:53.637627Z",
     "iopub.status.busy": "2022-03-16T06:31:53.637284Z",
     "iopub.status.idle": "2022-03-16T06:31:53.963129Z",
     "shell.execute_reply": "2022-03-16T06:31:53.962549Z"
    }
   },
   "outputs": [],
   "source": [
    "import sympy as sm\n",
    "sm.init_printing(use_latex='mathjax')"
   ]
  },
  {
   "cell_type": "code",
   "execution_count": 2,
   "id": "828d3350",
   "metadata": {
    "execution": {
     "iopub.execute_input": "2022-03-16T06:31:53.966475Z",
     "iopub.status.busy": "2022-03-16T06:31:53.966163Z",
     "iopub.status.idle": "2022-03-16T06:31:54.184628Z",
     "shell.execute_reply": "2022-03-16T06:31:54.184014Z"
    }
   },
   "outputs": [
    {
     "data": {
      "text/latex": [
       "$\\displaystyle \\left[\\begin{matrix}\\cos{\\left(\\theta \\right)} & \\sin{\\left(\\theta \\right)} & 0\\\\- \\sin{\\left(\\theta \\right)} & \\cos{\\left(\\theta \\right)} & 0\\\\0 & 0 & 1\\end{matrix}\\right]$"
      ],
      "text/plain": [
       "⎡cos(θ)   sin(θ)  0⎤\n",
       "⎢                  ⎥\n",
       "⎢-sin(θ)  cos(θ)  0⎥\n",
       "⎢                  ⎥\n",
       "⎣   0       0     1⎦"
      ]
     },
     "execution_count": 2,
     "metadata": {},
     "output_type": "execute_result"
    }
   ],
   "source": [
    "theta = sm.symbols('theta')\n",
    "\n",
    "A_C_N = sm.Matrix([[sm.cos(theta), sm.sin(theta), 0],\n",
    "                   [-sm.sin(theta), sm.cos(theta), 0],\n",
    "                   [0, 0, 1]])\n",
    "A_C_N"
   ]
  },
  {
   "cell_type": "code",
   "execution_count": 3,
   "id": "773a16c4",
   "metadata": {
    "execution": {
     "iopub.execute_input": "2022-03-16T06:31:54.187672Z",
     "iopub.status.busy": "2022-03-16T06:31:54.187382Z",
     "iopub.status.idle": "2022-03-16T06:31:54.297243Z",
     "shell.execute_reply": "2022-03-16T06:31:54.296722Z"
    }
   },
   "outputs": [
    {
     "data": {
      "text/latex": [
       "$\\displaystyle \\left[\\begin{matrix}\\cos{\\left(\\theta \\right)} & - \\sin{\\left(\\theta \\right)} & 0\\\\\\sin{\\left(\\theta \\right)} & \\cos{\\left(\\theta \\right)} & 0\\\\0 & 0 & 1\\end{matrix}\\right]$"
      ],
      "text/plain": [
       "⎡cos(θ)  -sin(θ)  0⎤\n",
       "⎢                  ⎥\n",
       "⎢sin(θ)  cos(θ)   0⎥\n",
       "⎢                  ⎥\n",
       "⎣  0        0     1⎦"
      ]
     },
     "execution_count": 3,
     "metadata": {},
     "output_type": "execute_result"
    }
   ],
   "source": [
    "sm.trigsimp(A_C_N.inv())"
   ]
  },
  {
   "cell_type": "code",
   "execution_count": 4,
   "id": "587e0e1a",
   "metadata": {
    "execution": {
     "iopub.execute_input": "2022-03-16T06:31:54.300307Z",
     "iopub.status.busy": "2022-03-16T06:31:54.299899Z",
     "iopub.status.idle": "2022-03-16T06:31:54.307776Z",
     "shell.execute_reply": "2022-03-16T06:31:54.307279Z"
    }
   },
   "outputs": [
    {
     "data": {
      "text/latex": [
       "$\\displaystyle \\left[\\begin{matrix}\\cos{\\left(\\theta \\right)} & - \\sin{\\left(\\theta \\right)} & 0\\\\\\sin{\\left(\\theta \\right)} & \\cos{\\left(\\theta \\right)} & 0\\\\0 & 0 & 1\\end{matrix}\\right]$"
      ],
      "text/plain": [
       "⎡cos(θ)  -sin(θ)  0⎤\n",
       "⎢                  ⎥\n",
       "⎢sin(θ)  cos(θ)   0⎥\n",
       "⎢                  ⎥\n",
       "⎣  0        0     1⎦"
      ]
     },
     "execution_count": 4,
     "metadata": {},
     "output_type": "execute_result"
    }
   ],
   "source": [
    "A_C_N.transpose()"
   ]
  },
  {
   "cell_type": "code",
   "execution_count": 5,
   "id": "67bbe185",
   "metadata": {
    "execution": {
     "iopub.execute_input": "2022-03-16T06:31:54.310422Z",
     "iopub.status.busy": "2022-03-16T06:31:54.310001Z",
     "iopub.status.idle": "2022-03-16T06:31:54.317424Z",
     "shell.execute_reply": "2022-03-16T06:31:54.316934Z"
    }
   },
   "outputs": [
    {
     "data": {
      "text/latex": [
       "$\\displaystyle \\left[\\begin{matrix}\\cos{\\left(\\theta \\right)} & \\sin{\\left(\\theta \\right)} & 0\\\\- \\sin{\\left(\\theta \\right)} & \\cos{\\left(\\theta \\right)} & 0\\\\0 & 0 & 1\\end{matrix}\\right]$"
      ],
      "text/plain": [
       "⎡cos(θ)   sin(θ)  0⎤\n",
       "⎢                  ⎥\n",
       "⎢-sin(θ)  cos(θ)  0⎥\n",
       "⎢                  ⎥\n",
       "⎣   0       0     1⎦"
      ]
     },
     "execution_count": 5,
     "metadata": {},
     "output_type": "execute_result"
    }
   ],
   "source": [
    "A_C_N"
   ]
  },
  {
   "cell_type": "code",
   "execution_count": 6,
   "id": "0e9a4b07",
   "metadata": {
    "execution": {
     "iopub.execute_input": "2022-03-16T06:31:54.319594Z",
     "iopub.status.busy": "2022-03-16T06:31:54.319432Z",
     "iopub.status.idle": "2022-03-16T06:31:54.327461Z",
     "shell.execute_reply": "2022-03-16T06:31:54.326957Z"
    }
   },
   "outputs": [
    {
     "data": {
      "text/latex": [
       "$\\displaystyle \\left[\\begin{matrix}\\cos{\\left(\\alpha \\right)} & \\sin{\\left(\\alpha \\right)} & 0\\\\- \\sin{\\left(\\alpha \\right)} & \\cos{\\left(\\alpha \\right)} & 0\\\\0 & 0 & 1\\end{matrix}\\right]$"
      ],
      "text/plain": [
       "⎡cos(α)   sin(α)  0⎤\n",
       "⎢                  ⎥\n",
       "⎢-sin(α)  cos(α)  0⎥\n",
       "⎢                  ⎥\n",
       "⎣   0       0     1⎦"
      ]
     },
     "execution_count": 6,
     "metadata": {},
     "output_type": "execute_result"
    }
   ],
   "source": [
    "alpha = sm.symbols('alpha')\n",
    "\n",
    "B_C_A = sm.Matrix([[sm.cos(alpha), sm.sin(alpha), 0],\n",
    "                   [-sm.sin(alpha), sm.cos(alpha), 0],\n",
    "                   [0, 0, 1]])\n",
    "\n",
    "B_C_A"
   ]
  },
  {
   "cell_type": "code",
   "execution_count": 7,
   "id": "4ecf425e",
   "metadata": {
    "execution": {
     "iopub.execute_input": "2022-03-16T06:31:54.330366Z",
     "iopub.status.busy": "2022-03-16T06:31:54.329958Z",
     "iopub.status.idle": "2022-03-16T06:31:54.342819Z",
     "shell.execute_reply": "2022-03-16T06:31:54.342294Z"
    }
   },
   "outputs": [
    {
     "data": {
      "text/latex": [
       "$\\displaystyle \\left[\\begin{matrix}- \\sin{\\left(\\alpha \\right)} \\sin{\\left(\\theta \\right)} + \\cos{\\left(\\alpha \\right)} \\cos{\\left(\\theta \\right)} & \\sin{\\left(\\alpha \\right)} \\cos{\\left(\\theta \\right)} + \\sin{\\left(\\theta \\right)} \\cos{\\left(\\alpha \\right)} & 0\\\\- \\sin{\\left(\\alpha \\right)} \\cos{\\left(\\theta \\right)} - \\sin{\\left(\\theta \\right)} \\cos{\\left(\\alpha \\right)} & - \\sin{\\left(\\alpha \\right)} \\sin{\\left(\\theta \\right)} + \\cos{\\left(\\alpha \\right)} \\cos{\\left(\\theta \\right)} & 0\\\\0 & 0 & 1\\end{matrix}\\right]$"
      ],
      "text/plain": [
       "⎡-sin(α)⋅sin(θ) + cos(α)⋅cos(θ)  sin(α)⋅cos(θ) + sin(θ)⋅cos(α)   0⎤\n",
       "⎢                                                                 ⎥\n",
       "⎢-sin(α)⋅cos(θ) - sin(θ)⋅cos(α)  -sin(α)⋅sin(θ) + cos(α)⋅cos(θ)  0⎥\n",
       "⎢                                                                 ⎥\n",
       "⎣              0                               0                 1⎦"
      ]
     },
     "execution_count": 7,
     "metadata": {},
     "output_type": "execute_result"
    }
   ],
   "source": [
    "B_C_N = B_C_A*A_C_N\n",
    "B_C_N"
   ]
  },
  {
   "cell_type": "code",
   "execution_count": 8,
   "id": "a915f762",
   "metadata": {
    "execution": {
     "iopub.execute_input": "2022-03-16T06:31:54.345380Z",
     "iopub.status.busy": "2022-03-16T06:31:54.344973Z",
     "iopub.status.idle": "2022-03-16T06:31:54.507412Z",
     "shell.execute_reply": "2022-03-16T06:31:54.506807Z"
    }
   },
   "outputs": [
    {
     "data": {
      "text/latex": [
       "$\\displaystyle \\left[\\begin{matrix}\\cos{\\left(\\alpha + \\theta \\right)} & \\sin{\\left(\\alpha + \\theta \\right)} & 0\\\\- \\sin{\\left(\\alpha + \\theta \\right)} & \\cos{\\left(\\alpha + \\theta \\right)} & 0\\\\0 & 0 & 1\\end{matrix}\\right]$"
      ],
      "text/plain": [
       "⎡cos(α + θ)   sin(α + θ)  0⎤\n",
       "⎢                          ⎥\n",
       "⎢-sin(α + θ)  cos(α + θ)  0⎥\n",
       "⎢                          ⎥\n",
       "⎣     0           0       1⎦"
      ]
     },
     "execution_count": 8,
     "metadata": {},
     "output_type": "execute_result"
    }
   ],
   "source": [
    "sm.trigsimp(B_C_N)"
   ]
  },
  {
   "cell_type": "code",
   "execution_count": 9,
   "id": "b5ea6213",
   "metadata": {
    "execution": {
     "iopub.execute_input": "2022-03-16T06:31:54.510340Z",
     "iopub.status.busy": "2022-03-16T06:31:54.509970Z",
     "iopub.status.idle": "2022-03-16T06:31:54.518650Z",
     "shell.execute_reply": "2022-03-16T06:31:54.518179Z"
    }
   },
   "outputs": [],
   "source": [
    "import sympy.physics.mechanics as me"
   ]
  },
  {
   "cell_type": "code",
   "execution_count": 10,
   "id": "69a1227a",
   "metadata": {
    "execution": {
     "iopub.execute_input": "2022-03-16T06:31:54.521035Z",
     "iopub.status.busy": "2022-03-16T06:31:54.520760Z",
     "iopub.status.idle": "2022-03-16T06:31:54.524156Z",
     "shell.execute_reply": "2022-03-16T06:31:54.523634Z"
    }
   },
   "outputs": [],
   "source": [
    "N = me.ReferenceFrame('N')"
   ]
  },
  {
   "cell_type": "code",
   "execution_count": 11,
   "id": "52e581ab",
   "metadata": {
    "execution": {
     "iopub.execute_input": "2022-03-16T06:31:54.526460Z",
     "iopub.status.busy": "2022-03-16T06:31:54.526197Z",
     "iopub.status.idle": "2022-03-16T06:31:54.530888Z",
     "shell.execute_reply": "2022-03-16T06:31:54.530393Z"
    }
   },
   "outputs": [
    {
     "data": {
      "text/latex": [
       "$\\displaystyle \\left( \\mathbf{\\hat{n}_x}, \\  \\mathbf{\\hat{n}_y}, \\  \\mathbf{\\hat{n}_z}\\right)$"
      ],
      "text/plain": [
       "(n_x, n_y, n_z)"
      ]
     },
     "execution_count": 11,
     "metadata": {},
     "output_type": "execute_result"
    }
   ],
   "source": [
    "N.x, N.y, N.z"
   ]
  },
  {
   "cell_type": "code",
   "execution_count": 12,
   "id": "d1ad48a3",
   "metadata": {
    "execution": {
     "iopub.execute_input": "2022-03-16T06:31:54.533765Z",
     "iopub.status.busy": "2022-03-16T06:31:54.533500Z",
     "iopub.status.idle": "2022-03-16T06:31:54.538615Z",
     "shell.execute_reply": "2022-03-16T06:31:54.538104Z"
    }
   },
   "outputs": [
    {
     "data": {
      "text/plain": [
       "(N, A, B)"
      ]
     },
     "execution_count": 12,
     "metadata": {},
     "output_type": "execute_result"
    }
   ],
   "source": [
    "A = me.ReferenceFrame('A')\n",
    "B = me.ReferenceFrame('B')\n",
    "\n",
    "N, A, B"
   ]
  },
  {
   "cell_type": "code",
   "execution_count": 13,
   "id": "d14c8e70",
   "metadata": {
    "execution": {
     "iopub.execute_input": "2022-03-16T06:31:54.541376Z",
     "iopub.status.busy": "2022-03-16T06:31:54.541111Z",
     "iopub.status.idle": "2022-03-16T06:31:54.546845Z",
     "shell.execute_reply": "2022-03-16T06:31:54.546340Z"
    }
   },
   "outputs": [
    {
     "data": {
      "text/latex": [
       "$\\displaystyle \\left[\\begin{matrix}\\cos{\\left(\\theta \\right)} & \\sin{\\left(\\theta \\right)} & 0\\\\- \\sin{\\left(\\theta \\right)} & \\cos{\\left(\\theta \\right)} & 0\\\\0 & 0 & 1\\end{matrix}\\right]$"
      ],
      "text/plain": [
       "⎡cos(θ)   sin(θ)  0⎤\n",
       "⎢                  ⎥\n",
       "⎢-sin(θ)  cos(θ)  0⎥\n",
       "⎢                  ⎥\n",
       "⎣   0       0     1⎦"
      ]
     },
     "execution_count": 13,
     "metadata": {},
     "output_type": "execute_result"
    }
   ],
   "source": [
    "A_C_N"
   ]
  },
  {
   "cell_type": "code",
   "execution_count": 14,
   "id": "1672167e",
   "metadata": {
    "execution": {
     "iopub.execute_input": "2022-03-16T06:31:54.549671Z",
     "iopub.status.busy": "2022-03-16T06:31:54.549333Z",
     "iopub.status.idle": "2022-03-16T06:31:54.553181Z",
     "shell.execute_reply": "2022-03-16T06:31:54.552726Z"
    }
   },
   "outputs": [],
   "source": [
    "N.orient_explicit(A, A_C_N)"
   ]
  },
  {
   "cell_type": "code",
   "execution_count": 15,
   "id": "6438364a",
   "metadata": {
    "execution": {
     "iopub.execute_input": "2022-03-16T06:31:54.555388Z",
     "iopub.status.busy": "2022-03-16T06:31:54.555049Z",
     "iopub.status.idle": "2022-03-16T06:31:54.560760Z",
     "shell.execute_reply": "2022-03-16T06:31:54.560251Z"
    }
   },
   "outputs": [
    {
     "data": {
      "text/latex": [
       "$\\displaystyle \\left[\\begin{matrix}\\cos{\\left(\\theta \\right)} & \\sin{\\left(\\theta \\right)} & 0\\\\- \\sin{\\left(\\theta \\right)} & \\cos{\\left(\\theta \\right)} & 0\\\\0 & 0 & 1\\end{matrix}\\right]$"
      ],
      "text/plain": [
       "⎡cos(θ)   sin(θ)  0⎤\n",
       "⎢                  ⎥\n",
       "⎢-sin(θ)  cos(θ)  0⎥\n",
       "⎢                  ⎥\n",
       "⎣   0       0     1⎦"
      ]
     },
     "execution_count": 15,
     "metadata": {},
     "output_type": "execute_result"
    }
   ],
   "source": [
    "A.dcm(N)"
   ]
  },
  {
   "cell_type": "code",
   "execution_count": 16,
   "id": "3b13218d",
   "metadata": {
    "execution": {
     "iopub.execute_input": "2022-03-16T06:31:54.563482Z",
     "iopub.status.busy": "2022-03-16T06:31:54.563220Z",
     "iopub.status.idle": "2022-03-16T06:31:54.569091Z",
     "shell.execute_reply": "2022-03-16T06:31:54.568565Z"
    }
   },
   "outputs": [],
   "source": [
    "B.orient_axis(A, alpha, A.z)"
   ]
  },
  {
   "cell_type": "code",
   "execution_count": 17,
   "id": "6faac942",
   "metadata": {
    "execution": {
     "iopub.execute_input": "2022-03-16T06:31:54.571409Z",
     "iopub.status.busy": "2022-03-16T06:31:54.571137Z",
     "iopub.status.idle": "2022-03-16T06:31:54.577022Z",
     "shell.execute_reply": "2022-03-16T06:31:54.576523Z"
    }
   },
   "outputs": [
    {
     "data": {
      "text/latex": [
       "$\\displaystyle \\left[\\begin{matrix}\\cos{\\left(\\alpha \\right)} & \\sin{\\left(\\alpha \\right)} & 0\\\\- \\sin{\\left(\\alpha \\right)} & \\cos{\\left(\\alpha \\right)} & 0\\\\0 & 0 & 1\\end{matrix}\\right]$"
      ],
      "text/plain": [
       "⎡cos(α)   sin(α)  0⎤\n",
       "⎢                  ⎥\n",
       "⎢-sin(α)  cos(α)  0⎥\n",
       "⎢                  ⎥\n",
       "⎣   0       0     1⎦"
      ]
     },
     "execution_count": 17,
     "metadata": {},
     "output_type": "execute_result"
    }
   ],
   "source": [
    "B.dcm(A)"
   ]
  },
  {
   "cell_type": "code",
   "execution_count": 18,
   "id": "dea82679",
   "metadata": {
    "execution": {
     "iopub.execute_input": "2022-03-16T06:31:54.579870Z",
     "iopub.status.busy": "2022-03-16T06:31:54.579530Z",
     "iopub.status.idle": "2022-03-16T06:31:54.585331Z",
     "shell.execute_reply": "2022-03-16T06:31:54.584828Z"
    }
   },
   "outputs": [
    {
     "data": {
      "text/latex": [
       "$\\displaystyle \\left[\\begin{matrix}\\cos{\\left(\\alpha \\right)} & - \\sin{\\left(\\alpha \\right)} & 0\\\\\\sin{\\left(\\alpha \\right)} & \\cos{\\left(\\alpha \\right)} & 0\\\\0 & 0 & 1\\end{matrix}\\right]$"
      ],
      "text/plain": [
       "⎡cos(α)  -sin(α)  0⎤\n",
       "⎢                  ⎥\n",
       "⎢sin(α)  cos(α)   0⎥\n",
       "⎢                  ⎥\n",
       "⎣  0        0     1⎦"
      ]
     },
     "execution_count": 18,
     "metadata": {},
     "output_type": "execute_result"
    }
   ],
   "source": [
    "A.dcm(B)"
   ]
  },
  {
   "cell_type": "code",
   "execution_count": 19,
   "id": "26bb0dba",
   "metadata": {
    "execution": {
     "iopub.execute_input": "2022-03-16T06:31:54.588173Z",
     "iopub.status.busy": "2022-03-16T06:31:54.587826Z",
     "iopub.status.idle": "2022-03-16T06:31:54.734359Z",
     "shell.execute_reply": "2022-03-16T06:31:54.733696Z"
    }
   },
   "outputs": [
    {
     "data": {
      "text/latex": [
       "$\\displaystyle \\left[\\begin{matrix}\\cos{\\left(\\alpha + \\theta \\right)} & \\sin{\\left(\\alpha + \\theta \\right)} & 0\\\\- \\sin{\\left(\\alpha + \\theta \\right)} & \\cos{\\left(\\alpha + \\theta \\right)} & 0\\\\0 & 0 & 1\\end{matrix}\\right]$"
      ],
      "text/plain": [
       "⎡cos(α + θ)   sin(α + θ)  0⎤\n",
       "⎢                          ⎥\n",
       "⎢-sin(α + θ)  cos(α + θ)  0⎥\n",
       "⎢                          ⎥\n",
       "⎣     0           0       1⎦"
      ]
     },
     "execution_count": 19,
     "metadata": {},
     "output_type": "execute_result"
    }
   ],
   "source": [
    "sm.trigsimp(B.dcm(A)*A.dcm(N))"
   ]
  },
  {
   "cell_type": "code",
   "execution_count": 20,
   "id": "46c76f4f",
   "metadata": {
    "execution": {
     "iopub.execute_input": "2022-03-16T06:31:54.737351Z",
     "iopub.status.busy": "2022-03-16T06:31:54.737017Z",
     "iopub.status.idle": "2022-03-16T06:31:54.885092Z",
     "shell.execute_reply": "2022-03-16T06:31:54.884567Z"
    }
   },
   "outputs": [
    {
     "data": {
      "text/latex": [
       "$\\displaystyle \\left[\\begin{matrix}\\cos{\\left(\\alpha + \\theta \\right)} & \\sin{\\left(\\alpha + \\theta \\right)} & 0\\\\- \\sin{\\left(\\alpha + \\theta \\right)} & \\cos{\\left(\\alpha + \\theta \\right)} & 0\\\\0 & 0 & 1\\end{matrix}\\right]$"
      ],
      "text/plain": [
       "⎡cos(α + θ)   sin(α + θ)  0⎤\n",
       "⎢                          ⎥\n",
       "⎢-sin(α + θ)  cos(α + θ)  0⎥\n",
       "⎢                          ⎥\n",
       "⎣     0           0       1⎦"
      ]
     },
     "execution_count": 20,
     "metadata": {},
     "output_type": "execute_result"
    }
   ],
   "source": [
    "sm.trigsimp(B.dcm(N))"
   ]
  },
  {
   "cell_type": "code",
   "execution_count": 21,
   "id": "39d63e2d",
   "metadata": {
    "execution": {
     "iopub.execute_input": "2022-03-16T06:31:54.888062Z",
     "iopub.status.busy": "2022-03-16T06:31:54.887668Z",
     "iopub.status.idle": "2022-03-16T06:31:54.933236Z",
     "shell.execute_reply": "2022-03-16T06:31:54.932713Z"
    }
   },
   "outputs": [
    {
     "data": {
      "text/latex": [
       "$\\displaystyle \\cos{\\left(\\alpha + \\theta \\right)}$"
      ],
      "text/plain": [
       "cos(α + θ)"
      ]
     },
     "execution_count": 21,
     "metadata": {},
     "output_type": "execute_result"
    }
   ],
   "source": [
    "sm.trigsimp(me.dot(B.x, N.x))"
   ]
  },
  {
   "cell_type": "code",
   "execution_count": 22,
   "id": "438747fd",
   "metadata": {
    "execution": {
     "iopub.execute_input": "2022-03-16T06:31:54.936152Z",
     "iopub.status.busy": "2022-03-16T06:31:54.935697Z",
     "iopub.status.idle": "2022-03-16T06:31:54.948979Z",
     "shell.execute_reply": "2022-03-16T06:31:54.948476Z"
    }
   },
   "outputs": [
    {
     "data": {
      "text/latex": [
       "$\\displaystyle \\left[\\begin{matrix}\\cos{\\left(\\psi \\right)} & \\sin{\\left(\\psi \\right)} & 0\\\\- \\sin{\\left(\\psi \\right)} & \\cos{\\left(\\psi \\right)} & 0\\\\0 & 0 & 1\\end{matrix}\\right]$"
      ],
      "text/plain": [
       "⎡cos(ψ)   sin(ψ)  0⎤\n",
       "⎢                  ⎥\n",
       "⎢-sin(ψ)  cos(ψ)  0⎥\n",
       "⎢                  ⎥\n",
       "⎣   0       0     1⎦"
      ]
     },
     "execution_count": 22,
     "metadata": {},
     "output_type": "execute_result"
    }
   ],
   "source": [
    "psi = sm.symbols('psi')\n",
    "\n",
    "A = me.ReferenceFrame('A')\n",
    "B = me.ReferenceFrame('B')\n",
    "\n",
    "B.orient_axis(A, psi, A.z)\n",
    "\n",
    "B.dcm(A)"
   ]
  },
  {
   "cell_type": "code",
   "execution_count": 23,
   "id": "f143d8dc",
   "metadata": {
    "execution": {
     "iopub.execute_input": "2022-03-16T06:31:54.951858Z",
     "iopub.status.busy": "2022-03-16T06:31:54.951459Z",
     "iopub.status.idle": "2022-03-16T06:31:54.962912Z",
     "shell.execute_reply": "2022-03-16T06:31:54.962438Z"
    }
   },
   "outputs": [
    {
     "data": {
      "text/latex": [
       "$\\displaystyle \\left[\\begin{matrix}1 & 0 & 0\\\\0 & \\cos{\\left(\\theta \\right)} & \\sin{\\left(\\theta \\right)}\\\\0 & - \\sin{\\left(\\theta \\right)} & \\cos{\\left(\\theta \\right)}\\end{matrix}\\right]$"
      ],
      "text/plain": [
       "⎡1     0       0   ⎤\n",
       "⎢                  ⎥\n",
       "⎢0  cos(θ)   sin(θ)⎥\n",
       "⎢                  ⎥\n",
       "⎣0  -sin(θ)  cos(θ)⎦"
      ]
     },
     "execution_count": 23,
     "metadata": {},
     "output_type": "execute_result"
    }
   ],
   "source": [
    "theta = sm.symbols('theta')\n",
    "\n",
    "C = me.ReferenceFrame('C')\n",
    "\n",
    "C.orient_axis(B, theta, B.x)\n",
    "\n",
    "C.dcm(B)"
   ]
  },
  {
   "cell_type": "code",
   "execution_count": 24,
   "id": "a91f14bb",
   "metadata": {
    "execution": {
     "iopub.execute_input": "2022-03-16T06:31:54.965526Z",
     "iopub.status.busy": "2022-03-16T06:31:54.965181Z",
     "iopub.status.idle": "2022-03-16T06:31:54.977358Z",
     "shell.execute_reply": "2022-03-16T06:31:54.976882Z"
    }
   },
   "outputs": [
    {
     "data": {
      "text/latex": [
       "$\\displaystyle \\left[\\begin{matrix}\\cos{\\left(\\varphi \\right)} & 0 & - \\sin{\\left(\\varphi \\right)}\\\\0 & 1 & 0\\\\\\sin{\\left(\\varphi \\right)} & 0 & \\cos{\\left(\\varphi \\right)}\\end{matrix}\\right]$"
      ],
      "text/plain": [
       "⎡cos(varphi)  0  -sin(varphi)⎤\n",
       "⎢                            ⎥\n",
       "⎢     0       1       0      ⎥\n",
       "⎢                            ⎥\n",
       "⎣sin(varphi)  0  cos(varphi) ⎦"
      ]
     },
     "execution_count": 24,
     "metadata": {},
     "output_type": "execute_result"
    }
   ],
   "source": [
    "phi = sm.symbols('varphi')\n",
    "\n",
    "D = me.ReferenceFrame('D')\n",
    "\n",
    "D.orient_axis(C, phi, C.y)\n",
    "\n",
    "D.dcm(C)"
   ]
  },
  {
   "cell_type": "code",
   "execution_count": 25,
   "id": "92bc76ee",
   "metadata": {
    "execution": {
     "iopub.execute_input": "2022-03-16T06:31:54.979889Z",
     "iopub.status.busy": "2022-03-16T06:31:54.979408Z",
     "iopub.status.idle": "2022-03-16T06:31:54.999214Z",
     "shell.execute_reply": "2022-03-16T06:31:54.998744Z"
    }
   },
   "outputs": [
    {
     "data": {
      "text/latex": [
       "$\\displaystyle \\left[\\begin{matrix}- \\sin{\\left(\\psi \\right)} \\sin{\\left(\\theta \\right)} \\sin{\\left(\\varphi \\right)} + \\cos{\\left(\\psi \\right)} \\cos{\\left(\\varphi \\right)} & \\sin{\\left(\\psi \\right)} \\cos{\\left(\\varphi \\right)} + \\sin{\\left(\\theta \\right)} \\sin{\\left(\\varphi \\right)} \\cos{\\left(\\psi \\right)} & - \\sin{\\left(\\varphi \\right)} \\cos{\\left(\\theta \\right)}\\\\- \\sin{\\left(\\psi \\right)} \\cos{\\left(\\theta \\right)} & \\cos{\\left(\\psi \\right)} \\cos{\\left(\\theta \\right)} & \\sin{\\left(\\theta \\right)}\\\\\\sin{\\left(\\psi \\right)} \\sin{\\left(\\theta \\right)} \\cos{\\left(\\varphi \\right)} + \\sin{\\left(\\varphi \\right)} \\cos{\\left(\\psi \\right)} & \\sin{\\left(\\psi \\right)} \\sin{\\left(\\varphi \\right)} - \\sin{\\left(\\theta \\right)} \\cos{\\left(\\psi \\right)} \\cos{\\left(\\varphi \\right)} & \\cos{\\left(\\theta \\right)} \\cos{\\left(\\varphi \\right)}\\end{matrix}\\right]$"
      ],
      "text/plain": [
       "⎡-sin(ψ)⋅sin(θ)⋅sin(varphi) + cos(ψ)⋅cos(varphi)  sin(ψ)⋅cos(varphi) + sin(θ)⋅\n",
       "⎢                                                                             \n",
       "⎢                -sin(ψ)⋅cos(θ)                                   cos(ψ)⋅cos(θ\n",
       "⎢                                                                             \n",
       "⎣sin(ψ)⋅sin(θ)⋅cos(varphi) + sin(varphi)⋅cos(ψ)   sin(ψ)⋅sin(varphi) - sin(θ)⋅\n",
       "\n",
       "sin(varphi)⋅cos(ψ)  -sin(varphi)⋅cos(θ)⎤\n",
       "                                       ⎥\n",
       ")                         sin(θ)       ⎥\n",
       "                                       ⎥\n",
       "cos(ψ)⋅cos(varphi)  cos(θ)⋅cos(varphi) ⎦"
      ]
     },
     "execution_count": 25,
     "metadata": {},
     "output_type": "execute_result"
    }
   ],
   "source": [
    "D.dcm(A)"
   ]
  },
  {
   "cell_type": "code",
   "execution_count": 26,
   "id": "15a3ce13",
   "metadata": {
    "execution": {
     "iopub.execute_input": "2022-03-16T06:31:55.001570Z",
     "iopub.status.busy": "2022-03-16T06:31:55.001404Z",
     "iopub.status.idle": "2022-03-16T06:31:55.074424Z",
     "shell.execute_reply": "2022-03-16T06:31:55.073881Z"
    }
   },
   "outputs": [
    {
     "data": {
      "text/latex": [
       "$\\displaystyle \\left[\\begin{matrix}- \\sin{\\left(\\psi \\right)} \\sin{\\left(\\theta \\right)} \\sin{\\left(\\varphi \\right)} + \\cos{\\left(\\psi \\right)} \\cos{\\left(\\varphi \\right)} & \\sin{\\left(\\psi \\right)} \\cos{\\left(\\varphi \\right)} + \\sin{\\left(\\theta \\right)} \\sin{\\left(\\varphi \\right)} \\cos{\\left(\\psi \\right)} & - \\sin{\\left(\\varphi \\right)} \\cos{\\left(\\theta \\right)}\\\\- \\sin{\\left(\\psi \\right)} \\cos{\\left(\\theta \\right)} & \\cos{\\left(\\psi \\right)} \\cos{\\left(\\theta \\right)} & \\sin{\\left(\\theta \\right)}\\\\\\sin{\\left(\\psi \\right)} \\sin{\\left(\\theta \\right)} \\cos{\\left(\\varphi \\right)} + \\sin{\\left(\\varphi \\right)} \\cos{\\left(\\psi \\right)} & \\sin{\\left(\\psi \\right)} \\sin{\\left(\\varphi \\right)} - \\sin{\\left(\\theta \\right)} \\cos{\\left(\\psi \\right)} \\cos{\\left(\\varphi \\right)} & \\cos{\\left(\\theta \\right)} \\cos{\\left(\\varphi \\right)}\\end{matrix}\\right]$"
      ],
      "text/plain": [
       "⎡-sin(ψ)⋅sin(θ)⋅sin(varphi) + cos(ψ)⋅cos(varphi)  sin(ψ)⋅cos(varphi) + sin(θ)⋅\n",
       "⎢                                                                             \n",
       "⎢                -sin(ψ)⋅cos(θ)                                   cos(ψ)⋅cos(θ\n",
       "⎢                                                                             \n",
       "⎣sin(ψ)⋅sin(θ)⋅cos(varphi) + sin(varphi)⋅cos(ψ)   sin(ψ)⋅sin(varphi) - sin(θ)⋅\n",
       "\n",
       "sin(varphi)⋅cos(ψ)  -sin(varphi)⋅cos(θ)⎤\n",
       "                                       ⎥\n",
       ")                         sin(θ)       ⎥\n",
       "                                       ⎥\n",
       "cos(ψ)⋅cos(varphi)  cos(θ)⋅cos(varphi) ⎦"
      ]
     },
     "execution_count": 26,
     "metadata": {},
     "output_type": "execute_result"
    }
   ],
   "source": [
    "A = me.ReferenceFrame('A')\n",
    "D = me.ReferenceFrame('D')\n",
    "\n",
    "D.orient_body_fixed(A, (psi, theta, phi), 'zxy')\n",
    "\n",
    "D.dcm(A)"
   ]
  },
  {
   "cell_type": "code",
   "execution_count": 27,
   "id": "3ef0efa5",
   "metadata": {
    "execution": {
     "iopub.execute_input": "2022-03-16T06:31:55.077416Z",
     "iopub.status.busy": "2022-03-16T06:31:55.077031Z",
     "iopub.status.idle": "2022-03-16T06:31:55.135964Z",
     "shell.execute_reply": "2022-03-16T06:31:55.135399Z"
    }
   },
   "outputs": [
    {
     "data": {
      "text/latex": [
       "$\\displaystyle \\left[\\begin{matrix}- \\sin{\\left(\\psi \\right)} \\sin{\\left(\\varphi \\right)} \\cos{\\left(\\theta \\right)} + \\cos{\\left(\\psi \\right)} \\cos{\\left(\\varphi \\right)} & \\sin{\\left(\\psi \\right)} \\cos{\\left(\\varphi \\right)} + \\sin{\\left(\\varphi \\right)} \\cos{\\left(\\psi \\right)} \\cos{\\left(\\theta \\right)} & \\sin{\\left(\\theta \\right)} \\sin{\\left(\\varphi \\right)}\\\\- \\sin{\\left(\\psi \\right)} \\cos{\\left(\\theta \\right)} \\cos{\\left(\\varphi \\right)} - \\sin{\\left(\\varphi \\right)} \\cos{\\left(\\psi \\right)} & - \\sin{\\left(\\psi \\right)} \\sin{\\left(\\varphi \\right)} + \\cos{\\left(\\psi \\right)} \\cos{\\left(\\theta \\right)} \\cos{\\left(\\varphi \\right)} & \\sin{\\left(\\theta \\right)} \\cos{\\left(\\varphi \\right)}\\\\\\sin{\\left(\\psi \\right)} \\sin{\\left(\\theta \\right)} & - \\sin{\\left(\\theta \\right)} \\cos{\\left(\\psi \\right)} & \\cos{\\left(\\theta \\right)}\\end{matrix}\\right]$"
      ],
      "text/plain": [
       "⎡-sin(ψ)⋅sin(varphi)⋅cos(θ) + cos(ψ)⋅cos(varphi)  sin(ψ)⋅cos(varphi) + sin(var\n",
       "⎢                                                                             \n",
       "⎢-sin(ψ)⋅cos(θ)⋅cos(varphi) - sin(varphi)⋅cos(ψ)  -sin(ψ)⋅sin(varphi) + cos(ψ)\n",
       "⎢                                                                             \n",
       "⎣                 sin(ψ)⋅sin(θ)                                   -sin(θ)⋅cos(\n",
       "\n",
       "phi)⋅cos(ψ)⋅cos(θ)   sin(θ)⋅sin(varphi)⎤\n",
       "                                       ⎥\n",
       "⋅cos(θ)⋅cos(varphi)  sin(θ)⋅cos(varphi)⎥\n",
       "                                       ⎥\n",
       "ψ)                         cos(θ)      ⎦"
      ]
     },
     "execution_count": 27,
     "metadata": {},
     "output_type": "execute_result"
    }
   ],
   "source": [
    "A = me.ReferenceFrame('A')\n",
    "D = me.ReferenceFrame('D')\n",
    "\n",
    "D.orient_body_fixed(A, (psi, theta, phi), 'zxz')\n",
    "\n",
    "D.dcm(A)"
   ]
  }
 ],
 "metadata": {
  "kernelspec": {
   "display_name": "Python 3 (ipykernel)",
   "language": "python",
   "name": "python3"
  },
  "language_info": {
   "codemirror_mode": {
    "name": "ipython",
    "version": 3
   },
   "file_extension": ".py",
   "mimetype": "text/x-python",
   "name": "python",
   "nbconvert_exporter": "python",
   "pygments_lexer": "ipython3",
   "version": "3.9.10"
  }
 },
 "nbformat": 4,
 "nbformat_minor": 5
}