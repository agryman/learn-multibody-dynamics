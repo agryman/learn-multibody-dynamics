{
 "cells": [
  {
   "cell_type": "code",
   "execution_count": 1,
   "id": "2ed424e6",
   "metadata": {
    "execution": {
     "iopub.execute_input": "2022-06-13T06:54:54.089702Z",
     "iopub.status.busy": "2022-06-13T06:54:54.089474Z",
     "iopub.status.idle": "2022-06-13T06:54:54.367683Z",
     "shell.execute_reply": "2022-06-13T06:54:54.367080Z"
    }
   },
   "outputs": [],
   "source": [
    "import sympy as sm\n",
    "sm.init_printing(use_latex='mathjax')"
   ]
  },
  {
   "cell_type": "code",
   "execution_count": 2,
   "id": "6ac15309",
   "metadata": {
    "execution": {
     "iopub.execute_input": "2022-06-13T06:54:54.371082Z",
     "iopub.status.busy": "2022-06-13T06:54:54.370626Z",
     "iopub.status.idle": "2022-06-13T06:54:54.547034Z",
     "shell.execute_reply": "2022-06-13T06:54:54.546461Z"
    }
   },
   "outputs": [
    {
     "data": {
      "text/latex": [
       "$\\displaystyle \\left[\\begin{matrix}\\cos{\\left(\\theta \\right)} & \\sin{\\left(\\theta \\right)} & 0\\\\- \\sin{\\left(\\theta \\right)} & \\cos{\\left(\\theta \\right)} & 0\\\\0 & 0 & 1\\end{matrix}\\right]$"
      ],
      "text/plain": [
       "⎡cos(θ)   sin(θ)  0⎤\n",
       "⎢                  ⎥\n",
       "⎢-sin(θ)  cos(θ)  0⎥\n",
       "⎢                  ⎥\n",
       "⎣   0       0     1⎦"
      ]
     },
     "execution_count": 2,
     "metadata": {},
     "output_type": "execute_result"
    }
   ],
   "source": [
    "theta = sm.symbols('theta')\n",
    "\n",
    "A_C_N = sm.Matrix([[sm.cos(theta), sm.sin(theta), 0],\n",
    "                   [-sm.sin(theta), sm.cos(theta), 0],\n",
    "                   [0, 0, 1]])\n",
    "A_C_N"
   ]
  },
  {
   "cell_type": "code",
   "execution_count": 3,
   "id": "0445dd4e",
   "metadata": {
    "execution": {
     "iopub.execute_input": "2022-06-13T06:54:54.549630Z",
     "iopub.status.busy": "2022-06-13T06:54:54.549208Z",
     "iopub.status.idle": "2022-06-13T06:54:54.643550Z",
     "shell.execute_reply": "2022-06-13T06:54:54.642994Z"
    }
   },
   "outputs": [
    {
     "data": {
      "text/latex": [
       "$\\displaystyle \\left[\\begin{matrix}\\cos{\\left(\\theta \\right)} & - \\sin{\\left(\\theta \\right)} & 0\\\\\\sin{\\left(\\theta \\right)} & \\cos{\\left(\\theta \\right)} & 0\\\\0 & 0 & 1\\end{matrix}\\right]$"
      ],
      "text/plain": [
       "⎡cos(θ)  -sin(θ)  0⎤\n",
       "⎢                  ⎥\n",
       "⎢sin(θ)  cos(θ)   0⎥\n",
       "⎢                  ⎥\n",
       "⎣  0        0     1⎦"
      ]
     },
     "execution_count": 3,
     "metadata": {},
     "output_type": "execute_result"
    }
   ],
   "source": [
    "sm.trigsimp(A_C_N.inv())"
   ]
  },
  {
   "cell_type": "code",
   "execution_count": 4,
   "id": "7585280f",
   "metadata": {
    "execution": {
     "iopub.execute_input": "2022-06-13T06:54:54.646326Z",
     "iopub.status.busy": "2022-06-13T06:54:54.645833Z",
     "iopub.status.idle": "2022-06-13T06:54:54.651578Z",
     "shell.execute_reply": "2022-06-13T06:54:54.651031Z"
    }
   },
   "outputs": [
    {
     "data": {
      "text/latex": [
       "$\\displaystyle \\left[\\begin{matrix}\\cos{\\left(\\theta \\right)} & - \\sin{\\left(\\theta \\right)} & 0\\\\\\sin{\\left(\\theta \\right)} & \\cos{\\left(\\theta \\right)} & 0\\\\0 & 0 & 1\\end{matrix}\\right]$"
      ],
      "text/plain": [
       "⎡cos(θ)  -sin(θ)  0⎤\n",
       "⎢                  ⎥\n",
       "⎢sin(θ)  cos(θ)   0⎥\n",
       "⎢                  ⎥\n",
       "⎣  0        0     1⎦"
      ]
     },
     "execution_count": 4,
     "metadata": {},
     "output_type": "execute_result"
    }
   ],
   "source": [
    "A_C_N.transpose()"
   ]
  },
  {
   "cell_type": "code",
   "execution_count": 5,
   "id": "77ee2131",
   "metadata": {
    "execution": {
     "iopub.execute_input": "2022-06-13T06:54:54.653830Z",
     "iopub.status.busy": "2022-06-13T06:54:54.653638Z",
     "iopub.status.idle": "2022-06-13T06:54:54.659018Z",
     "shell.execute_reply": "2022-06-13T06:54:54.658463Z"
    }
   },
   "outputs": [
    {
     "data": {
      "text/latex": [
       "$\\displaystyle \\left[\\begin{matrix}\\cos{\\left(\\theta \\right)} & \\sin{\\left(\\theta \\right)} & 0\\\\- \\sin{\\left(\\theta \\right)} & \\cos{\\left(\\theta \\right)} & 0\\\\0 & 0 & 1\\end{matrix}\\right]$"
      ],
      "text/plain": [
       "⎡cos(θ)   sin(θ)  0⎤\n",
       "⎢                  ⎥\n",
       "⎢-sin(θ)  cos(θ)  0⎥\n",
       "⎢                  ⎥\n",
       "⎣   0       0     1⎦"
      ]
     },
     "execution_count": 5,
     "metadata": {},
     "output_type": "execute_result"
    }
   ],
   "source": [
    "A_C_N"
   ]
  },
  {
   "cell_type": "code",
   "execution_count": 6,
   "id": "6125f1dc",
   "metadata": {
    "execution": {
     "iopub.execute_input": "2022-06-13T06:54:54.661981Z",
     "iopub.status.busy": "2022-06-13T06:54:54.661519Z",
     "iopub.status.idle": "2022-06-13T06:54:54.668743Z",
     "shell.execute_reply": "2022-06-13T06:54:54.668202Z"
    }
   },
   "outputs": [
    {
     "data": {
      "text/latex": [
       "$\\displaystyle \\left[\\begin{matrix}\\cos{\\left(\\alpha \\right)} & \\sin{\\left(\\alpha \\right)} & 0\\\\- \\sin{\\left(\\alpha \\right)} & \\cos{\\left(\\alpha \\right)} & 0\\\\0 & 0 & 1\\end{matrix}\\right]$"
      ],
      "text/plain": [
       "⎡cos(α)   sin(α)  0⎤\n",
       "⎢                  ⎥\n",
       "⎢-sin(α)  cos(α)  0⎥\n",
       "⎢                  ⎥\n",
       "⎣   0       0     1⎦"
      ]
     },
     "execution_count": 6,
     "metadata": {},
     "output_type": "execute_result"
    }
   ],
   "source": [
    "alpha = sm.symbols('alpha')\n",
    "\n",
    "B_C_A = sm.Matrix([[sm.cos(alpha), sm.sin(alpha), 0],\n",
    "                   [-sm.sin(alpha), sm.cos(alpha), 0],\n",
    "                   [0, 0, 1]])\n",
    "\n",
    "B_C_A"
   ]
  },
  {
   "cell_type": "code",
   "execution_count": 7,
   "id": "6eedac41",
   "metadata": {
    "execution": {
     "iopub.execute_input": "2022-06-13T06:54:54.671559Z",
     "iopub.status.busy": "2022-06-13T06:54:54.671097Z",
     "iopub.status.idle": "2022-06-13T06:54:54.682332Z",
     "shell.execute_reply": "2022-06-13T06:54:54.681798Z"
    }
   },
   "outputs": [
    {
     "data": {
      "text/latex": [
       "$\\displaystyle \\left[\\begin{matrix}- \\sin{\\left(\\alpha \\right)} \\sin{\\left(\\theta \\right)} + \\cos{\\left(\\alpha \\right)} \\cos{\\left(\\theta \\right)} & \\sin{\\left(\\alpha \\right)} \\cos{\\left(\\theta \\right)} + \\sin{\\left(\\theta \\right)} \\cos{\\left(\\alpha \\right)} & 0\\\\- \\sin{\\left(\\alpha \\right)} \\cos{\\left(\\theta \\right)} - \\sin{\\left(\\theta \\right)} \\cos{\\left(\\alpha \\right)} & - \\sin{\\left(\\alpha \\right)} \\sin{\\left(\\theta \\right)} + \\cos{\\left(\\alpha \\right)} \\cos{\\left(\\theta \\right)} & 0\\\\0 & 0 & 1\\end{matrix}\\right]$"
      ],
      "text/plain": [
       "⎡-sin(α)⋅sin(θ) + cos(α)⋅cos(θ)  sin(α)⋅cos(θ) + sin(θ)⋅cos(α)   0⎤\n",
       "⎢                                                                 ⎥\n",
       "⎢-sin(α)⋅cos(θ) - sin(θ)⋅cos(α)  -sin(α)⋅sin(θ) + cos(α)⋅cos(θ)  0⎥\n",
       "⎢                                                                 ⎥\n",
       "⎣              0                               0                 1⎦"
      ]
     },
     "execution_count": 7,
     "metadata": {},
     "output_type": "execute_result"
    }
   ],
   "source": [
    "B_C_N = B_C_A*A_C_N\n",
    "B_C_N"
   ]
  },
  {
   "cell_type": "code",
   "execution_count": 8,
   "id": "a94bb258",
   "metadata": {
    "execution": {
     "iopub.execute_input": "2022-06-13T06:54:54.684879Z",
     "iopub.status.busy": "2022-06-13T06:54:54.684404Z",
     "iopub.status.idle": "2022-06-13T06:54:54.823028Z",
     "shell.execute_reply": "2022-06-13T06:54:54.822406Z"
    }
   },
   "outputs": [
    {
     "data": {
      "text/latex": [
       "$\\displaystyle \\left[\\begin{matrix}\\cos{\\left(\\alpha + \\theta \\right)} & \\sin{\\left(\\alpha + \\theta \\right)} & 0\\\\- \\sin{\\left(\\alpha + \\theta \\right)} & \\cos{\\left(\\alpha + \\theta \\right)} & 0\\\\0 & 0 & 1\\end{matrix}\\right]$"
      ],
      "text/plain": [
       "⎡cos(α + θ)   sin(α + θ)  0⎤\n",
       "⎢                          ⎥\n",
       "⎢-sin(α + θ)  cos(α + θ)  0⎥\n",
       "⎢                          ⎥\n",
       "⎣     0           0       1⎦"
      ]
     },
     "execution_count": 8,
     "metadata": {},
     "output_type": "execute_result"
    }
   ],
   "source": [
    "sm.trigsimp(B_C_N)"
   ]
  },
  {
   "cell_type": "code",
   "execution_count": 9,
   "id": "3c68ac16",
   "metadata": {
    "execution": {
     "iopub.execute_input": "2022-06-13T06:54:54.825660Z",
     "iopub.status.busy": "2022-06-13T06:54:54.825320Z",
     "iopub.status.idle": "2022-06-13T06:54:54.833625Z",
     "shell.execute_reply": "2022-06-13T06:54:54.833076Z"
    }
   },
   "outputs": [],
   "source": [
    "import sympy.physics.mechanics as me"
   ]
  },
  {
   "cell_type": "code",
   "execution_count": 10,
   "id": "67466e86",
   "metadata": {
    "execution": {
     "iopub.execute_input": "2022-06-13T06:54:54.836159Z",
     "iopub.status.busy": "2022-06-13T06:54:54.835942Z",
     "iopub.status.idle": "2022-06-13T06:54:54.839194Z",
     "shell.execute_reply": "2022-06-13T06:54:54.838635Z"
    }
   },
   "outputs": [],
   "source": [
    "N = me.ReferenceFrame('N')"
   ]
  },
  {
   "cell_type": "code",
   "execution_count": 11,
   "id": "84a4b522",
   "metadata": {
    "execution": {
     "iopub.execute_input": "2022-06-13T06:54:54.841666Z",
     "iopub.status.busy": "2022-06-13T06:54:54.841170Z",
     "iopub.status.idle": "2022-06-13T06:54:54.847354Z",
     "shell.execute_reply": "2022-06-13T06:54:54.846820Z"
    }
   },
   "outputs": [
    {
     "data": {
      "text/latex": [
       "$\\displaystyle \\left( \\mathbf{\\hat{n}_x}, \\  \\mathbf{\\hat{n}_y}, \\  \\mathbf{\\hat{n}_z}\\right)$"
      ],
      "text/plain": [
       "(n_x, n_y, n_z)"
      ]
     },
     "execution_count": 11,
     "metadata": {},
     "output_type": "execute_result"
    }
   ],
   "source": [
    "N.x, N.y, N.z"
   ]
  },
  {
   "cell_type": "code",
   "execution_count": 12,
   "id": "cde76084",
   "metadata": {
    "execution": {
     "iopub.execute_input": "2022-06-13T06:54:54.849925Z",
     "iopub.status.busy": "2022-06-13T06:54:54.849618Z",
     "iopub.status.idle": "2022-06-13T06:54:54.856121Z",
     "shell.execute_reply": "2022-06-13T06:54:54.855586Z"
    }
   },
   "outputs": [
    {
     "data": {
      "text/plain": [
       "(N, A, B)"
      ]
     },
     "execution_count": 12,
     "metadata": {},
     "output_type": "execute_result"
    }
   ],
   "source": [
    "A = me.ReferenceFrame('A')\n",
    "B = me.ReferenceFrame('B')\n",
    "\n",
    "N, A, B"
   ]
  },
  {
   "cell_type": "code",
   "execution_count": 13,
   "id": "e312ba43",
   "metadata": {
    "execution": {
     "iopub.execute_input": "2022-06-13T06:54:54.858817Z",
     "iopub.status.busy": "2022-06-13T06:54:54.858377Z",
     "iopub.status.idle": "2022-06-13T06:54:54.865167Z",
     "shell.execute_reply": "2022-06-13T06:54:54.864655Z"
    }
   },
   "outputs": [
    {
     "data": {
      "text/latex": [
       "$\\displaystyle \\left[\\begin{matrix}\\cos{\\left(\\theta \\right)} & \\sin{\\left(\\theta \\right)} & 0\\\\- \\sin{\\left(\\theta \\right)} & \\cos{\\left(\\theta \\right)} & 0\\\\0 & 0 & 1\\end{matrix}\\right]$"
      ],
      "text/plain": [
       "⎡cos(θ)   sin(θ)  0⎤\n",
       "⎢                  ⎥\n",
       "⎢-sin(θ)  cos(θ)  0⎥\n",
       "⎢                  ⎥\n",
       "⎣   0       0     1⎦"
      ]
     },
     "execution_count": 13,
     "metadata": {},
     "output_type": "execute_result"
    }
   ],
   "source": [
    "A_C_N"
   ]
  },
  {
   "cell_type": "code",
   "execution_count": 14,
   "id": "3753929b",
   "metadata": {
    "execution": {
     "iopub.execute_input": "2022-06-13T06:54:54.867875Z",
     "iopub.status.busy": "2022-06-13T06:54:54.867434Z",
     "iopub.status.idle": "2022-06-13T06:54:54.872519Z",
     "shell.execute_reply": "2022-06-13T06:54:54.871992Z"
    }
   },
   "outputs": [],
   "source": [
    "N.orient_explicit(A, A_C_N)"
   ]
  },
  {
   "cell_type": "code",
   "execution_count": 15,
   "id": "b28b452e",
   "metadata": {
    "execution": {
     "iopub.execute_input": "2022-06-13T06:54:54.875114Z",
     "iopub.status.busy": "2022-06-13T06:54:54.874814Z",
     "iopub.status.idle": "2022-06-13T06:54:54.881985Z",
     "shell.execute_reply": "2022-06-13T06:54:54.881486Z"
    }
   },
   "outputs": [
    {
     "data": {
      "text/latex": [
       "$\\displaystyle \\left[\\begin{matrix}\\cos{\\left(\\theta \\right)} & \\sin{\\left(\\theta \\right)} & 0\\\\- \\sin{\\left(\\theta \\right)} & \\cos{\\left(\\theta \\right)} & 0\\\\0 & 0 & 1\\end{matrix}\\right]$"
      ],
      "text/plain": [
       "⎡cos(θ)   sin(θ)  0⎤\n",
       "⎢                  ⎥\n",
       "⎢-sin(θ)  cos(θ)  0⎥\n",
       "⎢                  ⎥\n",
       "⎣   0       0     1⎦"
      ]
     },
     "execution_count": 15,
     "metadata": {},
     "output_type": "execute_result"
    }
   ],
   "source": [
    "A.dcm(N)"
   ]
  },
  {
   "cell_type": "code",
   "execution_count": 16,
   "id": "afb74e1c",
   "metadata": {
    "execution": {
     "iopub.execute_input": "2022-06-13T06:54:54.884643Z",
     "iopub.status.busy": "2022-06-13T06:54:54.884220Z",
     "iopub.status.idle": "2022-06-13T06:54:54.890936Z",
     "shell.execute_reply": "2022-06-13T06:54:54.890391Z"
    }
   },
   "outputs": [],
   "source": [
    "B.orient_axis(A, alpha, A.z)"
   ]
  },
  {
   "cell_type": "code",
   "execution_count": 17,
   "id": "66b37698",
   "metadata": {
    "execution": {
     "iopub.execute_input": "2022-06-13T06:54:54.893266Z",
     "iopub.status.busy": "2022-06-13T06:54:54.892886Z",
     "iopub.status.idle": "2022-06-13T06:54:54.900392Z",
     "shell.execute_reply": "2022-06-13T06:54:54.899855Z"
    }
   },
   "outputs": [
    {
     "data": {
      "text/latex": [
       "$\\displaystyle \\left[\\begin{matrix}\\cos{\\left(\\alpha \\right)} & \\sin{\\left(\\alpha \\right)} & 0\\\\- \\sin{\\left(\\alpha \\right)} & \\cos{\\left(\\alpha \\right)} & 0\\\\0 & 0 & 1\\end{matrix}\\right]$"
      ],
      "text/plain": [
       "⎡cos(α)   sin(α)  0⎤\n",
       "⎢                  ⎥\n",
       "⎢-sin(α)  cos(α)  0⎥\n",
       "⎢                  ⎥\n",
       "⎣   0       0     1⎦"
      ]
     },
     "execution_count": 17,
     "metadata": {},
     "output_type": "execute_result"
    }
   ],
   "source": [
    "B.dcm(A)"
   ]
  },
  {
   "cell_type": "code",
   "execution_count": 18,
   "id": "66275f6b",
   "metadata": {
    "execution": {
     "iopub.execute_input": "2022-06-13T06:54:54.903091Z",
     "iopub.status.busy": "2022-06-13T06:54:54.902788Z",
     "iopub.status.idle": "2022-06-13T06:54:54.909990Z",
     "shell.execute_reply": "2022-06-13T06:54:54.909474Z"
    }
   },
   "outputs": [
    {
     "data": {
      "text/latex": [
       "$\\displaystyle \\left[\\begin{matrix}\\cos{\\left(\\alpha \\right)} & - \\sin{\\left(\\alpha \\right)} & 0\\\\\\sin{\\left(\\alpha \\right)} & \\cos{\\left(\\alpha \\right)} & 0\\\\0 & 0 & 1\\end{matrix}\\right]$"
      ],
      "text/plain": [
       "⎡cos(α)  -sin(α)  0⎤\n",
       "⎢                  ⎥\n",
       "⎢sin(α)  cos(α)   0⎥\n",
       "⎢                  ⎥\n",
       "⎣  0        0     1⎦"
      ]
     },
     "execution_count": 18,
     "metadata": {},
     "output_type": "execute_result"
    }
   ],
   "source": [
    "A.dcm(B)"
   ]
  },
  {
   "cell_type": "code",
   "execution_count": 19,
   "id": "ab250211",
   "metadata": {
    "execution": {
     "iopub.execute_input": "2022-06-13T06:54:54.913317Z",
     "iopub.status.busy": "2022-06-13T06:54:54.912254Z",
     "iopub.status.idle": "2022-06-13T06:54:55.037451Z",
     "shell.execute_reply": "2022-06-13T06:54:55.036873Z"
    }
   },
   "outputs": [
    {
     "data": {
      "text/latex": [
       "$\\displaystyle \\left[\\begin{matrix}\\cos{\\left(\\alpha + \\theta \\right)} & \\sin{\\left(\\alpha + \\theta \\right)} & 0\\\\- \\sin{\\left(\\alpha + \\theta \\right)} & \\cos{\\left(\\alpha + \\theta \\right)} & 0\\\\0 & 0 & 1\\end{matrix}\\right]$"
      ],
      "text/plain": [
       "⎡cos(α + θ)   sin(α + θ)  0⎤\n",
       "⎢                          ⎥\n",
       "⎢-sin(α + θ)  cos(α + θ)  0⎥\n",
       "⎢                          ⎥\n",
       "⎣     0           0       1⎦"
      ]
     },
     "execution_count": 19,
     "metadata": {},
     "output_type": "execute_result"
    }
   ],
   "source": [
    "sm.trigsimp(B.dcm(A)*A.dcm(N))"
   ]
  },
  {
   "cell_type": "code",
   "execution_count": 20,
   "id": "629ac7a3",
   "metadata": {
    "execution": {
     "iopub.execute_input": "2022-06-13T06:54:55.040336Z",
     "iopub.status.busy": "2022-06-13T06:54:55.039996Z",
     "iopub.status.idle": "2022-06-13T06:54:55.164842Z",
     "shell.execute_reply": "2022-06-13T06:54:55.164234Z"
    }
   },
   "outputs": [
    {
     "data": {
      "text/latex": [
       "$\\displaystyle \\left[\\begin{matrix}\\cos{\\left(\\alpha + \\theta \\right)} & \\sin{\\left(\\alpha + \\theta \\right)} & 0\\\\- \\sin{\\left(\\alpha + \\theta \\right)} & \\cos{\\left(\\alpha + \\theta \\right)} & 0\\\\0 & 0 & 1\\end{matrix}\\right]$"
      ],
      "text/plain": [
       "⎡cos(α + θ)   sin(α + θ)  0⎤\n",
       "⎢                          ⎥\n",
       "⎢-sin(α + θ)  cos(α + θ)  0⎥\n",
       "⎢                          ⎥\n",
       "⎣     0           0       1⎦"
      ]
     },
     "execution_count": 20,
     "metadata": {},
     "output_type": "execute_result"
    }
   ],
   "source": [
    "sm.trigsimp(B.dcm(N))"
   ]
  },
  {
   "cell_type": "code",
   "execution_count": 21,
   "id": "24645e90",
   "metadata": {
    "execution": {
     "iopub.execute_input": "2022-06-13T06:54:55.169174Z",
     "iopub.status.busy": "2022-06-13T06:54:55.168642Z",
     "iopub.status.idle": "2022-06-13T06:54:55.208673Z",
     "shell.execute_reply": "2022-06-13T06:54:55.208119Z"
    }
   },
   "outputs": [
    {
     "data": {
      "text/latex": [
       "$\\displaystyle \\cos{\\left(\\alpha + \\theta \\right)}$"
      ],
      "text/plain": [
       "cos(α + θ)"
      ]
     },
     "execution_count": 21,
     "metadata": {},
     "output_type": "execute_result"
    }
   ],
   "source": [
    "sm.trigsimp(me.dot(B.x, N.x))"
   ]
  },
  {
   "cell_type": "code",
   "execution_count": 22,
   "id": "83f4bded",
   "metadata": {
    "execution": {
     "iopub.execute_input": "2022-06-13T06:54:55.211495Z",
     "iopub.status.busy": "2022-06-13T06:54:55.211167Z",
     "iopub.status.idle": "2022-06-13T06:54:55.223153Z",
     "shell.execute_reply": "2022-06-13T06:54:55.222672Z"
    }
   },
   "outputs": [
    {
     "data": {
      "text/latex": [
       "$\\displaystyle \\left[\\begin{matrix}\\cos{\\left(\\psi \\right)} & \\sin{\\left(\\psi \\right)} & 0\\\\- \\sin{\\left(\\psi \\right)} & \\cos{\\left(\\psi \\right)} & 0\\\\0 & 0 & 1\\end{matrix}\\right]$"
      ],
      "text/plain": [
       "⎡cos(ψ)   sin(ψ)  0⎤\n",
       "⎢                  ⎥\n",
       "⎢-sin(ψ)  cos(ψ)  0⎥\n",
       "⎢                  ⎥\n",
       "⎣   0       0     1⎦"
      ]
     },
     "execution_count": 22,
     "metadata": {},
     "output_type": "execute_result"
    }
   ],
   "source": [
    "psi = sm.symbols('psi')\n",
    "\n",
    "A = me.ReferenceFrame('A')\n",
    "B = me.ReferenceFrame('B')\n",
    "\n",
    "B.orient_axis(A, psi, A.z)\n",
    "\n",
    "B.dcm(A)"
   ]
  },
  {
   "cell_type": "code",
   "execution_count": 23,
   "id": "07d5da5c",
   "metadata": {
    "execution": {
     "iopub.execute_input": "2022-06-13T06:54:55.225961Z",
     "iopub.status.busy": "2022-06-13T06:54:55.225646Z",
     "iopub.status.idle": "2022-06-13T06:54:55.235688Z",
     "shell.execute_reply": "2022-06-13T06:54:55.235164Z"
    }
   },
   "outputs": [
    {
     "data": {
      "text/latex": [
       "$\\displaystyle \\left[\\begin{matrix}1 & 0 & 0\\\\0 & \\cos{\\left(\\theta \\right)} & \\sin{\\left(\\theta \\right)}\\\\0 & - \\sin{\\left(\\theta \\right)} & \\cos{\\left(\\theta \\right)}\\end{matrix}\\right]$"
      ],
      "text/plain": [
       "⎡1     0       0   ⎤\n",
       "⎢                  ⎥\n",
       "⎢0  cos(θ)   sin(θ)⎥\n",
       "⎢                  ⎥\n",
       "⎣0  -sin(θ)  cos(θ)⎦"
      ]
     },
     "execution_count": 23,
     "metadata": {},
     "output_type": "execute_result"
    }
   ],
   "source": [
    "theta = sm.symbols('theta')\n",
    "\n",
    "C = me.ReferenceFrame('C')\n",
    "\n",
    "C.orient_axis(B, theta, B.x)\n",
    "\n",
    "C.dcm(B)"
   ]
  },
  {
   "cell_type": "code",
   "execution_count": 24,
   "id": "0ce022da",
   "metadata": {
    "execution": {
     "iopub.execute_input": "2022-06-13T06:54:55.238364Z",
     "iopub.status.busy": "2022-06-13T06:54:55.238055Z",
     "iopub.status.idle": "2022-06-13T06:54:55.249029Z",
     "shell.execute_reply": "2022-06-13T06:54:55.248498Z"
    }
   },
   "outputs": [
    {
     "data": {
      "text/latex": [
       "$\\displaystyle \\left[\\begin{matrix}\\cos{\\left(\\varphi \\right)} & 0 & - \\sin{\\left(\\varphi \\right)}\\\\0 & 1 & 0\\\\\\sin{\\left(\\varphi \\right)} & 0 & \\cos{\\left(\\varphi \\right)}\\end{matrix}\\right]$"
      ],
      "text/plain": [
       "⎡cos(varphi)  0  -sin(varphi)⎤\n",
       "⎢                            ⎥\n",
       "⎢     0       1       0      ⎥\n",
       "⎢                            ⎥\n",
       "⎣sin(varphi)  0  cos(varphi) ⎦"
      ]
     },
     "execution_count": 24,
     "metadata": {},
     "output_type": "execute_result"
    }
   ],
   "source": [
    "phi = sm.symbols('varphi')\n",
    "\n",
    "D = me.ReferenceFrame('D')\n",
    "\n",
    "D.orient_axis(C, phi, C.y)\n",
    "\n",
    "D.dcm(C)"
   ]
  },
  {
   "cell_type": "code",
   "execution_count": 25,
   "id": "3c409ee9",
   "metadata": {
    "execution": {
     "iopub.execute_input": "2022-06-13T06:54:55.252593Z",
     "iopub.status.busy": "2022-06-13T06:54:55.251507Z",
     "iopub.status.idle": "2022-06-13T06:54:55.269910Z",
     "shell.execute_reply": "2022-06-13T06:54:55.269405Z"
    }
   },
   "outputs": [
    {
     "data": {
      "text/latex": [
       "$\\displaystyle \\left[\\begin{matrix}- \\sin{\\left(\\psi \\right)} \\sin{\\left(\\theta \\right)} \\sin{\\left(\\varphi \\right)} + \\cos{\\left(\\psi \\right)} \\cos{\\left(\\varphi \\right)} & \\sin{\\left(\\psi \\right)} \\cos{\\left(\\varphi \\right)} + \\sin{\\left(\\theta \\right)} \\sin{\\left(\\varphi \\right)} \\cos{\\left(\\psi \\right)} & - \\sin{\\left(\\varphi \\right)} \\cos{\\left(\\theta \\right)}\\\\- \\sin{\\left(\\psi \\right)} \\cos{\\left(\\theta \\right)} & \\cos{\\left(\\psi \\right)} \\cos{\\left(\\theta \\right)} & \\sin{\\left(\\theta \\right)}\\\\\\sin{\\left(\\psi \\right)} \\sin{\\left(\\theta \\right)} \\cos{\\left(\\varphi \\right)} + \\sin{\\left(\\varphi \\right)} \\cos{\\left(\\psi \\right)} & \\sin{\\left(\\psi \\right)} \\sin{\\left(\\varphi \\right)} - \\sin{\\left(\\theta \\right)} \\cos{\\left(\\psi \\right)} \\cos{\\left(\\varphi \\right)} & \\cos{\\left(\\theta \\right)} \\cos{\\left(\\varphi \\right)}\\end{matrix}\\right]$"
      ],
      "text/plain": [
       "⎡-sin(ψ)⋅sin(θ)⋅sin(varphi) + cos(ψ)⋅cos(varphi)  sin(ψ)⋅cos(varphi) + sin(θ)⋅\n",
       "⎢                                                                             \n",
       "⎢                -sin(ψ)⋅cos(θ)                                   cos(ψ)⋅cos(θ\n",
       "⎢                                                                             \n",
       "⎣sin(ψ)⋅sin(θ)⋅cos(varphi) + sin(varphi)⋅cos(ψ)   sin(ψ)⋅sin(varphi) - sin(θ)⋅\n",
       "\n",
       "sin(varphi)⋅cos(ψ)  -sin(varphi)⋅cos(θ)⎤\n",
       "                                       ⎥\n",
       ")                         sin(θ)       ⎥\n",
       "                                       ⎥\n",
       "cos(ψ)⋅cos(varphi)  cos(θ)⋅cos(varphi) ⎦"
      ]
     },
     "execution_count": 25,
     "metadata": {},
     "output_type": "execute_result"
    }
   ],
   "source": [
    "D.dcm(A)"
   ]
  },
  {
   "cell_type": "code",
   "execution_count": 26,
   "id": "788dca9c",
   "metadata": {
    "execution": {
     "iopub.execute_input": "2022-06-13T06:54:55.273459Z",
     "iopub.status.busy": "2022-06-13T06:54:55.272397Z",
     "iopub.status.idle": "2022-06-13T06:54:55.336304Z",
     "shell.execute_reply": "2022-06-13T06:54:55.335730Z"
    }
   },
   "outputs": [
    {
     "data": {
      "text/latex": [
       "$\\displaystyle \\left[\\begin{matrix}- \\sin{\\left(\\psi \\right)} \\sin{\\left(\\theta \\right)} \\sin{\\left(\\varphi \\right)} + \\cos{\\left(\\psi \\right)} \\cos{\\left(\\varphi \\right)} & \\sin{\\left(\\psi \\right)} \\cos{\\left(\\varphi \\right)} + \\sin{\\left(\\theta \\right)} \\sin{\\left(\\varphi \\right)} \\cos{\\left(\\psi \\right)} & - \\sin{\\left(\\varphi \\right)} \\cos{\\left(\\theta \\right)}\\\\- \\sin{\\left(\\psi \\right)} \\cos{\\left(\\theta \\right)} & \\cos{\\left(\\psi \\right)} \\cos{\\left(\\theta \\right)} & \\sin{\\left(\\theta \\right)}\\\\\\sin{\\left(\\psi \\right)} \\sin{\\left(\\theta \\right)} \\cos{\\left(\\varphi \\right)} + \\sin{\\left(\\varphi \\right)} \\cos{\\left(\\psi \\right)} & \\sin{\\left(\\psi \\right)} \\sin{\\left(\\varphi \\right)} - \\sin{\\left(\\theta \\right)} \\cos{\\left(\\psi \\right)} \\cos{\\left(\\varphi \\right)} & \\cos{\\left(\\theta \\right)} \\cos{\\left(\\varphi \\right)}\\end{matrix}\\right]$"
      ],
      "text/plain": [
       "⎡-sin(ψ)⋅sin(θ)⋅sin(varphi) + cos(ψ)⋅cos(varphi)  sin(ψ)⋅cos(varphi) + sin(θ)⋅\n",
       "⎢                                                                             \n",
       "⎢                -sin(ψ)⋅cos(θ)                                   cos(ψ)⋅cos(θ\n",
       "⎢                                                                             \n",
       "⎣sin(ψ)⋅sin(θ)⋅cos(varphi) + sin(varphi)⋅cos(ψ)   sin(ψ)⋅sin(varphi) - sin(θ)⋅\n",
       "\n",
       "sin(varphi)⋅cos(ψ)  -sin(varphi)⋅cos(θ)⎤\n",
       "                                       ⎥\n",
       ")                         sin(θ)       ⎥\n",
       "                                       ⎥\n",
       "cos(ψ)⋅cos(varphi)  cos(θ)⋅cos(varphi) ⎦"
      ]
     },
     "execution_count": 26,
     "metadata": {},
     "output_type": "execute_result"
    }
   ],
   "source": [
    "A = me.ReferenceFrame('A')\n",
    "D = me.ReferenceFrame('D')\n",
    "\n",
    "D.orient_body_fixed(A, (psi, theta, phi), 'zxy')\n",
    "\n",
    "D.dcm(A)"
   ]
  },
  {
   "cell_type": "code",
   "execution_count": 27,
   "id": "77d14306",
   "metadata": {
    "execution": {
     "iopub.execute_input": "2022-06-13T06:54:55.339109Z",
     "iopub.status.busy": "2022-06-13T06:54:55.338776Z",
     "iopub.status.idle": "2022-06-13T06:54:55.387732Z",
     "shell.execute_reply": "2022-06-13T06:54:55.387173Z"
    }
   },
   "outputs": [
    {
     "data": {
      "text/latex": [
       "$\\displaystyle \\left[\\begin{matrix}- \\sin{\\left(\\psi \\right)} \\sin{\\left(\\varphi \\right)} \\cos{\\left(\\theta \\right)} + \\cos{\\left(\\psi \\right)} \\cos{\\left(\\varphi \\right)} & \\sin{\\left(\\psi \\right)} \\cos{\\left(\\varphi \\right)} + \\sin{\\left(\\varphi \\right)} \\cos{\\left(\\psi \\right)} \\cos{\\left(\\theta \\right)} & \\sin{\\left(\\theta \\right)} \\sin{\\left(\\varphi \\right)}\\\\- \\sin{\\left(\\psi \\right)} \\cos{\\left(\\theta \\right)} \\cos{\\left(\\varphi \\right)} - \\sin{\\left(\\varphi \\right)} \\cos{\\left(\\psi \\right)} & - \\sin{\\left(\\psi \\right)} \\sin{\\left(\\varphi \\right)} + \\cos{\\left(\\psi \\right)} \\cos{\\left(\\theta \\right)} \\cos{\\left(\\varphi \\right)} & \\sin{\\left(\\theta \\right)} \\cos{\\left(\\varphi \\right)}\\\\\\sin{\\left(\\psi \\right)} \\sin{\\left(\\theta \\right)} & - \\sin{\\left(\\theta \\right)} \\cos{\\left(\\psi \\right)} & \\cos{\\left(\\theta \\right)}\\end{matrix}\\right]$"
      ],
      "text/plain": [
       "⎡-sin(ψ)⋅sin(varphi)⋅cos(θ) + cos(ψ)⋅cos(varphi)  sin(ψ)⋅cos(varphi) + sin(var\n",
       "⎢                                                                             \n",
       "⎢-sin(ψ)⋅cos(θ)⋅cos(varphi) - sin(varphi)⋅cos(ψ)  -sin(ψ)⋅sin(varphi) + cos(ψ)\n",
       "⎢                                                                             \n",
       "⎣                 sin(ψ)⋅sin(θ)                                   -sin(θ)⋅cos(\n",
       "\n",
       "phi)⋅cos(ψ)⋅cos(θ)   sin(θ)⋅sin(varphi)⎤\n",
       "                                       ⎥\n",
       "⋅cos(θ)⋅cos(varphi)  sin(θ)⋅cos(varphi)⎥\n",
       "                                       ⎥\n",
       "ψ)                         cos(θ)      ⎦"
      ]
     },
     "execution_count": 27,
     "metadata": {},
     "output_type": "execute_result"
    }
   ],
   "source": [
    "A = me.ReferenceFrame('A')\n",
    "D = me.ReferenceFrame('D')\n",
    "\n",
    "D.orient_body_fixed(A, (psi, theta, phi), 'zxz')\n",
    "\n",
    "D.dcm(A)"
   ]
  }
 ],
 "metadata": {
  "kernelspec": {
   "display_name": "Python 3 (ipykernel)",
   "language": "python",
   "name": "python3"
  },
  "language_info": {
   "codemirror_mode": {
    "name": "ipython",
    "version": 3
   },
   "file_extension": ".py",
   "mimetype": "text/x-python",
   "name": "python",
   "nbconvert_exporter": "python",
   "pygments_lexer": "ipython3",
   "version": "3.9.13"
  }
 },
 "nbformat": 4,
 "nbformat_minor": 5
}