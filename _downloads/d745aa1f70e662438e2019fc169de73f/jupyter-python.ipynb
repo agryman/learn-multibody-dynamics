{
 "cells": [
  {
   "cell_type": "code",
   "execution_count": 1,
   "id": "d52a1e28",
   "metadata": {
    "execution": {
     "iopub.execute_input": "2022-03-16T06:31:40.353981Z",
     "iopub.status.busy": "2022-03-16T06:31:40.353751Z",
     "iopub.status.idle": "2022-03-16T06:31:40.367582Z",
     "shell.execute_reply": "2022-03-16T06:31:40.367044Z"
    }
   },
   "outputs": [
    {
     "data": {
      "application/json": {
       "cell": {
        "!": "OSMagics",
        "HTML": "Other",
        "SVG": "Other",
        "bash": "Other",
        "capture": "ExecutionMagics",
        "debug": "ExecutionMagics",
        "file": "Other",
        "html": "DisplayMagics",
        "javascript": "DisplayMagics",
        "js": "DisplayMagics",
        "latex": "DisplayMagics",
        "markdown": "DisplayMagics",
        "perl": "Other",
        "prun": "ExecutionMagics",
        "pypy": "Other",
        "python": "Other",
        "python2": "Other",
        "python3": "Other",
        "ruby": "Other",
        "script": "ScriptMagics",
        "sh": "Other",
        "svg": "DisplayMagics",
        "sx": "OSMagics",
        "system": "OSMagics",
        "time": "ExecutionMagics",
        "timeit": "ExecutionMagics",
        "writefile": "OSMagics"
       },
       "line": {
        "alias": "OSMagics",
        "alias_magic": "BasicMagics",
        "autoawait": "AsyncMagics",
        "autocall": "AutoMagics",
        "automagic": "AutoMagics",
        "autosave": "KernelMagics",
        "bookmark": "OSMagics",
        "cat": "Other",
        "cd": "OSMagics",
        "clear": "KernelMagics",
        "colors": "BasicMagics",
        "conda": "PackagingMagics",
        "config": "ConfigMagics",
        "connect_info": "KernelMagics",
        "cp": "Other",
        "debug": "ExecutionMagics",
        "dhist": "OSMagics",
        "dirs": "OSMagics",
        "doctest_mode": "BasicMagics",
        "ed": "Other",
        "edit": "KernelMagics",
        "env": "OSMagics",
        "gui": "BasicMagics",
        "hist": "Other",
        "history": "HistoryMagics",
        "killbgscripts": "ScriptMagics",
        "ldir": "Other",
        "less": "KernelMagics",
        "lf": "Other",
        "lk": "Other",
        "ll": "Other",
        "load": "CodeMagics",
        "load_ext": "ExtensionMagics",
        "loadpy": "CodeMagics",
        "logoff": "LoggingMagics",
        "logon": "LoggingMagics",
        "logstart": "LoggingMagics",
        "logstate": "LoggingMagics",
        "logstop": "LoggingMagics",
        "ls": "Other",
        "lsmagic": "BasicMagics",
        "lx": "Other",
        "macro": "ExecutionMagics",
        "magic": "BasicMagics",
        "man": "KernelMagics",
        "matplotlib": "PylabMagics",
        "mkdir": "Other",
        "more": "KernelMagics",
        "mv": "Other",
        "notebook": "BasicMagics",
        "page": "BasicMagics",
        "pastebin": "CodeMagics",
        "pdb": "ExecutionMagics",
        "pdef": "NamespaceMagics",
        "pdoc": "NamespaceMagics",
        "pfile": "NamespaceMagics",
        "pinfo": "NamespaceMagics",
        "pinfo2": "NamespaceMagics",
        "pip": "PackagingMagics",
        "popd": "OSMagics",
        "pprint": "BasicMagics",
        "precision": "BasicMagics",
        "prun": "ExecutionMagics",
        "psearch": "NamespaceMagics",
        "psource": "NamespaceMagics",
        "pushd": "OSMagics",
        "pwd": "OSMagics",
        "pycat": "OSMagics",
        "pylab": "PylabMagics",
        "qtconsole": "KernelMagics",
        "quickref": "BasicMagics",
        "recall": "HistoryMagics",
        "rehashx": "OSMagics",
        "reload_ext": "ExtensionMagics",
        "rep": "Other",
        "rerun": "HistoryMagics",
        "reset": "NamespaceMagics",
        "reset_selective": "NamespaceMagics",
        "rm": "Other",
        "rmdir": "Other",
        "run": "ExecutionMagics",
        "save": "CodeMagics",
        "sc": "OSMagics",
        "set_env": "OSMagics",
        "store": "StoreMagics",
        "sx": "OSMagics",
        "system": "OSMagics",
        "tb": "ExecutionMagics",
        "time": "ExecutionMagics",
        "timeit": "ExecutionMagics",
        "unalias": "OSMagics",
        "unload_ext": "ExtensionMagics",
        "who": "NamespaceMagics",
        "who_ls": "NamespaceMagics",
        "whos": "NamespaceMagics",
        "xdel": "NamespaceMagics",
        "xmode": "BasicMagics"
       }
      },
      "text/plain": [
       "Available line magics:\n",
       "%alias  %alias_magic  %autoawait  %autocall  %automagic  %autosave  %bookmark  %cat  %cd  %clear  %colors  %conda  %config  %connect_info  %cp  %debug  %dhist  %dirs  %doctest_mode  %ed  %edit  %env  %gui  %hist  %history  %killbgscripts  %ldir  %less  %lf  %lk  %ll  %load  %load_ext  %loadpy  %logoff  %logon  %logstart  %logstate  %logstop  %ls  %lsmagic  %lx  %macro  %magic  %man  %matplotlib  %mkdir  %more  %mv  %notebook  %page  %pastebin  %pdb  %pdef  %pdoc  %pfile  %pinfo  %pinfo2  %pip  %popd  %pprint  %precision  %prun  %psearch  %psource  %pushd  %pwd  %pycat  %pylab  %qtconsole  %quickref  %recall  %rehashx  %reload_ext  %rep  %rerun  %reset  %reset_selective  %rm  %rmdir  %run  %save  %sc  %set_env  %store  %sx  %system  %tb  %time  %timeit  %unalias  %unload_ext  %who  %who_ls  %whos  %xdel  %xmode\n",
       "\n",
       "Available cell magics:\n",
       "%%!  %%HTML  %%SVG  %%bash  %%capture  %%debug  %%file  %%html  %%javascript  %%js  %%latex  %%markdown  %%perl  %%prun  %%pypy  %%python  %%python2  %%python3  %%ruby  %%script  %%sh  %%svg  %%sx  %%system  %%time  %%timeit  %%writefile\n",
       "\n",
       "Automagic is ON, % prefix IS NOT needed for line magics."
      ]
     },
     "execution_count": 1,
     "metadata": {},
     "output_type": "execute_result"
    }
   ],
   "source": [
    "%lsmagic"
   ]
  },
  {
   "cell_type": "code",
   "execution_count": 2,
   "id": "3b8a9f79",
   "metadata": {
    "execution": {
     "iopub.execute_input": "2022-03-16T06:31:40.370772Z",
     "iopub.status.busy": "2022-03-16T06:31:40.370495Z",
     "iopub.status.idle": "2022-03-16T06:31:40.374440Z",
     "shell.execute_reply": "2022-03-16T06:31:40.373898Z"
    }
   },
   "outputs": [
    {
     "name": "stdout",
     "output_type": "stream",
     "text": [
      "Variable   Type    Data/Info\n",
      "----------------------------\n",
      "a          int     5\n"
     ]
    }
   ],
   "source": [
    "a = 5\n",
    "\n",
    "%whos"
   ]
  },
  {
   "cell_type": "code",
   "execution_count": 3,
   "id": "a627f992",
   "metadata": {
    "execution": {
     "iopub.execute_input": "2022-03-16T06:31:40.377805Z",
     "iopub.status.busy": "2022-03-16T06:31:40.377453Z",
     "iopub.status.idle": "2022-03-16T06:31:40.380385Z",
     "shell.execute_reply": "2022-03-16T06:31:40.379729Z"
    }
   },
   "outputs": [],
   "source": [
    "?"
   ]
  },
  {
   "cell_type": "code",
   "execution_count": 4,
   "id": "399b952e",
   "metadata": {
    "execution": {
     "iopub.execute_input": "2022-03-16T06:31:40.382874Z",
     "iopub.status.busy": "2022-03-16T06:31:40.382525Z",
     "iopub.status.idle": "2022-03-16T06:31:40.386799Z",
     "shell.execute_reply": "2022-03-16T06:31:40.386128Z"
    }
   },
   "outputs": [],
   "source": [
    "%quickref"
   ]
  },
  {
   "cell_type": "code",
   "execution_count": 5,
   "id": "3b5efb9d",
   "metadata": {
    "execution": {
     "iopub.execute_input": "2022-03-16T06:31:40.389364Z",
     "iopub.status.busy": "2022-03-16T06:31:40.388948Z",
     "iopub.status.idle": "2022-03-16T06:31:40.436696Z",
     "shell.execute_reply": "2022-03-16T06:31:40.436109Z"
    }
   },
   "outputs": [],
   "source": [
    "round?"
   ]
  },
  {
   "cell_type": "code",
   "execution_count": 6,
   "id": "f332a0c7",
   "metadata": {
    "execution": {
     "iopub.execute_input": "2022-03-16T06:31:40.439561Z",
     "iopub.status.busy": "2022-03-16T06:31:40.439266Z",
     "iopub.status.idle": "2022-03-16T06:31:40.444152Z",
     "shell.execute_reply": "2022-03-16T06:31:40.443627Z"
    }
   },
   "outputs": [
    {
     "data": {
      "text/plain": [
       "(int, float, float, str, str)"
      ]
     },
     "execution_count": 6,
     "metadata": {},
     "output_type": "execute_result"
    }
   ],
   "source": [
    "a = 5\n",
    "b = 5.0\n",
    "c = float(5)\n",
    "d = 'dee'\n",
    "e = 'e'\n",
    "\n",
    "type(a), type(b), type(c), type(d), type(e)"
   ]
  },
  {
   "cell_type": "code",
   "execution_count": 7,
   "id": "4690e893",
   "metadata": {
    "execution": {
     "iopub.execute_input": "2022-03-16T06:31:40.447461Z",
     "iopub.status.busy": "2022-03-16T06:31:40.447301Z",
     "iopub.status.idle": "2022-03-16T06:31:40.451101Z",
     "shell.execute_reply": "2022-03-16T06:31:40.450570Z"
    }
   },
   "outputs": [],
   "source": [
    "empty_list = []\n",
    "\n",
    "string_list = ['lions', 'tigers', 'bears', 'sharks', 'hamsters']\n",
    "\n",
    "int_list = [0, 1, 2, 3, 4]\n",
    "\n",
    "int_list2 = list(range(5,10))\n",
    "\n",
    "list_from_variables = [a,b,c,d,e]\n",
    "\n",
    "list_of_lists = [empty_list,\n",
    "                 string_list,\n",
    "                 list_from_variables,\n",
    "                 int_list,\n",
    "                 int_list2]"
   ]
  },
  {
   "cell_type": "code",
   "execution_count": 8,
   "id": "c39bf0a3",
   "metadata": {
    "execution": {
     "iopub.execute_input": "2022-03-16T06:31:40.453562Z",
     "iopub.status.busy": "2022-03-16T06:31:40.453294Z",
     "iopub.status.idle": "2022-03-16T06:31:40.457002Z",
     "shell.execute_reply": "2022-03-16T06:31:40.456467Z"
    }
   },
   "outputs": [
    {
     "data": {
      "text/plain": [
       "[]"
      ]
     },
     "execution_count": 8,
     "metadata": {},
     "output_type": "execute_result"
    }
   ],
   "source": [
    "empty_list"
   ]
  },
  {
   "cell_type": "code",
   "execution_count": 9,
   "id": "9bc217ab",
   "metadata": {
    "execution": {
     "iopub.execute_input": "2022-03-16T06:31:40.460070Z",
     "iopub.status.busy": "2022-03-16T06:31:40.459722Z",
     "iopub.status.idle": "2022-03-16T06:31:40.463404Z",
     "shell.execute_reply": "2022-03-16T06:31:40.462873Z"
    }
   },
   "outputs": [
    {
     "data": {
      "text/plain": [
       "['lions', 'tigers', 'bears', 'sharks', 'hamsters']"
      ]
     },
     "execution_count": 9,
     "metadata": {},
     "output_type": "execute_result"
    }
   ],
   "source": [
    "string_list"
   ]
  },
  {
   "cell_type": "code",
   "execution_count": 10,
   "id": "4e7852d1",
   "metadata": {
    "execution": {
     "iopub.execute_input": "2022-03-16T06:31:40.466562Z",
     "iopub.status.busy": "2022-03-16T06:31:40.466151Z",
     "iopub.status.idle": "2022-03-16T06:31:40.469845Z",
     "shell.execute_reply": "2022-03-16T06:31:40.469314Z"
    }
   },
   "outputs": [
    {
     "data": {
      "text/plain": [
       "[0, 1, 2, 3, 4]"
      ]
     },
     "execution_count": 10,
     "metadata": {},
     "output_type": "execute_result"
    }
   ],
   "source": [
    "int_list"
   ]
  },
  {
   "cell_type": "code",
   "execution_count": 11,
   "id": "55ffae91",
   "metadata": {
    "execution": {
     "iopub.execute_input": "2022-03-16T06:31:40.472747Z",
     "iopub.status.busy": "2022-03-16T06:31:40.472405Z",
     "iopub.status.idle": "2022-03-16T06:31:40.476029Z",
     "shell.execute_reply": "2022-03-16T06:31:40.475500Z"
    }
   },
   "outputs": [
    {
     "data": {
      "text/plain": [
       "[5, 6, 7, 8, 9]"
      ]
     },
     "execution_count": 11,
     "metadata": {},
     "output_type": "execute_result"
    }
   ],
   "source": [
    "int_list2"
   ]
  },
  {
   "cell_type": "code",
   "execution_count": 12,
   "id": "086f7455",
   "metadata": {
    "execution": {
     "iopub.execute_input": "2022-03-16T06:31:40.479179Z",
     "iopub.status.busy": "2022-03-16T06:31:40.478835Z",
     "iopub.status.idle": "2022-03-16T06:31:40.482486Z",
     "shell.execute_reply": "2022-03-16T06:31:40.481963Z"
    }
   },
   "outputs": [
    {
     "data": {
      "text/plain": [
       "[5, 5.0, 5.0, 'dee', 'e']"
      ]
     },
     "execution_count": 12,
     "metadata": {},
     "output_type": "execute_result"
    }
   ],
   "source": [
    "list_from_variables"
   ]
  },
  {
   "cell_type": "code",
   "execution_count": 13,
   "id": "870d0744",
   "metadata": {
    "execution": {
     "iopub.execute_input": "2022-03-16T06:31:40.485433Z",
     "iopub.status.busy": "2022-03-16T06:31:40.485028Z",
     "iopub.status.idle": "2022-03-16T06:31:40.488947Z",
     "shell.execute_reply": "2022-03-16T06:31:40.488427Z"
    }
   },
   "outputs": [
    {
     "data": {
      "text/plain": [
       "[[],\n",
       " ['lions', 'tigers', 'bears', 'sharks', 'hamsters'],\n",
       " [5, 5.0, 5.0, 'dee', 'e'],\n",
       " [0, 1, 2, 3, 4],\n",
       " [5, 6, 7, 8, 9]]"
      ]
     },
     "execution_count": 13,
     "metadata": {},
     "output_type": "execute_result"
    }
   ],
   "source": [
    "list_of_lists"
   ]
  },
  {
   "cell_type": "code",
   "execution_count": 14,
   "id": "f5c1b8db",
   "metadata": {
    "execution": {
     "iopub.execute_input": "2022-03-16T06:31:40.491850Z",
     "iopub.status.busy": "2022-03-16T06:31:40.491518Z",
     "iopub.status.idle": "2022-03-16T06:31:40.495078Z",
     "shell.execute_reply": "2022-03-16T06:31:40.494548Z"
    }
   },
   "outputs": [
    {
     "data": {
      "text/plain": [
       "'lions'"
      ]
     },
     "execution_count": 14,
     "metadata": {},
     "output_type": "execute_result"
    }
   ],
   "source": [
    "string_list[0]"
   ]
  },
  {
   "cell_type": "code",
   "execution_count": 15,
   "id": "9a5985b2",
   "metadata": {
    "execution": {
     "iopub.execute_input": "2022-03-16T06:31:40.497942Z",
     "iopub.status.busy": "2022-03-16T06:31:40.497599Z",
     "iopub.status.idle": "2022-03-16T06:31:40.501235Z",
     "shell.execute_reply": "2022-03-16T06:31:40.500715Z"
    }
   },
   "outputs": [
    {
     "data": {
      "text/plain": [
       "['tigers', 'bears', 'sharks']"
      ]
     },
     "execution_count": 15,
     "metadata": {},
     "output_type": "execute_result"
    }
   ],
   "source": [
    "string_list[1:4]"
   ]
  },
  {
   "cell_type": "code",
   "execution_count": 16,
   "id": "9e936ce0",
   "metadata": {
    "execution": {
     "iopub.execute_input": "2022-03-16T06:31:40.504166Z",
     "iopub.status.busy": "2022-03-16T06:31:40.503759Z",
     "iopub.status.idle": "2022-03-16T06:31:40.507445Z",
     "shell.execute_reply": "2022-03-16T06:31:40.506916Z"
    }
   },
   "outputs": [
    {
     "data": {
      "text/plain": [
       "[0, 2, 4]"
      ]
     },
     "execution_count": 16,
     "metadata": {},
     "output_type": "execute_result"
    }
   ],
   "source": [
    "int_list[::2]"
   ]
  },
  {
   "cell_type": "code",
   "execution_count": 17,
   "id": "71e4a7da",
   "metadata": {
    "execution": {
     "iopub.execute_input": "2022-03-16T06:31:40.510288Z",
     "iopub.status.busy": "2022-03-16T06:31:40.509946Z",
     "iopub.status.idle": "2022-03-16T06:31:40.513548Z",
     "shell.execute_reply": "2022-03-16T06:31:40.513028Z"
    }
   },
   "outputs": [
    {
     "data": {
      "text/plain": [
       "'hamsters'"
      ]
     },
     "execution_count": 17,
     "metadata": {},
     "output_type": "execute_result"
    }
   ],
   "source": [
    "list_of_lists[1][4]"
   ]
  },
  {
   "cell_type": "code",
   "execution_count": 18,
   "id": "b8560e9e",
   "metadata": {
    "execution": {
     "iopub.execute_input": "2022-03-16T06:31:40.516409Z",
     "iopub.status.busy": "2022-03-16T06:31:40.516068Z",
     "iopub.status.idle": "2022-03-16T06:31:40.519106Z",
     "shell.execute_reply": "2022-03-16T06:31:40.518600Z"
    }
   },
   "outputs": [],
   "source": [
    "int_list[2] = 222\n",
    "\n",
    "int_list.append(5)\n",
    "\n",
    "string_list.remove('lions')\n",
    "\n",
    "list_from_variables.extend(int_list)"
   ]
  },
  {
   "cell_type": "code",
   "execution_count": 19,
   "id": "439a4e9f",
   "metadata": {
    "execution": {
     "iopub.execute_input": "2022-03-16T06:31:40.521654Z",
     "iopub.status.busy": "2022-03-16T06:31:40.521179Z",
     "iopub.status.idle": "2022-03-16T06:31:40.524905Z",
     "shell.execute_reply": "2022-03-16T06:31:40.524385Z"
    }
   },
   "outputs": [
    {
     "data": {
      "text/plain": [
       "[0, 1, 222, 3, 4, 5]"
      ]
     },
     "execution_count": 19,
     "metadata": {},
     "output_type": "execute_result"
    }
   ],
   "source": [
    "int_list"
   ]
  },
  {
   "cell_type": "code",
   "execution_count": 20,
   "id": "b9b2d26e",
   "metadata": {
    "execution": {
     "iopub.execute_input": "2022-03-16T06:31:40.527433Z",
     "iopub.status.busy": "2022-03-16T06:31:40.527085Z",
     "iopub.status.idle": "2022-03-16T06:31:40.530696Z",
     "shell.execute_reply": "2022-03-16T06:31:40.530177Z"
    }
   },
   "outputs": [
    {
     "data": {
      "text/plain": [
       "['tigers', 'bears', 'sharks', 'hamsters']"
      ]
     },
     "execution_count": 20,
     "metadata": {},
     "output_type": "execute_result"
    }
   ],
   "source": [
    "string_list"
   ]
  },
  {
   "cell_type": "code",
   "execution_count": 21,
   "id": "b7c71c08",
   "metadata": {
    "execution": {
     "iopub.execute_input": "2022-03-16T06:31:40.533579Z",
     "iopub.status.busy": "2022-03-16T06:31:40.533235Z",
     "iopub.status.idle": "2022-03-16T06:31:40.536900Z",
     "shell.execute_reply": "2022-03-16T06:31:40.536385Z"
    }
   },
   "outputs": [
    {
     "data": {
      "text/plain": [
       "[5, 5.0, 5.0, 'dee', 'e', 0, 1, 222, 3, 4, 5]"
      ]
     },
     "execution_count": 21,
     "metadata": {},
     "output_type": "execute_result"
    }
   ],
   "source": [
    "list_from_variables"
   ]
  },
  {
   "cell_type": "code",
   "execution_count": 22,
   "id": "a759bcf1",
   "metadata": {
    "execution": {
     "iopub.execute_input": "2022-03-16T06:31:40.539809Z",
     "iopub.status.busy": "2022-03-16T06:31:40.539466Z",
     "iopub.status.idle": "2022-03-16T06:31:40.543232Z",
     "shell.execute_reply": "2022-03-16T06:31:40.542703Z"
    }
   },
   "outputs": [
    {
     "data": {
      "text/plain": [
       "(32, 'tall', 'likes hats')"
      ]
     },
     "execution_count": 22,
     "metadata": {},
     "output_type": "execute_result"
    }
   ],
   "source": [
    "joe_blow = (32, 'tall', 'likes hats')\n",
    "joe_blow"
   ]
  },
  {
   "cell_type": "code",
   "execution_count": 23,
   "id": "979bc9b8",
   "metadata": {
    "execution": {
     "iopub.execute_input": "2022-03-16T06:31:40.546109Z",
     "iopub.status.busy": "2022-03-16T06:31:40.545769Z",
     "iopub.status.idle": "2022-03-16T06:31:40.549327Z",
     "shell.execute_reply": "2022-03-16T06:31:40.548907Z"
    }
   },
   "outputs": [
    {
     "data": {
      "text/plain": [
       "'tall'"
      ]
     },
     "execution_count": 23,
     "metadata": {},
     "output_type": "execute_result"
    }
   ],
   "source": [
    "joe_blow[1]"
   ]
  },
  {
   "cell_type": "code",
   "execution_count": 24,
   "id": "3b173994",
   "metadata": {
    "execution": {
     "iopub.execute_input": "2022-03-16T06:31:40.551690Z",
     "iopub.status.busy": "2022-03-16T06:31:40.551347Z",
     "iopub.status.idle": "2022-03-16T06:31:41.005672Z",
     "shell.execute_reply": "2022-03-16T06:31:41.005052Z"
    }
   },
   "outputs": [
    {
     "ename": "AttributeError",
     "evalue": "'tuple' object has no attribute 'append'",
     "output_type": "error",
     "traceback": [
      "\u001b[0;31m---------------------------------------------------------------------------\u001b[0m",
      "\u001b[0;31mAttributeError\u001b[0m                            Traceback (most recent call last)",
      "Input \u001b[0;32mIn [24]\u001b[0m, in \u001b[0;36m<cell line: 1>\u001b[0;34m()\u001b[0m\n\u001b[0;32m----> 1\u001b[0m \u001b[43mjoe_blow\u001b[49m\u001b[38;5;241;43m.\u001b[39;49m\u001b[43mappend\u001b[49m(\u001b[38;5;124m'\u001b[39m\u001b[38;5;124mmarried\u001b[39m\u001b[38;5;124m'\u001b[39m)\n",
      "\u001b[0;31mAttributeError\u001b[0m: 'tuple' object has no attribute 'append'"
     ]
    }
   ],
   "source": [
    "joe_blow.append('married')"
   ]
  },
  {
   "cell_type": "code",
   "execution_count": 25,
   "id": "e28b2ffb",
   "metadata": {
    "execution": {
     "iopub.execute_input": "2022-03-16T06:31:41.008504Z",
     "iopub.status.busy": "2022-03-16T06:31:41.008192Z",
     "iopub.status.idle": "2022-03-16T06:31:41.021838Z",
     "shell.execute_reply": "2022-03-16T06:31:41.021298Z"
    }
   },
   "outputs": [
    {
     "ename": "TypeError",
     "evalue": "'tuple' object does not support item assignment",
     "output_type": "error",
     "traceback": [
      "\u001b[0;31m---------------------------------------------------------------------------\u001b[0m",
      "\u001b[0;31mTypeError\u001b[0m                                 Traceback (most recent call last)",
      "Input \u001b[0;32mIn [25]\u001b[0m, in \u001b[0;36m<cell line: 1>\u001b[0;34m()\u001b[0m\n\u001b[0;32m----> 1\u001b[0m joe_blow[\u001b[38;5;241m2\u001b[39m] \u001b[38;5;241m=\u001b[39m \u001b[38;5;124m'\u001b[39m\u001b[38;5;124mnot really a fan of hats\u001b[39m\u001b[38;5;124m'\u001b[39m\n",
      "\u001b[0;31mTypeError\u001b[0m: 'tuple' object does not support item assignment"
     ]
    }
   ],
   "source": [
    "joe_blow[2] = 'not really a fan of hats'"
   ]
  },
  {
   "cell_type": "code",
   "execution_count": 26,
   "id": "f3c080de",
   "metadata": {
    "execution": {
     "iopub.execute_input": "2022-03-16T06:31:41.024444Z",
     "iopub.status.busy": "2022-03-16T06:31:41.024090Z",
     "iopub.status.idle": "2022-03-16T06:31:41.028024Z",
     "shell.execute_reply": "2022-03-16T06:31:41.027656Z"
    }
   },
   "outputs": [
    {
     "data": {
      "text/plain": [
       "'elephant'"
      ]
     },
     "execution_count": 26,
     "metadata": {},
     "output_type": "execute_result"
    }
   ],
   "source": [
    "pets = ('elephant', 'cow', 'rock')\n",
    "\n",
    "pet1, pet2, pet3 = pets\n",
    "\n",
    "pet1"
   ]
  },
  {
   "cell_type": "code",
   "execution_count": 27,
   "id": "88522267",
   "metadata": {
    "execution": {
     "iopub.execute_input": "2022-03-16T06:31:41.030421Z",
     "iopub.status.busy": "2022-03-16T06:31:41.030073Z",
     "iopub.status.idle": "2022-03-16T06:31:41.034000Z",
     "shell.execute_reply": "2022-03-16T06:31:41.033475Z"
    }
   },
   "outputs": [
    {
     "data": {
      "text/plain": [
       "('elephant',)"
      ]
     },
     "execution_count": 27,
     "metadata": {},
     "output_type": "execute_result"
    }
   ],
   "source": [
    "tuple_with_one_item = pet1,\n",
    "\n",
    "tuple_with_one_item"
   ]
  },
  {
   "cell_type": "code",
   "execution_count": 28,
   "id": "086e9bc4",
   "metadata": {
    "execution": {
     "iopub.execute_input": "2022-03-16T06:31:41.036853Z",
     "iopub.status.busy": "2022-03-16T06:31:41.036588Z",
     "iopub.status.idle": "2022-03-16T06:31:41.040683Z",
     "shell.execute_reply": "2022-03-16T06:31:41.040140Z"
    }
   },
   "outputs": [
    {
     "data": {
      "text/plain": [
       "{'key1': 'value1', 'key2': 'value2', 'key3': 'value3'}"
      ]
     },
     "execution_count": 28,
     "metadata": {},
     "output_type": "execute_result"
    }
   ],
   "source": [
    "dictionary0 = {'key1': 'value1', 'key2': 'value2', 'key3': 'value3'}\n",
    "dictionary0"
   ]
  },
  {
   "cell_type": "code",
   "execution_count": 29,
   "id": "6fd09343",
   "metadata": {
    "execution": {
     "iopub.execute_input": "2022-03-16T06:31:41.043594Z",
     "iopub.status.busy": "2022-03-16T06:31:41.043250Z",
     "iopub.status.idle": "2022-03-16T06:31:41.047240Z",
     "shell.execute_reply": "2022-03-16T06:31:41.046725Z"
    }
   },
   "outputs": [
    {
     "data": {
      "text/plain": [
       "{1: 'value1', 2: 'value2', 3: 'value3'}"
      ]
     },
     "execution_count": 29,
     "metadata": {},
     "output_type": "execute_result"
    }
   ],
   "source": [
    "dictionary1 = {1: 'value1', 2: 'value2', 3: 'value3'}\n",
    "dictionary1"
   ]
  },
  {
   "cell_type": "code",
   "execution_count": 30,
   "id": "2f709532",
   "metadata": {
    "execution": {
     "iopub.execute_input": "2022-03-16T06:31:41.050194Z",
     "iopub.status.busy": "2022-03-16T06:31:41.049782Z",
     "iopub.status.idle": "2022-03-16T06:31:41.053598Z",
     "shell.execute_reply": "2022-03-16T06:31:41.053075Z"
    }
   },
   "outputs": [
    {
     "data": {
      "text/plain": [
       "[1, 2, 3]"
      ]
     },
     "execution_count": 30,
     "metadata": {},
     "output_type": "execute_result"
    }
   ],
   "source": [
    "list(dictionary1.keys())"
   ]
  },
  {
   "cell_type": "code",
   "execution_count": 31,
   "id": "0f0f6a77",
   "metadata": {
    "execution": {
     "iopub.execute_input": "2022-03-16T06:31:41.056329Z",
     "iopub.status.busy": "2022-03-16T06:31:41.056050Z",
     "iopub.status.idle": "2022-03-16T06:31:41.059868Z",
     "shell.execute_reply": "2022-03-16T06:31:41.059358Z"
    }
   },
   "outputs": [
    {
     "data": {
      "text/plain": [
       "['value1', 'value2', 'value3']"
      ]
     },
     "execution_count": 31,
     "metadata": {},
     "output_type": "execute_result"
    }
   ],
   "source": [
    "list(dictionary1.values())"
   ]
  },
  {
   "cell_type": "code",
   "execution_count": 32,
   "id": "5c4c6cea",
   "metadata": {
    "execution": {
     "iopub.execute_input": "2022-03-16T06:31:41.062786Z",
     "iopub.status.busy": "2022-03-16T06:31:41.062436Z",
     "iopub.status.idle": "2022-03-16T06:31:41.066397Z",
     "shell.execute_reply": "2022-03-16T06:31:41.065876Z"
    }
   },
   "outputs": [
    {
     "data": {
      "text/plain": [
       "50"
      ]
     },
     "execution_count": 32,
     "metadata": {},
     "output_type": "execute_result"
    }
   ],
   "source": [
    "cylinder = {'mass': 50, 'base': 10, 'height': 100}\n",
    "cylinder['mass']"
   ]
  },
  {
   "cell_type": "code",
   "execution_count": 33,
   "id": "4ecb5824",
   "metadata": {
    "execution": {
     "iopub.execute_input": "2022-03-16T06:31:41.069267Z",
     "iopub.status.busy": "2022-03-16T06:31:41.068912Z",
     "iopub.status.idle": "2022-03-16T06:31:41.073224Z",
     "shell.execute_reply": "2022-03-16T06:31:41.072715Z"
    }
   },
   "outputs": [
    {
     "data": {
      "text/plain": [
       "{'mass01': 10, 'inertia01': 1, 'mass02': 50, 'inertia02': 5}"
      ]
     },
     "execution_count": 33,
     "metadata": {},
     "output_type": "execute_result"
    }
   ],
   "source": [
    "keys = ['mass01', 'inertia01', 'mass02', 'inertia02']\n",
    "values = [10, 1, 50, 5]\n",
    "dict(zip(keys, values))"
   ]
  },
  {
   "cell_type": "code",
   "execution_count": 34,
   "id": "206ba129",
   "metadata": {
    "execution": {
     "iopub.execute_input": "2022-03-16T06:31:41.076110Z",
     "iopub.status.busy": "2022-03-16T06:31:41.075760Z",
     "iopub.status.idle": "2022-03-16T06:31:41.079884Z",
     "shell.execute_reply": "2022-03-16T06:31:41.079373Z"
    }
   },
   "outputs": [
    {
     "data": {
      "text/plain": [
       "100"
      ]
     },
     "execution_count": 34,
     "metadata": {},
     "output_type": "execute_result"
    }
   ],
   "source": [
    "def abs_value(A):\n",
    "    if A < 0:\n",
    "        A = -A\n",
    "    return A\n",
    "\n",
    "abs_value(-100)"
   ]
  },
  {
   "cell_type": "code",
   "execution_count": 35,
   "id": "cc8f188c",
   "metadata": {
    "execution": {
     "iopub.execute_input": "2022-03-16T06:31:41.082771Z",
     "iopub.status.busy": "2022-03-16T06:31:41.082356Z",
     "iopub.status.idle": "2022-03-16T06:31:41.085956Z",
     "shell.execute_reply": "2022-03-16T06:31:41.085450Z"
    }
   },
   "outputs": [
    {
     "data": {
      "text/plain": [
       "123"
      ]
     },
     "execution_count": 35,
     "metadata": {},
     "output_type": "execute_result"
    }
   ],
   "source": [
    "abs_value(123)"
   ]
  },
  {
   "cell_type": "code",
   "execution_count": 36,
   "id": "eed09154",
   "metadata": {
    "execution": {
     "iopub.execute_input": "2022-03-16T06:31:41.088770Z",
     "iopub.status.busy": "2022-03-16T06:31:41.088425Z",
     "iopub.status.idle": "2022-03-16T06:31:41.091417Z",
     "shell.execute_reply": "2022-03-16T06:31:41.090883Z"
    }
   },
   "outputs": [],
   "source": [
    "def long_div(dividend, divisor):\n",
    "    quotient = dividend // divisor  # // : floor division\n",
    "    remainder = dividend % divisor  # % : modulo\n",
    "    return quotient, remainder"
   ]
  },
  {
   "cell_type": "code",
   "execution_count": 37,
   "id": "fabc2e30",
   "metadata": {
    "execution": {
     "iopub.execute_input": "2022-03-16T06:31:41.093874Z",
     "iopub.status.busy": "2022-03-16T06:31:41.093459Z",
     "iopub.status.idle": "2022-03-16T06:31:41.097498Z",
     "shell.execute_reply": "2022-03-16T06:31:41.096968Z"
    }
   },
   "outputs": [
    {
     "data": {
      "text/plain": [
       "(17, 5)"
      ]
     },
     "execution_count": 37,
     "metadata": {},
     "output_type": "execute_result"
    }
   ],
   "source": [
    "a = 430\n",
    "b = 25\n",
    "\n",
    "quo, rem = long_div(a, b)\n",
    "\n",
    "quo, rem"
   ]
  },
  {
   "cell_type": "code",
   "execution_count": 38,
   "id": "b03e961f",
   "metadata": {
    "execution": {
     "iopub.execute_input": "2022-03-16T06:31:41.100373Z",
     "iopub.status.busy": "2022-03-16T06:31:41.099948Z",
     "iopub.status.idle": "2022-03-16T06:31:41.103216Z",
     "shell.execute_reply": "2022-03-16T06:31:41.102681Z"
    }
   },
   "outputs": [
    {
     "name": "stdout",
     "output_type": "stream",
     "text": [
      "430 divided 25 is 17 remainder 5\n"
     ]
    }
   ],
   "source": [
    "msg = '{} divided {} is {} remainder {}'.format(a, b, quo, rem)\n",
    "print(msg)"
   ]
  },
  {
   "cell_type": "code",
   "execution_count": 39,
   "id": "d3907252",
   "metadata": {
    "execution": {
     "iopub.execute_input": "2022-03-16T06:31:41.106203Z",
     "iopub.status.busy": "2022-03-16T06:31:41.105864Z",
     "iopub.status.idle": "2022-03-16T06:31:41.108890Z",
     "shell.execute_reply": "2022-03-16T06:31:41.108357Z"
    }
   },
   "outputs": [
    {
     "name": "stdout",
     "output_type": "stream",
     "text": [
      "3.9.10 (main, Feb  3 2022, 07:33:39) \n",
      "[GCC 9.3.0]\n"
     ]
    }
   ],
   "source": [
    "import sys\n",
    "\n",
    "print(sys.version)"
   ]
  },
  {
   "cell_type": "code",
   "execution_count": 40,
   "id": "2936aa4d",
   "metadata": {
    "execution": {
     "iopub.execute_input": "2022-03-16T06:31:41.111902Z",
     "iopub.status.busy": "2022-03-16T06:31:41.111557Z",
     "iopub.status.idle": "2022-03-16T06:31:41.114632Z",
     "shell.execute_reply": "2022-03-16T06:31:41.114092Z"
    }
   },
   "outputs": [
    {
     "name": "stdout",
     "output_type": "stream",
     "text": [
      "3.9.10 (main, Feb  3 2022, 07:33:39) \n",
      "[GCC 9.3.0]\n"
     ]
    }
   ],
   "source": [
    "from sys import version\n",
    "\n",
    "print(version)"
   ]
  },
  {
   "cell_type": "code",
   "execution_count": 41,
   "id": "43084acd",
   "metadata": {
    "execution": {
     "iopub.execute_input": "2022-03-16T06:31:41.117682Z",
     "iopub.status.busy": "2022-03-16T06:31:41.117335Z",
     "iopub.status.idle": "2022-03-16T06:31:42.192614Z",
     "shell.execute_reply": "2022-03-16T06:31:42.192035Z"
    }
   },
   "outputs": [],
   "source": [
    "import sympy as sm\n",
    "import numpy as np\n",
    "import scipy as sp\n",
    "import matplotlib.pyplot as plt"
   ]
  },
  {
   "cell_type": "code",
   "execution_count": 42,
   "id": "9bfa07ee",
   "metadata": {
    "execution": {
     "iopub.execute_input": "2022-03-16T06:31:42.195503Z",
     "iopub.status.busy": "2022-03-16T06:31:42.195207Z",
     "iopub.status.idle": "2022-03-16T06:31:42.200088Z",
     "shell.execute_reply": "2022-03-16T06:31:42.199704Z"
    }
   },
   "outputs": [
    {
     "data": {
      "text/latex": [
       "$\\displaystyle 0.843853958732492$"
      ],
      "text/plain": [
       "0.843853958732492"
      ]
     },
     "execution_count": 42,
     "metadata": {},
     "output_type": "execute_result"
    }
   ],
   "source": [
    "sm.cos(12.0)"
   ]
  },
  {
   "cell_type": "code",
   "execution_count": 43,
   "id": "a62ef2c8",
   "metadata": {
    "execution": {
     "iopub.execute_input": "2022-03-16T06:31:42.202519Z",
     "iopub.status.busy": "2022-03-16T06:31:42.202248Z",
     "iopub.status.idle": "2022-03-16T06:31:42.207865Z",
     "shell.execute_reply": "2022-03-16T06:31:42.207404Z"
    }
   },
   "outputs": [
    {
     "data": {
      "text/plain": [
       "0.8438539587324921"
      ]
     },
     "execution_count": 43,
     "metadata": {},
     "output_type": "execute_result"
    }
   ],
   "source": [
    "np.cos(12.0)"
   ]
  },
  {
   "cell_type": "code",
   "execution_count": 44,
   "id": "416f7b83",
   "metadata": {
    "execution": {
     "iopub.execute_input": "2022-03-16T06:31:42.210485Z",
     "iopub.status.busy": "2022-03-16T06:31:42.210087Z",
     "iopub.status.idle": "2022-03-16T06:31:42.216573Z",
     "shell.execute_reply": "2022-03-16T06:31:42.216074Z"
    }
   },
   "outputs": [
    {
     "name": "stderr",
     "output_type": "stream",
     "text": [
      "/tmp/ipykernel_2363/3139199006.py:1: DeprecationWarning: scipy.cos is deprecated and will be removed in SciPy 2.0.0, use numpy.cos instead\n",
      "  sp.cos(12.0)\n"
     ]
    },
    {
     "data": {
      "text/plain": [
       "0.8438539587324921"
      ]
     },
     "execution_count": 44,
     "metadata": {},
     "output_type": "execute_result"
    }
   ],
   "source": [
    "sp.cos(12.0)"
   ]
  }
 ],
 "metadata": {
  "kernelspec": {
   "display_name": "Python 3 (ipykernel)",
   "language": "python",
   "name": "python3"
  },
  "language_info": {
   "codemirror_mode": {
    "name": "ipython",
    "version": 3
   },
   "file_extension": ".py",
   "mimetype": "text/x-python",
   "name": "python",
   "nbconvert_exporter": "python",
   "pygments_lexer": "ipython3",
   "version": "3.9.10"
  }
 },
 "nbformat": 4,
 "nbformat_minor": 5
}