{
 "cells": [
  {
   "cell_type": "code",
   "execution_count": 1,
   "id": "dd485bec",
   "metadata": {
    "execution": {
     "iopub.execute_input": "2022-06-13T06:53:58.460006Z",
     "iopub.status.busy": "2022-06-13T06:53:58.459657Z",
     "iopub.status.idle": "2022-06-13T06:53:58.471569Z",
     "shell.execute_reply": "2022-06-13T06:53:58.471006Z"
    }
   },
   "outputs": [
    {
     "data": {
      "application/json": {
       "cell": {
        "!": "OSMagics",
        "HTML": "Other",
        "SVG": "Other",
        "bash": "Other",
        "capture": "ExecutionMagics",
        "debug": "ExecutionMagics",
        "file": "Other",
        "html": "DisplayMagics",
        "javascript": "DisplayMagics",
        "js": "DisplayMagics",
        "latex": "DisplayMagics",
        "markdown": "DisplayMagics",
        "perl": "Other",
        "prun": "ExecutionMagics",
        "pypy": "Other",
        "python": "Other",
        "python2": "Other",
        "python3": "Other",
        "ruby": "Other",
        "script": "ScriptMagics",
        "sh": "Other",
        "svg": "DisplayMagics",
        "sx": "OSMagics",
        "system": "OSMagics",
        "time": "ExecutionMagics",
        "timeit": "ExecutionMagics",
        "writefile": "OSMagics"
       },
       "line": {
        "alias": "OSMagics",
        "alias_magic": "BasicMagics",
        "autoawait": "AsyncMagics",
        "autocall": "AutoMagics",
        "automagic": "AutoMagics",
        "autosave": "KernelMagics",
        "bookmark": "OSMagics",
        "cat": "Other",
        "cd": "OSMagics",
        "clear": "KernelMagics",
        "colors": "BasicMagics",
        "conda": "PackagingMagics",
        "config": "ConfigMagics",
        "connect_info": "KernelMagics",
        "cp": "Other",
        "debug": "ExecutionMagics",
        "dhist": "OSMagics",
        "dirs": "OSMagics",
        "doctest_mode": "BasicMagics",
        "ed": "Other",
        "edit": "KernelMagics",
        "env": "OSMagics",
        "gui": "BasicMagics",
        "hist": "Other",
        "history": "HistoryMagics",
        "killbgscripts": "ScriptMagics",
        "ldir": "Other",
        "less": "KernelMagics",
        "lf": "Other",
        "lk": "Other",
        "ll": "Other",
        "load": "CodeMagics",
        "load_ext": "ExtensionMagics",
        "loadpy": "CodeMagics",
        "logoff": "LoggingMagics",
        "logon": "LoggingMagics",
        "logstart": "LoggingMagics",
        "logstate": "LoggingMagics",
        "logstop": "LoggingMagics",
        "ls": "Other",
        "lsmagic": "BasicMagics",
        "lx": "Other",
        "macro": "ExecutionMagics",
        "magic": "BasicMagics",
        "man": "KernelMagics",
        "matplotlib": "PylabMagics",
        "mkdir": "Other",
        "more": "KernelMagics",
        "mv": "Other",
        "notebook": "BasicMagics",
        "page": "BasicMagics",
        "pastebin": "CodeMagics",
        "pdb": "ExecutionMagics",
        "pdef": "NamespaceMagics",
        "pdoc": "NamespaceMagics",
        "pfile": "NamespaceMagics",
        "pinfo": "NamespaceMagics",
        "pinfo2": "NamespaceMagics",
        "pip": "PackagingMagics",
        "popd": "OSMagics",
        "pprint": "BasicMagics",
        "precision": "BasicMagics",
        "prun": "ExecutionMagics",
        "psearch": "NamespaceMagics",
        "psource": "NamespaceMagics",
        "pushd": "OSMagics",
        "pwd": "OSMagics",
        "pycat": "OSMagics",
        "pylab": "PylabMagics",
        "qtconsole": "KernelMagics",
        "quickref": "BasicMagics",
        "recall": "HistoryMagics",
        "rehashx": "OSMagics",
        "reload_ext": "ExtensionMagics",
        "rep": "Other",
        "rerun": "HistoryMagics",
        "reset": "NamespaceMagics",
        "reset_selective": "NamespaceMagics",
        "rm": "Other",
        "rmdir": "Other",
        "run": "ExecutionMagics",
        "save": "CodeMagics",
        "sc": "OSMagics",
        "set_env": "OSMagics",
        "store": "StoreMagics",
        "sx": "OSMagics",
        "system": "OSMagics",
        "tb": "ExecutionMagics",
        "time": "ExecutionMagics",
        "timeit": "ExecutionMagics",
        "unalias": "OSMagics",
        "unload_ext": "ExtensionMagics",
        "who": "NamespaceMagics",
        "who_ls": "NamespaceMagics",
        "whos": "NamespaceMagics",
        "xdel": "NamespaceMagics",
        "xmode": "BasicMagics"
       }
      },
      "text/plain": [
       "Available line magics:\n",
       "%alias  %alias_magic  %autoawait  %autocall  %automagic  %autosave  %bookmark  %cat  %cd  %clear  %colors  %conda  %config  %connect_info  %cp  %debug  %dhist  %dirs  %doctest_mode  %ed  %edit  %env  %gui  %hist  %history  %killbgscripts  %ldir  %less  %lf  %lk  %ll  %load  %load_ext  %loadpy  %logoff  %logon  %logstart  %logstate  %logstop  %ls  %lsmagic  %lx  %macro  %magic  %man  %matplotlib  %mkdir  %more  %mv  %notebook  %page  %pastebin  %pdb  %pdef  %pdoc  %pfile  %pinfo  %pinfo2  %pip  %popd  %pprint  %precision  %prun  %psearch  %psource  %pushd  %pwd  %pycat  %pylab  %qtconsole  %quickref  %recall  %rehashx  %reload_ext  %rep  %rerun  %reset  %reset_selective  %rm  %rmdir  %run  %save  %sc  %set_env  %store  %sx  %system  %tb  %time  %timeit  %unalias  %unload_ext  %who  %who_ls  %whos  %xdel  %xmode\n",
       "\n",
       "Available cell magics:\n",
       "%%!  %%HTML  %%SVG  %%bash  %%capture  %%debug  %%file  %%html  %%javascript  %%js  %%latex  %%markdown  %%perl  %%prun  %%pypy  %%python  %%python2  %%python3  %%ruby  %%script  %%sh  %%svg  %%sx  %%system  %%time  %%timeit  %%writefile\n",
       "\n",
       "Automagic is ON, % prefix IS NOT needed for line magics."
      ]
     },
     "execution_count": 1,
     "metadata": {},
     "output_type": "execute_result"
    }
   ],
   "source": [
    "%lsmagic"
   ]
  },
  {
   "cell_type": "code",
   "execution_count": 2,
   "id": "97503dd1",
   "metadata": {
    "execution": {
     "iopub.execute_input": "2022-06-13T06:53:58.474459Z",
     "iopub.status.busy": "2022-06-13T06:53:58.474260Z",
     "iopub.status.idle": "2022-06-13T06:53:58.479181Z",
     "shell.execute_reply": "2022-06-13T06:53:58.478651Z"
    }
   },
   "outputs": [
    {
     "name": "stdout",
     "output_type": "stream",
     "text": [
      "Variable   Type    Data/Info\n",
      "----------------------------\n",
      "a          int     5\n"
     ]
    }
   ],
   "source": [
    "a = 5\n",
    "\n",
    "%whos"
   ]
  },
  {
   "cell_type": "code",
   "execution_count": 3,
   "id": "f87e5d97",
   "metadata": {
    "execution": {
     "iopub.execute_input": "2022-06-13T06:53:58.481612Z",
     "iopub.status.busy": "2022-06-13T06:53:58.481408Z",
     "iopub.status.idle": "2022-06-13T06:53:58.484309Z",
     "shell.execute_reply": "2022-06-13T06:53:58.483607Z"
    }
   },
   "outputs": [],
   "source": [
    "?"
   ]
  },
  {
   "cell_type": "code",
   "execution_count": 4,
   "id": "fa6e0ff5",
   "metadata": {
    "execution": {
     "iopub.execute_input": "2022-06-13T06:53:58.486663Z",
     "iopub.status.busy": "2022-06-13T06:53:58.486474Z",
     "iopub.status.idle": "2022-06-13T06:53:58.490519Z",
     "shell.execute_reply": "2022-06-13T06:53:58.489806Z"
    }
   },
   "outputs": [],
   "source": [
    "%quickref"
   ]
  },
  {
   "cell_type": "code",
   "execution_count": 5,
   "id": "2c22f552",
   "metadata": {
    "execution": {
     "iopub.execute_input": "2022-06-13T06:53:58.492929Z",
     "iopub.status.busy": "2022-06-13T06:53:58.492731Z",
     "iopub.status.idle": "2022-06-13T06:53:58.532399Z",
     "shell.execute_reply": "2022-06-13T06:53:58.531783Z"
    }
   },
   "outputs": [],
   "source": [
    "round?"
   ]
  },
  {
   "cell_type": "code",
   "execution_count": 6,
   "id": "f443431e",
   "metadata": {
    "execution": {
     "iopub.execute_input": "2022-06-13T06:53:58.535056Z",
     "iopub.status.busy": "2022-06-13T06:53:58.534853Z",
     "iopub.status.idle": "2022-06-13T06:53:58.539315Z",
     "shell.execute_reply": "2022-06-13T06:53:58.538776Z"
    }
   },
   "outputs": [
    {
     "data": {
      "text/plain": [
       "(int, float, float, str, str)"
      ]
     },
     "execution_count": 6,
     "metadata": {},
     "output_type": "execute_result"
    }
   ],
   "source": [
    "a = 5\n",
    "b = 5.0\n",
    "c = float(5)\n",
    "d = 'dee'\n",
    "e = 'e'\n",
    "\n",
    "type(a), type(b), type(c), type(d), type(e)"
   ]
  },
  {
   "cell_type": "code",
   "execution_count": 7,
   "id": "54a67519",
   "metadata": {
    "execution": {
     "iopub.execute_input": "2022-06-13T06:53:58.542223Z",
     "iopub.status.busy": "2022-06-13T06:53:58.542017Z",
     "iopub.status.idle": "2022-06-13T06:53:58.545667Z",
     "shell.execute_reply": "2022-06-13T06:53:58.545087Z"
    }
   },
   "outputs": [],
   "source": [
    "empty_list = []\n",
    "\n",
    "string_list = ['lions', 'tigers', 'bears', 'sharks', 'hamsters']\n",
    "\n",
    "int_list = [0, 1, 2, 3, 4]\n",
    "\n",
    "int_list2 = list(range(5,10))\n",
    "\n",
    "list_from_variables = [a,b,c,d,e]\n",
    "\n",
    "list_of_lists = [empty_list,\n",
    "                 string_list,\n",
    "                 list_from_variables,\n",
    "                 int_list,\n",
    "                 int_list2]"
   ]
  },
  {
   "cell_type": "code",
   "execution_count": 8,
   "id": "9fed60b5",
   "metadata": {
    "execution": {
     "iopub.execute_input": "2022-06-13T06:53:58.548116Z",
     "iopub.status.busy": "2022-06-13T06:53:58.547616Z",
     "iopub.status.idle": "2022-06-13T06:53:58.551512Z",
     "shell.execute_reply": "2022-06-13T06:53:58.550958Z"
    }
   },
   "outputs": [
    {
     "data": {
      "text/plain": [
       "[]"
      ]
     },
     "execution_count": 8,
     "metadata": {},
     "output_type": "execute_result"
    }
   ],
   "source": [
    "empty_list"
   ]
  },
  {
   "cell_type": "code",
   "execution_count": 9,
   "id": "1b6329d2",
   "metadata": {
    "execution": {
     "iopub.execute_input": "2022-06-13T06:53:58.554157Z",
     "iopub.status.busy": "2022-06-13T06:53:58.553701Z",
     "iopub.status.idle": "2022-06-13T06:53:58.557410Z",
     "shell.execute_reply": "2022-06-13T06:53:58.556870Z"
    }
   },
   "outputs": [
    {
     "data": {
      "text/plain": [
       "['lions', 'tigers', 'bears', 'sharks', 'hamsters']"
      ]
     },
     "execution_count": 9,
     "metadata": {},
     "output_type": "execute_result"
    }
   ],
   "source": [
    "string_list"
   ]
  },
  {
   "cell_type": "code",
   "execution_count": 10,
   "id": "3d273ab1",
   "metadata": {
    "execution": {
     "iopub.execute_input": "2022-06-13T06:53:58.560388Z",
     "iopub.status.busy": "2022-06-13T06:53:58.559892Z",
     "iopub.status.idle": "2022-06-13T06:53:58.565238Z",
     "shell.execute_reply": "2022-06-13T06:53:58.564706Z"
    }
   },
   "outputs": [
    {
     "data": {
      "text/plain": [
       "[0, 1, 2, 3, 4]"
      ]
     },
     "execution_count": 10,
     "metadata": {},
     "output_type": "execute_result"
    }
   ],
   "source": [
    "int_list"
   ]
  },
  {
   "cell_type": "code",
   "execution_count": 11,
   "id": "a4f3ce7f",
   "metadata": {
    "execution": {
     "iopub.execute_input": "2022-06-13T06:53:58.567898Z",
     "iopub.status.busy": "2022-06-13T06:53:58.567463Z",
     "iopub.status.idle": "2022-06-13T06:53:58.574173Z",
     "shell.execute_reply": "2022-06-13T06:53:58.573638Z"
    }
   },
   "outputs": [
    {
     "data": {
      "text/plain": [
       "[5, 6, 7, 8, 9]"
      ]
     },
     "execution_count": 11,
     "metadata": {},
     "output_type": "execute_result"
    }
   ],
   "source": [
    "int_list2"
   ]
  },
  {
   "cell_type": "code",
   "execution_count": 12,
   "id": "91d8fd2f",
   "metadata": {
    "execution": {
     "iopub.execute_input": "2022-06-13T06:53:58.576902Z",
     "iopub.status.busy": "2022-06-13T06:53:58.576488Z",
     "iopub.status.idle": "2022-06-13T06:53:58.581772Z",
     "shell.execute_reply": "2022-06-13T06:53:58.581256Z"
    }
   },
   "outputs": [
    {
     "data": {
      "text/plain": [
       "[5, 5.0, 5.0, 'dee', 'e']"
      ]
     },
     "execution_count": 12,
     "metadata": {},
     "output_type": "execute_result"
    }
   ],
   "source": [
    "list_from_variables"
   ]
  },
  {
   "cell_type": "code",
   "execution_count": 13,
   "id": "1dedea46",
   "metadata": {
    "execution": {
     "iopub.execute_input": "2022-06-13T06:53:58.584426Z",
     "iopub.status.busy": "2022-06-13T06:53:58.583987Z",
     "iopub.status.idle": "2022-06-13T06:53:58.589392Z",
     "shell.execute_reply": "2022-06-13T06:53:58.588857Z"
    }
   },
   "outputs": [
    {
     "data": {
      "text/plain": [
       "[[],\n",
       " ['lions', 'tigers', 'bears', 'sharks', 'hamsters'],\n",
       " [5, 5.0, 5.0, 'dee', 'e'],\n",
       " [0, 1, 2, 3, 4],\n",
       " [5, 6, 7, 8, 9]]"
      ]
     },
     "execution_count": 13,
     "metadata": {},
     "output_type": "execute_result"
    }
   ],
   "source": [
    "list_of_lists"
   ]
  },
  {
   "cell_type": "code",
   "execution_count": 14,
   "id": "f2849b62",
   "metadata": {
    "execution": {
     "iopub.execute_input": "2022-06-13T06:53:58.592047Z",
     "iopub.status.busy": "2022-06-13T06:53:58.591622Z",
     "iopub.status.idle": "2022-06-13T06:53:58.596850Z",
     "shell.execute_reply": "2022-06-13T06:53:58.596324Z"
    }
   },
   "outputs": [
    {
     "data": {
      "text/plain": [
       "'lions'"
      ]
     },
     "execution_count": 14,
     "metadata": {},
     "output_type": "execute_result"
    }
   ],
   "source": [
    "string_list[0]"
   ]
  },
  {
   "cell_type": "code",
   "execution_count": 15,
   "id": "62860520",
   "metadata": {
    "execution": {
     "iopub.execute_input": "2022-06-13T06:53:58.599533Z",
     "iopub.status.busy": "2022-06-13T06:53:58.599109Z",
     "iopub.status.idle": "2022-06-13T06:53:58.604329Z",
     "shell.execute_reply": "2022-06-13T06:53:58.603788Z"
    }
   },
   "outputs": [
    {
     "data": {
      "text/plain": [
       "['tigers', 'bears', 'sharks']"
      ]
     },
     "execution_count": 15,
     "metadata": {},
     "output_type": "execute_result"
    }
   ],
   "source": [
    "string_list[1:4]"
   ]
  },
  {
   "cell_type": "code",
   "execution_count": 16,
   "id": "8af194bd",
   "metadata": {
    "execution": {
     "iopub.execute_input": "2022-06-13T06:53:58.607020Z",
     "iopub.status.busy": "2022-06-13T06:53:58.606613Z",
     "iopub.status.idle": "2022-06-13T06:53:58.611784Z",
     "shell.execute_reply": "2022-06-13T06:53:58.611256Z"
    }
   },
   "outputs": [
    {
     "data": {
      "text/plain": [
       "[0, 2, 4]"
      ]
     },
     "execution_count": 16,
     "metadata": {},
     "output_type": "execute_result"
    }
   ],
   "source": [
    "int_list[::2]"
   ]
  },
  {
   "cell_type": "code",
   "execution_count": 17,
   "id": "55bb16d1",
   "metadata": {
    "execution": {
     "iopub.execute_input": "2022-06-13T06:53:58.614418Z",
     "iopub.status.busy": "2022-06-13T06:53:58.613998Z",
     "iopub.status.idle": "2022-06-13T06:53:58.617954Z",
     "shell.execute_reply": "2022-06-13T06:53:58.617387Z"
    }
   },
   "outputs": [
    {
     "data": {
      "text/plain": [
       "'hamsters'"
      ]
     },
     "execution_count": 17,
     "metadata": {},
     "output_type": "execute_result"
    }
   ],
   "source": [
    "list_of_lists[1][4]"
   ]
  },
  {
   "cell_type": "code",
   "execution_count": 18,
   "id": "f4b69ba3",
   "metadata": {
    "execution": {
     "iopub.execute_input": "2022-06-13T06:53:58.620206Z",
     "iopub.status.busy": "2022-06-13T06:53:58.620003Z",
     "iopub.status.idle": "2022-06-13T06:53:58.623860Z",
     "shell.execute_reply": "2022-06-13T06:53:58.623324Z"
    }
   },
   "outputs": [],
   "source": [
    "int_list[2] = 222\n",
    "\n",
    "int_list.append(5)\n",
    "\n",
    "string_list.remove('lions')\n",
    "\n",
    "list_from_variables.extend(int_list)"
   ]
  },
  {
   "cell_type": "code",
   "execution_count": 19,
   "id": "be10c60e",
   "metadata": {
    "execution": {
     "iopub.execute_input": "2022-06-13T06:53:58.626136Z",
     "iopub.status.busy": "2022-06-13T06:53:58.625927Z",
     "iopub.status.idle": "2022-06-13T06:53:58.629219Z",
     "shell.execute_reply": "2022-06-13T06:53:58.628757Z"
    }
   },
   "outputs": [
    {
     "data": {
      "text/plain": [
       "[0, 1, 222, 3, 4, 5]"
      ]
     },
     "execution_count": 19,
     "metadata": {},
     "output_type": "execute_result"
    }
   ],
   "source": [
    "int_list"
   ]
  },
  {
   "cell_type": "code",
   "execution_count": 20,
   "id": "4d964715",
   "metadata": {
    "execution": {
     "iopub.execute_input": "2022-06-13T06:53:58.631595Z",
     "iopub.status.busy": "2022-06-13T06:53:58.631277Z",
     "iopub.status.idle": "2022-06-13T06:53:58.636672Z",
     "shell.execute_reply": "2022-06-13T06:53:58.636148Z"
    }
   },
   "outputs": [
    {
     "data": {
      "text/plain": [
       "['tigers', 'bears', 'sharks', 'hamsters']"
      ]
     },
     "execution_count": 20,
     "metadata": {},
     "output_type": "execute_result"
    }
   ],
   "source": [
    "string_list"
   ]
  },
  {
   "cell_type": "code",
   "execution_count": 21,
   "id": "d5cd89cf",
   "metadata": {
    "execution": {
     "iopub.execute_input": "2022-06-13T06:53:58.638863Z",
     "iopub.status.busy": "2022-06-13T06:53:58.638557Z",
     "iopub.status.idle": "2022-06-13T06:53:58.642262Z",
     "shell.execute_reply": "2022-06-13T06:53:58.641711Z"
    }
   },
   "outputs": [
    {
     "data": {
      "text/plain": [
       "[5, 5.0, 5.0, 'dee', 'e', 0, 1, 222, 3, 4, 5]"
      ]
     },
     "execution_count": 21,
     "metadata": {},
     "output_type": "execute_result"
    }
   ],
   "source": [
    "list_from_variables"
   ]
  },
  {
   "cell_type": "code",
   "execution_count": 22,
   "id": "729aff26",
   "metadata": {
    "execution": {
     "iopub.execute_input": "2022-06-13T06:53:58.644858Z",
     "iopub.status.busy": "2022-06-13T06:53:58.644554Z",
     "iopub.status.idle": "2022-06-13T06:53:58.648326Z",
     "shell.execute_reply": "2022-06-13T06:53:58.647771Z"
    }
   },
   "outputs": [
    {
     "data": {
      "text/plain": [
       "(32, 'tall', 'likes hats')"
      ]
     },
     "execution_count": 22,
     "metadata": {},
     "output_type": "execute_result"
    }
   ],
   "source": [
    "joe_blow = (32, 'tall', 'likes hats')\n",
    "joe_blow"
   ]
  },
  {
   "cell_type": "code",
   "execution_count": 23,
   "id": "66855802",
   "metadata": {
    "execution": {
     "iopub.execute_input": "2022-06-13T06:53:58.650931Z",
     "iopub.status.busy": "2022-06-13T06:53:58.650626Z",
     "iopub.status.idle": "2022-06-13T06:53:58.654330Z",
     "shell.execute_reply": "2022-06-13T06:53:58.653749Z"
    }
   },
   "outputs": [
    {
     "data": {
      "text/plain": [
       "'tall'"
      ]
     },
     "execution_count": 23,
     "metadata": {},
     "output_type": "execute_result"
    }
   ],
   "source": [
    "joe_blow[1]"
   ]
  },
  {
   "cell_type": "code",
   "execution_count": 24,
   "id": "d2a384d0",
   "metadata": {
    "execution": {
     "iopub.execute_input": "2022-06-13T06:53:58.656555Z",
     "iopub.status.busy": "2022-06-13T06:53:58.656247Z",
     "iopub.status.idle": "2022-06-13T06:53:59.028495Z",
     "shell.execute_reply": "2022-06-13T06:53:59.027876Z"
    }
   },
   "outputs": [
    {
     "ename": "AttributeError",
     "evalue": "'tuple' object has no attribute 'append'",
     "output_type": "error",
     "traceback": [
      "\u001b[0;31m---------------------------------------------------------------------------\u001b[0m",
      "\u001b[0;31mAttributeError\u001b[0m                            Traceback (most recent call last)",
      "Input \u001b[0;32mIn [24]\u001b[0m, in \u001b[0;36m<cell line: 1>\u001b[0;34m()\u001b[0m\n\u001b[0;32m----> 1\u001b[0m \u001b[43mjoe_blow\u001b[49m\u001b[38;5;241;43m.\u001b[39;49m\u001b[43mappend\u001b[49m(\u001b[38;5;124m'\u001b[39m\u001b[38;5;124mmarried\u001b[39m\u001b[38;5;124m'\u001b[39m)\n",
      "\u001b[0;31mAttributeError\u001b[0m: 'tuple' object has no attribute 'append'"
     ]
    }
   ],
   "source": [
    "joe_blow.append('married')"
   ]
  },
  {
   "cell_type": "code",
   "execution_count": 25,
   "id": "fc0f3369",
   "metadata": {
    "execution": {
     "iopub.execute_input": "2022-06-13T06:53:59.031190Z",
     "iopub.status.busy": "2022-06-13T06:53:59.030710Z",
     "iopub.status.idle": "2022-06-13T06:53:59.042469Z",
     "shell.execute_reply": "2022-06-13T06:53:59.041892Z"
    }
   },
   "outputs": [
    {
     "ename": "TypeError",
     "evalue": "'tuple' object does not support item assignment",
     "output_type": "error",
     "traceback": [
      "\u001b[0;31m---------------------------------------------------------------------------\u001b[0m",
      "\u001b[0;31mTypeError\u001b[0m                                 Traceback (most recent call last)",
      "Input \u001b[0;32mIn [25]\u001b[0m, in \u001b[0;36m<cell line: 1>\u001b[0;34m()\u001b[0m\n\u001b[0;32m----> 1\u001b[0m joe_blow[\u001b[38;5;241m2\u001b[39m] \u001b[38;5;241m=\u001b[39m \u001b[38;5;124m'\u001b[39m\u001b[38;5;124mnot really a fan of hats\u001b[39m\u001b[38;5;124m'\u001b[39m\n",
      "\u001b[0;31mTypeError\u001b[0m: 'tuple' object does not support item assignment"
     ]
    }
   ],
   "source": [
    "joe_blow[2] = 'not really a fan of hats'"
   ]
  },
  {
   "cell_type": "code",
   "execution_count": 26,
   "id": "2bc6e245",
   "metadata": {
    "execution": {
     "iopub.execute_input": "2022-06-13T06:53:59.045330Z",
     "iopub.status.busy": "2022-06-13T06:53:59.044862Z",
     "iopub.status.idle": "2022-06-13T06:53:59.048973Z",
     "shell.execute_reply": "2022-06-13T06:53:59.048428Z"
    }
   },
   "outputs": [
    {
     "data": {
      "text/plain": [
       "'elephant'"
      ]
     },
     "execution_count": 26,
     "metadata": {},
     "output_type": "execute_result"
    }
   ],
   "source": [
    "pets = ('elephant', 'cow', 'rock')\n",
    "\n",
    "pet1, pet2, pet3 = pets\n",
    "\n",
    "pet1"
   ]
  },
  {
   "cell_type": "code",
   "execution_count": 27,
   "id": "29205ac5",
   "metadata": {
    "execution": {
     "iopub.execute_input": "2022-06-13T06:53:59.051629Z",
     "iopub.status.busy": "2022-06-13T06:53:59.051318Z",
     "iopub.status.idle": "2022-06-13T06:53:59.055063Z",
     "shell.execute_reply": "2022-06-13T06:53:59.054516Z"
    }
   },
   "outputs": [
    {
     "data": {
      "text/plain": [
       "('elephant',)"
      ]
     },
     "execution_count": 27,
     "metadata": {},
     "output_type": "execute_result"
    }
   ],
   "source": [
    "tuple_with_one_item = pet1,\n",
    "\n",
    "tuple_with_one_item"
   ]
  },
  {
   "cell_type": "code",
   "execution_count": 28,
   "id": "b564008c",
   "metadata": {
    "execution": {
     "iopub.execute_input": "2022-06-13T06:53:59.057856Z",
     "iopub.status.busy": "2022-06-13T06:53:59.057395Z",
     "iopub.status.idle": "2022-06-13T06:53:59.061434Z",
     "shell.execute_reply": "2022-06-13T06:53:59.060904Z"
    }
   },
   "outputs": [
    {
     "data": {
      "text/plain": [
       "{'key1': 'value1', 'key2': 'value2', 'key3': 'value3'}"
      ]
     },
     "execution_count": 28,
     "metadata": {},
     "output_type": "execute_result"
    }
   ],
   "source": [
    "dictionary0 = {'key1': 'value1', 'key2': 'value2', 'key3': 'value3'}\n",
    "dictionary0"
   ]
  },
  {
   "cell_type": "code",
   "execution_count": 29,
   "id": "cd87bdee",
   "metadata": {
    "execution": {
     "iopub.execute_input": "2022-06-13T06:53:59.063981Z",
     "iopub.status.busy": "2022-06-13T06:53:59.063670Z",
     "iopub.status.idle": "2022-06-13T06:53:59.067612Z",
     "shell.execute_reply": "2022-06-13T06:53:59.067057Z"
    }
   },
   "outputs": [
    {
     "data": {
      "text/plain": [
       "{1: 'value1', 2: 'value2', 3: 'value3'}"
      ]
     },
     "execution_count": 29,
     "metadata": {},
     "output_type": "execute_result"
    }
   ],
   "source": [
    "dictionary1 = {1: 'value1', 2: 'value2', 3: 'value3'}\n",
    "dictionary1"
   ]
  },
  {
   "cell_type": "code",
   "execution_count": 30,
   "id": "683186f5",
   "metadata": {
    "execution": {
     "iopub.execute_input": "2022-06-13T06:53:59.070223Z",
     "iopub.status.busy": "2022-06-13T06:53:59.069911Z",
     "iopub.status.idle": "2022-06-13T06:53:59.073737Z",
     "shell.execute_reply": "2022-06-13T06:53:59.073199Z"
    }
   },
   "outputs": [
    {
     "data": {
      "text/plain": [
       "[1, 2, 3]"
      ]
     },
     "execution_count": 30,
     "metadata": {},
     "output_type": "execute_result"
    }
   ],
   "source": [
    "list(dictionary1.keys())"
   ]
  },
  {
   "cell_type": "code",
   "execution_count": 31,
   "id": "de255a91",
   "metadata": {
    "execution": {
     "iopub.execute_input": "2022-06-13T06:53:59.076559Z",
     "iopub.status.busy": "2022-06-13T06:53:59.076028Z",
     "iopub.status.idle": "2022-06-13T06:53:59.079917Z",
     "shell.execute_reply": "2022-06-13T06:53:59.079383Z"
    }
   },
   "outputs": [
    {
     "data": {
      "text/plain": [
       "['value1', 'value2', 'value3']"
      ]
     },
     "execution_count": 31,
     "metadata": {},
     "output_type": "execute_result"
    }
   ],
   "source": [
    "list(dictionary1.values())"
   ]
  },
  {
   "cell_type": "code",
   "execution_count": 32,
   "id": "b48a5364",
   "metadata": {
    "execution": {
     "iopub.execute_input": "2022-06-13T06:53:59.082144Z",
     "iopub.status.busy": "2022-06-13T06:53:59.081838Z",
     "iopub.status.idle": "2022-06-13T06:53:59.085794Z",
     "shell.execute_reply": "2022-06-13T06:53:59.085244Z"
    }
   },
   "outputs": [
    {
     "data": {
      "text/plain": [
       "50"
      ]
     },
     "execution_count": 32,
     "metadata": {},
     "output_type": "execute_result"
    }
   ],
   "source": [
    "cylinder = {'mass': 50, 'base': 10, 'height': 100}\n",
    "cylinder['mass']"
   ]
  },
  {
   "cell_type": "code",
   "execution_count": 33,
   "id": "77d17771",
   "metadata": {
    "execution": {
     "iopub.execute_input": "2022-06-13T06:53:59.088334Z",
     "iopub.status.busy": "2022-06-13T06:53:59.088008Z",
     "iopub.status.idle": "2022-06-13T06:53:59.092273Z",
     "shell.execute_reply": "2022-06-13T06:53:59.091725Z"
    }
   },
   "outputs": [
    {
     "data": {
      "text/plain": [
       "{'mass01': 10, 'inertia01': 1, 'mass02': 50, 'inertia02': 5}"
      ]
     },
     "execution_count": 33,
     "metadata": {},
     "output_type": "execute_result"
    }
   ],
   "source": [
    "keys = ['mass01', 'inertia01', 'mass02', 'inertia02']\n",
    "values = [10, 1, 50, 5]\n",
    "dict(zip(keys, values))"
   ]
  },
  {
   "cell_type": "code",
   "execution_count": 34,
   "id": "9a7e7d7c",
   "metadata": {
    "execution": {
     "iopub.execute_input": "2022-06-13T06:53:59.094902Z",
     "iopub.status.busy": "2022-06-13T06:53:59.094595Z",
     "iopub.status.idle": "2022-06-13T06:53:59.098629Z",
     "shell.execute_reply": "2022-06-13T06:53:59.098096Z"
    }
   },
   "outputs": [
    {
     "data": {
      "text/plain": [
       "100"
      ]
     },
     "execution_count": 34,
     "metadata": {},
     "output_type": "execute_result"
    }
   ],
   "source": [
    "def abs_value(A):\n",
    "    if A < 0:\n",
    "        A = -A\n",
    "    return A\n",
    "\n",
    "abs_value(-100)"
   ]
  },
  {
   "cell_type": "code",
   "execution_count": 35,
   "id": "400fc2dd",
   "metadata": {
    "execution": {
     "iopub.execute_input": "2022-06-13T06:53:59.101226Z",
     "iopub.status.busy": "2022-06-13T06:53:59.100914Z",
     "iopub.status.idle": "2022-06-13T06:53:59.104563Z",
     "shell.execute_reply": "2022-06-13T06:53:59.104001Z"
    }
   },
   "outputs": [
    {
     "data": {
      "text/plain": [
       "123"
      ]
     },
     "execution_count": 35,
     "metadata": {},
     "output_type": "execute_result"
    }
   ],
   "source": [
    "abs_value(123)"
   ]
  },
  {
   "cell_type": "code",
   "execution_count": 36,
   "id": "0ea3a345",
   "metadata": {
    "execution": {
     "iopub.execute_input": "2022-06-13T06:53:59.107349Z",
     "iopub.status.busy": "2022-06-13T06:53:59.106880Z",
     "iopub.status.idle": "2022-06-13T06:53:59.110028Z",
     "shell.execute_reply": "2022-06-13T06:53:59.109440Z"
    }
   },
   "outputs": [],
   "source": [
    "def long_div(dividend, divisor):\n",
    "    quotient = dividend // divisor  # // : floor division\n",
    "    remainder = dividend % divisor  # % : modulo\n",
    "    return quotient, remainder"
   ]
  },
  {
   "cell_type": "code",
   "execution_count": 37,
   "id": "8c604e93",
   "metadata": {
    "execution": {
     "iopub.execute_input": "2022-06-13T06:53:59.112349Z",
     "iopub.status.busy": "2022-06-13T06:53:59.111956Z",
     "iopub.status.idle": "2022-06-13T06:53:59.116025Z",
     "shell.execute_reply": "2022-06-13T06:53:59.115465Z"
    }
   },
   "outputs": [
    {
     "data": {
      "text/plain": [
       "(17, 5)"
      ]
     },
     "execution_count": 37,
     "metadata": {},
     "output_type": "execute_result"
    }
   ],
   "source": [
    "a = 430\n",
    "b = 25\n",
    "\n",
    "quo, rem = long_div(a, b)\n",
    "\n",
    "quo, rem"
   ]
  },
  {
   "cell_type": "code",
   "execution_count": 38,
   "id": "343acaab",
   "metadata": {
    "execution": {
     "iopub.execute_input": "2022-06-13T06:53:59.118571Z",
     "iopub.status.busy": "2022-06-13T06:53:59.118254Z",
     "iopub.status.idle": "2022-06-13T06:53:59.121502Z",
     "shell.execute_reply": "2022-06-13T06:53:59.121056Z"
    }
   },
   "outputs": [
    {
     "name": "stdout",
     "output_type": "stream",
     "text": [
      "430 divided 25 is 17 remainder 5\n"
     ]
    }
   ],
   "source": [
    "msg = '{} divided {} is {} remainder {}'.format(a, b, quo, rem)\n",
    "print(msg)"
   ]
  },
  {
   "cell_type": "code",
   "execution_count": 39,
   "id": "fe1389a2",
   "metadata": {
    "execution": {
     "iopub.execute_input": "2022-06-13T06:53:59.123777Z",
     "iopub.status.busy": "2022-06-13T06:53:59.123295Z",
     "iopub.status.idle": "2022-06-13T06:53:59.127807Z",
     "shell.execute_reply": "2022-06-13T06:53:59.127258Z"
    }
   },
   "outputs": [
    {
     "name": "stdout",
     "output_type": "stream",
     "text": [
      "3.9.13 | packaged by conda-forge | (main, May 27 2022, 16:56:21) \n",
      "[GCC 10.3.0]\n"
     ]
    }
   ],
   "source": [
    "import sys\n",
    "\n",
    "print(sys.version)"
   ]
  },
  {
   "cell_type": "code",
   "execution_count": 40,
   "id": "bc8a3e8a",
   "metadata": {
    "execution": {
     "iopub.execute_input": "2022-06-13T06:53:59.130452Z",
     "iopub.status.busy": "2022-06-13T06:53:59.130031Z",
     "iopub.status.idle": "2022-06-13T06:53:59.134552Z",
     "shell.execute_reply": "2022-06-13T06:53:59.134004Z"
    }
   },
   "outputs": [
    {
     "name": "stdout",
     "output_type": "stream",
     "text": [
      "3.9.13 | packaged by conda-forge | (main, May 27 2022, 16:56:21) \n",
      "[GCC 10.3.0]\n"
     ]
    }
   ],
   "source": [
    "from sys import version\n",
    "\n",
    "print(version)"
   ]
  },
  {
   "cell_type": "code",
   "execution_count": 41,
   "id": "b0a2f816",
   "metadata": {
    "execution": {
     "iopub.execute_input": "2022-06-13T06:53:59.137205Z",
     "iopub.status.busy": "2022-06-13T06:53:59.136783Z",
     "iopub.status.idle": "2022-06-13T06:54:00.002916Z",
     "shell.execute_reply": "2022-06-13T06:54:00.002299Z"
    }
   },
   "outputs": [],
   "source": [
    "import sympy as sm\n",
    "import numpy as np\n",
    "import scipy as sp\n",
    "import matplotlib.pyplot as plt"
   ]
  },
  {
   "cell_type": "code",
   "execution_count": 42,
   "id": "e9215157",
   "metadata": {
    "execution": {
     "iopub.execute_input": "2022-06-13T06:54:00.006123Z",
     "iopub.status.busy": "2022-06-13T06:54:00.005487Z",
     "iopub.status.idle": "2022-06-13T06:54:00.012897Z",
     "shell.execute_reply": "2022-06-13T06:54:00.012342Z"
    }
   },
   "outputs": [
    {
     "data": {
      "text/latex": [
       "$\\displaystyle 0.843853958732492$"
      ],
      "text/plain": [
       "0.843853958732492"
      ]
     },
     "execution_count": 42,
     "metadata": {},
     "output_type": "execute_result"
    }
   ],
   "source": [
    "sm.cos(12.0)"
   ]
  },
  {
   "cell_type": "code",
   "execution_count": 43,
   "id": "f5da2907",
   "metadata": {
    "execution": {
     "iopub.execute_input": "2022-06-13T06:54:00.015630Z",
     "iopub.status.busy": "2022-06-13T06:54:00.015295Z",
     "iopub.status.idle": "2022-06-13T06:54:00.021167Z",
     "shell.execute_reply": "2022-06-13T06:54:00.020650Z"
    }
   },
   "outputs": [
    {
     "data": {
      "text/plain": [
       "0.8438539587324921"
      ]
     },
     "execution_count": 43,
     "metadata": {},
     "output_type": "execute_result"
    }
   ],
   "source": [
    "np.cos(12.0)"
   ]
  },
  {
   "cell_type": "code",
   "execution_count": 44,
   "id": "623773c8",
   "metadata": {
    "execution": {
     "iopub.execute_input": "2022-06-13T06:54:00.024814Z",
     "iopub.status.busy": "2022-06-13T06:54:00.023714Z",
     "iopub.status.idle": "2022-06-13T06:54:00.030652Z",
     "shell.execute_reply": "2022-06-13T06:54:00.030139Z"
    }
   },
   "outputs": [
    {
     "name": "stderr",
     "output_type": "stream",
     "text": [
      "/tmp/ipykernel_3569/3139199006.py:1: DeprecationWarning: scipy.cos is deprecated and will be removed in SciPy 2.0.0, use numpy.cos instead\n",
      "  sp.cos(12.0)\n"
     ]
    },
    {
     "data": {
      "text/plain": [
       "0.8438539587324921"
      ]
     },
     "execution_count": 44,
     "metadata": {},
     "output_type": "execute_result"
    }
   ],
   "source": [
    "sp.cos(12.0)"
   ]
  }
 ],
 "metadata": {
  "kernelspec": {
   "display_name": "Python 3 (ipykernel)",
   "language": "python",
   "name": "python3"
  },
  "language_info": {
   "codemirror_mode": {
    "name": "ipython",
    "version": 3
   },
   "file_extension": ".py",
   "mimetype": "text/x-python",
   "name": "python",
   "nbconvert_exporter": "python",
   "pygments_lexer": "ipython3",
   "version": "3.9.13"
  }
 },
 "nbformat": 4,
 "nbformat_minor": 5
}